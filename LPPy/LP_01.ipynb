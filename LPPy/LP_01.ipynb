{
 "cells": [
  {
   "cell_type": "code",
   "execution_count": 2,
   "metadata": {
    "collapsed": false
   },
   "outputs": [
    {
     "name": "stdout",
     "output_type": "stream",
     "text": [
      "Hello World !\n"
     ]
    }
   ],
   "source": [
    "# Reference: https://www.safaribooksonline.com/library/view/learning-path/9781786461100/video1_2.html\n",
    "\n",
    "print(\"Hello World !\")"
   ]
  },
  {
   "cell_type": "code",
   "execution_count": 4,
   "metadata": {
    "collapsed": false
   },
   "outputs": [
    {
     "name": "stdout",
     "output_type": "stream",
     "text": [
      "Hello World\n"
     ]
    }
   ],
   "source": [
    "#Variables:\n",
    "a = \"Hello World\"\n",
    "print(a)\n",
    "#PEP8: Python best practices and conversions\n",
    "# E.g python preferes different words joined by _ rather than camel casing."
   ]
  },
  {
   "cell_type": "code",
   "execution_count": 7,
   "metadata": {
    "collapsed": false
   },
   "outputs": [
    {
     "name": "stdout",
     "output_type": "stream",
     "text": [
      "<class 'str'>\n",
      "<class 'int'>\n"
     ]
    }
   ],
   "source": [
    "#Introduction to Types\n",
    "u = \"Hello World\"\n",
    "print(type(u))\n",
    "\n",
    "v = 121\n",
    "print(type(v))"
   ]
  },
  {
   "cell_type": "code",
   "execution_count": 9,
   "metadata": {
    "collapsed": false
   },
   "outputs": [
    {
     "name": "stdout",
     "output_type": "stream",
     "text": [
      "3.111111111111111\n"
     ]
    }
   ],
   "source": [
    "real_num = 3.1111111111111111111111111111111\n",
    "print(real_num)"
   ]
  },
  {
   "cell_type": "code",
   "execution_count": 13,
   "metadata": {
    "collapsed": false
   },
   "outputs": [
    {
     "name": "stdout",
     "output_type": "stream",
     "text": [
      "3\n",
      "3\n"
     ]
    }
   ],
   "source": [
    "#Convert between types: float to int\n",
    "a = 3.4\n",
    "b = 3.9\n",
    "print(int(a))\n",
    "print(int(b))"
   ]
  },
  {
   "cell_type": "code",
   "execution_count": 15,
   "metadata": {
    "collapsed": false
   },
   "outputs": [
    {
     "name": "stdout",
     "output_type": "stream",
     "text": [
      "3.0\n"
     ]
    }
   ],
   "source": [
    "#Convert from float to nt\n",
    "a = 3\n",
    "print(float(a))"
   ]
  },
  {
   "cell_type": "code",
   "execution_count": 20,
   "metadata": {
    "collapsed": false
   },
   "outputs": [
    {
     "name": "stdout",
     "output_type": "stream",
     "text": [
      "a+b: 9\n",
      "a*b: 14\n",
      "a**b: 5\n",
      "a/b: 3.5\n",
      "a%b: 1\n",
      "a//b: 3\n"
     ]
    }
   ],
   "source": [
    "#Basic Operators\n",
    "a = 7\n",
    "b = 2\n",
    "print(\"a+b:\", a+b) #Addition\n",
    "print(\"a*b:\",a*b) # Multiplication\n",
    "print(\"a**b:\",a^b) #Exponentiation\n",
    "print(\"a/b:\", a/b) #Division\n",
    "print(\"a%b:\",a%b) #Modulus\n",
    "print(\"a//b:\",a//b) #integer division\n"
   ]
  },
  {
   "cell_type": "code",
   "execution_count": 24,
   "metadata": {
    "collapsed": false
   },
   "outputs": [
    {
     "name": "stdout",
     "output_type": "stream",
     "text": [
      "Hello World\n",
      "Hello World\n",
      "I \"really\" like chocolate\n",
      "I 'really' like a chocolate\n",
      "\n",
      "this is a long \n",
      "paragraph; takes long lines\n",
      "mostly used as comments\n",
      "\n"
     ]
    }
   ],
   "source": [
    "#Strings\n",
    "u = \"Hello World\"\n",
    "v = 'Hello World'\n",
    "print(u)\n",
    "print(v)\n",
    "\n",
    "sentence = 'I \"really\" like chocolate' # can use both quotes\n",
    "print(sentence)\n",
    "\n",
    "sentence2 = 'I \\'really\\' like a chocolate'\n",
    "print(sentence2)\n",
    "\n",
    "#Multiline string\n",
    "\n",
    "paragraph = '''\n",
    "this is a long \n",
    "paragraph; takes long lines\n",
    "mostly used as comments\n",
    "'''\n",
    "\n",
    "print(paragraph)\n",
    "\n",
    "#Single line comments."
   ]
  },
  {
   "cell_type": "code",
   "execution_count": 29,
   "metadata": {
    "collapsed": false
   },
   "outputs": [
    {
     "name": "stdout",
     "output_type": "stream",
     "text": [
      "apples\n",
      "APPLES\n",
      "science\n"
     ]
    }
   ],
   "source": [
    "#String Functions\n",
    "science = \"SCIENCE\"\n",
    "apple = \"apples\"\n",
    "#String function\n",
    "print(apple)\n",
    "apple = apple.upper()\n",
    "print(apple)\n",
    "\n",
    "#String API: Libreary refence and check all string function.\n",
    "print(science.lower())"
   ]
  },
  {
   "cell_type": "code",
   "execution_count": 35,
   "metadata": {
    "collapsed": false
   },
   "outputs": [
    {
     "name": "stdout",
     "output_type": "stream",
     "text": [
      "        APPLE           \n",
      "        APPLE\n"
     ]
    }
   ],
   "source": [
    "apple = '        apple           '\n",
    "print(apple.upper())\n",
    "print(apple.rstrip().upper()) #Removes empty spaces"
   ]
  },
  {
   "cell_type": "code",
   "execution_count": 54,
   "metadata": {
    "collapsed": false
   },
   "outputs": [
    {
     "name": "stdout",
     "output_type": "stream",
     "text": [
      "Python is an awesome language\n",
      "Python is an awesome snake. \n",
      "Python is an awesome snake. Python is an awesome snake. \n",
      "Python is an awesome snake. Python is an awesome snake. \n",
      "Nolo Nolo Hello Hello\n"
     ]
    }
   ],
   "source": [
    "#Advanced string manipulation\n",
    "\n",
    "prefix = \"Python is an \"\n",
    "suffix = \"awesome language\"\n",
    "\n",
    "astr = prefix + suffix\n",
    "print(astr)\n",
    "\n",
    "astr = astr.replace(\"language\", \"snake. \")\n",
    "print(astr)\n",
    "\n",
    "astr = astr * 2\n",
    "print(astr)\n",
    "astr.replace(\"snake\",\"language\")\n",
    "print(astr)\n",
    "\n",
    "#replace: can also decide how many instance shoudl be replaced\n",
    "a = \"Hello Hello Hello Hello\"\n",
    "a = a.replace(\"Hello\",\"Nolo\",2)\n",
    "print(a)"
   ]
  },
  {
   "cell_type": "code",
   "execution_count": 56,
   "metadata": {
    "collapsed": false
   },
   "outputs": [
    {
     "name": "stdout",
     "output_type": "stream",
     "text": [
      "2\n"
     ]
    }
   ],
   "source": [
    "#Count function\n",
    "print(astr.count(\"an\"))"
   ]
  },
  {
   "cell_type": "code",
   "execution_count": 64,
   "metadata": {
    "collapsed": false
   },
   "outputs": [
    {
     "name": "stdout",
     "output_type": "stream",
     "text": [
      "my number is 11\n",
      "my nubmer is 1011\n",
      "my nubmer is 13\n",
      "my nubmer is b\n",
      "my nubmer is 1.234568e+00\n",
      "my nubmer is 11.000000\n",
      "my nubmer is computer\n"
     ]
    }
   ],
   "source": [
    "#String Formatting\n",
    "n = 11\n",
    "f = 1.2345678\n",
    "s = \"computer\"\n",
    "\n",
    "print(\"my number is {:d}\".format(n)) #:d format this nubmer in base 10\n",
    "print(\"my nubmer is {:b}\".format(n)) #:b is format the number in base 2\n",
    "print(\"my nubmer is {:o}\".format(n)) #:o is format the number in base 8\n",
    "print(\"my nubmer is {:x}\".format(n)) #:x is format the number in base 16\n",
    "print(\"my nubmer is {:e}\".format(f)) #:e is format the number in exponent form\n",
    "print(\"my nubmer is {:f}\".format(n)) #:b is format the number in float form\n",
    "print(\"my nubmer is {:s}\".format(s)) #:b is format the number in string\n"
   ]
  },
  {
   "cell_type": "code",
   "execution_count": 78,
   "metadata": {
    "collapsed": false
   },
   "outputs": [
    {
     "name": "stdout",
     "output_type": "stream",
     "text": [
      "1.234568\n",
      "1.235\n",
      "      1.235\n",
      "0000001.235\n",
      "\n",
      "111.2345678computer\n",
      "William owns 5 of mangoes\n"
     ]
    }
   ],
   "source": [
    "n = 11\n",
    "f = 1.2345678\n",
    "s = \"computer\"\n",
    "print(\"{:f}\".format(f))\n",
    "print(\"{:.3f}\".format(f)) #.3 just print only 3 decimal\n",
    "print(\"{:11.3f}\".format(f)) #.3 print 3 decimal, paddded with spaces\n",
    "print(\"{:011.3f}\".format(f)) #Pad with zeros\n",
    "\n",
    "\n",
    "print(\"\\n{0}{1}{2}\".format(n,f,s))\n",
    "\n",
    "print(\"{name} owns {amount} of {object}\".format(name = \"William\",amount = 5,object = \"mangoes\"))\n",
    "#For more reading go to https://pyformat.info"
   ]
  },
  {
   "cell_type": "code",
   "execution_count": 83,
   "metadata": {
    "collapsed": false
   },
   "outputs": [
    {
     "name": "stdout",
     "output_type": "stream",
     "text": [
      "Please enter last nameAn\n",
      "Enter middle nameKa\n",
      "Enter your last nameMo\n",
      "An K Mo\n"
     ]
    }
   ],
   "source": [
    "#User input from commandline\n",
    "first_name = str(input(\"Please enter last name\")) # cast input to string\n",
    "middle_name = str(input(\"Enter middle name\"))\n",
    "last_name = str(input(\"Enter your last name\"))\n",
    "\n",
    "first_name = first_name.capitalize()\n",
    "middle_name = middle_name.capitalize()\n",
    "last_name = last_name.capitalize()\n",
    "\n",
    "name_format = \"{first} {middle:.1s} {last}\"\n",
    "print(name_format.format(first = first_name, middle = middle_name,last = last_name))"
   ]
  },
  {
   "cell_type": "code",
   "execution_count": 87,
   "metadata": {
    "collapsed": false
   },
   "outputs": [
    {
     "name": "stdout",
     "output_type": "stream",
     "text": [
      "ra\n",
      "5\n",
      "do\n",
      "25\n",
      "re\n",
      "['ra', 'sa', 'do', 're']\n",
      "['ra', 'do', 're']\n"
     ]
    }
   ],
   "source": [
    "#Python Lists: List Data structure\n",
    "numbers = [5,-6, 25, 34]\n",
    "names = [\"ra\",\"sa\",\"do\",\"re\"]\n",
    "\n",
    "print(names[0])\n",
    "print(numbers[0])\n",
    "print(names[2])\n",
    "print(numbers[2])\n",
    "\n",
    "print(names[-1])\n",
    "\n",
    "print(names)\n",
    "del names[1]\n",
    "print(names)"
   ]
  },
  {
   "cell_type": "code",
   "execution_count": 91,
   "metadata": {
    "collapsed": false
   },
   "outputs": [
    {
     "name": "stdout",
     "output_type": "stream",
     "text": [
      "h\n",
      "l\n"
     ]
    }
   ],
   "source": [
    "#Similarty between strings and lista\n",
    "mystr = \"hello world\"\n",
    "print(mystr[0])\n",
    "print(mystr[2])\n",
    "\n",
    "#Strings and lists are similar how, cannot delete elements from the strings; strings are immutable"
   ]
  },
  {
   "cell_type": "code",
   "execution_count": 109,
   "metadata": {
    "collapsed": false
   },
   "outputs": [
    {
     "name": "stdout",
     "output_type": "stream",
     "text": [
      "['a', 'b', 'c', 'd', 'f', 'e', 'f']\n",
      "['a', 'b', 'c', 'd', 'f', 'e', 'f', 'g']\n",
      "['a', 'b', 'c', 'f', 'e', 'f', 'g']\n",
      "Nolo Nolo Hello Hello\n",
      "['b', 'c', 'f', 'e', 'f', 'g']\n"
     ]
    }
   ],
   "source": [
    "#Core list methods\n",
    "\n",
    "alpha = [\"a\",\"b\",\"c\",\"d\",\"f\"]\n",
    "alpha.append(\"e\")\n",
    "alpha.append(\"f\")\n",
    "print(alpha)\n",
    "\n",
    "#Added g\n",
    "alpha = alpha + [\"g\"] \n",
    "\n",
    "d_index = alpha.index(\"d\")\n",
    "print(alpha)\n",
    "del alpha[d_index]\n",
    "print(alpha)\n",
    "\n",
    "#Another way to removed\n",
    "print(a)\n",
    "alpha.remove(\"a\")\n",
    "print(alpha)"
   ]
  },
  {
   "cell_type": "code",
   "execution_count": 119,
   "metadata": {
    "collapsed": false
   },
   "outputs": [
    {
     "name": "stdout",
     "output_type": "stream",
     "text": [
      "['a', 'b', 'd', 'e', 'f']\n",
      "['g', 'h', 'i']\n",
      "abdef\n",
      "a-b-d-e-f\n",
      "ghci\n",
      "abdefghcijklmnopqrstuvwxyz\n"
     ]
    }
   ],
   "source": [
    "#Advanced list method\n",
    "alpha1= [\"a\",\"f\",\"b\",\"e\",\"d\"]\n",
    "alpha2 = [\"g\",\"i\",\"h\"]\n",
    "alpha3  = \"jklmnopqrstuvwxyz\"\n",
    "\n",
    "alpha1.sort()\n",
    "print(alpha1)\n",
    "alpha2.sort()\n",
    "print(alpha2)\n",
    "\n",
    "alpha2.insert(2,\"c\")\n",
    "alpha1 = ''.join(alpha1) #Convert list to strings; numbers cannot be used like this\n",
    "print(alpha1)\n",
    "print('-'.join(alpha1))\n",
    "alpha2 = ''.join(alpha2)\n",
    "print(alpha2)\n",
    "\n",
    "alphabet = alpha1+alpha2+alpha3\n",
    "print(alphabet)\n"
   ]
  },
  {
   "cell_type": "code",
   "execution_count": 126,
   "metadata": {
    "collapsed": false
   },
   "outputs": [
    {
     "name": "stdout",
     "output_type": "stream",
     "text": [
      "-5\n",
      "10000\n",
      "10025.14\n",
      "5\n",
      "r\n",
      "H\n",
      "10\n"
     ]
    }
   ],
   "source": [
    "#Built in list methods/\n",
    "numbers = [3.14, -5, 10, 10**4, 17]\n",
    "hello_world = \"HelloWorld\"\n",
    "\n",
    "print(min(numbers))\n",
    "print(max(numbers))\n",
    "print(sum(numbers))\n",
    "print(len(numbers))\n",
    "\n",
    "\n",
    "print(max(hello_world)) #sort by capital and then sort\n",
    "print(min(hello_world))\n",
    "print(len(hello_world))\n"
   ]
  },
  {
   "cell_type": "code",
   "execution_count": 134,
   "metadata": {
    "collapsed": false
   },
   "outputs": [
    {
     "name": "stdout",
     "output_type": "stream",
     "text": [
      "11\n",
      "[[1, 2, 3, 4, 5, 6, 7], [8, 9, 10, 11, 12, 13, 14, 15], [16, 17, 18, 19, 20, 21, 22]]\n",
      "\n",
      "\n",
      "[[1, 2, 3, 4, 5, 6, 7],\n",
      " [8, 9, 10, 11, 12, 13, 14, 15],\n",
      " [16, 17, 18, 19, 20, 21, 22]]\n",
      "\n",
      "\n",
      "[[1, 2, 3, 4, 5, 6, 7],\n",
      " [8, -5, 10, 11, 12, 13, 14, 15],\n",
      " [16, 17, 18, 19, 20, 21, 22]]\n"
     ]
    }
   ],
   "source": [
    "#2D Array and array references\n",
    "from pprint import pprint as pretty_print\n",
    "from copy import copy, deepcopy\n",
    "\n",
    "nums_2d = [[1,2,3,4,5,6,7],[8,9,10,11,12,13,14,15],[16,17,18,19,20,21,22]]\n",
    "print(nums_2d[1][3])\n",
    "\n",
    "print(nums_2d)\n",
    "print(\"\\n\")\n",
    "pretty_print(nums_2d)\n",
    "print(\"\\n\")\n",
    "\n",
    "#elment 17->-5\n",
    "nums_2d[1][1] = -5\n",
    "pretty_print(nums_2d)"
   ]
  },
  {
   "cell_type": "code",
   "execution_count": 140,
   "metadata": {
    "collapsed": false
   },
   "outputs": [
    {
     "name": "stdout",
     "output_type": "stream",
     "text": [
      "[['A', 'B', 'C', 'D', 'E'],\n",
      " ['A', 'B', 'C', 'D', 'E'],\n",
      " ['A', 'B', 'C', 'D', 'E']]\n",
      "\n",
      "\n",
      "[['F', 'B', 'C', 'D', 'E'],\n",
      " ['F', 'B', 'C', 'D', 'E'],\n",
      " ['F', 'B', 'C', 'D', 'E']]\n",
      "\n",
      "\n",
      "[['A', 'B', 'C', 'D', 'E'],\n",
      " ['F', 'B', 'C', 'D', 'E'],\n",
      " ['F', 'B', 'C', 'D', 'E']]\n"
     ]
    }
   ],
   "source": [
    "letters = [\"A\",\"B\",\"C\",\"D\",\"E\"]\n",
    "letters_2d = [letters, letters, letters]\n",
    "pretty_print(letters_2d)\n",
    "print(\"\\n\")\n",
    "\n",
    "letters_2d[0][0] = \"F\"\n",
    "pretty_print(letters_2d) #Take a look and see all 1set element from A->F\n",
    "#Use copy to avoid this behavior\n",
    "print(\"\\n\")\n",
    "\n",
    "letters_2d = [copy(letters),copy(letters),copy(letters)]\n",
    "letters_2d[0][0] = \"A\"\n",
    "pretty_print(letters_2d)"
   ]
  },
  {
   "cell_type": "code",
   "execution_count": 150,
   "metadata": {
    "collapsed": false
   },
   "outputs": [
    {
     "name": "stdout",
     "output_type": "stream",
     "text": [
      "[0, 1, 2, 3, 4, 5, 6, 7, 8, 9]\n",
      "[0, 1, 2, 3, 4]\n",
      "[2, 3, 4, 5, 6, 7, 8, 9]\n",
      "[2, 3, 4, 5, 6, 7, 8, 9]\n",
      "[0, 1, 2, 3, 4]\n",
      "[0, 2, 4, 6, 8]\n",
      "9\n",
      "[2, 3, 4, 5, 6, 7]\n",
      "[9, 8, 7, 6, 5, 4, 3, 2, 1, 0]\n"
     ]
    }
   ],
   "source": [
    "#List Slicing\n",
    "a = list(range(0,10)) #\n",
    "print(a)\n",
    "print(a[0:5])\n",
    "print(a[2:len(a)])\n",
    "print(a[2:])\n",
    "print(a[:5])\n",
    "print(a[0:10:2])\n",
    "\n",
    "print(a[-1]) #last element\n",
    "\n",
    "print(a[2:-2]) #\n",
    "print(a[::-1])"
   ]
  },
  {
   "cell_type": "code",
   "execution_count": 155,
   "metadata": {
    "collapsed": false
   },
   "outputs": [
    {
     "name": "stdout",
     "output_type": "stream",
     "text": [
      "Age is equal to 35\n",
      "Name is Mira\n",
      "Name is Mira and Age is 35\n"
     ]
    }
   ],
   "source": [
    "#Conditionals\n",
    "age = 35\n",
    "if age == 35:\n",
    "    print(\"Age is equal to 35\")\n",
    "\n",
    "name = \"Mira\"\n",
    "if name == \"Mira\":\n",
    "    print(\"Name is Mira\")\n",
    "    if age == 35:\n",
    "        print(\"Name is Mira and Age is 35\")"
   ]
  },
  {
   "cell_type": "code",
   "execution_count": 176,
   "metadata": {
    "collapsed": false
   },
   "outputs": [
    {
     "name": "stdout",
     "output_type": "stream",
     "text": [
      "Enter temp35\n",
      "Hot\n",
      "\n"
     ]
    }
   ],
   "source": [
    "#Comparison Operators:\n",
    "temp = \"\"\n",
    "#{-inf, -30} cold\n",
    "\n",
    "t = int(input(\"Enter temp\"))\n",
    "if (t <= -30):\n",
    "    print(\"Really Cold\")\n",
    "if (t<0 and t>-30):\n",
    "    print(\"Cold\")\n",
    "if(t==0):\n",
    "    print(\"Cold\")\n",
    "\n",
    "if t>0 and t<20:\n",
    "    print(\"Perfect\")\n",
    "if(t>=20 and t<40):\n",
    "    print(\"Hot\")\n",
    "if(t>40):\n",
    "    print(\"Super Hot\")\n",
    "\n",
    "print(temp)\n"
   ]
  },
  {
   "cell_type": "code",
   "execution_count": 174,
   "metadata": {
    "collapsed": false
   },
   "outputs": [
    {
     "name": "stdout",
     "output_type": "stream",
     "text": [
      " Hey Not John\n",
      "Name is not emily or john\n",
      "n is less than 80\n"
     ]
    }
   ],
   "source": [
    "#Else, Elif keywords\n",
    "name = \"Sarah\"\n",
    "if(name == \"John\"):\n",
    "    print(\"Hey John\")\n",
    "else:\n",
    "    print(\" Hey Not John\")\n",
    "    \n",
    "if (name == \"Emily\"):\n",
    "    print(\"Name is emilyt\")\n",
    "elif (name == \"John\"):\n",
    "    print(\"Name is John\")\n",
    "else:\n",
    "    print(\"Name is not emily or john\")\n",
    "    \n",
    "n = 70\n",
    "if (n<20):\n",
    "    print(\"n is iless than 20\")\n",
    "elif (n<80):\n",
    "    print(\"n is less than 80\")"
   ]
  },
  {
   "cell_type": "code",
   "execution_count": 182,
   "metadata": {
    "collapsed": false
   },
   "outputs": [
    {
     "name": "stdout",
     "output_type": "stream",
     "text": [
      "False\n",
      "False\n",
      "True\n"
     ]
    },
    {
     "data": {
      "text/plain": [
       "False"
      ]
     },
     "execution_count": 182,
     "metadata": {},
     "output_type": "execute_result"
    }
   ],
   "source": [
    "#and or and and not\n",
    "state1 = 3>4\n",
    "print(state1)\n",
    "\n",
    "state2 = \"A\".lower()== a\n",
    "print(state2)\n",
    "\n",
    "state2 = \"A\".lower()== \"a\"\n",
    "print(state2)\n",
    "\n",
    "True and False"
   ]
  },
  {
   "cell_type": "code",
   "execution_count": 188,
   "metadata": {
    "collapsed": false
   },
   "outputs": [
    {
     "name": "stdout",
     "output_type": "stream",
     "text": [
      "1\n",
      "0\n",
      "False\n",
      "False\n",
      "True\n"
     ]
    }
   ],
   "source": [
    "a = 1\n",
    "b = 0\n",
    "print(a or b)\n",
    "print(a and b)\n",
    "print(not a)\n",
    "print(True and False)\n",
    "print(True or False)"
   ]
  },
  {
   "cell_type": "code",
   "execution_count": 191,
   "metadata": {
    "collapsed": false
   },
   "outputs": [
    {
     "name": "stdout",
     "output_type": "stream",
     "text": [
      "Number 1: 3\n",
      "Number 2: 2\n",
      "1.5\n"
     ]
    }
   ],
   "source": [
    "#Conditional Examples\n",
    "#Given input a, b print a/b if b is not equal to zero\n",
    "a = int(input(\"Number 1: \"))\n",
    "b = int(input(\"Number 2: \"))\n",
    "\n",
    "if( b != 0):\n",
    "    print(a/b)\n",
    "else:\n",
    "    print(\"b was equal to zero\")\n",
    "    \n"
   ]
  },
  {
   "cell_type": "code",
   "execution_count": 194,
   "metadata": {
    "collapsed": false
   },
   "outputs": [
    {
     "name": "stdout",
     "output_type": "stream",
     "text": [
      "Number 1: 23\n",
      "Number 2: 2\n",
      "Not divisible\n"
     ]
    }
   ],
   "source": [
    "#Given input a, b print a/b if b is not equal to zero\n",
    "a,b = int(input(\"Number 1: \")), int(input(\"Number 2: \"))\n",
    "\n",
    "if(a%b == 0 or b%a == 0):\n",
    "    print(\"divisible\")\n",
    "else:\n",
    "    print(\"Not divisible\")"
   ]
  },
  {
   "cell_type": "code",
   "execution_count": 193,
   "metadata": {
    "collapsed": false
   },
   "outputs": [
    {
     "name": "stdout",
     "output_type": "stream",
     "text": [
      "Name1AB\n",
      "Name2Ab\n",
      "Name3ab\n",
      "All strings are equal\n"
     ]
    }
   ],
   "source": [
    "#Write a program that given three names prints \"equal\" if all three names are equal to each other when lowercase\n",
    "a = str(input(\"Name1: \"))\n",
    "b = str(input(\"Name2: \"))\n",
    "c = str(input(\"Name3: \"))\n",
    "\n",
    "a = a.lower()\n",
    "b = b.lower()\n",
    "c = c.lower()\n",
    "\n",
    "\n",
    "if(a == b and b == c):\n",
    "    print(\"All strings are equal\")\n",
    "else:\n",
    "    print(\"Different strings\")"
   ]
  },
  {
   "cell_type": "code",
   "execution_count": 195,
   "metadata": {
    "collapsed": false
   },
   "outputs": [
    {
     "name": "stdout",
     "output_type": "stream",
     "text": [
      "Different strings\n"
     ]
    }
   ],
   "source": [
    "\n",
    "if(a == b == c):\n",
    "    print(\"All strings are equal\")\n",
    "else:\n",
    "    print(\"Different strings\")"
   ]
  },
  {
   "cell_type": "code",
   "execution_count": 15,
   "metadata": {
    "collapsed": false
   },
   "outputs": [
    {
     "name": "stdout",
     "output_type": "stream",
     "text": [
      "3+\n",
      "not enough entries\n",
      "['3+']\n"
     ]
    },
    {
     "ename": "ValueError",
     "evalue": "invalid literal for int() with base 10: '3+'",
     "output_type": "error",
     "traceback": [
      "\u001b[0;31m---------------------------------------------------------------------------\u001b[0m",
      "\u001b[0;31mValueError\u001b[0m                                Traceback (most recent call last)",
      "\u001b[0;32m<ipython-input-15-0c419dc0d05f>\u001b[0m in \u001b[0;36m<module>\u001b[0;34m()\u001b[0m\n\u001b[1;32m      8\u001b[0m     \u001b[0mquit\u001b[0m\u001b[1;33m(\u001b[0m\u001b[1;33m)\u001b[0m\u001b[1;33m\u001b[0m\u001b[0m\n\u001b[1;32m      9\u001b[0m \u001b[0mprint\u001b[0m\u001b[1;33m(\u001b[0m\u001b[0msplit\u001b[0m\u001b[1;33m)\u001b[0m\u001b[1;33m\u001b[0m\u001b[0m\n\u001b[0;32m---> 10\u001b[0;31m \u001b[0ma\u001b[0m \u001b[1;33m=\u001b[0m \u001b[0mint\u001b[0m\u001b[1;33m(\u001b[0m\u001b[0msplit\u001b[0m\u001b[1;33m[\u001b[0m\u001b[1;36m0\u001b[0m\u001b[1;33m]\u001b[0m\u001b[1;33m)\u001b[0m\u001b[1;33m\u001b[0m\u001b[0m\n\u001b[0m\u001b[1;32m     11\u001b[0m \u001b[0mop\u001b[0m \u001b[1;33m=\u001b[0m \u001b[0msplit\u001b[0m\u001b[1;33m[\u001b[0m\u001b[1;36m1\u001b[0m\u001b[1;33m]\u001b[0m\u001b[1;33m\u001b[0m\u001b[0m\n\u001b[1;32m     12\u001b[0m \u001b[0mb\u001b[0m \u001b[1;33m=\u001b[0m \u001b[0mint\u001b[0m\u001b[1;33m(\u001b[0m\u001b[0msplit\u001b[0m\u001b[1;33m[\u001b[0m\u001b[1;36m2\u001b[0m\u001b[1;33m]\u001b[0m\u001b[1;33m)\u001b[0m\u001b[1;33m\u001b[0m\u001b[0m\n",
      "\u001b[0;31mValueError\u001b[0m: invalid literal for int() with base 10: '3+'"
     ]
    }
   ],
   "source": [
    "#Mini Programs\n",
    "#Goals: user will enter a string and you ahve to evaluate the results\n",
    "import sys\n",
    "line = input()\n",
    "split = line.split()\n",
    "\n",
    "print(split)\n",
    "a = int(split[0])\n",
    "op = split[1]\n",
    "b = int(split[2])\n",
    "\n",
    "if(op == \"+\"):\n",
    "    val = a+b\n",
    "elif(op == \"-\"):\n",
    "    val = a-b\n",
    "elif(op == \"*\"):\n",
    "    val = a*b\n",
    "elif(op == \"/\" ):\n",
    "    if b==0:\n",
    "        print(\"Cannot do division by 0\")\n",
    "        \n",
    "    else:\n",
    "        val = a/b\n",
    "else:\n",
    "    print(\"Unknown operator: {operator}\".format(operator = op))\n",
    "\n",
    "print(\"{line_expr }= {value:.2f}\".format(line_expr = line, value = val))"
   ]
  },
  {
   "cell_type": "code",
   "execution_count": 13,
   "metadata": {
    "collapsed": false
   },
   "outputs": [
    {
     "name": "stdout",
     "output_type": "stream",
     "text": [
      "False\n",
      "True\n",
      "True\n",
      "Even Number :2\n",
      "Odd Number :3\n",
      "Even Number :4\n",
      "Odd Number :5\n",
      "Even Number :6\n",
      "Even Number :8\n",
      "Even Number :10\n",
      "Index = 0, Number = 2\n",
      "Index = 1, Number = 3\n",
      "Index = 2, Number = 4\n",
      "Index = 3, Number = 5\n",
      "Index = 4, Number = 6\n",
      "Index = 5, Number = 8\n",
      "Index = 6, Number = 10\n"
     ]
    }
   ],
   "source": [
    "# For loops and While loops\n",
    "s = \"Hello World\"\n",
    "a = [4,6,8]\n",
    "print(5 in a)\n",
    "print(4 in a)\n",
    "print(\"Wo\" in s)\n",
    "\n",
    "\n",
    "for number in [2,3,4,5,6,8,10]:\n",
    "    if(number % 2 == 0):\n",
    "        print(\"Even Number :{num}\".format(num = number))\n",
    "    else:\n",
    "        print(\"Odd Number :{num}\".format(num = number))\n",
    "\n",
    "nlist = [2,3,4,5,6,8,10]  \n",
    "for index in range(0,len(nlist)):\n",
    "    print(\"Index = {0}, Number = {1}\".format(index,nlist[index]))\n",
    "    "
   ]
  },
  {
   "cell_type": "code",
   "execution_count": 19,
   "metadata": {
    "collapsed": false
   },
   "outputs": [
    {
     "name": "stdout",
     "output_type": "stream",
     "text": [
      "Josh\n",
      "Harry\n",
      "Leah\n",
      "Micah\n",
      "105\n"
     ]
    }
   ],
   "source": [
    "#While loop\n",
    "index = 0\n",
    "names = [\"Josh\",\"Harry\",\"Leah\",\"Micah\"]\n",
    "while index <len(names):\n",
    "    print(names[index])\n",
    "    index = index + 1\n",
    "\n",
    "i = 0\n",
    "sum = 0\n",
    "while i<15:\n",
    "    sum = sum + i\n",
    "    i = i+1\n",
    "print(sum)\n"
   ]
  },
  {
   "cell_type": "code",
   "execution_count": 24,
   "metadata": {
    "collapsed": false
   },
   "outputs": [
    {
     "name": "stdout",
     "output_type": "stream",
     "text": [
      "a:8\n",
      "b:12\n",
      "a+b 20\n"
     ]
    }
   ],
   "source": [
    "#Forever while\n",
    "\n",
    "while True:\n",
    "    a, b = int(input(\"a:\")), int(input(\"b:\"))\n",
    "    if (a+b) == 20:\n",
    "        print(\"a+b\",a+b)\n",
    "        break\n",
    "    else:\n",
    "        print(\"To stop: a + b shoudl be 20\")"
   ]
  },
  {
   "cell_type": "code",
   "execution_count": 32,
   "metadata": {
    "collapsed": false
   },
   "outputs": [
    {
     "name": "stdout",
     "output_type": "stream",
     "text": [
      "True\n",
      "1\n",
      "2\n",
      "3\n",
      "4\n",
      "5\n",
      "Iterator\n",
      "1\n",
      "2\n",
      "3\n",
      "4\n",
      "5\n"
     ]
    }
   ],
   "source": [
    "#Iterables\n",
    "my_list = [1,2,3,4,5]\n",
    "my_tuple = (2,7,8,9,10)\n",
    "my_string = \"Hello World\"\n",
    "\n",
    "print(\"__iter__\" in dir(my_list)) #Iter is supported for my_list\n",
    "\n",
    "for elem in my_list:\n",
    "    print(elem)\n",
    "print(\"Iterator\")\n",
    "list_iterator = iter(my_list)\n",
    "while True:\n",
    "    try: #catch the error\n",
    "        next_elem = next(list_iterator)\n",
    "        print(next_elem)\n",
    "    except StopIteration:\n",
    "        break"
   ]
  },
  {
   "cell_type": "code",
   "execution_count": 34,
   "metadata": {
    "collapsed": false
   },
   "outputs": [
    {
     "name": "stdout",
     "output_type": "stream",
     "text": [
      "Total sum of Even is :20\n"
     ]
    }
   ],
   "source": [
    "#Loop conditions\n",
    "\n",
    "# Sum of even numbers in a list\n",
    "\n",
    "numbers = [1,2,3,4,5,6,7,8,9]\n",
    "tsum = 0\n",
    "for elem in numbers:\n",
    "    if(elem % 2 == 0):\n",
    "        tsum =tsum + elem\n",
    "\n",
    "print(\"Total sum of Even is :{:d}\".format(tsum))"
   ]
  },
  {
   "cell_type": "code",
   "execution_count": 46,
   "metadata": {
    "collapsed": false
   },
   "outputs": [
    {
     "name": "stdout",
     "output_type": "stream",
     "text": [
      "Lzybrwnfxjmpdvrthfnc\n"
     ]
    }
   ],
   "source": [
    "# Extract consonants from a string\n",
    "alpha = \"abcdefghijklmnopqrstuvwxyzABCDEFGHIJKLMNOPQRSTUVWZYZ\"\n",
    "vowels = \"aeiouAEIOU\"\n",
    "my_string = \"Lazy brown fox jumped over the fence\"\n",
    "characters = []\n",
    "my_string = my_string.rstrip()\n",
    "\n",
    "for elem in my_string:\n",
    "    if(elem not in vowels and elem in alpha):\n",
    "        characters.append(elem)\n",
    "\n",
    "consonants = ''.join(characters)\n",
    "print(consonants)"
   ]
  },
  {
   "cell_type": "code",
   "execution_count": 47,
   "metadata": {
    "collapsed": false
   },
   "outputs": [
    {
     "name": "stdout",
     "output_type": "stream",
     "text": [
      "o\n"
     ]
    }
   ],
   "source": [
    "a = \"hello\"\n",
    "b = \"hell\"\n",
    "for elem in a:\n",
    "    if elem not in b:\n",
    "        print(elem)"
   ]
  },
  {
   "cell_type": "code",
   "execution_count": 84,
   "metadata": {
    "collapsed": false
   },
   "outputs": [
    {
     "name": "stdout",
     "output_type": "stream",
     "text": [
      "[1, 2, 3, 5, 7, 11, 13, 17, 19, 23, 29, 31, 37, 41, 43, 47, 53, 59, 61, 67, 71, 73, 79, 83, 89, 97]\n"
     ]
    }
   ],
   "source": [
    "#Prime number checker\n",
    "import math\n",
    "a = range(2,100)\n",
    "prime = [1]\n",
    "\n",
    "for i in a:\n",
    "    ptest = True\n",
    "    for j in range(2,i-1):\n",
    "        if(int(i) % int(j) == 0):\n",
    "            ptest = False\n",
    "        \n",
    "    if(ptest):\n",
    "        prime.append(i)\n",
    "\n",
    "print(prime)\n"
   ]
  },
  {
   "cell_type": "code",
   "execution_count": 85,
   "metadata": {
    "collapsed": false
   },
   "outputs": [
    {
     "name": "stdout",
     "output_type": "stream",
     "text": [
      "2\n"
     ]
    }
   ],
   "source": [
    " a = range(1,5)\n",
    "for elem in a:\n",
    "    for i in range(2,elem-1):\n",
    "        if(elem % i ==0):\n",
    "            print(i)\n"
   ]
  },
  {
   "cell_type": "code",
   "execution_count": 89,
   "metadata": {
    "collapsed": false
   },
   "outputs": [
    {
     "name": "stdout",
     "output_type": "stream",
     "text": [
      "314.1592\n",
      "78.5398\n"
     ]
    }
   ],
   "source": [
    "#Functions\n",
    "PI = 3.141592\n",
    "def circle_area(r):\n",
    "    return PI*r*r\n",
    "\n",
    "\n",
    "print(circle_area(10))\n",
    "print(circle_area(5))"
   ]
  },
  {
   "cell_type": "code",
   "execution_count": 97,
   "metadata": {
    "collapsed": false
   },
   "outputs": [
    {
     "name": "stdout",
     "output_type": "stream",
     "text": [
      "6\n",
      "21\n"
     ]
    }
   ],
   "source": [
    "#Parameters and Arguments\n",
    "import datetime as dt\n",
    "\n",
    "def add(a,b,c):\n",
    "    return(a+b+c)\n",
    "\n",
    "print(add(1,2,3))\n",
    "\n",
    "\n",
    "def add(*numbers):\n",
    "    total = 0\n",
    "    for n in numbers:\n",
    "        total = total + n\n",
    "    print(total)\n",
    "    \n",
    "add(1,2,3,4,5,6)"
   ]
  },
  {
   "cell_type": "code",
   "execution_count": 103,
   "metadata": {
    "collapsed": false
   },
   "outputs": [
    {
     "name": "stdout",
     "output_type": "stream",
     "text": [
      "It is morning, time :2017-04-04 15:07:14.868549\n",
      "It is morning, time :4/4/2017\n"
     ]
    }
   ],
   "source": [
    "#default arguement\n",
    "import datetime as dt\n",
    "def record_time(message, time = dt.datetime.now()):\n",
    "    print(\"{:}, time :{:}\".format(message,time))\n",
    "\n",
    "record_time(\"It is morning\")\n",
    "record_time(\"It is morning\", \"4/4/2017\")"
   ]
  },
  {
   "cell_type": "code",
   "execution_count": 105,
   "metadata": {
    "collapsed": true
   },
   "outputs": [],
   "source": [
    "#Return and Void functions\n",
    "def is_even(number):\n",
    "    if (number % 2) == 0 :\n",
    "        return(True)\n",
    "    else:\n",
    "        return(False)\n",
    "    "
   ]
  },
  {
   "cell_type": "code",
   "execution_count": 113,
   "metadata": {
    "collapsed": false
   },
   "outputs": [
    {
     "name": "stdout",
     "output_type": "stream",
     "text": [
      " olleh\n",
      "321\n"
     ]
    }
   ],
   "source": [
    "#Working with example\n",
    "def reverse(s):\n",
    "    u = list(s)\n",
    "    v = u[::-1]\n",
    "    return(\"\".join(v))\n",
    "\n",
    "a = reverse(\"hello \")\n",
    "print(a)\n",
    "a = reverse(\"123\")\n",
    "print(a)\n"
   ]
  },
  {
   "cell_type": "code",
   "execution_count": 116,
   "metadata": {
    "collapsed": false
   },
   "outputs": [
    {
     "name": "stdout",
     "output_type": "stream",
     "text": [
      "False\n",
      "True\n",
      "True\n",
      "True\n"
     ]
    }
   ],
   "source": [
    "def is_palindrome(p):\n",
    "    u = reverse(p)\n",
    "    if(u == p):\n",
    "        return(True)\n",
    "    else:\n",
    "        return(False)\n",
    "\n",
    "b = is_palindrome(\"Malayalam\")\n",
    "print(b)   \n",
    "b = is_palindrome(\"malayalam\")\n",
    "print(b)   \n",
    "b = is_palindrome(\"1\")\n",
    "print(b)  \n",
    "b = is_palindrome(\"121\")\n",
    "print(b)  "
   ]
  },
  {
   "cell_type": "code",
   "execution_count": 159,
   "metadata": {
    "collapsed": false
   },
   "outputs": [
    {
     "name": "stdout",
     "output_type": "stream",
     "text": [
      "elloH\n",
      "elloH\n"
     ]
    }
   ],
   "source": [
    "#Advanced functions\n",
    "\n",
    "#Building cipher # Accidentally interpreted as cyclic encoding\n",
    "msg = \"Hello\"\n",
    "key = 1\n",
    "def encrypt(msg,k):\n",
    "    n = len(msg)\n",
    "    if(n>k):\n",
    "        shift = k\n",
    "    else:\n",
    "        shift = k % n\n",
    " \n",
    "    emsg = msg[shift:] + msg[0:shift]\n",
    "    return(emsg)\n",
    "\n",
    "u = encrypt(msg, key)\n",
    "print(u)\n",
    "\n",
    "\n",
    "def decrypt(msg,k):\n",
    "    n = len(msg)\n",
    "    if(n>k):\n",
    "        shift = k\n",
    "    else:\n",
    "        shift = k % n\n",
    "    emsg = msg[shift-1:]+ msg[0:shift-1]\n",
    "    return emsg\n",
    "\n",
    "v = decrypt(u,key)\n",
    "print(v)"
   ]
  },
  {
   "cell_type": "code",
   "execution_count": 188,
   "metadata": {
    "collapsed": false
   },
   "outputs": [
    {
     "name": "stdout",
     "output_type": "stream",
     "text": [
      "helloworld\n",
      "helloworld\n"
     ]
    }
   ],
   "source": [
    "#Building cipher\n",
    "all_alpha = \"abcdefghijklmnopqrstuvwxyz\"\n",
    "\n",
    "msg = \"helloworld\"\n",
    "key = 26\n",
    "def encrypt(msg,k):\n",
    "    emsg = \"\"\n",
    "    for i in msg:\n",
    "        locn = all_alpha.find(i)\n",
    "        newlocn = locn+k\n",
    "        if(newlocn>25):\n",
    "            newlocn = newlocn%26\n",
    "        newalpha = all_alpha[newlocn]\n",
    "        emsg = emsg+newalpha\n",
    "\n",
    "    return(emsg)\n",
    "u = encrypt(msg, key)\n",
    "print(u)\n",
    "\n",
    "\n",
    "def decrypt(msg,k):\n",
    "    trumsg = \"\"\n",
    "    for i in msg:\n",
    "       \n",
    "        locn = all_alpha.find(i)\n",
    "        newlocn = locn-k\n",
    "        if(newlocn<0):\n",
    "            newlocn = 26+newlocn # can use mode as well because -ve indexes can be used in python\n",
    "        newalpha = all_alpha[newlocn]\n",
    "        trumsg = trumsg+newalpha\n",
    "    return trumsg\n",
    "\n",
    "v = decrypt(u,key)\n",
    "print(v)"
   ]
  },
  {
   "cell_type": "code",
   "execution_count": 192,
   "metadata": {
    "collapsed": false
   },
   "outputs": [
    {
     "name": "stdout",
     "output_type": "stream",
     "text": [
      "10\n",
      "32\n"
     ]
    }
   ],
   "source": [
    "#Recursion\n",
    "def double(n):\n",
    "    if(n == 0):\n",
    "        return 0\n",
    "    return(double(n-1)+2)\n",
    "a= double(5)\n",
    "print(a)\n",
    "\n",
    "\n",
    "def exp(b,e):\n",
    "    if(e == 0):\n",
    "        return 1\n",
    "    return(b*exp(b,e-1))\n",
    "\n",
    "a = exp(2,5)\n",
    "print(a)\n"
   ]
  },
  {
   "cell_type": "code",
   "execution_count": 198,
   "metadata": {
    "collapsed": false
   },
   "outputs": [
    {
     "name": "stdout",
     "output_type": "stream",
     "text": [
      "5\n"
     ]
    }
   ],
   "source": [
    "#4/5 Update: This doesnt work yet; need to debug this.\n",
    "#Advanced Recursion\n",
    "#Count vowels in string\n",
    "\n",
    "def countvow(msg):\n",
    "    vowels = \"aeiou\"\n",
    "    if(len(msg)==1):\n",
    "        if(msg in vowels):\n",
    "            return 1\n",
    "        else:\n",
    "            return 0\n",
    "    else:\n",
    "        return countvow(msg[0])+countvow(msg[1:])\n",
    "\n",
    "u = \"ae iou\"\n",
    "k = countvow(u)\n",
    "print(k)\n"
   ]
  },
  {
   "cell_type": "code",
   "execution_count": 210,
   "metadata": {
    "collapsed": false
   },
   "outputs": [
    {
     "ename": "IndexError",
     "evalue": "list index out of range",
     "output_type": "error",
     "traceback": [
      "\u001b[0;31m---------------------------------------------------------------------------\u001b[0m",
      "\u001b[0;31mIndexError\u001b[0m                                Traceback (most recent call last)",
      "\u001b[0;32m<ipython-input-210-1b6d6486235c>\u001b[0m in \u001b[0;36m<module>\u001b[0;34m()\u001b[0m\n\u001b[1;32m      7\u001b[0m \u001b[1;33m\u001b[0m\u001b[0m\n\u001b[1;32m      8\u001b[0m \u001b[0ma\u001b[0m \u001b[1;33m=\u001b[0m \u001b[1;33m[\u001b[0m\u001b[1;36m1\u001b[0m\u001b[1;33m,\u001b[0m\u001b[1;36m5\u001b[0m\u001b[1;33m,\u001b[0m\u001b[1;36m10\u001b[0m\u001b[1;33m]\u001b[0m\u001b[1;33m\u001b[0m\u001b[0m\n\u001b[0;32m----> 9\u001b[0;31m \u001b[0mu\u001b[0m \u001b[1;33m=\u001b[0m \u001b[0mcountsum\u001b[0m\u001b[1;33m(\u001b[0m\u001b[0ma\u001b[0m\u001b[1;33m)\u001b[0m\u001b[1;33m\u001b[0m\u001b[0m\n\u001b[0m\u001b[1;32m     10\u001b[0m \u001b[0mprint\u001b[0m\u001b[1;33m(\u001b[0m\u001b[0mu\u001b[0m\u001b[1;33m)\u001b[0m\u001b[1;33m\u001b[0m\u001b[0m\n\u001b[1;32m     11\u001b[0m \u001b[1;33m\u001b[0m\u001b[0m\n",
      "\u001b[0;32m<ipython-input-210-1b6d6486235c>\u001b[0m in \u001b[0;36mcountsum\u001b[0;34m(numbers)\u001b[0m\n\u001b[1;32m      4\u001b[0m         \u001b[1;32mreturn\u001b[0m \u001b[0mnumbers\u001b[0m\u001b[1;33m[\u001b[0m\u001b[1;36m0\u001b[0m\u001b[1;33m]\u001b[0m\u001b[1;33m\u001b[0m\u001b[0m\n\u001b[1;32m      5\u001b[0m     \u001b[1;32melse\u001b[0m\u001b[1;33m:\u001b[0m\u001b[1;33m\u001b[0m\u001b[0m\n\u001b[0;32m----> 6\u001b[0;31m         \u001b[1;32mreturn\u001b[0m \u001b[0mcountsum\u001b[0m\u001b[1;33m(\u001b[0m\u001b[0mnumbers\u001b[0m\u001b[1;33m[\u001b[0m\u001b[1;36m0\u001b[0m\u001b[1;33m]\u001b[0m\u001b[1;33m+\u001b[0m\u001b[0mcountsum\u001b[0m\u001b[1;33m(\u001b[0m\u001b[0mnumbers\u001b[0m\u001b[1;33m[\u001b[0m\u001b[1;36m1\u001b[0m\u001b[1;33m:\u001b[0m\u001b[1;33m]\u001b[0m\u001b[1;33m)\u001b[0m\u001b[1;33m)\u001b[0m\u001b[1;33m\u001b[0m\u001b[0m\n\u001b[0m\u001b[1;32m      7\u001b[0m \u001b[1;33m\u001b[0m\u001b[0m\n\u001b[1;32m      8\u001b[0m \u001b[0ma\u001b[0m \u001b[1;33m=\u001b[0m \u001b[1;33m[\u001b[0m\u001b[1;36m1\u001b[0m\u001b[1;33m,\u001b[0m\u001b[1;36m5\u001b[0m\u001b[1;33m,\u001b[0m\u001b[1;36m10\u001b[0m\u001b[1;33m]\u001b[0m\u001b[1;33m\u001b[0m\u001b[0m\n",
      "\u001b[0;32m<ipython-input-210-1b6d6486235c>\u001b[0m in \u001b[0;36mcountsum\u001b[0;34m(numbers)\u001b[0m\n\u001b[1;32m      4\u001b[0m         \u001b[1;32mreturn\u001b[0m \u001b[0mnumbers\u001b[0m\u001b[1;33m[\u001b[0m\u001b[1;36m0\u001b[0m\u001b[1;33m]\u001b[0m\u001b[1;33m\u001b[0m\u001b[0m\n\u001b[1;32m      5\u001b[0m     \u001b[1;32melse\u001b[0m\u001b[1;33m:\u001b[0m\u001b[1;33m\u001b[0m\u001b[0m\n\u001b[0;32m----> 6\u001b[0;31m         \u001b[1;32mreturn\u001b[0m \u001b[0mcountsum\u001b[0m\u001b[1;33m(\u001b[0m\u001b[0mnumbers\u001b[0m\u001b[1;33m[\u001b[0m\u001b[1;36m0\u001b[0m\u001b[1;33m]\u001b[0m\u001b[1;33m+\u001b[0m\u001b[0mcountsum\u001b[0m\u001b[1;33m(\u001b[0m\u001b[0mnumbers\u001b[0m\u001b[1;33m[\u001b[0m\u001b[1;36m1\u001b[0m\u001b[1;33m:\u001b[0m\u001b[1;33m]\u001b[0m\u001b[1;33m)\u001b[0m\u001b[1;33m)\u001b[0m\u001b[1;33m\u001b[0m\u001b[0m\n\u001b[0m\u001b[1;32m      7\u001b[0m \u001b[1;33m\u001b[0m\u001b[0m\n\u001b[1;32m      8\u001b[0m \u001b[0ma\u001b[0m \u001b[1;33m=\u001b[0m \u001b[1;33m[\u001b[0m\u001b[1;36m1\u001b[0m\u001b[1;33m,\u001b[0m\u001b[1;36m5\u001b[0m\u001b[1;33m,\u001b[0m\u001b[1;36m10\u001b[0m\u001b[1;33m]\u001b[0m\u001b[1;33m\u001b[0m\u001b[0m\n",
      "\u001b[0;32m<ipython-input-210-1b6d6486235c>\u001b[0m in \u001b[0;36mcountsum\u001b[0;34m(numbers)\u001b[0m\n\u001b[1;32m      4\u001b[0m         \u001b[1;32mreturn\u001b[0m \u001b[0mnumbers\u001b[0m\u001b[1;33m[\u001b[0m\u001b[1;36m0\u001b[0m\u001b[1;33m]\u001b[0m\u001b[1;33m\u001b[0m\u001b[0m\n\u001b[1;32m      5\u001b[0m     \u001b[1;32melse\u001b[0m\u001b[1;33m:\u001b[0m\u001b[1;33m\u001b[0m\u001b[0m\n\u001b[0;32m----> 6\u001b[0;31m         \u001b[1;32mreturn\u001b[0m \u001b[0mcountsum\u001b[0m\u001b[1;33m(\u001b[0m\u001b[0mnumbers\u001b[0m\u001b[1;33m[\u001b[0m\u001b[1;36m0\u001b[0m\u001b[1;33m]\u001b[0m\u001b[1;33m+\u001b[0m\u001b[0mcountsum\u001b[0m\u001b[1;33m(\u001b[0m\u001b[0mnumbers\u001b[0m\u001b[1;33m[\u001b[0m\u001b[1;36m1\u001b[0m\u001b[1;33m:\u001b[0m\u001b[1;33m]\u001b[0m\u001b[1;33m)\u001b[0m\u001b[1;33m)\u001b[0m\u001b[1;33m\u001b[0m\u001b[0m\n\u001b[0m\u001b[1;32m      7\u001b[0m \u001b[1;33m\u001b[0m\u001b[0m\n\u001b[1;32m      8\u001b[0m \u001b[0ma\u001b[0m \u001b[1;33m=\u001b[0m \u001b[1;33m[\u001b[0m\u001b[1;36m1\u001b[0m\u001b[1;33m,\u001b[0m\u001b[1;36m5\u001b[0m\u001b[1;33m,\u001b[0m\u001b[1;36m10\u001b[0m\u001b[1;33m]\u001b[0m\u001b[1;33m\u001b[0m\u001b[0m\n",
      "\u001b[0;32m<ipython-input-210-1b6d6486235c>\u001b[0m in \u001b[0;36mcountsum\u001b[0;34m(numbers)\u001b[0m\n\u001b[1;32m      4\u001b[0m         \u001b[1;32mreturn\u001b[0m \u001b[0mnumbers\u001b[0m\u001b[1;33m[\u001b[0m\u001b[1;36m0\u001b[0m\u001b[1;33m]\u001b[0m\u001b[1;33m\u001b[0m\u001b[0m\n\u001b[1;32m      5\u001b[0m     \u001b[1;32melse\u001b[0m\u001b[1;33m:\u001b[0m\u001b[1;33m\u001b[0m\u001b[0m\n\u001b[0;32m----> 6\u001b[0;31m         \u001b[1;32mreturn\u001b[0m \u001b[0mcountsum\u001b[0m\u001b[1;33m(\u001b[0m\u001b[0mnumbers\u001b[0m\u001b[1;33m[\u001b[0m\u001b[1;36m0\u001b[0m\u001b[1;33m]\u001b[0m\u001b[1;33m+\u001b[0m\u001b[0mcountsum\u001b[0m\u001b[1;33m(\u001b[0m\u001b[0mnumbers\u001b[0m\u001b[1;33m[\u001b[0m\u001b[1;36m1\u001b[0m\u001b[1;33m:\u001b[0m\u001b[1;33m]\u001b[0m\u001b[1;33m)\u001b[0m\u001b[1;33m)\u001b[0m\u001b[1;33m\u001b[0m\u001b[0m\n\u001b[0m\u001b[1;32m      7\u001b[0m \u001b[1;33m\u001b[0m\u001b[0m\n\u001b[1;32m      8\u001b[0m \u001b[0ma\u001b[0m \u001b[1;33m=\u001b[0m \u001b[1;33m[\u001b[0m\u001b[1;36m1\u001b[0m\u001b[1;33m,\u001b[0m\u001b[1;36m5\u001b[0m\u001b[1;33m,\u001b[0m\u001b[1;36m10\u001b[0m\u001b[1;33m]\u001b[0m\u001b[1;33m\u001b[0m\u001b[0m\n",
      "\u001b[0;31mIndexError\u001b[0m: list index out of range"
     ]
    }
   ],
   "source": [
    "#count sum of digits\n",
    "def countsum(numbers):\n",
    "    if(type(numbers)==\"int\"):\n",
    "        return numbers[0]\n",
    "    else:\n",
    "        return countsum(numbers[0]+countsum(numbers[1:]))\n",
    "\n",
    "a = [1,5,10]\n",
    "u = countsum(a)\n",
    "print(u)\n",
    "    "
   ]
  },
  {
   "cell_type": "code",
   "execution_count": 1,
   "metadata": {
    "collapsed": false
   },
   "outputs": [
    {
     "data": {
      "text/plain": [
       "list"
      ]
     },
     "execution_count": 1,
     "metadata": {},
     "output_type": "execute_result"
    }
   ],
   "source": [
    "#fibonacci\n",
    "a = \"5\"\n",
    "a.isdigit()\n",
    "a= [5,2]\n",
    "type(a)"
   ]
  },
  {
   "cell_type": "code",
   "execution_count": 9,
   "metadata": {
    "collapsed": false
   },
   "outputs": [
    {
     "data": {
      "text/plain": [
       "120"
      ]
     },
     "execution_count": 9,
     "metadata": {},
     "output_type": "execute_result"
    }
   ],
   "source": [
    "#Python APIs and Modules\n",
    "#Import as and from\n",
    "\n",
    "#Library Reference: Link to all python modules\n",
    "# E.g math module,\n",
    "import math\n",
    "a = 5\n",
    "math.factorial(a)\n"
   ]
  },
  {
   "cell_type": "code",
   "execution_count": 16,
   "metadata": {
    "collapsed": false
   },
   "outputs": [
    {
     "name": "stdout",
     "output_type": "stream",
     "text": [
      "testing string functions\n"
     ]
    }
   ],
   "source": [
    "#modulet testing\n",
    "def first_half(s):\n",
    "    return(s[:len(s)//2])\n",
    "\n",
    "if __name__ == \"__main__\":\n",
    "    print(\"testing string functions\")\n",
    "    assert first_half(\"abcd\") == \"ab\",\"First half is failing\""
   ]
  },
  {
   "cell_type": "code",
   "execution_count": null,
   "metadata": {
    "collapsed": true
   },
   "outputs": [],
   "source": []
  }
 ],
 "metadata": {
  "anaconda-cloud": {},
  "kernelspec": {
   "display_name": "Python [conda root]",
   "language": "python",
   "name": "conda-root-py"
  },
  "language_info": {
   "codemirror_mode": {
    "name": "ipython",
    "version": 3
   },
   "file_extension": ".py",
   "mimetype": "text/x-python",
   "name": "python",
   "nbconvert_exporter": "python",
   "pygments_lexer": "ipython3",
   "version": "3.5.2"
  }
 },
 "nbformat": 4,
 "nbformat_minor": 1
}

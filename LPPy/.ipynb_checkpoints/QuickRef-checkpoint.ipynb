{
 "cells": [
  {
   "cell_type": "code",
   "execution_count": 10,
   "metadata": {
    "collapsed": false
   },
   "outputs": [
    {
     "data": {
      "text/plain": [
       "3"
      ]
     },
     "execution_count": 10,
     "metadata": {},
     "output_type": "execute_result"
    }
   ],
   "source": [
    "#List functions\n",
    "a = [1,2,3,4]\n",
    "a.append(99) #append adds 1 element; \n",
    "                #f you try adding [4,5] result = [1,2,3,[4,5]]\n",
    "a.extend([4,5])# a becomes[1,2,3,4,5]\n",
    "a.insert(0,999)\n",
    "b = a.copy() #copies element\n",
    "\n",
    "a.sort()\n",
    "a.reverse() #or a.sort(reverse= True)\n",
    "\n",
    "\n",
    "a.remove(4)\n",
    "a.pop(2)\n",
    "a.clear() #removes all element from list\n",
    "    # same as del a[:]\n",
    "         "
   ]
  },
  {
   "cell_type": "code",
   "execution_count": 24,
   "metadata": {
    "collapsed": false
   },
   "outputs": [
    {
     "data": {
      "text/plain": [
       "'r'"
      ]
     },
     "execution_count": 24,
     "metadata": {},
     "output_type": "execute_result"
    }
   ],
   "source": [
    "#String function\n",
    "a = \"Hello World\"\n",
    "a.upper()\n",
    "a.lower()\n",
    "a.count(\"l\")\n",
    "\n",
    "a.find(\"Wo\")\n",
    "a.index(\"r\")\n",
    "\n",
    "a.replace(\"He\",\"Se\") #assign to a different string; a doesnt change\n",
    "\n",
    "a.isdigit()\n",
    "a.isalpha()\n",
    "a.isnumeric()\n",
    "a.isspace()\n",
    "a.istitle()\n"
   ]
  },
  {
   "cell_type": "code",
   "execution_count": 12,
   "metadata": {
    "collapsed": true
   },
   "outputs": [],
   "source": [
    "#Set functions"
   ]
  },
  {
   "cell_type": "code",
   "execution_count": null,
   "metadata": {
    "collapsed": true
   },
   "outputs": [],
   "source": [
    "#Tuple functions"
   ]
  }
 ],
 "metadata": {
  "anaconda-cloud": {},
  "kernelspec": {
   "display_name": "Python [conda root]",
   "language": "python",
   "name": "conda-root-py"
  },
  "language_info": {
   "codemirror_mode": {
    "name": "ipython",
    "version": 3
   },
   "file_extension": ".py",
   "mimetype": "text/x-python",
   "name": "python",
   "nbconvert_exporter": "python",
   "pygments_lexer": "ipython3",
   "version": "3.5.2"
  }
 },
 "nbformat": 4,
 "nbformat_minor": 1
}

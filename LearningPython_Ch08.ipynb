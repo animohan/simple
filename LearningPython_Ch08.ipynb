{
 "cells": [
  {
   "cell_type": "markdown",
   "metadata": {},
   "source": [
    "# 8. Lists and Dictionaries"
   ]
  },
  {
   "cell_type": "markdown",
   "metadata": {},
   "source": [
    "## 8.1 Simple Lists"
   ]
  },
  {
   "cell_type": "code",
   "execution_count": 3,
   "metadata": {
    "collapsed": true
   },
   "outputs": [],
   "source": [
    "a = [] # Empty list"
   ]
  },
  {
   "cell_type": "code",
   "execution_count": 5,
   "metadata": {
    "collapsed": false
   },
   "outputs": [
    {
     "name": "stdout",
     "output_type": "stream",
     "text": [
      "[1, 2, 3, 4]\n"
     ]
    }
   ],
   "source": [
    "a = [1,2,3,4]\n",
    "print(a)"
   ]
  },
  {
   "cell_type": "code",
   "execution_count": 10,
   "metadata": {
    "collapsed": false
   },
   "outputs": [
    {
     "name": "stdout",
     "output_type": "stream",
     "text": [
      "['123', 1, 2, 3, 'abc']\n"
     ]
    }
   ],
   "source": [
    "a = [\"123\",1,2,3,\"abc\"] #Lists can be mixed size\n",
    "print(a)"
   ]
  },
  {
   "cell_type": "code",
   "execution_count": 18,
   "metadata": {
    "collapsed": false
   },
   "outputs": [
    {
     "name": "stdout",
     "output_type": "stream",
     "text": [
      "[1, 2, 3, [4, 5, 6]] \n",
      "\n",
      "1\n",
      "2\n",
      "3\n",
      "[4, 5, 6]\n"
     ]
    }
   ],
   "source": [
    "#lists can be nested\n",
    "a = [1,2,3,[4,5,6]]\n",
    "print(a,\"\\n\")\n",
    "\n",
    "for item in a:\n",
    "    print(item)"
   ]
  },
  {
   "cell_type": "code",
   "execution_count": 7,
   "metadata": {
    "collapsed": false
   },
   "outputs": [
    {
     "name": "stdout",
     "output_type": "stream",
     "text": [
      "[-5, -4, -3, -2, -1, 0, 1, 2, 3, 4]\n"
     ]
    }
   ],
   "source": [
    "a = list(range(-5,5,1)) #Range can be used\n",
    "print(a)"
   ]
  },
  {
   "cell_type": "code",
   "execution_count": 8,
   "metadata": {
    "collapsed": false
   },
   "outputs": [
    {
     "name": "stdout",
     "output_type": "stream",
     "text": [
      "-3\n",
      "[-3, -2, -1]\n"
     ]
    }
   ],
   "source": [
    "#Printing elements\n",
    "print(a[2])\n",
    "print(a[2:5])"
   ]
  },
  {
   "cell_type": "code",
   "execution_count": 9,
   "metadata": {
    "collapsed": false
   },
   "outputs": [
    {
     "name": "stdout",
     "output_type": "stream",
     "text": [
      "[1, 2, 3, 4, 123, 'abc', 1.23, {}]\n"
     ]
    }
   ],
   "source": [
    "#Appending two lists\n",
    "L1 = [123, \"abc\",1.23,{}]\n",
    "L = list(range(1,5))\n",
    "print(L+L1)"
   ]
  },
  {
   "cell_type": "markdown",
   "metadata": {},
   "source": [
    "## 8.2 List Operations"
   ]
  },
  {
   "cell_type": "code",
   "execution_count": 11,
   "metadata": {
    "collapsed": false
   },
   "outputs": [
    {
     "name": "stdout",
     "output_type": "stream",
     "text": [
      "True\n"
     ]
    }
   ],
   "source": [
    "L = [1,2,3,4]\n",
    "print(1 in L) #Membership"
   ]
  },
  {
   "cell_type": "code",
   "execution_count": 16,
   "metadata": {
    "collapsed": false
   },
   "outputs": [
    {
     "name": "stdout",
     "output_type": "stream",
     "text": [
      "[1, 2, 3, 4, 5, 6, 7]\n"
     ]
    }
   ],
   "source": [
    "L = [1,2,3,4]\n",
    "L.extend([5,6,7]) #Appending list\n",
    "print(L)\n",
    "L.insert(2,9999)\n"
   ]
  },
  {
   "cell_type": "code",
   "execution_count": 17,
   "metadata": {
    "collapsed": false
   },
   "outputs": [
    {
     "name": "stdout",
     "output_type": "stream",
     "text": [
      "[0, 1, 2, 4, 6, 9]\n"
     ]
    }
   ],
   "source": [
    "L = [6,2,4,9,1,0]\n",
    "L.sort() #Sorting a list; Note sort changes the order in the existing list\n",
    "print(L)"
   ]
  },
  {
   "cell_type": "code",
   "execution_count": 19,
   "metadata": {
    "collapsed": false
   },
   "outputs": [
    {
     "name": "stdout",
     "output_type": "stream",
     "text": [
      "['Cyclone', 'Hurricane', 'Rain', 'Storm', 'Typhoon', 'Water']\n",
      "['ABD', 'aBe', 'abc']\n",
      "['abc', 'ABD', 'aBe']\n"
     ]
    }
   ],
   "source": [
    "#Sorting Strings:\n",
    "L = [\"Rain\", \"Water\",\"Cyclone\",\"Typhoon\",\"Hurricane\",\"Storm\"]\n",
    "L.sort() \n",
    "print(L)\n",
    "\n",
    "#Case handling in string sorting\n",
    "J=['ABD','aBe','abc'] #Upper case are sorted first in ascending order\n",
    "J.sort() \n",
    "print(J)\n",
    "J.sort(key=str.lower)\n",
    "print(J)"
   ]
  },
  {
   "cell_type": "code",
   "execution_count": 20,
   "metadata": {
    "collapsed": false
   },
   "outputs": [
    {
     "name": "stdout",
     "output_type": "stream",
     "text": [
      "['Cyclone', 'Hurricane', 'Rain', 'Storm', 'Typhoon', 'Water']\n",
      "['ABD', 'aBe', 'abc']\n",
      "['abc', 'ABD', 'aBe']\n"
     ]
    }
   ],
   "source": [
    "#Sorting Strings:\n",
    "L = [\"Rain\", \"Water\",\"Cyclone\",\"Typhoon\",\"Hurricane\",\"Storm\"]\n",
    "L.sort() \n",
    "print(L)\n",
    "\n",
    "#Case handling in string sorting\n",
    "J=['ABD','aBe','abc'] #Upper case are sorted first in ascending order\n",
    "J.sort() \n",
    "print(J)\n",
    "J.sort(key=str.lower)\n",
    "print(J)"
   ]
  },
  {
   "cell_type": "code",
   "execution_count": 21,
   "metadata": {
    "collapsed": false
   },
   "outputs": [
    {
     "name": "stdout",
     "output_type": "stream",
     "text": [
      "['Cyclone', 'Hurricane', 'Rain', 'Storm', 'Typhoon', 'Water']\n",
      "['ABD', 'aBe', 'abc']\n",
      "['abc', 'ABD', 'aBe']\n"
     ]
    }
   ],
   "source": [
    "#Sorting Strings:\n",
    "L = [\"Rain\", \"Water\",\"Cyclone\",\"Typhoon\",\"Hurricane\",\"Storm\"]\n",
    "L.sort() \n",
    "print(L)\n",
    "\n",
    "#Case handling in string sorting\n",
    "J=['ABD','aBe','abc'] #Upper case are sorted first in ascending order\n",
    "J.sort() \n",
    "print(J)\n",
    "J.sort(key=str.lower)\n",
    "print(J)"
   ]
  },
  {
   "cell_type": "code",
   "execution_count": 22,
   "metadata": {
    "collapsed": false
   },
   "outputs": [
    {
     "name": "stdout",
     "output_type": "stream",
     "text": [
      "['IJK', 'FGH', 'CDE', 'ABC']\n"
     ]
    }
   ],
   "source": [
    "J = [\"ABC\", \"CDE\",\"FGH\", \"IJK\"]\n",
    "J.reverse() #Reverse the order of the entries of the list\n",
    "print(J)"
   ]
  },
  {
   "cell_type": "code",
   "execution_count": 23,
   "metadata": {
    "collapsed": false
   },
   "outputs": [
    {
     "name": "stdout",
     "output_type": "stream",
     "text": [
      "['IJK', 'FGH', 'CDE', 'ABC']\n"
     ]
    }
   ],
   "source": [
    "L = [1,2,3,4]\n",
    "L = J.copy() #Copying over lists\n",
    "print(L)"
   ]
  },
  {
   "cell_type": "code",
   "execution_count": 24,
   "metadata": {
    "collapsed": false
   },
   "outputs": [
    {
     "name": "stdout",
     "output_type": "stream",
     "text": [
      "[]\n"
     ]
    }
   ],
   "source": [
    "L = [1,2,3,4]\n",
    "L.clear() #Clearing a list\n",
    "print(L)"
   ]
  },
  {
   "cell_type": "code",
   "execution_count": 28,
   "metadata": {
    "collapsed": false
   },
   "outputs": [
    {
     "name": "stdout",
     "output_type": "stream",
     "text": [
      "[1, 999, 2, 3, 4]\n",
      "[99, 88, 77, 1, 999, 2, 3, 4]\n",
      "[111, 222, 99, 88, 77, 1, 999, 2, 3, 4]\n",
      "[111, 222, 99, 88, 77, 1, 999, 2, 3, 4, 555, 777]\n"
     ]
    }
   ],
   "source": [
    "L = [1,2,3,4]\n",
    "L.insert(1,999) #Inserting into a stack\n",
    "print(L)\n",
    "\n",
    "L[0:0] = [99,88,77] #Insert in the begining of the string\n",
    "print(L)\n",
    "\n",
    "L[:0] = [111,222] # Insert in the begining\n",
    "print(L)\n",
    "\n",
    "L[len(L):]= [555,777]\n",
    "print(L)"
   ]
  },
  {
   "cell_type": "code",
   "execution_count": null,
   "metadata": {
    "collapsed": true
   },
   "outputs": [],
   "source": []
  }
 ],
 "metadata": {
  "kernelspec": {
   "display_name": "Python [default]",
   "language": "python",
   "name": "python3"
  },
  "language_info": {
   "codemirror_mode": {
    "name": "ipython",
    "version": 3
   },
   "file_extension": ".py",
   "mimetype": "text/x-python",
   "name": "python",
   "nbconvert_exporter": "python",
   "pygments_lexer": "ipython3",
   "version": "3.5.2"
  }
 },
 "nbformat": 4,
 "nbformat_minor": 0
}

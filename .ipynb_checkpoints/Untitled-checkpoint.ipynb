{
 "cells": [
  {
   "cell_type": "code",
   "execution_count": 5,
   "metadata": {
    "collapsed": false
   },
   "outputs": [
    {
     "name": "stdout",
     "output_type": "stream",
     "text": [
      "bob\n"
     ]
    },
    {
     "data": {
      "text/plain": [
       "'\\ndfdfd\\n'"
      ]
     },
     "execution_count": 5,
     "metadata": {},
     "output_type": "execute_result"
    }
   ],
   "source": [
    "class C2:\n",
    "    a=15\n",
    "class C3:\n",
    "    b=20\n",
    "class C1(C2,C3):\n",
    "    def __init__(self,who):\n",
    "        self.name = who\n",
    "\n",
    "I1=C1(\"bob\")\n",
    "I2 = C1(\"sue\")\n",
    "print(I1.name)\n",
    "\n",
    "# If it is coded or inherited, Python automatically calls a method called\n",
    "# __init each time an instance is generated from a class. The new instance\n",
    "#  is passed to the self argument of __init__ and any values listed in the\n",
    "#  parantheses in the class call go to arguments two and beyond.  The effect\n",
    "#  here is to initialize instances when they are made without requiring \n",
    "# extra method calls\n",
    "\n",
    "# Init method is called constructor because when it is run/ It is the most\n",
    "# commmonly used representative of a larger class of methods called\n",
    "#  operator overloading methods. Such methods are inherited in class trees\n",
    "# as susual  and have double undersocres at teh start of their names to make\n",
    "# them distinct. Python runs them automatically when isntance that suppor them \n",
    "# appear in the corresponding operations and they are mostly alternative\n",
    "# to using simple method calls.\n",
    "\n",
    "# For example, to implement set intersection, a class might provide a method\n",
    "# named instersect, or overload & expression operator to display to the \n",
    "# required logic by coding named __and__ . becuase the operator scheme \n",
    "# makes instances look and feel more like built-in types, it allows some \n",
    "# classes to provide a consisntent and natural interface and be compatibel\n",
    "# with code that accepts buitl in types. Sitll, apart from the init\n",
    "# constructor which appears in most realistic lasses, many program may be\n",
    "# better off with a simple named methods unelss their objects ahve similar\n",
    "# built=in\n",
    "\n",
    "#OOP is about Code resue"
   ]
  },
  {
   "cell_type": "code",
   "execution_count": null,
   "metadata": {
    "collapsed": true
   },
   "outputs": [],
   "source": []
  }
 ],
 "metadata": {
  "kernelspec": {
   "display_name": "Python 3",
   "language": "python",
   "name": "python3"
  },
  "language_info": {
   "codemirror_mode": {
    "name": "ipython",
    "version": 3
   },
   "file_extension": ".py",
   "mimetype": "text/x-python",
   "name": "python",
   "nbconvert_exporter": "python",
   "pygments_lexer": "ipython3",
   "version": "3.5.1"
  }
 },
 "nbformat": 4,
 "nbformat_minor": 0
}

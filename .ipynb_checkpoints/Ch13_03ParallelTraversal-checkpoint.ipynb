{
 "cells": [
  {
   "cell_type": "code",
   "execution_count": 1,
   "metadata": {
    "collapsed": false
   },
   "outputs": [
    {
     "name": "stdout",
     "output_type": "stream",
     "text": [
      "<zip object at 0x7f8640e847c8>\n",
      "[(1, 7), (2, 8), (3, 9), (4, 10), (5, 11), (6, 12)]\n",
      "1 + 7 = 8\n",
      "2 + 8 = 10\n",
      "3 + 9 = 12\n",
      "4 + 10 = 14\n",
      "5 + 11 = 16\n",
      "6 + 12 = 18\n"
     ]
    }
   ],
   "source": [
    "#Next loop coding technique extends loop's scope\n",
    "#Built in zip function allows us to use for loops to visit multiple\n",
    "#sequences in parallel. Zip takes 1 or more sequences as arguments and returs\n",
    "#series of tuples that pair up parallme items from the sequences\n",
    "\n",
    "L1=[1,2,3,4,5,6]\n",
    "L2=[7,8,9,10,11,12]\n",
    "print(zip(L1,L2))\n",
    "print(list(zip(L1,L2)))\n",
    "\n",
    "for (x,y) in zip(L1,L2):\n",
    "    print(x,\"+\",y,\"=\",x+y)\n"
   ]
  },
  {
   "cell_type": "code",
   "execution_count": 2,
   "metadata": {
    "collapsed": false
   },
   "outputs": [
    {
     "name": "stdout",
     "output_type": "stream",
     "text": [
      "[(1, 4, 7), (2, 5, 8), (3, 6, 9)]\n",
      "[('A', 'a'), ('B', 'b'), ('C', 'c'), ('D', 'd')]\n"
     ]
    }
   ],
   "source": [
    "#zip function is more general and accepts any sequence(really any iterable\n",
    "# object) including files and it accepts more than 2 arguments. With 3\n",
    "#arguments, it buidls a list of three-item tuples with itesm from each\n",
    "#sequence\n",
    "T1,T2,T3 = (1,2,3),(4,5,6),(7,8,9)\n",
    "print(list(zip(T1,T2,T3)))\n",
    "s1=\"ABCD\"\n",
    "s2=\"abcdefg\"\n",
    "print(list(zip(s1,s2)))"
   ]
  },
  {
   "cell_type": "code",
   "execution_count": 9,
   "metadata": {
    "collapsed": false
   },
   "outputs": [
    {
     "data": {
      "text/plain": [
       "[115, 112, 97, 109]"
      ]
     },
     "execution_count": 9,
     "metadata": {},
     "output_type": "execute_result"
    }
   ],
   "source": [
    "#Built in map function paris items from sequence in a similar fashin\n",
    "# when passed for its function arugment, but it pads shorter sequences with\n",
    "#none; but that has been deprecated in python 3.5\n",
    "\n",
    "#The following maps the built=in ord fucntion across each item in a string\n",
    "# and collects the results\n",
    "list(map(ord,'spam'))\n"
   ]
  },
  {
   "cell_type": "code",
   "execution_count": 11,
   "metadata": {
    "collapsed": false
   },
   "outputs": [
    {
     "data": {
      "text/plain": [
       "{'eggs': 3, 'spam': 1, 'toast': 5}"
      ]
     },
     "execution_count": 11,
     "metadata": {},
     "output_type": "execute_result"
    }
   ],
   "source": [
    "#Dictionary construction with zip\n",
    "\n",
    "#Coding diectionary at literal level or assigning keys\n",
    "D1={'spam':1, 'eggs':3, 'toast':5}\n",
    "D1={}\n",
    "D1['spam']=1\n",
    "D1['eggs']=2\n",
    "D1['toast']=3\n",
    "\n",
    "#how to manage this if ths program gets dictionary keys and values in lists\n",
    "#at runtime after the script is coded\n",
    "keys=['spam','eggs','toast']\n",
    "vals=[1,3,5]\n",
    "\n",
    "list(zip(keys,vals))\n",
    "D2={}\n",
    "for(k,v) in list(zip(keys,vals)):\n",
    "    D2[k]=v\n",
    "\n",
    "D2"
   ]
  },
  {
   "cell_type": "code",
   "execution_count": 15,
   "metadata": {
    "collapsed": false
   },
   "outputs": [
    {
     "name": "stdout",
     "output_type": "stream",
     "text": [
      "{'spam': 1, 'eggs': 3, 'toast': 5}\n",
      "{'spam': 1, 'eggs': 3, 'toast': 5}\n"
     ]
    }
   ],
   "source": [
    "#Alternatively, the for loop can be skipped altogether and just pass the\n",
    "#zipped keys/values lists to dict constructor\n",
    "keys=['spam','eggs','toast']\n",
    "vals=[1,3,5]\n",
    "D3=dict(list(zip(keys,vals)))\n",
    "D4=dict(zip(keys,vals))\n",
    "print(D3)\n",
    "print(D4)\n",
    "#Both methods work "
   ]
  },
  {
   "cell_type": "code",
   "execution_count": 17,
   "metadata": {
    "collapsed": false
   },
   "outputs": [
    {
     "name": "stdout",
     "output_type": "stream",
     "text": [
      "s  appears at offset 0\n",
      "p  appears at offset 1\n",
      "a  appears at offset 2\n",
      "m  appears at offset 3\n"
     ]
    }
   ],
   "source": [
    "#Generating both offsets and items: enumerate\n",
    "#Earlier we discussed using rnage to generate offsets of items in a string\n",
    "# rather than the items at those offsets In some programs, we neeed\n",
    "#both, the item to use and an offset. Traditionally this was coded with\n",
    "#imsple for loop\n",
    "S=\"spam\"\n",
    "offset=0\n",
    "for item in S:\n",
    "    print(item,\" appears at offset\", offset)\n",
    "    offset+=1"
   ]
  },
  {
   "cell_type": "code",
   "execution_count": 18,
   "metadata": {
    "collapsed": false
   },
   "outputs": [
    {
     "name": "stdout",
     "output_type": "stream",
     "text": [
      "s appears at offset  0\n",
      "p appears at offset  1\n",
      "a appears at offset  2\n",
      "m appears at offset  3\n"
     ]
    }
   ],
   "source": [
    "#The above can be achieved by new enumerate option. Its net effect is to \n",
    "#give loops a counter for free wihtou sacrificing the simplicty\n",
    "S=\"spam\"\n",
    "for (offset, item) in enumerate(S):\n",
    "    print(item, \"appears at offset \", offset)"
   ]
  },
  {
   "cell_type": "code",
   "execution_count": 20,
   "metadata": {
    "collapsed": false
   },
   "outputs": [
    {
     "data": {
      "text/plain": [
       "[(0, 's'), (1, 'p'), (2, 'a'), (3, 'm')]"
      ]
     },
     "execution_count": 20,
     "metadata": {},
     "output_type": "execute_result"
    }
   ],
   "source": [
    "#This happens because of the way enumerate decodes the string\n",
    "list(enumerate(S))"
   ]
  },
  {
   "cell_type": "code",
   "execution_count": 21,
   "metadata": {
    "collapsed": false
   },
   "outputs": [
    {
     "name": "stdout",
     "output_type": "stream",
     "text": [
      "(0, 's')\n",
      "(1, 'p')\n"
     ]
    }
   ],
   "source": [
    "#The enumerate function returs a generator object, a kind of object that\n",
    "#supports the iteration protocol\n",
    "E=enumerate(S)\n",
    "print(next(E))\n",
    "print(next(E))\n",
    "\n",
    "#Enumerate has a method called by next built in function which returs\n",
    "# an index, value"
   ]
  },
  {
   "cell_type": "code",
   "execution_count": 22,
   "metadata": {
    "collapsed": false
   },
   "outputs": [
    {
     "name": "stdout",
     "output_type": "stream",
     "text": [
      "[(0, 's'), (1, 'p'), (2, 'a'), (3, 'm')]\n"
     ]
    },
    {
     "data": {
      "text/plain": [
       "['', 'p', 'aa', 'mmm']"
      ]
     },
     "execution_count": 22,
     "metadata": {},
     "output_type": "execute_result"
    }
   ],
   "source": [
    "S=\"spam\" \n",
    "print(list(enumerate(S)))\n",
    "[c*i for (i,c) in enumerate(S)]"
   ]
  },
  {
   "cell_type": "code",
   "execution_count": 25,
   "metadata": {
    "collapsed": false
   },
   "outputs": [
    {
     "data": {
      "text/plain": [
       "''"
      ]
     },
     "execution_count": 25,
     "metadata": {},
     "output_type": "execute_result"
    }
   ],
   "source": [
    "#just ins the sidebar about python allows to access information to \n",
    "#windows commandline.\n",
    "import os\n",
    "F = os.popen('systeminfo')\n",
    "F.readline()"
   ]
  },
  {
   "cell_type": "code",
   "execution_count": null,
   "metadata": {
    "collapsed": true
   },
   "outputs": [],
   "source": []
  }
 ],
 "metadata": {
  "kernelspec": {
   "display_name": "Python 3",
   "language": "python",
   "name": "python3"
  },
  "language_info": {
   "codemirror_mode": {
    "name": "ipython",
    "version": 3
   },
   "file_extension": ".py",
   "mimetype": "text/x-python",
   "name": "python",
   "nbconvert_exporter": "python",
   "pygments_lexer": "ipython3",
   "version": "3.5.1"
  }
 },
 "nbformat": 4,
 "nbformat_minor": 0
}

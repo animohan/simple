{
 "cells": [
  {
   "cell_type": "code",
   "execution_count": 10,
   "metadata": {
    "collapsed": false
   },
   "outputs": [
    {
     "name": "stdout",
     "output_type": "stream",
     "text": [
      "0\n",
      "0\n",
      "\n",
      "1\n",
      "1\n",
      "\n",
      "3\n",
      "5\n",
      "5.830951894845301\n",
      "(3,5)\n",
      "\n"
     ]
    }
   ],
   "source": [
    "class Point:\n",
    "    #need initiation for the class; Initialization method is called when \n",
    "    #the class is created\n",
    "    \n",
    "    def __init__(self,x=0,y=0):\n",
    "        self.x=x\n",
    "        self.y=y\n",
    "    def distance_from_origin(self):\n",
    "        return(((self.x**2)+(self.y**2))**0.5)\n",
    "    \n",
    "    def print_point(p):\n",
    "        print('(%s,%s)' %(str(p.x),str(p.y)))\n",
    "    \n",
    "\n",
    "p = Point()\n",
    "print(p.x)\n",
    "print(p.y)\n",
    "print()\n",
    "\n",
    "q=Point(1,1)\n",
    "print(q.x)\n",
    "print(q.y)\n",
    "print()\n",
    "\n",
    "q=Point(3,5)\n",
    "print(q.x)\n",
    "print(q.y)\n",
    "print(q.distance_from_origin())\n",
    "q.print_point()\n",
    "print()\n",
    "\n"
   ]
  },
  {
   "cell_type": "code",
   "execution_count": 26,
   "metadata": {
    "collapsed": false
   },
   "outputs": [
    {
     "name": "stdout",
     "output_type": "stream",
     "text": [
      "1 2 3\n",
      "3 2 1\n"
     ]
    },
    {
     "ename": "NameError",
     "evalue": "name 'hour_extra' is not defined",
     "output_type": "error",
     "traceback": [
      "\u001b[1;31m---------------------------------------------------------------------------\u001b[0m",
      "\u001b[1;31mNameError\u001b[0m                                 Traceback (most recent call last)",
      "\u001b[1;32m<ipython-input-26-1a6a0c21eb91>\u001b[0m in \u001b[0;36m<module>\u001b[1;34m()\u001b[0m\n\u001b[0;32m     37\u001b[0m \u001b[1;33m\u001b[0m\u001b[0m\n\u001b[0;32m     38\u001b[0m \u001b[1;33m\u001b[0m\u001b[0m\n\u001b[1;32m---> 39\u001b[1;33m \u001b[0mdone_time\u001b[0m \u001b[1;33m=\u001b[0m \u001b[0madd_time\u001b[0m\u001b[1;33m(\u001b[0m\u001b[0ma\u001b[0m\u001b[1;33m,\u001b[0m\u001b[0mb\u001b[0m\u001b[1;33m)\u001b[0m\u001b[1;33m\u001b[0m\u001b[0m\n\u001b[0m\u001b[0;32m     40\u001b[0m \u001b[0mprint_time\u001b[0m\u001b[1;33m(\u001b[0m\u001b[0mdone_time\u001b[0m\u001b[1;33m)\u001b[0m\u001b[1;33m\u001b[0m\u001b[0m\n",
      "\u001b[1;32m<ipython-input-26-1a6a0c21eb91>\u001b[0m in \u001b[0;36madd_time\u001b[1;34m(t1, t2)\u001b[0m\n\u001b[0;32m     16\u001b[0m         \u001b[0mhour_xtra\u001b[0m\u001b[1;33m=\u001b[0m\u001b[1;36m1\u001b[0m\u001b[1;33m;\u001b[0m\u001b[1;33m\u001b[0m\u001b[0m\n\u001b[0;32m     17\u001b[0m     \u001b[0msum\u001b[0m\u001b[1;33m.\u001b[0m\u001b[0mminutes\u001b[0m\u001b[1;33m=\u001b[0m\u001b[0msum\u001b[0m\u001b[1;33m.\u001b[0m\u001b[0mminutes\u001b[0m\u001b[1;33m-\u001b[0m\u001b[1;36m60\u001b[0m\u001b[1;33m\u001b[0m\u001b[0m\n\u001b[1;32m---> 18\u001b[1;33m     \u001b[0msum\u001b[0m\u001b[1;33m.\u001b[0m\u001b[0mhours\u001b[0m \u001b[1;33m=\u001b[0m \u001b[0mt1\u001b[0m\u001b[1;33m.\u001b[0m\u001b[0mhours\u001b[0m \u001b[1;33m+\u001b[0m \u001b[0mt2\u001b[0m\u001b[1;33m.\u001b[0m\u001b[0mhours\u001b[0m \u001b[1;33m+\u001b[0m \u001b[0mhour_extra\u001b[0m\u001b[1;33m\u001b[0m\u001b[0m\n\u001b[0m\u001b[0;32m     19\u001b[0m \u001b[1;33m\u001b[0m\u001b[0m\n\u001b[0;32m     20\u001b[0m \u001b[1;33m\u001b[0m\u001b[0m\n",
      "\u001b[1;31mNameError\u001b[0m: name 'hour_extra' is not defined"
     ]
    }
   ],
   "source": [
    "class Time:\n",
    "    pass\n",
    "\n",
    "def add_time(t1,t2):\n",
    "    sum=Time()\n",
    "    minute_xtra=0\n",
    "    hour_xtra=0\n",
    "    \n",
    "    sum.seconds = t1.seconds + t2.seconds\n",
    "    \n",
    "    if(sum.seconds>60):\n",
    "        minute_xtra=1;\n",
    "    sum.seconds=sum.seconds-60   \n",
    "    sum.minutes = t1.minutes + t2.minutes + minute_xtra\n",
    "    \n",
    "    if(sum.minutes>60):\n",
    "        hour_xtra=1;\n",
    "    sum.minutes=sum.minutes-60\n",
    "    sum.hours = t1.hours + t2.hours + hour_xtra\n",
    "    \n",
    "\n",
    "def print_time(t1):\n",
    "    pt = Time()\n",
    "    print('(%s:%s:%s)'%(t1.hours,t1.minutes,t1.seconds))\n",
    "    \n",
    "    \n",
    "a = Time()\n",
    "a.hours = 1\n",
    "a.minutes = 2\n",
    "a.seconds = 3\n",
    "print(a.hours,a.minutes, a.seconds)\n",
    "\n",
    "b = Time()\n",
    "b.hours = 3\n",
    "b.minutes = 2\n",
    "b.seconds = 1\n",
    "print(b.hours,b.minutes, b.seconds)\n",
    "\n",
    "\n",
    "done_time = add_time(a,b)\n",
    "print_time(done_time)"
   ]
  },
  {
   "cell_type": "code",
   "execution_count": null,
   "metadata": {
    "collapsed": true
   },
   "outputs": [],
   "source": []
  }
 ],
 "metadata": {
  "kernelspec": {
   "display_name": "Python 3",
   "language": "python",
   "name": "python3"
  },
  "language_info": {
   "codemirror_mode": {
    "name": "ipython",
    "version": 3
   },
   "file_extension": ".py",
   "mimetype": "text/x-python",
   "name": "python",
   "nbconvert_exporter": "python",
   "pygments_lexer": "ipython3",
   "version": "3.5.1"
  }
 },
 "nbformat": 4,
 "nbformat_minor": 0
}

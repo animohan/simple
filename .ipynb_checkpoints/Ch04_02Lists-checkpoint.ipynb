{
 "cells": [
  {
   "cell_type": "markdown",
   "metadata": {},
   "source": [
    "### 1. Declaring the list"
   ]
  },
  {
   "cell_type": "code",
   "execution_count": 2,
   "metadata": {
    "collapsed": false
   },
   "outputs": [
    {
     "name": "stdout",
     "output_type": "stream",
     "text": [
      "[1, 2, 3]\n",
      "['Alpha', 'Beta', 'Delta']\n",
      "[1, 'alpha', 2, 'beta', '3']\n"
     ]
    }
   ],
   "source": [
    "L = [1,2,3]\n",
    "print(L)\n",
    "P = [\"Alpha\", \"Beta\", \"Delta\"]\n",
    "print(P)\n",
    "mixed = [1,\"alpha\", 2,\"beta\", \"3\"]\n",
    "print(mixed)"
   ]
  },
  {
   "cell_type": "markdown",
   "metadata": {},
   "source": [
    "### 2. Accessing elements in the list"
   ]
  },
  {
   "cell_type": "code",
   "execution_count": 15,
   "metadata": {
    "collapsed": false
   },
   "outputs": [
    {
     "name": "stdout",
     "output_type": "stream",
     "text": [
      "Alpha\n",
      "Theta\n",
      "Eta\n"
     ]
    }
   ],
   "source": [
    "L = [\"Alpha\", \"Beta\", \"Delta\",\"Gamma\",\"epsilon\", \"Zeta\",\"Eta\", \"Theta\"]\n",
    "print(L[0])\n",
    "print(L[-1])\n",
    "print(L[-2])"
   ]
  },
  {
   "cell_type": "code",
   "execution_count": 25,
   "metadata": {
    "collapsed": false
   },
   "outputs": [
    {
     "name": "stdout",
     "output_type": "stream",
     "text": [
      "['Delta', 'Gamma']\n",
      "['Delta', 'Gamma', 'epsilon', 'Zeta', 'Eta', 'Theta']\n"
     ]
    }
   ],
   "source": [
    "L = [\"Alpha\", \"Beta\", \"Delta\",\"Gamma\",\"epsilon\", \"Zeta\",\"Eta\", \"Theta\"]\n",
    "print(L[2:4])\n",
    "print(L[2:])"
   ]
  },
  {
   "cell_type": "code",
   "execution_count": 24,
   "metadata": {
    "collapsed": false
   },
   "outputs": [
    {
     "name": "stdout",
     "output_type": "stream",
     "text": [
      "['Alpha', 'Beta']\n"
     ]
    }
   ],
   "source": [
    "L = [\"Alpha\", \"Beta\", \"Delta\",\"Gamma\",\"epsilon\", \"Zeta\",\"Eta\", \"Theta\"]\n",
    "print(L[:2])"
   ]
  },
  {
   "cell_type": "code",
   "execution_count": 17,
   "metadata": {
    "collapsed": false
   },
   "outputs": [
    {
     "name": "stdout",
     "output_type": "stream",
     "text": [
      "['Alpha', 'Beta', 'Delta', 'Gamma', 'epsilon', 'Zeta', 'Eta', 'Theta', 'Iota', 'Kappa']\n"
     ]
    }
   ],
   "source": [
    "L = [\"Alpha\", \"Beta\", \"Delta\",\"Gamma\",\"epsilon\", \"Zeta\",\"Eta\", \"Theta\"]\n",
    "L.append(\"Iota\")\n",
    "L.append(\"Kappa\")\n",
    "print(L)"
   ]
  },
  {
   "cell_type": "code",
   "execution_count": 23,
   "metadata": {
    "collapsed": false
   },
   "outputs": [
    {
     "name": "stdout",
     "output_type": "stream",
     "text": [
      "['Delta', 'Gamma']\n"
     ]
    }
   ],
   "source": [
    "L = [\"Alpha\", \"Beta\", \"Delta\",\"Gamma\",\"epsilon\", \"Zeta\",\"Eta\", \"Theta\"]\n",
    "print(L[:2])"
   ]
  },
  {
   "cell_type": "code",
   "execution_count": 20,
   "metadata": {
    "collapsed": false
   },
   "outputs": [
    {
     "name": "stdout",
     "output_type": "stream",
     "text": [
      "epsilon\n",
      "['Alpha', 'Beta', 'Zeta', 'Eta', 'Theta', 'Iota', 'Kappa']\n"
     ]
    }
   ],
   "source": [
    "L = [\"Alpha\", \"Beta\", \"Delta\",\"Gamma\",\"epsilon\", \"Zeta\",\"Eta\", \"Theta\"]\n",
    "print(L.pop(2))\n",
    "print(L)"
   ]
  },
  {
   "cell_type": "code",
   "execution_count": 35,
   "metadata": {
    "collapsed": false
   },
   "outputs": [
    {
     "name": "stdout",
     "output_type": "stream",
     "text": [
      "Alpha\n",
      "Beta\n",
      "['Delta', 'Gamma', 'epsilon', 'Zeta', 'Eta', 'Theta']\n"
     ]
    }
   ],
   "source": [
    "L = [\"Alpha\", \"Beta\", \"Delta\",\"Gamma\",\"epsilon\", \"Zeta\",\"Eta\", \"Theta\"]\n",
    "print(L.pop(0))\n",
    "print(L.pop(0))\n",
    "print(L)"
   ]
  },
  {
   "cell_type": "markdown",
   "metadata": {},
   "source": [
    "### 3. Basic List Operations"
   ]
  },
  {
   "cell_type": "code",
   "execution_count": 32,
   "metadata": {
    "collapsed": false
   },
   "outputs": [
    {
     "name": "stdout",
     "output_type": "stream",
     "text": [
      "[1, 2, 3, 3, 4, 5]\n"
     ]
    }
   ],
   "source": [
    "L = [1,2,3]\n",
    "M = [3,4,5]\n",
    "print(L+M)"
   ]
  },
  {
   "cell_type": "code",
   "execution_count": 1,
   "metadata": {
    "collapsed": false
   },
   "outputs": [
    {
     "name": "stdout",
     "output_type": "stream",
     "text": [
      "['1', '2', '3', '1', '2', '3']\n"
     ]
    }
   ],
   "source": [
    "L = [\"1\",\"2\",\"3\"]\n",
    "print(L*2)"
   ]
  },
  {
   "cell_type": "code",
   "execution_count": 33,
   "metadata": {
    "collapsed": false
   },
   "outputs": [
    {
     "name": "stdout",
     "output_type": "stream",
     "text": [
      "[11, 21, 31, 33, 55, 90]\n"
     ]
    }
   ],
   "source": [
    "L = [33,11,31,90,21,55]\n",
    "L.sort()\n",
    "print(L)"
   ]
  },
  {
   "cell_type": "code",
   "execution_count": 34,
   "metadata": {
    "collapsed": false
   },
   "outputs": [
    {
     "name": "stdout",
     "output_type": "stream",
     "text": [
      "['Yellow', 'Blue', 'Green', 'Red']\n"
     ]
    }
   ],
   "source": [
    "M = [\"Red\",\"Green\",\"Blue\", \"Yellow\"]\n",
    "M.reverse()\n",
    "print(M)"
   ]
  },
  {
   "cell_type": "markdown",
   "metadata": {},
   "source": [
    "### 4. Multi Dimensional lists"
   ]
  },
  {
   "cell_type": "code",
   "execution_count": 3,
   "metadata": {
    "collapsed": false
   },
   "outputs": [
    {
     "name": "stdout",
     "output_type": "stream",
     "text": [
      "[1, 2, 3]\n",
      "[4, 5, 6]\n",
      "[7, 8, 9]\n"
     ]
    }
   ],
   "source": [
    "M = [[1,2,3],[4,5,6],[7,8,9]]\n",
    "\n",
    "for row in M :\n",
    "    print(row)"
   ]
  },
  {
   "cell_type": "code",
   "execution_count": 4,
   "metadata": {
    "collapsed": false
   },
   "outputs": [
    {
     "name": "stdout",
     "output_type": "stream",
     "text": [
      "1\n",
      "4\n"
     ]
    }
   ],
   "source": [
    "#Accessing elements:\n",
    "print(M[0][0])\n",
    "print(M[1][0])"
   ]
  },
  {
   "cell_type": "code",
   "execution_count": 5,
   "metadata": {
    "collapsed": false
   },
   "outputs": [
    {
     "name": "stdout",
     "output_type": "stream",
     "text": [
      "1\n",
      "2\n",
      "3\n",
      "\n",
      "\n",
      "[1, 2, 3]\n"
     ]
    }
   ],
   "source": [
    "#Accessing the entire row\n",
    "print(M[0][0])\n",
    "print(M[0][1])\n",
    "print(M[0][2])\n",
    "print(\"\\n\")\n",
    "print(M[0][:]) "
   ]
  },
  {
   "cell_type": "code",
   "execution_count": 6,
   "metadata": {
    "collapsed": false
   },
   "outputs": [
    {
     "name": "stdout",
     "output_type": "stream",
     "text": [
      "3\n",
      "6\n",
      "9\n",
      "\n",
      "\n",
      "[7, 8, 9]\n"
     ]
    }
   ],
   "source": [
    "print(M[0][2])\n",
    "print(M[1][2])\n",
    "print(M[2][2])\n",
    "print(\"\\n\")\n",
    "print(M[:][2]) #Look at the difference in results"
   ]
  },
  {
   "cell_type": "code",
   "execution_count": 8,
   "metadata": {
    "collapsed": false
   },
   "outputs": [
    {
     "name": "stdout",
     "output_type": "stream",
     "text": [
      "[1, 4, 7]\n"
     ]
    }
   ],
   "source": [
    "col0 = [row[0] for row in M]\n",
    "print(col0)"
   ]
  },
  {
   "cell_type": "code",
   "execution_count": 10,
   "metadata": {
    "collapsed": false
   },
   "outputs": [
    {
     "name": "stdout",
     "output_type": "stream",
     "text": [
      "[2, 5, 8]\n"
     ]
    }
   ],
   "source": [
    "col1 = [row[1] for row in M]\n",
    "print(col1)"
   ]
  },
  {
   "cell_type": "markdown",
   "metadata": {},
   "source": [
    "We can also do some operations in this list type"
   ]
  },
  {
   "cell_type": "code",
   "execution_count": 12,
   "metadata": {
    "collapsed": false
   },
   "outputs": [
    {
     "name": "stdout",
     "output_type": "stream",
     "text": [
      "[6, 9, 12]\n"
     ]
    }
   ],
   "source": [
    "coladd = [row[0]+5 for row in M]\n",
    "print(coladd)"
   ]
  },
  {
   "cell_type": "code",
   "execution_count": 17,
   "metadata": {
    "collapsed": false
   },
   "outputs": [
    {
     "name": "stdout",
     "output_type": "stream",
     "text": [
      "[2, 5, 8]\n",
      "[2, 8]\n"
     ]
    }
   ],
   "source": [
    "col1 = [row[1] for row in M]\n",
    "print(col1)\n",
    "col1mod2 = [row[1] for row in M if row[1]%2 == 0]\n",
    "print(col1mod2)"
   ]
  },
  {
   "cell_type": "markdown",
   "metadata": {},
   "source": [
    "### 5. Getting a list of elements"
   ]
  },
  {
   "cell_type": "code",
   "execution_count": 19,
   "metadata": {
    "collapsed": false
   },
   "outputs": [
    {
     "name": "stdout",
     "output_type": "stream",
     "text": [
      "[0, 1, 2, 3]\n"
     ]
    }
   ],
   "source": [
    "print(list(range(4)))"
   ]
  },
  {
   "cell_type": "code",
   "execution_count": 21,
   "metadata": {
    "collapsed": false
   },
   "outputs": [
    {
     "name": "stdout",
     "output_type": "stream",
     "text": [
      "[-6, -5, -4, -3, -2, -1, 0]\n"
     ]
    }
   ],
   "source": [
    "print(list(range(-6,1))) #Note actual range is from -6 to 0, 1 is not\n",
    "                         # included"
   ]
  },
  {
   "cell_type": "code",
   "execution_count": 23,
   "metadata": {
    "collapsed": false
   },
   "outputs": [
    {
     "name": "stdout",
     "output_type": "stream",
     "text": [
      "[-6, -5, -4, -3, -2, -1, 0, 1, 2, 3, 4, 5]\n",
      "[-6, -4, -2, 0, 2, 4]\n"
     ]
    }
   ],
   "source": [
    "print(list(range(-6,6,1))) #  3rd arguement in range = Increments; inc by 1\n",
    "print(list(range(-6,6,2))) # increment by 2"
   ]
  }
 ],
 "metadata": {
  "kernelspec": {
   "display_name": "Python 3",
   "language": "python",
   "name": "python3"
  },
  "language_info": {
   "codemirror_mode": {
    "name": "ipython",
    "version": 3
   },
   "file_extension": ".py",
   "mimetype": "text/x-python",
   "name": "python",
   "nbconvert_exporter": "python",
   "pygments_lexer": "ipython3",
   "version": "3.5.1"
  }
 },
 "nbformat": 4,
 "nbformat_minor": 0
}

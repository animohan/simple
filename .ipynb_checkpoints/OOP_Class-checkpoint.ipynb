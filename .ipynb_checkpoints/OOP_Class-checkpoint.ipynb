{
 "cells": [
  {
   "cell_type": "code",
   "execution_count": 1,
   "metadata": {
    "collapsed": false
   },
   "outputs": [
    {
     "name": "stdout",
     "output_type": "stream",
     "text": [
      "<__main__.Employee object at 0x000002750351A9B0>\n",
      "<__main__.Employee object at 0x000002750351A978>\n",
      "An.Mo@company.com\n",
      "Ja.Nr@company.com\n"
     ]
    }
   ],
   "source": [
    "#Link: https://www.youtube.com/watch?v=ZDa-Z5JzLYM&list=PL-osiE80TeTsqhIuOqKhwlXsIBIdSeYtc\n",
    "# https://github.com/CoreyMSchafer/code_snippets/tree/master/Object-Oriented\n",
    "\n",
    "#Classes and Instances\n",
    "\n",
    "class Employee:\n",
    "    pass\n",
    "\n",
    "emp_1 = Employee()\n",
    "emp_2 = Employee()\n",
    "print(emp_1)\n",
    "print(emp_2) #Different address\n",
    "\n",
    "emp_1.first = \"An\"\n",
    "emp_1.last = \"Mo\"\n",
    "emp_1.email = \"An.Mo@company.com\"\n",
    "emp_1.pay = 60000\n",
    "\n",
    "emp_2.first = \"Ja\"\n",
    "emp_2.last = \"Nr\"\n",
    "emp_2.email = \"Ja.Nr@company.com\"\n",
    "emp_2.pay = 70000\n",
    "\n",
    "print(emp_1.email)\n",
    "print(emp_2.email)"
   ]
  },
  {
   "cell_type": "code",
   "execution_count": 16,
   "metadata": {
    "collapsed": false
   },
   "outputs": [
    {
     "name": "stdout",
     "output_type": "stream",
     "text": [
      "He.Wo@company.com\n",
      "Ri.Mo@company.com\n",
      "He Wo\n",
      "Ri Mo\n",
      "\n",
      "Calling throught Class methods\n",
      "He Wo\n",
      "Ri Mo\n"
     ]
    }
   ],
   "source": [
    "#How to do it better\n",
    "class Employee:\n",
    "    \n",
    "    def __init__(self, first, last, pay):\n",
    "        self.first = first\n",
    "        self.last = last\n",
    "        self.pay = pay\n",
    "        self.email = first + \".\" + last + '@company.com'\n",
    "    \n",
    "    def fullname(self):\n",
    "        return('{} {}'.format(self.first, self.last))\n",
    "\n",
    "emp_1 = Employee(\"He\",\"Wo\", 5000)\n",
    "emp_2 = Employee(\"Ri\",\"Mo\", 50000)\n",
    "\n",
    "print(emp_1.email)\n",
    "print(emp_2.email)\n",
    "\n",
    "\n",
    "print(emp_1.fullname())\n",
    "print(emp_2.fullname())\n",
    "\n",
    "\n",
    "# We can run methods using class name as well\n",
    "print(\"\\nCalling through Class methods\")\n",
    "print(Employee.fullname(emp_1))\n",
    "print(Employee.fullname(emp_2))"
   ]
  },
  {
   "cell_type": "code",
   "execution_count": 18,
   "metadata": {
    "collapsed": false
   },
   "outputs": [
    {
     "name": "stdout",
     "output_type": "stream",
     "text": [
      "5000\n",
      "5200\n"
     ]
    }
   ],
   "source": [
    "#Class Variables\n",
    "    # A way to give raise.\n",
    "    ''' Here raise % is hidden within the class method.\n",
    "    '''\n",
    "class Employee:\n",
    "    \n",
    "    def __init__(self, first, last, pay):\n",
    "        self.first = first\n",
    "        self.last = last\n",
    "        self.pay = pay\n",
    "        self.email = first + \".\" + last + '@company.com'\n",
    "    \n",
    "    def fullname(self):\n",
    "        return('{} {}'.format(self.first, self.last))\n",
    "\n",
    "    def apply_raise(self):\n",
    "        self.pay = int(self.pay * 1.04)\n",
    "        \n",
    "        \n",
    "emp_1 = Employee(\"He\",\"Wo\", 5000)\n",
    "emp_2 = Employee(\"Ri\",\"Mo\", 50000)\n",
    "\n",
    "print(emp_1.pay)\n",
    "emp_1.apply_raise()\n",
    "print(emp_1.pay)"
   ]
  },
  {
   "cell_type": "code",
   "execution_count": 26,
   "metadata": {
    "collapsed": false
   },
   "outputs": [
    {
     "name": "stdout",
     "output_type": "stream",
     "text": [
      "5000\n",
      "5500\n",
      "{'pay': 5500, 'first': 'He', 'last': 'Wo', 'email': 'He.Wo@company.com', 'raise_amount': 0.1}\n",
      "{'pay': 50000, 'first': 'Ri', 'last': 'Mo', 'email': 'Ri.Mo@company.com'}\n",
      "Emp 1 Pay: 5500\n",
      "Emp 2 Pay: 50000\n",
      "Emp 1 New Pay: 6050\n",
      "Emp 2 New Pay: 51500\n"
     ]
    }
   ],
   "source": [
    "class Employee:\n",
    "    '''\n",
    "    A way to give raise. Previously, raise % is hidden within the class method. Here we are making it settable \n",
    "    per instance\n",
    "    '''\n",
    "    \n",
    "    raise_amount = 0.05\n",
    "    \n",
    "    def __init__(self, first, last, pay):\n",
    "        self.first = first\n",
    "        self.last = last\n",
    "        self.pay = pay\n",
    "        self.email = first + \".\" + last + '@company.com'\n",
    "    \n",
    "    def fullname(self):\n",
    "        return('{} {}'.format(self.first, self.last))\n",
    "\n",
    "    def apply_raise(self):\n",
    "        # self.pay = int(self.pay * (1 + raise_amount)) gives error\n",
    "        # error because accessing class variables through class or instance of class\n",
    "        self.pay = int(self.pay * (1 + self.raise_amount))\n",
    "        \n",
    "        \n",
    "emp_1 = Employee(\"He\",\"Wo\", 5000)\n",
    "emp_2 = Employee(\"Ri\",\"Mo\", 50000)\n",
    "\n",
    "print(emp_1.pay)\n",
    "emp_1.raise_amount = 0.10\n",
    "emp_1.apply_raise()\n",
    "print(emp_1.pay)\n",
    "\n",
    "\n",
    "#Namespaces of the isntances\n",
    "print(emp_1.__dict__)\n",
    "print(emp_2.__dict__) #Note raise_amount is not set in employee 2\n",
    "\n",
    "\n",
    "print(\"Emp 1 Pay:\", emp_1.pay)\n",
    "print(\"Emp 2 Pay:\", emp_2.pay)\n",
    "Employee.raise_amount = 0.03\n",
    "emp_1.apply_raise()\n",
    "emp_2.apply_raise()\n",
    "print(\"Emp 1 New Pay:\", emp_1.pay)\n",
    "print(\"Emp 2 New Pay:\", emp_2.pay)"
   ]
  },
  {
   "cell_type": "code",
   "execution_count": 28,
   "metadata": {
    "collapsed": false
   },
   "outputs": [
    {
     "name": "stdout",
     "output_type": "stream",
     "text": [
      "2\n"
     ]
    }
   ],
   "source": [
    "# Now we want to find number of employees; Doesnt make sense to make this instance variable.\n",
    "\n",
    "class Employee:\n",
    "    \n",
    "    num_of_emps = 0\n",
    "    \n",
    "    raise_amount = 0.05\n",
    "    \n",
    "    def __init__(self, first, last, pay):\n",
    "        self.first = first\n",
    "        self.last = last\n",
    "        self.pay = pay\n",
    "        self.email = first + \".\" + last + '@company.com'\n",
    "        \n",
    "        Employee.num_of_emps +=1  #Note we use class name not self.\n",
    "        # does not make sense to use object.num_of_employees\n",
    "        \n",
    "    \n",
    "    def fullname(self):\n",
    "        return('{} {}'.format(self.first, self.last))\n",
    "    \n",
    "    \n",
    "emp_1 = Employee(\"He\",\"Wo\", 5000)\n",
    "emp_2 = Employee(\"Ri\",\"Mo\", 50000)\n",
    "\n",
    "print(Employee.num_of_emps)\n"
   ]
  },
  {
   "cell_type": "code",
   "execution_count": 35,
   "metadata": {
    "collapsed": false
   },
   "outputs": [
    {
     "name": "stdout",
     "output_type": "stream",
     "text": [
      "0.05\n",
      "0.05\n",
      "0.05\n",
      "0.1\n",
      "0.1\n",
      "0.1\n"
     ]
    }
   ],
   "source": [
    "#Class Methods and StatiC Methods\n",
    "\n",
    "class Employee:\n",
    "    '''\n",
    "    A way to give raise. Previously, raise % is hidden within the class method. Here we are making it settable \n",
    "    per instance\n",
    "    '''\n",
    "    num_of_emps = 0\n",
    "    raise_amt = 0.05\n",
    "    \n",
    "    def __init__(self, first, last, pay):\n",
    "        self.first = first\n",
    "        self.last = last\n",
    "        self.pay = pay\n",
    "        self.email = first + \".\" + last + '@company.com'\n",
    "    \n",
    "        Employee.num_of_emps +=1 \n",
    "    \n",
    "    def fullname(self):\n",
    "        return('{} {}'.format(self.first, self.last))\n",
    "\n",
    "    def apply_raise(self):\n",
    "        # self.pay = int(self.pay * (1 + raise_amount)) gives error\n",
    "        # error because accessing class variables through class or instance of class\n",
    "        self.pay = int(self.pay * (1 + self.raise_amt))\n",
    "    \n",
    "    @classmethod\n",
    "    def set_raise_amt(cls, amount): #cls is like self and defautls to taking class\n",
    "        cls.raise_amt = amount\n",
    "        \n",
    "        \n",
    "emp_1 = Employee(\"He\",\"Wo\", 5000)\n",
    "emp_2 = Employee(\"Ri\",\"Mo\", 50000)\n",
    "\n",
    "print(Employee.raise_amt)\n",
    "print(emp_1.raise_amt)\n",
    "print(emp_2.raise_amt)\n",
    "\n",
    "\n",
    "Employee.set_raise_amt(0.1) #Using class methods\n",
    "print(Employee.raise_amt)\n",
    "print(emp_1.raise_amt)\n",
    "print(emp_2.raise_amt)\n",
    "\n",
    "\n",
    "#Class methods are alternative constructors:\n"
   ]
  },
  {
   "cell_type": "code",
   "execution_count": 37,
   "metadata": {
    "collapsed": true
   },
   "outputs": [],
   "source": [
    "#Class Methods and StatiC Methods\n",
    "\n",
    "class Employee:\n",
    "    '''\n",
    "    A way to give raise. Previously, raise % is hidden within the class method. Here we are making it settable \n",
    "    per instance\n",
    "    '''\n",
    "    num_of_emps = 0\n",
    "    raise_amt = 0.05\n",
    "    \n",
    "    def __init__(self, first, last, pay):\n",
    "        self.first = first\n",
    "        self.last = last\n",
    "        self.pay = pay\n",
    "        self.email = first + \".\" + last + '@company.com'\n",
    "    \n",
    "        Employee.num_of_emps +=1 \n",
    "    \n",
    "    def fullname(self):\n",
    "        return('{} {}'.format(self.first, self.last))\n",
    "\n",
    "    def apply_raise(self):\n",
    "        # self.pay = int(self.pay * (1 + raise_amount)) gives error\n",
    "        # error because accessing class variables through class or instance of class\n",
    "        self.pay = int(self.pay * (1 + self.raise_amt))\n",
    "    \n",
    "    @classmethod\n",
    "    def set_raise_amt(cls, amount): #cls is like self and defautls to taking class\n",
    "        cls.raise_amt = amount\n",
    "        \n",
    "        \n",
    "emp_1 = Employee(\"He\",\"Wo\", 5000)\n",
    "emp_2 = Employee(\"Ri\",\"Mo\", 50000)\n",
    "\n",
    "\n",
    "#Class methods are alternative constructors:\n",
    "emp_str_1 = \"John-Doe-70000\"\n",
    "emp_str_2 = \"Jane-Doe-80000\"\n",
    "emp_str_3 = \"Jeff-Doe-90000\"\n",
    "\n",
    "first,last,pay = emp_str_1.split('-')\n",
    "new_emp_1 = Employee(first,last,pay)\n",
    "#canwe add that this to the constructor\n"
   ]
  },
  {
   "cell_type": "code",
   "execution_count": 2,
   "metadata": {
    "collapsed": false
   },
   "outputs": [
    {
     "name": "stdout",
     "output_type": "stream",
     "text": [
      "John.Doe@company.com\n",
      "Jane.Doe@company.com\n"
     ]
    }
   ],
   "source": [
    "#Class Methods and StatiC Methods\n",
    "\n",
    "class Employee:\n",
    "    '''\n",
    "    A way to give raise. Previously, raise % is hidden within the class method. Here we are making it settable \n",
    "    per instance\n",
    "    '''\n",
    "    num_of_emps = 0\n",
    "    raise_amt = 0.05\n",
    "    \n",
    "    def __init__(self, first, last, pay):\n",
    "        self.first = first\n",
    "        self.last = last\n",
    "        self.pay = pay\n",
    "        self.email = first + \".\" + last + '@company.com'\n",
    "    \n",
    "        Employee.num_of_emps +=1 \n",
    "    \n",
    "    def fullname(self):\n",
    "        return('{} {}'.format(self.first, self.last))\n",
    "\n",
    "    def apply_raise(self):\n",
    "        # self.pay = int(self.pay * (1 + raise_amount)) gives error\n",
    "        # error because accessing class variables through class or instance of class\n",
    "        self.pay = int(self.pay * (1 + self.raise_amt))\n",
    "    \n",
    "    @classmethod\n",
    "    def set_raise_amt(cls, amount): #cls is like self and defautls to taking class\n",
    "        cls.raise_amt = amount\n",
    "        \n",
    "    @classmethod\n",
    "    def from_string(cls, emp_str):\n",
    "        first, last, pay = emp_str.split(\"-\")\n",
    "        return(cls(first,last, pay)) #create the class and return to it so that class method can be recieved\n",
    "        \n",
    "emp_str_1 = \"John-Doe-70000\"\n",
    "emp_str_2 = \"Jane-Doe-80000\"\n",
    "\n",
    "new_emp_1 = Employee.from_string(emp_str_1)\n",
    "new_emp_2= Employee.from_string(emp_str_2)\n",
    "\n",
    "print(new_emp_1.email)\n",
    "print(new_emp_2.email)\n",
    "#canwe add that this to the constructor"
   ]
  },
  {
   "cell_type": "code",
   "execution_count": 9,
   "metadata": {
    "collapsed": false
   },
   "outputs": [
    {
     "name": "stdout",
     "output_type": "stream",
     "text": [
      "False\n",
      "True\n"
     ]
    }
   ],
   "source": [
    "#Static methods:\n",
    "# Behave like regular functions.\n",
    "# Do not need \"self\" or \"cls\" variables as input to method.\n",
    "# Included in the class but does not depend on class\n",
    "\n",
    "\n",
    "class Employee:\n",
    "\n",
    "    num_of_emps = 0\n",
    "    raise_amt = 0.05\n",
    "    \n",
    "    def __init__(self, first, last, pay):\n",
    "        self.first = first\n",
    "        self.last = last\n",
    "        self.pay = pay\n",
    "        self.email = first + \".\" + last + '@company.com'\n",
    "    \n",
    "        Employee.num_of_emps +=1 \n",
    "    \n",
    "    def fullname(self):\n",
    "        return('{} {}'.format(self.first, self.last))\n",
    "\n",
    "    def apply_raise(self):\n",
    "        # self.pay = int(self.pay * (1 + raise_amount)) gives error\n",
    "        # error because accessing class variables through class or instance of class\n",
    "        self.pay = int(self.pay * (1 + self.raise_amt))\n",
    "    \n",
    "    @classmethod\n",
    "    def set_raise_amt(cls, amount): #cls is like self and defautls to taking class\n",
    "        cls.raise_amt = amount\n",
    "        \n",
    "    @classmethod\n",
    "    def from_string(cls, emp_str):\n",
    "        first, last, pay = emp_str.split(\"-\")\n",
    "        return(cls(first,last, pay)) #create the class and return to it so that class method can be recieved\n",
    "        \n",
    "        \n",
    "    @staticmethod\n",
    "    def is_workday(day):\n",
    "        if (day.weekday == 5 or day.weekday() ==6):\n",
    "            return False\n",
    "        return True\n",
    "    \n",
    "import datetime\n",
    "my_date = datetime.date(2016,7,10)\n",
    "print(Employee.is_workday(my_date))\n",
    "my_date = datetime.date(2016,7,11)\n",
    "print(Employee.is_workday(my_date))\n",
    "    "
   ]
  },
  {
   "cell_type": "code",
   "execution_count": 14,
   "metadata": {
    "collapsed": false
   },
   "outputs": [
    {
     "name": "stdout",
     "output_type": "stream",
     "text": [
      "Ani.Moh@company.com\n",
      "Jay.Nar@company.com\n"
     ]
    }
   ],
   "source": [
    "#Inheritance and Subclasses\n",
    "\n",
    "class Employee:\n",
    "    def __init__(self, first, last, pay):\n",
    "        self.first = first\n",
    "        self.last = last\n",
    "        self.email = first + \".\" + last + \"@company.com\"\n",
    "        self.pay = pay\n",
    "    \n",
    "    def fullname(self):\n",
    "        return(\"{} {}\".format(self.first,self.last))\n",
    "    \n",
    "    def apply_raise(self):\n",
    "        self.pay = int(self.pay*(1+ raise_amt))\n",
    "\n",
    "class Developer(Employee):        \n",
    "    pass\n",
    "\n",
    "dev_1 = Developer(\"Ani\",\"Moh\", 50000)\n",
    "dev_2 = Developer(\"Jay\",\"Nar\", 55000)\n",
    "\n",
    "print(dev_1.email)\n",
    "print(dev_2.email)"
   ]
  },
  {
   "cell_type": "code",
   "execution_count": 17,
   "metadata": {
    "collapsed": false
   },
   "outputs": [
    {
     "name": "stdout",
     "output_type": "stream",
     "text": [
      "Help on class Developer in module __main__:\n",
      "\n",
      "class Developer(Employee)\n",
      " |  Method resolution order:\n",
      " |      Developer\n",
      " |      Employee\n",
      " |      builtins.object\n",
      " |  \n",
      " |  Methods inherited from Employee:\n",
      " |  \n",
      " |  __init__(self, first, last, pay)\n",
      " |      Initialize self.  See help(type(self)) for accurate signature.\n",
      " |  \n",
      " |  apply_raise(self)\n",
      " |  \n",
      " |  fullname(self)\n",
      " |  \n",
      " |  ----------------------------------------------------------------------\n",
      " |  Data descriptors inherited from Employee:\n",
      " |  \n",
      " |  __dict__\n",
      " |      dictionary for instance variables (if defined)\n",
      " |  \n",
      " |  __weakref__\n",
      " |      list of weak references to the object (if defined)\n",
      "\n",
      "None\n"
     ]
    }
   ],
   "source": [
    "\n",
    "print(help(Developer))"
   ]
  },
  {
   "cell_type": "code",
   "execution_count": 24,
   "metadata": {
    "collapsed": false
   },
   "outputs": [
    {
     "name": "stdout",
     "output_type": "stream",
     "text": [
      "10000\n",
      "10400\n",
      "20000\n",
      "22000\n"
     ]
    }
   ],
   "source": [
    "class Employee:\n",
    "    #Adding overriding variables to the derived class - Developer\n",
    "    # raise_amt is modified\n",
    "    raise_amt = 0.04\n",
    "    \n",
    "    def __init__(self, first, last, pay):\n",
    "        self.first = first\n",
    "        self.last = last\n",
    "        self.email = first + \".\" + last + \"@company.com\"\n",
    "        self.pay = pay\n",
    "    \n",
    "    def fullname(self):\n",
    "        return(\"{} {}\".format(self.first,self.last))\n",
    "    \n",
    "    def apply_raise(self):\n",
    "        self.pay = int(self.pay*(1+ self.raise_amt))\n",
    "\n",
    "class Developer(Employee):        \n",
    "    raise_amt = 0.1\n",
    "\n",
    "dev_1 = Employee(\"Ani\",\"Moh\", 10000)\n",
    "dev_2 = Developer(\"Jay\",\"Nar\", 20000)\n",
    "\n",
    "print(dev_1.pay)\n",
    "dev_1.apply_raise()\n",
    "print(dev_1.pay)\n",
    "\n",
    "print(dev_2.pay)\n",
    "dev_2.apply_raise()\n",
    "print(dev_2.pay)"
   ]
  },
  {
   "cell_type": "code",
   "execution_count": 28,
   "metadata": {
    "collapsed": false
   },
   "outputs": [
    {
     "name": "stdout",
     "output_type": "stream",
     "text": [
      "Ani.Moh@company.com\n",
      "python\n"
     ]
    }
   ],
   "source": [
    "class Employee:\n",
    "    #Derived Classe's own init method\n",
    "    raise_amt = 0.04\n",
    "    \n",
    "    def __init__(self, first, last, pay):\n",
    "        self.first = first\n",
    "        self.last = last\n",
    "        self.email = first + \".\" + last + \"@company.com\"\n",
    "        self.pay = pay\n",
    "    \n",
    "    def fullname(self):\n",
    "        return(\"{} {}\".format(self.first,self.last))\n",
    "    \n",
    "    def apply_raise(self):\n",
    "        self.pay = int(self.pay*(1+ self.raise_amt))\n",
    "\n",
    "class Developer(Employee):        \n",
    "    raise_amt = 0.1\n",
    "    \n",
    "    def __init__(self, first, last, pay, prog_lang):\n",
    "        super().__init__(first,last,pay) #I.e get this info from Parent class\n",
    "        #Employee.__init__(self, first, last,pay) Same as above\n",
    "                \n",
    "        self.prog_lang = prog_lang\n",
    "        \n",
    "dev_1 = Developer(\"Ani\",\"Moh\", 10000, \"python\")\n",
    "dev_2 = Developer(\"Jay\",\"Nar\", 20000,\"java\")    \n",
    "\n",
    "print(dev_1.email)\n",
    "print(dev_1.prog_lang)"
   ]
  },
  {
   "cell_type": "code",
   "execution_count": 34,
   "metadata": {
    "collapsed": false
   },
   "outputs": [
    {
     "name": "stdout",
     "output_type": "stream",
     "text": [
      "Sue.Smith@company.com\n",
      "--> Ani Moh\n",
      "--> Ani Moh\n",
      "--> Jay Nar\n",
      "--> Jay Nar\n"
     ]
    }
   ],
   "source": [
    "#Manager subclass\n",
    "\n",
    "class Employee:\n",
    "    #Derived Classe's own init method\n",
    "    raise_amt = 0.04\n",
    "    \n",
    "    def __init__(self, first, last, pay):\n",
    "        self.first = first\n",
    "        self.last = last\n",
    "        self.email = first + \".\" + last + \"@company.com\"\n",
    "        self.pay = pay\n",
    "    \n",
    "    def fullname(self):\n",
    "        return(\"{} {}\".format(self.first,self.last))\n",
    "    \n",
    "    def apply_raise(self):\n",
    "        self.pay = int(self.pay*(1+ self.raise_amt))\n",
    "\n",
    "class Developer(Employee):        \n",
    "    raise_amt = 0.1\n",
    "    \n",
    "    def __init__(self, first, last, pay, prog_lang):\n",
    "        super().__init__(first,last,pay) #I.e get this info from Parent class\n",
    "        #Employee.__init__(self, first, last,pay) Same as above\n",
    "                \n",
    "        self.prog_lang = prog_lang\n",
    "\n",
    "class Manager(Employee):\n",
    "        def __init__(self, first, last, pay, employees = None):\n",
    "                #list of employee that the manager supervises\n",
    "            super().__init__(first,last,pay) #I.e get this info from Parent class\n",
    "            if employees is None:\n",
    "                self.employees = []\n",
    "            else:\n",
    "                self.employees = employees\n",
    "\n",
    "        def add_emp(self, emp):\n",
    "            if emp not in self.employees:\n",
    "                self.employees.append(emp)\n",
    "        \n",
    "        def remove_emp(self, emp):\n",
    "            if emp in self.employees:\n",
    "                self.employees.remove(emp)\n",
    "                \n",
    "        def print_emps(self):\n",
    "            for emp in self.employees:\n",
    "                print(\"-->\", emp.fullname())\n",
    "\n",
    "mgr_1 = Manager(\"Sue\",\"Smith\", 90000, [dev_1])\n",
    "print(mgr_1.email)\n",
    "mgr_1.print_emps()\n",
    "\n",
    "mgr_1.add_emp(dev_2)\n",
    "mgr_1.print_emps()\n",
    "\n",
    "mgr_1.remove_emp(dev_1)\n",
    "mgr_1.print_emps()"
   ]
  },
  {
   "cell_type": "code",
   "execution_count": 40,
   "metadata": {
    "collapsed": false
   },
   "outputs": [
    {
     "name": "stdout",
     "output_type": "stream",
     "text": [
      "True\n",
      "True\n",
      "False\n"
     ]
    }
   ],
   "source": [
    "print(isinstance(mgr_1, Manager))\n",
    "print(isinstance(mgr_1, Employee))\n",
    "print(isinstance(mgr_1, Developer))"
   ]
  },
  {
   "cell_type": "code",
   "execution_count": 42,
   "metadata": {
    "collapsed": false
   },
   "outputs": [
    {
     "name": "stdout",
     "output_type": "stream",
     "text": [
      "True\n",
      "True\n",
      "False\n"
     ]
    }
   ],
   "source": [
    "print(issubclass(Developer, Employee))\n",
    "print(issubclass(Manager, Employee))\n",
    "print(issubclass(Developer, Manager))"
   ]
  },
  {
   "cell_type": "code",
   "execution_count": 62,
   "metadata": {
    "collapsed": false
   },
   "outputs": [
    {
     "name": "stdout",
     "output_type": "stream",
     "text": [
      "Ani Mo<->Ani.Mo@company.com\n",
      "55000\n",
      "6\n"
     ]
    }
   ],
   "source": [
    "# OOP Special Dunder Material\n",
    "'''\n",
    "- New special methods that can be used in classes\n",
    "- Way to support operator overloading e.g 1+2 = 3; a+b = ab:- different\n",
    "behavior\n",
    "- E.g print(dev_1) does not give useful info\n",
    "\n",
    "'''\n",
    "class Employee:\n",
    "    #Derived Classe's own init method\n",
    "    raise_amt = 0.04\n",
    "    \n",
    "    def __init__(self, first, last, pay):\n",
    "        self.first = first\n",
    "        self.last = last\n",
    "        self.email = first + \".\" + last + \"@company.com\"\n",
    "        self.pay = pay\n",
    "    \n",
    "    def fullname(self):\n",
    "        return(\"{} {}\".format(self.first,self.last))\n",
    "    \n",
    "    def apply_raise(self):\n",
    "        self.pay = int(self.pay*(1+ self.raise_amt))\n",
    "\n",
    "    def __repr__(self):\n",
    "        return(\"Employee('{}','{}','{}')\".format(self.first, self.last, self.pay))\n",
    "    \n",
    "    def __str__(self):\n",
    "        return('{}<->{}'.format(self.fullname(),self.email))\n",
    "\n",
    "    def __add__(self, other): #Customizing addition for \n",
    "        return(self.pay + other.pay)\n",
    "    \n",
    "    def __len__(self):\n",
    "        return(len(self.fullname()))\n",
    "        \n",
    "emp_1 = Employee(\"Ani\",\"Mo\", 5000)\n",
    "emp_2 = Employee(\"Ri\",\"Mo\", 50000)\n",
    "\n",
    "print(emp_1)\n",
    "print(emp_1+emp_2)\n",
    "print(len(emp_1))\n",
    "#repr(emp_1)\n",
    "#str(emp_1)\n",
    "\n",
    "#repr: Debuggable information\n",
    "#str:  Readable display of the object\n",
    "\n",
    "\n",
    "#Another example"
   ]
  },
  {
   "cell_type": "code",
   "execution_count": 63,
   "metadata": {
    "collapsed": false
   },
   "outputs": [
    {
     "name": "stdout",
     "output_type": "stream",
     "text": [
      "3\n",
      "3\n",
      "Ab\n"
     ]
    }
   ],
   "source": [
    "print(1+2)\n",
    "print(int.__add__(1,2))\n",
    "print(str.__add__(\"A\",\"b\"))"
   ]
  },
  {
   "cell_type": "code",
   "execution_count": 68,
   "metadata": {
    "collapsed": false
   },
   "outputs": [
    {
     "name": "stdout",
     "output_type": "stream",
     "text": [
      "Jim\n",
      "John.Smith@company.com\n",
      "Jim Smith\n"
     ]
    }
   ],
   "source": [
    "#Decorators\n",
    "\n",
    "class Employee:\n",
    "    #Derived Classe's own init method\n",
    "    raise_amt = 0.04\n",
    "    \n",
    "    def __init__(self, first, last):\n",
    "        self.first = first\n",
    "        self.last = last\n",
    "        self.email = first + \".\" + last + \"@company.com\"\n",
    "        \n",
    "    \n",
    "    def fullname(self):\n",
    "        return(\"{} {}\".format(self.first,self.last))\n",
    "    \n",
    "\n",
    "emp_1 = Employee(\"John\",\"Smith\")\n",
    "emp_1.first = \"Jim\"\n",
    "print(emp_1.first)\n",
    "print(emp_1.email) #email still has old firsht name\n",
    "print(emp_1.fullname())\n",
    "    \n"
   ]
  },
  {
   "cell_type": "code",
   "execution_count": 70,
   "metadata": {
    "collapsed": false
   },
   "outputs": [
    {
     "name": "stdout",
     "output_type": "stream",
     "text": [
      "Jim\n",
      "Jim Smith@gmail.com\n",
      "Jim Smith\n"
     ]
    }
   ],
   "source": [
    "\n",
    "class Employee:\n",
    "    #Derived Classe's own init method\n",
    "    raise_amt = 0.04\n",
    "    \n",
    "    def __init__(self, first, last):\n",
    "        self.first = first\n",
    "        self.last = last  \n",
    "    \n",
    "    def email(self):\n",
    "        return(\"{} {}@gmail.com\".format(self.first,self.last))\n",
    "    \n",
    "    def fullname(self):\n",
    "        return(\"{} {}\".format(self.first,self.last))\n",
    "    \n",
    "\n",
    "emp_1 = Employee(\"John\",\"Smith\")\n",
    "emp_1.first = \"Jim\"\n",
    "print(emp_1.first)\n",
    "print(emp_1.email())\n",
    "print(emp_1.fullname())"
   ]
  },
  {
   "cell_type": "code",
   "execution_count": 2,
   "metadata": {
    "collapsed": false
   },
   "outputs": [
    {
     "name": "stdout",
     "output_type": "stream",
     "text": [
      "Jim\n",
      "Jim Smith@gmail.com\n",
      "Jim Smith\n"
     ]
    }
   ],
   "source": [
    "#Access email like attrbute\n",
    "class Employee:\n",
    "    #Derived Classe's own init method\n",
    "    raise_amt = 0.04\n",
    "    \n",
    "    def __init__(self, first, last):\n",
    "        self.first = first\n",
    "        self.last = last  \n",
    "    \n",
    "    @property\n",
    "    def email(self):\n",
    "        return(\"{} {}@gmail.com\".format(self.first,self.last))\n",
    "    \n",
    "    def fullname(self):\n",
    "        return(\"{} {}\".format(self.first,self.last))\n",
    "    \n",
    "\n",
    "emp_1 = Employee(\"John\",\"Smith\")\n",
    "emp_1.first = \"Jim\"\n",
    "print(emp_1.first)\n",
    "print(emp_1.email) #access email as attribute\n",
    "print(emp_1.fullname())\n",
    "\n",
    "#Question can we set the full name attribute like this\n",
    "# emp_1.fullname = \"Jim Smith\" ? No throws error"
   ]
  },
  {
   "cell_type": "code",
   "execution_count": 17,
   "metadata": {
    "collapsed": false
   },
   "outputs": [
    {
     "name": "stdout",
     "output_type": "stream",
     "text": [
      "Tim\n",
      "Tim.Smith@gmail.com\n",
      "Tim Smith\n"
     ]
    }
   ],
   "source": [
    "#Access email like attrbute\n",
    "class Employee:\n",
    "    #Derived Classe's own init method\n",
    "    raise_amt = 0.04\n",
    "    \n",
    "    def __init__(self, first, last):\n",
    "        self.first = first\n",
    "        self.last = last  \n",
    "    \n",
    "    @property\n",
    "    def email(self):\n",
    "        return(\"{}.{}@gmail.com\".format(self.first,self.last))\n",
    "    \n",
    "    @property\n",
    "    def fullname(self):\n",
    "        return(\"{} {}\".format(self.first,self.last))\n",
    "    \n",
    "    @fullname.setter\n",
    "    def fullname(self, name):\n",
    "        first,last = name.split(' ')\n",
    "        self.first = first\n",
    "        self.last = last\n",
    "        \n",
    "        \n",
    "emp_2 = Employee(\"Tim\", \"Smith\")\n",
    "emp_2.fullname = \"Tim Smith\"\n",
    "print(emp_2.first)\n",
    "print(emp_2.email) #access email as attribute\n",
    "print(emp_2.fullname)\n"
   ]
  },
  {
   "cell_type": "code",
   "execution_count": 18,
   "metadata": {
    "collapsed": false
   },
   "outputs": [
    {
     "name": "stdout",
     "output_type": "stream",
     "text": [
      "Tim\n",
      "Tim.Smith@gmail.com\n",
      "Tim Smith\n",
      "Delete Name\n"
     ]
    }
   ],
   "source": [
    "#deleter\n",
    "#Access email like attrbute\n",
    "class Employee:\n",
    "    #Derived Classe's own init method\n",
    "    raise_amt = 0.04\n",
    "    \n",
    "    def __init__(self, first, last):\n",
    "        self.first = first\n",
    "        self.last = last  \n",
    "    \n",
    "    @property\n",
    "    def email(self):\n",
    "        return(\"{}.{}@gmail.com\".format(self.first,self.last))\n",
    "    \n",
    "    @property\n",
    "    def fullname(self):\n",
    "        return(\"{} {}\".format(self.first,self.last))\n",
    "    \n",
    "    @fullname.setter\n",
    "    def fullname(self, name):\n",
    "        first,last = name.split(' ')\n",
    "        self.first = first\n",
    "        self.last = last\n",
    "    \n",
    "    @fullname.deleter\n",
    "    def fullname(self):\n",
    "        print(\"Delete Name\")\n",
    "        self.first = None\n",
    "        self.last = None\n",
    "        \n",
    "emp_2 = Employee(\"Tim\", \"Smith\")\n",
    "emp_2.fullname = \"Tim Smith\"\n",
    "print(emp_2.first)\n",
    "print(emp_2.email) #access email as attribute\n",
    "print(emp_2.fullname)\n",
    "\n",
    "del emp_2.fullname"
   ]
  }
 ],
 "metadata": {
  "anaconda-cloud": {},
  "kernelspec": {
   "display_name": "Python [default]",
   "language": "python",
   "name": "python3"
  },
  "language_info": {
   "codemirror_mode": {
    "name": "ipython",
    "version": 3
   },
   "file_extension": ".py",
   "mimetype": "text/x-python",
   "name": "python",
   "nbconvert_exporter": "python",
   "pygments_lexer": "ipython3",
   "version": "3.5.2"
  }
 },
 "nbformat": 4,
 "nbformat_minor": 0
}

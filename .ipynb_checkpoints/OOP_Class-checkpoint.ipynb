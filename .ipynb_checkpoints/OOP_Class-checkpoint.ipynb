{
 "cells": [
  {
   "cell_type": "code",
   "execution_count": 4,
   "metadata": {
    "collapsed": false
   },
   "outputs": [
    {
     "name": "stdout",
     "output_type": "stream",
     "text": [
      "<__main__.Employee object at 0x7f1ef41a2390>\n",
      "<__main__.Employee object at 0x7f1ef41a2358>\n",
      "An.Mo@company.com\n",
      "Ja.Nr@company.com\n"
     ]
    }
   ],
   "source": [
    "#Link: https://www.youtube.com/watch?v=ZDa-Z5JzLYM&list=PL-osiE80TeTsqhIuOqKhwlXsIBIdSeYtc\n",
    "# https://github.com/CoreyMSchafer/code_snippets/tree/master/Object-Oriented\n",
    "\n",
    "#Classes and Instances\n",
    "\n",
    "class Employee:\n",
    "    pass\n",
    "\n",
    "emp_1 = Employee()\n",
    "emp_2 = Employee()\n",
    "print(emp_1)\n",
    "print(emp_2) #Different address\n",
    "\n",
    "emp_1.first = \"An\"\n",
    "emp_1.last = \"Mo\"\n",
    "emp_1.email = \"An.Mo@company.com\"\n",
    "emp_1.pay = 60000\n",
    "\n",
    "emp_2.first = \"Ja\"\n",
    "emp_2.last = \"Nr\"\n",
    "emp_2.email = \"Ja.Nr@company.com\"\n",
    "emp_2.pay = 70000\n",
    "\n",
    "print(emp_1.email)\n",
    "print(emp_2.email)"
   ]
  },
  {
   "cell_type": "code",
   "execution_count": 16,
   "metadata": {
    "collapsed": false
   },
   "outputs": [
    {
     "name": "stdout",
     "output_type": "stream",
     "text": [
      "He.Wo@company.com\n",
      "Ri.Mo@company.com\n",
      "He Wo\n",
      "Ri Mo\n",
      "\n",
      "Calling throught Class methods\n",
      "He Wo\n",
      "Ri Mo\n"
     ]
    }
   ],
   "source": [
    "#How to do it better\n",
    "class Employee:\n",
    "    \n",
    "    def __init__(self, first, last, pay):\n",
    "        self.first = first\n",
    "        self.last = last\n",
    "        self.pay = pay\n",
    "        self.email = first + \".\" + last + '@company.com'\n",
    "    \n",
    "    def fullname(self):\n",
    "        return('{} {}'.format(self.first, self.last))\n",
    "\n",
    "emp_1 = Employee(\"He\",\"Wo\", 5000)\n",
    "emp_2 = Employee(\"Ri\",\"Mo\", 50000)\n",
    "\n",
    "print(emp_1.email)\n",
    "print(emp_2.email)\n",
    "\n",
    "\n",
    "print(emp_1.fullname())\n",
    "print(emp_2.fullname())\n",
    "\n",
    "\n",
    "# We can run methods using class name as well\n",
    "print(\"\\nCalling through Class methods\")\n",
    "print(Employee.fullname(emp_1))\n",
    "print(Employee.fullname(emp_2))"
   ]
  },
  {
   "cell_type": "code",
   "execution_count": null,
   "metadata": {
    "collapsed": true
   },
   "outputs": [],
   "source": []
  }
 ],
 "metadata": {
  "kernelspec": {
   "display_name": "Python 3",
   "language": "python",
   "name": "python3"
  },
  "language_info": {
   "codemirror_mode": {
    "name": "ipython",
    "version": 3
   },
   "file_extension": ".py",
   "mimetype": "text/x-python",
   "name": "python",
   "nbconvert_exporter": "python",
   "pygments_lexer": "ipython3",
   "version": "3.5.2"
  }
 },
 "nbformat": 4,
 "nbformat_minor": 0
}

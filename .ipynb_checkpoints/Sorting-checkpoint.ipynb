{
 "cells": [
  {
   "cell_type": "code",
   "execution_count": 34,
   "metadata": {
    "collapsed": false
   },
   "outputs": [
    {
     "name": "stdout",
     "output_type": "stream",
     "text": [
      "[4, 22, 23, 25, 43, 45, 55, 66, 67, 89, 95, 95, 99, 199] \n",
      "[4, 22, 23, 25, 43, 45, 55, 66, 67, 89, 95, 95, 99, 199] "
     ]
    }
   ],
   "source": [
    "#naive bubble sort\n",
    "a=[23,55,66,22,45,95,67,25,43,89,95,4,99,199]\n",
    "\n",
    "for j in range(0,len(a)):\n",
    "    swapped=0;\n",
    "    for i in range(0,len(a)-1):\n",
    "        if(a[i]>a[i+1]):\n",
    "            temp=a[i+1]\n",
    "            a[i+1]=a[i]\n",
    "            a[i]=temp\n",
    "            swapped=1\n",
    "    if(swapped==0): \n",
    "        break\n",
    "print(a, end=' ')\n",
    "print()\n",
    "# Optimized Bubble Sort by bubbling up one element\n",
    "a=[23,55,66,22,45,95,67,25,43,89,95,4,99,199]\n",
    "\n",
    "for i in range(0,len(a)):\n",
    "    for j in range(i,len(a)):\n",
    "            if a[i]>a[j]: #smallest element is bubbled to the start of list\n",
    "                t=a[i]\n",
    "                a[i]=a[j]\n",
    "                a[j]=t        \n",
    "\n",
    "print(a, end=' ')\n",
    "\n",
    "#The logic here. Current pointer is i and the j runs from i to end of the list. The element at i is swapped to \n",
    "# be the smallest element from i to end  of list"
   ]
  },
  {
   "cell_type": "code",
   "execution_count": 31,
   "metadata": {
    "collapsed": false
   },
   "outputs": [
    {
     "name": "stdout",
     "output_type": "stream",
     "text": [
      "[11, 20, 22, 25, 33, 40, 44, 55, 66, 75, 77, 88, 90, 99] "
     ]
    }
   ],
   "source": [
    "#insertion sort\n",
    "\n",
    "a=[99,22,66,44,33,77,88,11,25,75,55,40,20,90]\n",
    "\n",
    "for i in range(0,len(a)): \n",
    "    for j in range(0,i):\n",
    "        if(a[i]<a[j]):\n",
    "            temp=a[i]\n",
    "            for k in range(i,j,-1):\n",
    "                a[k]=a[k-1]\n",
    "            a[j]=temp\n",
    "print(a,end=' ')\n",
    "\n",
    "#the logic here: All the elements before i should be sorted. for the element i, find its place in the array 0 to i\n",
    "# by moving j from 0 to i. E.g is a[i] smaller than any number from 0 to i.  Once a position is found i.e j, \n",
    "# store the ith elment. Move the numbers from i to j-1 by i i.e a[i]==a[i-1]; a[i-1]=a[i-2]; a[j]'s former occupant is\n",
    "#moved 1 step higher. replace a[j] with saved number"
   ]
  },
  {
   "cell_type": "code",
   "execution_count": 43,
   "metadata": {
    "collapsed": false
   },
   "outputs": [
    {
     "name": "stdout",
     "output_type": "stream",
     "text": [
      "[11, 20, 22, 25, 33, 40, 44, 55, 66, 75, 77, 88, 90, 99] "
     ]
    }
   ],
   "source": [
    "#Selection sort\n",
    "a=[99,22,66,44,33,77,88,11,25,75,55,40,20,90]\n",
    "\n",
    "for i in range(0, len(a)):\n",
    "    mini=a[i]\n",
    "    minfound=0\n",
    "    for j in range(i, len(a)):\n",
    "        if(a[j]<mini):\n",
    "            index=j\n",
    "            mini=a[j]\n",
    "            minfound=1\n",
    "            \n",
    "    if(minfound==1):\n",
    "        a[index]=a[i]\n",
    "        a[i]=mini\n",
    "    \n",
    "print(a,end=' ')\n",
    "\n",
    "#Selection sort.Start with i as the minimum element known. Go from i to end of list and find the minimum element\n",
    "# in the remaining list. After finding minimum, swap the min element and i. Increment i and do the same thing again.\n",
    "#list 0 to i is always sorted.\n"
   ]
  },
  {
   "cell_type": "code",
   "execution_count": 41,
   "metadata": {
    "collapsed": true
   },
   "outputs": [],
   "source": [
    "#Quick sort"
   ]
  },
  {
   "cell_type": "code",
   "execution_count": 42,
   "metadata": {
    "collapsed": true
   },
   "outputs": [],
   "source": [
    "#Merge sort"
   ]
  },
  {
   "cell_type": "code",
   "execution_count": null,
   "metadata": {
    "collapsed": true
   },
   "outputs": [],
   "source": [
    "#heap sort"
   ]
  }
 ],
 "metadata": {
  "kernelspec": {
   "display_name": "Python 3",
   "language": "python",
   "name": "python3"
  },
  "language_info": {
   "codemirror_mode": {
    "name": "ipython",
    "version": 3
   },
   "file_extension": ".py",
   "mimetype": "text/x-python",
   "name": "python",
   "nbconvert_exporter": "python",
   "pygments_lexer": "ipython3",
   "version": "3.5.1"
  }
 },
 "nbformat": 4,
 "nbformat_minor": 0
}

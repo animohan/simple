{
 "cells": [
  {
   "cell_type": "code",
   "execution_count": 29,
   "metadata": {
    "collapsed": false
   },
   "outputs": [
    {
     "name": "stdout",
     "output_type": "stream",
     "text": [
      "55\n",
      "55\n"
     ]
    }
   ],
   "source": [
    "#Recursive functions:\n",
    "\n",
    "#sum a list of numbers using recursion\n",
    "\n",
    "inp=[1,2,3,4,5,6,7,8,9,10]\n",
    "\n",
    "def recadd(a):\n",
    "    if len(a)==1: #if the passed list is 1 element long\n",
    "        return a[0] #return the element (not the list so return a - not work)\n",
    "    else:\n",
    "        return(recadd(a[0:1])+recadd(a[1:])) #call func on two lists\n",
    "        #remember the function call has to be on two lists, so returning\n",
    "        #recadd(a[0])+recadd... does not work because, a[0] is int.\n",
    "                            \n",
    "print(recadd(inp))\n",
    "\n",
    "#book implementation\n",
    "def mysum(L):\n",
    "    if not L: return 0\n",
    "    else: \n",
    "        return L[0]+mysum(L[1:])\n",
    "\n",
    "print(mysum(inp))\n"
   ]
  },
  {
   "cell_type": "code",
   "execution_count": 23,
   "metadata": {
    "collapsed": false
   },
   "outputs": [
    {
     "data": {
      "text/plain": [
       "[1]"
      ]
     },
     "execution_count": 23,
     "metadata": {},
     "output_type": "execute_result"
    }
   ],
   "source": [
    "inp[0:1]"
   ]
  },
  {
   "cell_type": "code",
   "execution_count": null,
   "metadata": {
    "collapsed": true
   },
   "outputs": [],
   "source": []
  }
 ],
 "metadata": {
  "kernelspec": {
   "display_name": "Python 3",
   "language": "python",
   "name": "python3"
  },
  "language_info": {
   "codemirror_mode": {
    "name": "ipython",
    "version": 3
   },
   "file_extension": ".py",
   "mimetype": "text/x-python",
   "name": "python",
   "nbconvert_exporter": "python",
   "pygments_lexer": "ipython3",
   "version": "3.5.1"
  }
 },
 "nbformat": 4,
 "nbformat_minor": 0
}

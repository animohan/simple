{
 "cells": [
  {
   "cell_type": "code",
   "execution_count": 2,
   "metadata": {
    "collapsed": false
   },
   "outputs": [
    {
     "name": "stdout",
     "output_type": "stream",
     "text": [
      "55\n",
      "55\n"
     ]
    }
   ],
   "source": [
    "#Recursive functions:\n",
    "\n",
    "#sum a list of numbers using recursion\n",
    "\n",
    "inp=[1,2,3,4,5,6,7,8,9,10]\n",
    "\n",
    "def recadd(a):\n",
    "    if len(a)==1: #if the passed list is 1 element long\n",
    "        return a[0] #return the element (not the list so return a - not work)\n",
    "    else:\n",
    "        return(recadd(a[0:1])+recadd(a[1:])) #call func on two lists\n",
    "        #remember the function call has to be on two lists, so returning\n",
    "        #recadd(a[0])+recadd... does not work because, a[0] is int.\n",
    "                            \n",
    "print(recadd(inp))\n",
    "\n",
    "#book implementation\n",
    "def mysum(L):\n",
    "    if not L: return 0\n",
    "    else: \n",
    "        return L[0]+mysum(L[1:])\n",
    "\n",
    "print(mysum(inp))\n"
   ]
  },
  {
   "cell_type": "code",
   "execution_count": 23,
   "metadata": {
    "collapsed": false
   },
   "outputs": [
    {
     "data": {
      "text/plain": [
       "[1]"
      ]
     },
     "execution_count": 23,
     "metadata": {},
     "output_type": "execute_result"
    }
   ],
   "source": [
    "inp[0:1]"
   ]
  },
  {
   "cell_type": "code",
   "execution_count": 16,
   "metadata": {
    "collapsed": false
   },
   "outputs": [
    {
     "name": "stdout",
     "output_type": "stream",
     "text": [
      "55\n",
      "\n",
      "55\n",
      "\n",
      "55\n",
      "\n",
      "33\n",
      "44\n",
      "[55, 66]\n",
      "\n",
      "23\n",
      "22\n",
      "[21, 20]\n",
      "\n"
     ]
    }
   ],
   "source": [
    "#Other implementations of the recursive add function.\n",
    "\n",
    "def mysum2(L):\n",
    "    return 0 if not L else L[0]+mysum2(L[1:]) #comprehension version of \n",
    "                                                #mysum\n",
    "print(mysum2(inp))\n",
    "print()\n",
    "\n",
    "def mysum3(L):\n",
    "    return l[0] if len(L)==1 else L[0] + mysum2(L[1:])\n",
    "\n",
    "print(mysum3(inp))\n",
    "print()\n",
    "\n",
    "\n",
    "def mysum4(L):\n",
    "    first, *rest=L #first = L and *rest =L, first get one element and\n",
    "                    # rest gets rest of the elements of list\n",
    "    return first if not rest else first + mysum4(rest)\n",
    "\n",
    "print(mysum4(inp))\n",
    "print()\n",
    "\n",
    "\n",
    "def firstworks(L):\n",
    "    one,two,*rest=L\n",
    "    print(one)\n",
    "    print(two)\n",
    "    print(rest)\n",
    "    print()\n",
    "\n",
    "firstworks([33,44,55,66])\n",
    "firstworks([23,22,21,20])"
   ]
  },
  {
   "cell_type": "code",
   "execution_count": 17,
   "metadata": {
    "collapsed": false
   },
   "outputs": [
    {
     "name": "stdout",
     "output_type": "stream",
     "text": [
      "3\n",
      "6\n",
      "10\n",
      "17\n"
     ]
    }
   ],
   "source": [
    "#Handling arbitrary structures:\n",
    "#Recurseion or equivalent explicit stack based algorithms can be required\n",
    "#to traverse arbitrarily shaped structures.\n",
    "\n",
    "#consider addnig sum of all numbers in a nested sublist like\n",
    "#[1,[2,[3,4],5],6,[7,8]]. Simple looping statement do not suffice either\n",
    "#because the sublists may not be nested to arbitrary depth in an arbitrary \n",
    "#shpae. \n",
    "\n",
    "def sumtree(L):\n",
    "    tot=0;\n",
    "    for x in L:\n",
    "        if not isinstance(x,list):\n",
    "            tot=tot+x\n",
    "        else:\n",
    "            tot=tot+sumtree(x)\n",
    "    return tot\n",
    "\n",
    "print(sumtree([1,2]))\n",
    "print(sumtree([1,[2,3]]))\n",
    "print(sumtree([1,[2,[3,4]]]))\n",
    "print(sumtree([1,[2,[3,[5,6]]]]))"
   ]
  },
  {
   "cell_type": "code",
   "execution_count": 26,
   "metadata": {
    "collapsed": false
   },
   "outputs": [
    {
     "name": "stdout",
     "output_type": "stream",
     "text": [
      "[[1, 2, 3], [4, 5, 6]]\n",
      "\n",
      "[[4, 5, 6], 1, 2, 3]\n",
      "[1, 2, 3, 4, 5, 6]\n",
      "1\n",
      "\n",
      "3\n",
      "\n",
      "6\n",
      "\n",
      "10\n",
      "\n",
      "15\n",
      "\n",
      "21\n",
      "\n"
     ]
    },
    {
     "data": {
      "text/plain": [
       "21"
      ]
     },
     "execution_count": 26,
     "metadata": {},
     "output_type": "execute_result"
    }
   ],
   "source": [
    "#Recursion uses stack and queues to implement recursion. It is possible\n",
    "#to simulate recursive call by pushing elements in to the stack\n",
    "def sumtree2(L):\n",
    "    tot=0\n",
    "    items=list(L)\n",
    "    print(items)\n",
    "    print()\n",
    "    \n",
    "    while items:\n",
    "        front=items.pop(0)\n",
    "        if not isinstance(front, list):\n",
    "            tot=tot+front\n",
    "            print(tot)\n",
    "            print()\n",
    "        else:\n",
    "            items.extend(front) #append all in a nested list\n",
    "            print(items)\n",
    "    return tot\n",
    "\n",
    "\n",
    "sumtree2([[1,2,3],[4,5,6]])\n",
    "#The code traverses the list in breadth-first fashion, adding contents\n",
    "# of nested list at the end of list."
   ]
  },
  {
   "cell_type": "code",
   "execution_count": 56,
   "metadata": {
    "collapsed": false
   },
   "outputs": [
    {
     "name": "stdout",
     "output_type": "stream",
     "text": [
      "[5, 6, 7]\n",
      "[8, 9, 10]\n",
      "48\n"
     ]
    }
   ],
   "source": [
    "#to emulate recursion, we can perform depth-firsst traversal, by adding \n",
    "#content of list to the front of the list.\n",
    "def sumtree3(L):\n",
    "    tot=0\n",
    "    items=L\n",
    "    while items:\n",
    "        front=items.pop(0)\n",
    "        if not isinstance(front,list):\n",
    "            tot+=front\n",
    "        else:\n",
    "            items[:0] =front #if front is a list; then push it to \n",
    "                            # top of items, to pop them in next round\n",
    "            print(front)\n",
    "    return tot\n",
    "            \n",
    "print(sumtree3([1,2,[5,6,7],[8,9,10]]))"
   ]
  },
  {
   "cell_type": "code",
   "execution_count": 57,
   "metadata": {
    "collapsed": false
   },
   "outputs": [
    {
     "data": {
      "text/plain": [
       "[99, 88, 1, 2, [5, 6, 7], [8, 9, 10]]"
      ]
     },
     "execution_count": 57,
     "metadata": {},
     "output_type": "execute_result"
    }
   ],
   "source": [
    "#Cycles, paths and stack limits:\n",
    "#Larger recursive applications require more infrastructure and need to avoid\n",
    "#cycles or repeat paths and expand stack space when using recursive calls\n",
    "#instead of explicity queues or stacks.\n",
    "\n",
    "#To do better, recurse calls could keep and pass a set, dicitionary or list\n",
    "# of states visited so far. "
   ]
  },
  {
   "cell_type": "code",
   "execution_count": null,
   "metadata": {
    "collapsed": true
   },
   "outputs": [],
   "source": [
    "#Cycle"
   ]
  }
 ],
 "metadata": {
  "kernelspec": {
   "display_name": "Python 3",
   "language": "python",
   "name": "python3"
  },
  "language_info": {
   "codemirror_mode": {
    "name": "ipython",
    "version": 3
   },
   "file_extension": ".py",
   "mimetype": "text/x-python",
   "name": "python",
   "nbconvert_exporter": "python",
   "pygments_lexer": "ipython3",
   "version": "3.5.1"
  }
 },
 "nbformat": 4,
 "nbformat_minor": 0
}

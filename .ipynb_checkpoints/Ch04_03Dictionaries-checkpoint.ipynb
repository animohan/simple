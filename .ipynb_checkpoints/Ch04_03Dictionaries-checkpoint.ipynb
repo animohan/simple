{
 "cells": [
  {
   "cell_type": "markdown",
   "metadata": {},
   "source": [
    "### 1. Declaring Dictionaries"
   ]
  },
  {
   "cell_type": "code",
   "execution_count": 2,
   "metadata": {
    "collapsed": false
   },
   "outputs": [
    {
     "name": "stdout",
     "output_type": "stream",
     "text": [
      "Spam\n",
      "4\n",
      "pink\n"
     ]
    }
   ],
   "source": [
    "D = {\"food\":\"Spam\",\"quantity\":4, \"color\":\"pink\"}\n",
    "print(D['food'])\n",
    "print(D[\"quantity\"])\n",
    "print(D[\"color\"])"
   ]
  },
  {
   "cell_type": "code",
   "execution_count": 3,
   "metadata": {
    "collapsed": false
   },
   "outputs": [
    {
     "name": "stdout",
     "output_type": "stream",
     "text": [
      "dict_keys(['color', 'quantity', 'food'])\n",
      "dict_values(['pink', 4, 'Spam'])\n"
     ]
    }
   ],
   "source": [
    "D = {\"food\":\"Spam\",\"quantity\":4, \"color\":\"pink\"}\n",
    "print(D.keys()) #the indices are keys\n",
    "print(D.values()) #values corresponding to indices"
   ]
  },
  {
   "cell_type": "code",
   "execution_count": 4,
   "metadata": {
    "collapsed": false
   },
   "outputs": [
    {
     "data": {
      "text/plain": [
       "{'age': 40, 'job': 'Dev', 'name': 'Bob'}"
      ]
     },
     "execution_count": 4,
     "metadata": {},
     "output_type": "execute_result"
    }
   ],
   "source": [
    "# Another way to declare dictionaries:\n",
    "D = {}\n",
    "D[\"name\"] = \"Bob\"\n",
    "D[\"job\"] = \"Dev\"\n",
    "D[\"age\"] = 40\n",
    "D"
   ]
  },
  {
   "cell_type": "code",
   "execution_count": 5,
   "metadata": {
    "collapsed": false
   },
   "outputs": [
    {
     "data": {
      "text/plain": [
       "{'Country': 'USA', 'GDP': '1B', 'Population': '600M'}"
      ]
     },
     "execution_count": 5,
     "metadata": {},
     "output_type": "execute_result"
    }
   ],
   "source": [
    "# Another way to declare dictionaries:\n",
    "a = dict(Country=\"USA\", Population=\"600M\", GDP=\"1B\")\n",
    "a"
   ]
  },
  {
   "cell_type": "code",
   "execution_count": 6,
   "metadata": {
    "collapsed": false
   },
   "outputs": [
    {
     "data": {
      "text/plain": [
       "{'alpha': 1, 'beta': 2, 'gamma': 3}"
      ]
     },
     "execution_count": 6,
     "metadata": {},
     "output_type": "execute_result"
    }
   ],
   "source": [
    "#Another way to declare dictionary\n",
    "sym = dict(zip([\"alpha\",\"beta\",\"gamma\"],[1,2,3]))\n",
    "sym"
   ]
  },
  {
   "cell_type": "code",
   "execution_count": 7,
   "metadata": {
    "collapsed": false
   },
   "outputs": [
    {
     "data": {
      "text/plain": [
       "{'age': 45, 'jobs': ['dev', 'mgr'], 'name': {'first': 'Bob', 'last': 'Dole'}}"
      ]
     },
     "execution_count": 7,
     "metadata": {},
     "output_type": "execute_result"
    }
   ],
   "source": [
    "#Dictionaries can be nested as well\n",
    "rec = {\"name\":{\"first\":\"Bob\",\"last\":\"Dole\"}, \n",
    "       \"jobs\":[\"dev\",\"mgr\"],\n",
    "       \"age\": 45}\n",
    "rec"
   ]
  },
  {
   "cell_type": "code",
   "execution_count": 8,
   "metadata": {
    "collapsed": false
   },
   "outputs": [
    {
     "name": "stdout",
     "output_type": "stream",
     "text": [
      "dict_keys(['age', 'jobs', 'name'])\n",
      "dict_values([45, ['dev', 'mgr'], {'first': 'Bob', 'last': 'Dole'}])\n"
     ]
    }
   ],
   "source": [
    "print(rec.keys())\n",
    "print(rec.values())"
   ]
  },
  {
   "cell_type": "code",
   "execution_count": 9,
   "metadata": {
    "collapsed": false
   },
   "outputs": [
    {
     "name": "stdout",
     "output_type": "stream",
     "text": [
      "{'first': 'Bob', 'last': 'Dole'}\n",
      "Dole\n"
     ]
    }
   ],
   "source": [
    "print(rec[\"name\"])\n",
    "print(rec[\"name\"][\"last\"])"
   ]
  },
  {
   "cell_type": "code",
   "execution_count": 10,
   "metadata": {
    "collapsed": false
   },
   "outputs": [
    {
     "name": "stdout",
     "output_type": "stream",
     "text": [
      "['dev', 'mgr']\n",
      "mgr\n"
     ]
    }
   ],
   "source": [
    "print(rec[\"jobs\"])\n",
    "print(rec[\"jobs\"][-1])"
   ]
  },
  {
   "cell_type": "markdown",
   "metadata": {},
   "source": [
    "### 2. Handling missing keys"
   ]
  },
  {
   "cell_type": "code",
   "execution_count": 11,
   "metadata": {
    "collapsed": false
   },
   "outputs": [
    {
     "data": {
      "text/plain": [
       "False"
      ]
     },
     "execution_count": 11,
     "metadata": {},
     "output_type": "execute_result"
    }
   ],
   "source": [
    "D = {\"a\":1, \"b\":2,\"c\":3}\n",
    "D[\"e\"] = 99 # Assigning new key-value pair\n",
    "\n",
    "#check if a key exists\n",
    "\"f\" in D"
   ]
  },
  {
   "cell_type": "code",
   "execution_count": 12,
   "metadata": {
    "collapsed": false
   },
   "outputs": [
    {
     "data": {
      "text/plain": [
       "99"
      ]
     },
     "execution_count": 12,
     "metadata": {},
     "output_type": "execute_result"
    }
   ],
   "source": [
    "#Another way of handling missing keys\n",
    "value = D.get('x',0)\n",
    "value\n",
    "value = D.get('e',0)\n",
    "value"
   ]
  },
  {
   "cell_type": "code",
   "execution_count": 13,
   "metadata": {
    "collapsed": false
   },
   "outputs": [
    {
     "name": "stdout",
     "output_type": "stream",
     "text": [
      "99\n",
      "0\n"
     ]
    }
   ],
   "source": [
    "#Another way of handling missing keys\n",
    "value = D[\"e\"] if \"e\" in D else 0\n",
    "print(value)\n",
    "\n",
    "value = D[\"x\"] if \"x\" in D else 0\n",
    "print(value)"
   ]
  },
  {
   "cell_type": "markdown",
   "metadata": {},
   "source": [
    "### 3. Sorting Keys"
   ]
  },
  {
   "cell_type": "markdown",
   "metadata": {},
   "source": [
    "Dictionaries are not sequences and do not maintain any dependable sorting order by default. Sort methods can be used on dicitionary keys"
   ]
  },
  {
   "cell_type": "code",
   "execution_count": 15,
   "metadata": {
    "collapsed": false
   },
   "outputs": [
    {
     "name": "stdout",
     "output_type": "stream",
     "text": [
      "{'b': 2, 'a': 1, 'c': 3}\n",
      "dict_keys(['b', 'a', 'c'])\n",
      "dict_values([2, 1, 3])\n"
     ]
    }
   ],
   "source": [
    "D = {'a':1,'b':2,\"c\":3}\n",
    "print(D)\n",
    "print(D.keys())\n",
    "print(D.values())"
   ]
  },
  {
   "cell_type": "code",
   "execution_count": 18,
   "metadata": {
    "collapsed": false
   },
   "outputs": [
    {
     "name": "stdout",
     "output_type": "stream",
     "text": [
      "a 1\n",
      "b 2\n",
      "c 3\n"
     ]
    }
   ],
   "source": [
    "#Printing sorted list\n",
    "K = list(D.keys())\n",
    "K.sort()\n",
    "for key in K:\n",
    "    print(key, D[key])"
   ]
  }
 ],
 "metadata": {
  "kernelspec": {
   "display_name": "Python 3",
   "language": "python",
   "name": "python3"
  },
  "language_info": {
   "codemirror_mode": {
    "name": "ipython",
    "version": 3
   },
   "file_extension": ".py",
   "mimetype": "text/x-python",
   "name": "python",
   "nbconvert_exporter": "python",
   "pygments_lexer": "ipython3",
   "version": "3.5.2"
  }
 },
 "nbformat": 4,
 "nbformat_minor": 0
}

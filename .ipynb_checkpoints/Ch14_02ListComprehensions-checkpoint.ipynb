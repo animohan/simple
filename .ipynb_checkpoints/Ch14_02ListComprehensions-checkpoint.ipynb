{
 "cells": [
  {
   "cell_type": "code",
   "execution_count": 4,
   "metadata": {
    "collapsed": false
   },
   "outputs": [
    {
     "name": "stdout",
     "output_type": "stream",
     "text": [
      "11\n",
      "12\n",
      "13\n",
      "14\n",
      "15\n"
     ]
    }
   ],
   "source": [
    "#previous learning\n",
    "L=[1,2,3,4,5]\n",
    "for i in range(len(L)):\n",
    "    L[i]+=10\n",
    "    print(L[i])"
   ]
  },
  {
   "cell_type": "code",
   "execution_count": 5,
   "metadata": {
    "collapsed": false
   },
   "outputs": [
    {
     "name": "stdout",
     "output_type": "stream",
     "text": [
      "[21, 22, 23, 24, 25]\n"
     ]
    }
   ],
   "source": [
    "#with comprehension\n",
    "L=[x + 10 for x in L]\n",
    "print(L)"
   ]
  },
  {
   "cell_type": "code",
   "execution_count": 6,
   "metadata": {
    "collapsed": false
   },
   "outputs": [
    {
     "data": {
      "text/plain": [
       "['# First python script\\n',\n",
       " 'import sys\\n',\n",
       " 'print(sys.platform)\\n',\n",
       " 'print(2**100)\\n',\n",
       " \"x='Spam'\\n\",\n",
       " 'print(x*8)']"
      ]
     },
     "execution_count": 6,
     "metadata": {},
     "output_type": "execute_result"
    }
   ],
   "source": [
    "#List comprehension on files\n",
    "f =open('Script1.py')\n",
    "lines=f.readlines()\n",
    "lines"
   ]
  },
  {
   "cell_type": "code",
   "execution_count": 8,
   "metadata": {
    "collapsed": false
   },
   "outputs": [
    {
     "data": {
      "text/plain": [
       "['# First python script',\n",
       " 'import sys',\n",
       " 'print(sys.platform)',\n",
       " 'print(2**100)',\n",
       " \"x='Spam'\",\n",
       " 'print(x*8)']"
      ]
     },
     "execution_count": 8,
     "metadata": {},
     "output_type": "execute_result"
    }
   ],
   "source": [
    "lines=[line.rstrip() for line in lines]\n",
    "lines\n",
    "#This works because list comprehension are iteration context like for\n",
    "#statements. "
   ]
  },
  {
   "cell_type": "code",
   "execution_count": 9,
   "metadata": {
    "collapsed": false
   },
   "outputs": [
    {
     "data": {
      "text/plain": [
       "['# First python script',\n",
       " 'import sys',\n",
       " 'print(sys.platform)',\n",
       " 'print(2**100)',\n",
       " \"x='Spam'\",\n",
       " 'print(x*8)']"
      ]
     },
     "execution_count": 9,
     "metadata": {},
     "output_type": "execute_result"
    }
   ],
   "source": [
    "#Files need not be opened ahead of time, they can be opened inside the \n",
    "#expression\n",
    "lines =[line.rstrip() for line in open('Script1.py')]\n",
    "lines"
   ]
  },
  {
   "cell_type": "code",
   "execution_count": 10,
   "metadata": {
    "collapsed": false
   },
   "outputs": [
    {
     "data": {
      "text/plain": [
       "['# FIRST PYTHON SCRIPT\\n',\n",
       " 'IMPORT SYS\\n',\n",
       " 'PRINT(SYS.PLATFORM)\\n',\n",
       " 'PRINT(2**100)\\n',\n",
       " \"X='SPAM'\\n\",\n",
       " 'PRINT(X*8)']"
      ]
     },
     "execution_count": 10,
     "metadata": {},
     "output_type": "execute_result"
    }
   ],
   "source": [
    "#In the examples above, the files are not completely loaded into memory \n",
    "#at once. List comprehensions are expressive. Example of list comprehension\n",
    "# equivalent to the file iterator example\n",
    "\n",
    "[line.upper() for line in open('Script1.py')]"
   ]
  },
  {
   "cell_type": "code",
   "execution_count": 12,
   "metadata": {
    "collapsed": false
   },
   "outputs": [
    {
     "data": {
      "text/plain": [
       "['# FIRST PYTHON SCRIPT',\n",
       " 'IMPORT SYS',\n",
       " 'PRINT(SYS.PLATFORM)',\n",
       " 'PRINT(2**100)',\n",
       " \"X='SPAM'\",\n",
       " 'PRINT(X*8)']"
      ]
     },
     "execution_count": 12,
     "metadata": {},
     "output_type": "execute_result"
    }
   ],
   "source": [
    "[line.rstrip().upper() for line in open('Script1.py')]"
   ]
  },
  {
   "cell_type": "code",
   "execution_count": 13,
   "metadata": {
    "collapsed": false
   },
   "outputs": [
    {
     "data": {
      "text/plain": [
       "[['#', 'First', 'python', 'script'],\n",
       " ['import', 'sys'],\n",
       " ['print(sys.platform)'],\n",
       " ['print(2**100)'],\n",
       " [\"x='Spam'\"],\n",
       " ['print(x*8)']]"
      ]
     },
     "execution_count": 13,
     "metadata": {},
     "output_type": "execute_result"
    }
   ],
   "source": [
    "[line.split() for line in open('Script1.py')]"
   ]
  },
  {
   "cell_type": "code",
   "execution_count": 14,
   "metadata": {
    "collapsed": false
   },
   "outputs": [
    {
     "data": {
      "text/plain": [
       "['#!First!python!script\\n',\n",
       " 'import!sys\\n',\n",
       " 'print(sys.platform)\\n',\n",
       " 'print(2**100)\\n',\n",
       " \"x='Spam'\\n\",\n",
       " 'print(x*8)']"
      ]
     },
     "execution_count": 14,
     "metadata": {},
     "output_type": "execute_result"
    }
   ],
   "source": [
    "[line.replace(' ','!') for line in open('Script1.py')]"
   ]
  },
  {
   "cell_type": "code",
   "execution_count": 16,
   "metadata": {
    "collapsed": false
   },
   "outputs": [
    {
     "data": {
      "text/plain": [
       "[(False, '# Fir'),\n",
       " (True, 'impor'),\n",
       " (True, 'print'),\n",
       " (False, 'print'),\n",
       " (False, \"x='Sp\"),\n",
       " (False, 'print')]"
      ]
     },
     "execution_count": 16,
     "metadata": {},
     "output_type": "execute_result"
    }
   ],
   "source": [
    "[('sys' in line,line[:5]) for line in open('Script1.py')]\n",
    "#Method chaining works here because string methods return a new string to\n",
    "#which we can appy another string methods."
   ]
  },
  {
   "cell_type": "code",
   "execution_count": 19,
   "metadata": {
    "collapsed": false
   },
   "outputs": [
    {
     "data": {
      "text/plain": [
       "['print(sys.platform)', 'print(2**100)', 'print(x*8)']"
      ]
     },
     "execution_count": 19,
     "metadata": {},
     "output_type": "execute_result"
    }
   ],
   "source": [
    "#Extended list comprehension syntax\n",
    "#using if for filtering\n",
    "[line.rstrip() for line in open('Script1.py') if line[0]=='p']"
   ]
  },
  {
   "cell_type": "code",
   "execution_count": 20,
   "metadata": {
    "collapsed": false
   },
   "outputs": [
    {
     "data": {
      "text/plain": [
       "['print(2**100)', 'print(x*8)']"
      ]
     },
     "execution_count": 20,
     "metadata": {},
     "output_type": "execute_result"
    }
   ],
   "source": [
    "#print the line if the 2nd last char in the line is a digit\n",
    "[line.rstrip() for line in open('Script1.py') if line.rstrip()[-2].isdigit()]"
   ]
  },
  {
   "cell_type": "code",
   "execution_count": 21,
   "metadata": {
    "collapsed": false
   },
   "outputs": [
    {
     "data": {
      "text/plain": [
       "['al', 'am', 'an', 'bl', 'bm', 'bn', 'cl', 'cm', 'cn']"
      ]
     },
     "execution_count": 21,
     "metadata": {},
     "output_type": "execute_result"
    }
   ],
   "source": [
    "# Any number of nested loops are allowed \n",
    "[x+y for x in 'abc' for y in 'lmn']"
   ]
  },
  {
   "cell_type": "code",
   "execution_count": 23,
   "metadata": {
    "collapsed": false
   },
   "outputs": [
    {
     "name": "stdout",
     "output_type": "stream",
     "text": [
      "['# FIRST PYTHON SCRIPT\\n', 'IMPORT SYS\\n', 'PRINT(SYS.PLATFORM)\\n', 'PRINT(2**100)\\n', \"X='SPAM'\\n\", 'PRINT(X*8)']\n"
     ]
    },
    {
     "data": {
      "text/plain": [
       "['# FIRST PYTHON SCRIPT\\n',\n",
       " 'IMPORT SYS\\n',\n",
       " 'PRINT(SYS.PLATFORM)\\n',\n",
       " 'PRINT(2**100)\\n',\n",
       " \"X='SPAM'\\n\",\n",
       " 'PRINT(X*8)']"
      ]
     },
     "execution_count": 23,
     "metadata": {},
     "output_type": "execute_result"
    }
   ],
   "source": [
    "#Other iteration Contexts\n",
    "#It is important to know which built-in tols make use of iteration protocol\n",
    "# any tool that employs the iteration protocol will automatically work on\n",
    "# any built-in type or user defined class that provides it.\n",
    "\n",
    "#list comprehensions and the map built in function  use the same protocol\n",
    "# as ther for loop cousin. When applied to a file, they both leverage the \n",
    "# file object's iterator automatically to scan line by line, fetching an\n",
    "# iterator with  __iter__ and calling __next__ each time through:\n",
    "\n",
    "uppers=[line.upper() for line in open(\"Script1.py\")]\n",
    "print(uppers)\n",
    "\n"
   ]
  },
  {
   "cell_type": "code",
   "execution_count": 24,
   "metadata": {
    "collapsed": false
   },
   "outputs": [
    {
     "data": {
      "text/plain": [
       "['# FIRST PYTHON SCRIPT\\n',\n",
       " 'IMPORT SYS\\n',\n",
       " 'PRINT(SYS.PLATFORM)\\n',\n",
       " 'PRINT(2**100)\\n',\n",
       " \"X='SPAM'\\n\",\n",
       " 'PRINT(X*8)']"
      ]
     },
     "execution_count": 24,
     "metadata": {},
     "output_type": "execute_result"
    }
   ],
   "source": [
    "#Maps applies a function call to each item in the iterable object\n",
    "#map is similar to a list comprehension but is more limited because it \n",
    "#requies a function instead of an arbitrary expression. It also returns\n",
    "#an iterable object  hence must wrapt it in list\n",
    "list(map(str.upper, open('Script1.py')))"
   ]
  },
  {
   "cell_type": "code",
   "execution_count": 25,
   "metadata": {
    "collapsed": false
   },
   "outputs": [
    {
     "data": {
      "text/plain": [
       "['# First python script\\n',\n",
       " 'import sys\\n',\n",
       " 'print(2**100)\\n',\n",
       " 'print(sys.platform)\\n',\n",
       " 'print(x*8)',\n",
       " \"x='Spam'\\n\"]"
      ]
     },
     "execution_count": 25,
     "metadata": {},
     "output_type": "execute_result"
    }
   ],
   "source": [
    "#Many of python's other built ins process iterables as well.\n",
    "# For e.g, sorted sorts items in an iterable\n",
    "#zip combines itesm from iterables\n",
    "#enumerate pairs items in an iterables\n",
    "#filter selects items for which a function is true\n",
    "#reduce runs pair of items in an iterable through function\n",
    "\n",
    "sorted(open('Script1.py'))"
   ]
  },
  {
   "cell_type": "code",
   "execution_count": 27,
   "metadata": {
    "collapsed": false
   },
   "outputs": [
    {
     "data": {
      "text/plain": [
       "[('# First python script\\n', '# First python script\\n'),\n",
       " ('import sys\\n', 'import sys\\n'),\n",
       " ('print(sys.platform)\\n', 'print(sys.platform)\\n'),\n",
       " ('print(2**100)\\n', 'print(2**100)\\n'),\n",
       " (\"x='Spam'\\n\", \"x='Spam'\\n\"),\n",
       " ('print(x*8)', 'print(x*8)')]"
      ]
     },
     "execution_count": 27,
     "metadata": {},
     "output_type": "execute_result"
    }
   ],
   "source": [
    "list(zip(open('Script1.py'),open('Script1.py')))"
   ]
  },
  {
   "cell_type": "code",
   "execution_count": 29,
   "metadata": {
    "collapsed": false
   },
   "outputs": [
    {
     "data": {
      "text/plain": [
       "[('# First python script\\n', '# First python script\\n'),\n",
       " ('import sys\\n', 'import sys\\n'),\n",
       " ('print(sys.platform)\\n', 'print(2**100)\\n'),\n",
       " ('print(2**100)\\n', 'print(sys.platform)\\n'),\n",
       " (\"x='Spam'\\n\", 'print(x*8)'),\n",
       " ('print(x*8)', \"x='Spam'\\n\")]"
      ]
     },
     "execution_count": 29,
     "metadata": {},
     "output_type": "execute_result"
    }
   ],
   "source": [
    "list(zip(open('Script1.py'),sorted(open('Script1.py'))))"
   ]
  },
  {
   "cell_type": "code",
   "execution_count": 30,
   "metadata": {
    "collapsed": false
   },
   "outputs": [
    {
     "data": {
      "text/plain": [
       "[(0, '# First python script\\n'),\n",
       " (1, 'import sys\\n'),\n",
       " (2, 'print(sys.platform)\\n'),\n",
       " (3, 'print(2**100)\\n'),\n",
       " (4, \"x='Spam'\\n\"),\n",
       " (5, 'print(x*8)')]"
      ]
     },
     "execution_count": 30,
     "metadata": {},
     "output_type": "execute_result"
    }
   ],
   "source": [
    "list(enumerate(open('Script1.py')))"
   ]
  },
  {
   "cell_type": "code",
   "execution_count": 32,
   "metadata": {
    "collapsed": false
   },
   "outputs": [
    {
     "data": {
      "text/plain": [
       "['# First python script\\n',\n",
       " 'import sys\\n',\n",
       " 'print(sys.platform)\\n',\n",
       " 'print(2**100)\\n',\n",
       " \"x='Spam'\\n\",\n",
       " 'print(x*8)']"
      ]
     },
     "execution_count": 32,
     "metadata": {},
     "output_type": "execute_result"
    }
   ],
   "source": [
    "list(filter(bool,open(\"Script1.py\")))"
   ]
  },
  {
   "cell_type": "code",
   "execution_count": 33,
   "metadata": {
    "collapsed": false
   },
   "outputs": [
    {
     "data": {
      "text/plain": [
       "['# First python script\\n',\n",
       " 'import sys\\n',\n",
       " 'print(sys.platform)\\n',\n",
       " 'print(2**100)\\n',\n",
       " \"x='Spam'\\n\",\n",
       " 'print(x*8)']"
      ]
     },
     "execution_count": 33,
     "metadata": {},
     "output_type": "execute_result"
    }
   ],
   "source": [
    "# list and tuple use Iteration protocol and string join methods too. Hence\n",
    "# they will work on an open file and automatically read one line at a time:\n",
    "list(open('Script1.py'))"
   ]
  },
  {
   "cell_type": "code",
   "execution_count": 34,
   "metadata": {
    "collapsed": false
   },
   "outputs": [
    {
     "data": {
      "text/plain": [
       "('# First python script\\n',\n",
       " 'import sys\\n',\n",
       " 'print(sys.platform)\\n',\n",
       " 'print(2**100)\\n',\n",
       " \"x='Spam'\\n\",\n",
       " 'print(x*8)')"
      ]
     },
     "execution_count": 34,
     "metadata": {},
     "output_type": "execute_result"
    }
   ],
   "source": [
    "tuple(open('Script1.py'))"
   ]
  },
  {
   "cell_type": "code",
   "execution_count": 35,
   "metadata": {
    "collapsed": false
   },
   "outputs": [
    {
     "data": {
      "text/plain": [
       "\"# First python script\\n&&import sys\\n&&print(sys.platform)\\n&&print(2**100)\\n&&x='Spam'\\n&&print(x*8)\""
      ]
     },
     "execution_count": 35,
     "metadata": {},
     "output_type": "execute_result"
    }
   ],
   "source": [
    "'&&'.join(open(\"Script1.py\"))"
   ]
  },
  {
   "cell_type": "code",
   "execution_count": 37,
   "metadata": {
    "collapsed": false
   },
   "outputs": [
    {
     "data": {
      "text/plain": [
       "('# First python script\\n', 'print(2**100)\\n')"
      ]
     },
     "execution_count": 37,
     "metadata": {},
     "output_type": "execute_result"
    }
   ],
   "source": [
    "# Sequence assignement, in membership test , slice assignement and list's\n",
    "# extend method also leverages the iteration protocal to scan\n",
    "a,b,c,d,e,f = open('Script1.py')\n",
    "a,d"
   ]
  },
  {
   "cell_type": "code",
   "execution_count": 38,
   "metadata": {
    "collapsed": false
   },
   "outputs": [
    {
     "data": {
      "text/plain": [
       "['import sys\\n', 'print(sys.platform)\\n', 'print(2**100)\\n', \"x='Spam'\\n\"]"
      ]
     },
     "execution_count": 38,
     "metadata": {},
     "output_type": "execute_result"
    }
   ],
   "source": [
    "a,*b, d = open(\"Script1.py\")\n",
    "b"
   ]
  },
  {
   "cell_type": "code",
   "execution_count": 41,
   "metadata": {
    "collapsed": false
   },
   "outputs": [
    {
     "data": {
      "text/plain": [
       "True"
      ]
     },
     "execution_count": 41,
     "metadata": {},
     "output_type": "execute_result"
    }
   ],
   "source": [
    "\"x='Spam'\\n\" in open('Script1.py')"
   ]
  },
  {
   "cell_type": "code",
   "execution_count": 43,
   "metadata": {
    "collapsed": false
   },
   "outputs": [
    {
     "data": {
      "text/plain": [
       "[11,\n",
       " '# First python script\\n',\n",
       " 'import sys\\n',\n",
       " 'print(sys.platform)\\n',\n",
       " 'print(2**100)\\n',\n",
       " \"x='Spam'\\n\",\n",
       " 'print(x*8)']"
      ]
     },
     "execution_count": 43,
     "metadata": {},
     "output_type": "execute_result"
    }
   ],
   "source": [
    "L=[11,22,33,44,55,66]\n",
    "L[1:6]=open(\"Script1.py\")\n",
    "L"
   ]
  },
  {
   "cell_type": "code",
   "execution_count": 45,
   "metadata": {
    "collapsed": false
   },
   "outputs": [
    {
     "data": {
      "text/plain": [
       "[11,\n",
       " '# First python script\\n',\n",
       " 'import sys\\n',\n",
       " 'print(sys.platform)\\n',\n",
       " 'print(2**100)\\n',\n",
       " \"x='Spam'\\n\",\n",
       " 'print(x*8)']"
      ]
     },
     "execution_count": 45,
     "metadata": {},
     "output_type": "execute_result"
    }
   ],
   "source": [
    "L=[11]\n",
    "L.extend(open(\"Script1.py\"))\n",
    "L"
   ]
  },
  {
   "cell_type": "code",
   "execution_count": 46,
   "metadata": {
    "collapsed": false
   },
   "outputs": [
    {
     "data": {
      "text/plain": [
       "[11, <_io.TextIOWrapper name='Script1.py' mode='r' encoding='UTF-8'>]"
      ]
     },
     "execution_count": 46,
     "metadata": {},
     "output_type": "execute_result"
    }
   ],
   "source": [
    "#Extends iterates, but append does not support it\n",
    "L=[11]\n",
    "L.append(open(\"Script1.py\"))\n",
    "L"
   ]
  },
  {
   "cell_type": "code",
   "execution_count": 47,
   "metadata": {
    "collapsed": false
   },
   "outputs": [
    {
     "data": {
      "text/plain": [
       "{'# First python script\\n',\n",
       " 'import sys\\n',\n",
       " 'print(2**100)\\n',\n",
       " 'print(sys.platform)\\n',\n",
       " 'print(x*8)',\n",
       " \"x='Spam'\\n\"}"
      ]
     },
     "execution_count": 47,
     "metadata": {},
     "output_type": "execute_result"
    }
   ],
   "source": [
    "#Iteration is more broadly supported\n",
    "set(open(\"Script1.py\"))"
   ]
  },
  {
   "cell_type": "code",
   "execution_count": 48,
   "metadata": {
    "collapsed": false
   },
   "outputs": [
    {
     "data": {
      "text/plain": [
       "{'# First python script\\n',\n",
       " 'import sys\\n',\n",
       " 'print(2**100)\\n',\n",
       " 'print(sys.platform)\\n',\n",
       " 'print(x*8)',\n",
       " \"x='Spam'\\n\"}"
      ]
     },
     "execution_count": 48,
     "metadata": {},
     "output_type": "execute_result"
    }
   ],
   "source": [
    "{line for line in open(\"Script1.py\")}"
   ]
  },
  {
   "cell_type": "code",
   "execution_count": 49,
   "metadata": {
    "collapsed": false
   },
   "outputs": [
    {
     "data": {
      "text/plain": [
       "{'# First python script\\n',\n",
       " 'import sys\\n',\n",
       " 'print(2**100)\\n',\n",
       " 'print(sys.platform)\\n',\n",
       " 'print(x*8)',\n",
       " \"x='Spam'\\n\"}"
      ]
     },
     "execution_count": 49,
     "metadata": {},
     "output_type": "execute_result"
    }
   ],
   "source": [
    "{line for line in open(\"Script1.py\")}"
   ]
  },
  {
   "cell_type": "code",
   "execution_count": 50,
   "metadata": {
    "collapsed": false
   },
   "outputs": [
    {
     "data": {
      "text/plain": [
       "{0: '# First python script\\n',\n",
       " 1: 'import sys\\n',\n",
       " 2: 'print(sys.platform)\\n',\n",
       " 3: 'print(2**100)\\n',\n",
       " 4: \"x='Spam'\\n\",\n",
       " 5: 'print(x*8)'}"
      ]
     },
     "execution_count": 50,
     "metadata": {},
     "output_type": "execute_result"
    }
   ],
   "source": [
    "{ix: line for ix, line in enumerate(open(\"Script1.py\"))}"
   ]
  },
  {
   "cell_type": "code",
   "execution_count": 51,
   "metadata": {
    "collapsed": false
   },
   "outputs": [
    {
     "data": {
      "text/plain": [
       "{'print(2**100)\\n', 'print(sys.platform)\\n', 'print(x*8)'}"
      ]
     },
     "execution_count": 51,
     "metadata": {},
     "output_type": "execute_result"
    }
   ],
   "source": [
    "#Both set and dictionary comprehensions support the extended sytnax of\n",
    "#list comprehensions\n",
    "{line for line in open(\"Script1.py\") if line[0]=='p'}"
   ]
  },
  {
   "cell_type": "code",
   "execution_count": 52,
   "metadata": {
    "collapsed": false
   },
   "outputs": [
    {
     "data": {
      "text/plain": [
       "{2: 'print(sys.platform)\\n', 3: 'print(2**100)\\n', 5: 'print(x*8)'}"
      ]
     },
     "execution_count": 52,
     "metadata": {},
     "output_type": "execute_result"
    }
   ],
   "source": [
    "#like list comprehesion both set and dictionary scan the file line by line \n",
    "#and pick out lines that begin with p. They also byukd sets and dictionaries\n",
    "3 in teh end\n",
    "{ix:line for (ix, line) in enumerate(open(\"Script1.py\")) if line[0]=='p'}"
   ]
  },
  {
   "cell_type": "code",
   "execution_count": 55,
   "metadata": {
    "collapsed": false
   },
   "outputs": [
    {
     "name": "stdout",
     "output_type": "stream",
     "text": [
      "20\n",
      "True\n",
      "False\n",
      "4\n"
     ]
    }
   ],
   "source": [
    "#Other functions that support iteration protocol\n",
    "#Sum call computes the sum of all the numbers in any iterable\n",
    "#the any and all built-ins return the largest and smallest item in an \n",
    "#iterable. \n",
    "print(sum([3,2,4,5,6,0]))\n",
    "print(any([\"spam\",'',\"ni\"]))\n",
    "print(all([\"spam\",'',\"ni\"]))\n",
    "print(max([1,2,3,4]))"
   ]
  },
  {
   "cell_type": "code",
   "execution_count": 57,
   "metadata": {
    "collapsed": false
   },
   "outputs": [
    {
     "name": "stdout",
     "output_type": "stream",
     "text": [
      "x='Spam'\n",
      "\n"
     ]
    },
    {
     "data": {
      "text/plain": [
       "'# First python script\\n'"
      ]
     },
     "execution_count": 57,
     "metadata": {},
     "output_type": "execute_result"
    }
   ],
   "source": [
    "#max and min can be applied to file context as well\n",
    "print(max(open(\"Script1.py\")))\n",
    "min(open(\"Script1.py\"))"
   ]
  },
  {
   "cell_type": "code",
   "execution_count": 62,
   "metadata": {
    "collapsed": false
   },
   "outputs": [
    {
     "name": "stdout",
     "output_type": "stream",
     "text": [
      "1&2&3&4\n",
      "1&2&3&4\n",
      "# First python script\n",
      "&import sys\n",
      "&print(sys.platform)\n",
      "&print(2**100)\n",
      "&x='Spam'\n",
      "&print(x*8)\n"
     ]
    }
   ],
   "source": [
    "#Later we will learn that special *arg form can be used in function calls\n",
    "# to unpack a caollection of values into individual arguments\n",
    "def f(a,b,c,d): print(a,b,c,d, sep='&')\n",
    "f(1,2,3,4)\n",
    "f(*[1,2,3,4])\n",
    "def f(a,b,c,d,e,f): print(a,b,c,d,e,f, sep='&')\n",
    "f(*open(\"Script1.py\"))"
   ]
  },
  {
   "cell_type": "code",
   "execution_count": 67,
   "metadata": {
    "collapsed": false
   },
   "outputs": [
    {
     "name": "stdout",
     "output_type": "stream",
     "text": [
      "[(1, 3), (2, 4)]\n",
      "(1, 2)\n",
      "(3, 4)\n"
     ]
    }
   ],
   "source": [
    "#Because of the argument-unpacking sytnax in function call accepts iterables\n",
    "# it is possible to use zip built-in to unzip zipped tuples by making\n",
    "#prior nested zip results arguments for another zip call\n",
    "X=(1,2)\n",
    "Y=(3,4)\n",
    "print(list(zip(X,Y)))\n",
    "A,B = zip(*zip(X,Y)) #not sure how this works\n",
    "print(A)\n",
    "print(B)"
   ]
  },
  {
   "cell_type": "code",
   "execution_count": null,
   "metadata": {
    "collapsed": true
   },
   "outputs": [],
   "source": []
  }
 ],
 "metadata": {
  "kernelspec": {
   "display_name": "Python 3",
   "language": "python",
   "name": "python3"
  },
  "language_info": {
   "codemirror_mode": {
    "name": "ipython",
    "version": 3
   },
   "file_extension": ".py",
   "mimetype": "text/x-python",
   "name": "python",
   "nbconvert_exporter": "python",
   "pygments_lexer": "ipython3",
   "version": "3.5.1"
  }
 },
 "nbformat": 4,
 "nbformat_minor": 0
}

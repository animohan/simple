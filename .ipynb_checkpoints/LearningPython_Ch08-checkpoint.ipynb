{
 "cells": [
  {
   "cell_type": "markdown",
   "metadata": {},
   "source": [
    "# 8. Lists and Dictionaries"
   ]
  },
  {
   "cell_type": "markdown",
   "metadata": {},
   "source": [
    "## 8.1 Simple Lists"
   ]
  },
  {
   "cell_type": "code",
   "execution_count": 3,
   "metadata": {
    "collapsed": true
   },
   "outputs": [],
   "source": [
    "a = [] # Empty list"
   ]
  },
  {
   "cell_type": "code",
   "execution_count": 5,
   "metadata": {
    "collapsed": false
   },
   "outputs": [
    {
     "name": "stdout",
     "output_type": "stream",
     "text": [
      "[1, 2, 3, 4]\n"
     ]
    }
   ],
   "source": [
    "a = [1,2,3,4]\n",
    "print(a)"
   ]
  },
  {
   "cell_type": "code",
   "execution_count": 10,
   "metadata": {
    "collapsed": false
   },
   "outputs": [
    {
     "name": "stdout",
     "output_type": "stream",
     "text": [
      "['123', 1, 2, 3, 'abc']\n"
     ]
    }
   ],
   "source": [
    "a = [\"123\",1,2,3,\"abc\"] #Lists can be mixed size\n",
    "print(a)"
   ]
  },
  {
   "cell_type": "code",
   "execution_count": 18,
   "metadata": {
    "collapsed": false
   },
   "outputs": [
    {
     "name": "stdout",
     "output_type": "stream",
     "text": [
      "[1, 2, 3, [4, 5, 6]] \n",
      "\n",
      "1\n",
      "2\n",
      "3\n",
      "[4, 5, 6]\n"
     ]
    }
   ],
   "source": [
    "#lists can be nested\n",
    "a = [1,2,3,[4,5,6]]\n",
    "print(a,\"\\n\")\n",
    "\n",
    "for item in a:\n",
    "    print(item)"
   ]
  },
  {
   "cell_type": "code",
   "execution_count": 7,
   "metadata": {
    "collapsed": false
   },
   "outputs": [
    {
     "name": "stdout",
     "output_type": "stream",
     "text": [
      "[-5, -4, -3, -2, -1, 0, 1, 2, 3, 4]\n"
     ]
    }
   ],
   "source": [
    "a = list(range(-5,5,1)) #Range can be used\n",
    "print(a)"
   ]
  },
  {
   "cell_type": "code",
   "execution_count": 8,
   "metadata": {
    "collapsed": false
   },
   "outputs": [
    {
     "name": "stdout",
     "output_type": "stream",
     "text": [
      "-3\n",
      "[-3, -2, -1]\n"
     ]
    }
   ],
   "source": [
    "#Printing elements\n",
    "print(a[2])\n",
    "print(a[2:5])"
   ]
  },
  {
   "cell_type": "code",
   "execution_count": 9,
   "metadata": {
    "collapsed": false
   },
   "outputs": [
    {
     "name": "stdout",
     "output_type": "stream",
     "text": [
      "[1, 2, 3, 4, 123, 'abc', 1.23, {}]\n"
     ]
    }
   ],
   "source": [
    "#Appending two lists\n",
    "L1 = [123, \"abc\",1.23,{}]\n",
    "L = list(range(1,5))\n",
    "print(L+L1)"
   ]
  },
  {
   "cell_type": "markdown",
   "metadata": {},
   "source": [
    "## 8.2 List Operations"
   ]
  },
  {
   "cell_type": "code",
   "execution_count": 11,
   "metadata": {
    "collapsed": false
   },
   "outputs": [
    {
     "name": "stdout",
     "output_type": "stream",
     "text": [
      "True\n"
     ]
    }
   ],
   "source": [
    "L = [1,2,3,4]\n",
    "print(1 in L) #Membership"
   ]
  },
  {
   "cell_type": "markdown",
   "metadata": {},
   "source": [
    "### Adding to the list"
   ]
  },
  {
   "cell_type": "code",
   "execution_count": 15,
   "metadata": {
    "collapsed": false
   },
   "outputs": [
    {
     "name": "stdout",
     "output_type": "stream",
     "text": [
      "[1, 2, 3, 4, 999, 555]\n"
     ]
    }
   ],
   "source": [
    "L = [1,2,3,4]\n",
    "L.append(999) #Appending an element to the list\n",
    "L.append(555)\n",
    "print(L)"
   ]
  },
  {
   "cell_type": "code",
   "execution_count": 10,
   "metadata": {
    "collapsed": false
   },
   "outputs": [
    {
     "name": "stdout",
     "output_type": "stream",
     "text": [
      "[1, 2, 3, 4, 5, 6, 7]\n"
     ]
    }
   ],
   "source": [
    "L = [1,2,3,4]\n",
    "L.extend([5,6,7]) #Extending the list\n",
    "print(L)"
   ]
  },
  {
   "cell_type": "code",
   "execution_count": 11,
   "metadata": {
    "collapsed": false
   },
   "outputs": [
    {
     "name": "stdout",
     "output_type": "stream",
     "text": [
      "[1, 2, 9999, 3, 4]\n"
     ]
    }
   ],
   "source": [
    "L = [1,2,3,4]\n",
    "L.insert(2,9999) #Inserting at a particular posittion\n",
    "print(L)"
   ]
  },
  {
   "cell_type": "code",
   "execution_count": 12,
   "metadata": {
    "collapsed": false
   },
   "outputs": [
    {
     "name": "stdout",
     "output_type": "stream",
     "text": [
      "[1, 999, 2, 3, 4]\n",
      "[99, 88, 77, 1, 999, 2, 3, 4]\n"
     ]
    }
   ],
   "source": [
    "L = [1,2,3,4]\n",
    "L.insert(1,999) #Inserting into a list or stack\n",
    "print(L)\n",
    "\n",
    "L[0:0] = [99,88,77] #Insert in the begining of the string\n",
    "print(L)"
   ]
  },
  {
   "cell_type": "code",
   "execution_count": 13,
   "metadata": {
    "collapsed": false
   },
   "outputs": [
    {
     "name": "stdout",
     "output_type": "stream",
     "text": [
      "[111, 222, 1, 2, 3, 4]\n",
      "[111, 222, 1, 2, 3, 4, 555, 777]\n"
     ]
    }
   ],
   "source": [
    "L = [1,2,3,4]\n",
    "L[:0] = [111,222] # Insert in the begining\n",
    "print(L)\n",
    "\n",
    "L[len(L):]= [555,777] #Inserting at the end of the list.\n",
    "print(L)"
   ]
  },
  {
   "cell_type": "markdown",
   "metadata": {},
   "source": [
    "### Removing from the list"
   ]
  },
  {
   "cell_type": "code",
   "execution_count": 16,
   "metadata": {
    "collapsed": false
   },
   "outputs": [
    {
     "name": "stdout",
     "output_type": "stream",
     "text": [
      "[1, 2, 3, 4, 5, 6]\n",
      "[1, 2, 4, 5, 6]\n"
     ]
    }
   ],
   "source": [
    "# Remove elements from the list\n",
    "L = [1,2,3,4,5,6,7] \n",
    "L.pop()  #Remove the first element\n",
    "print(L)\n",
    "L.pop(2) #Can also pop specific element in this case 3rd element L[2]\n",
    "print(L)"
   ]
  },
  {
   "cell_type": "code",
   "execution_count": null,
   "metadata": {
    "collapsed": true
   },
   "outputs": [],
   "source": [
    "L = [1,2,3,4,5,6,7]\n",
    "del L[0] #Remove an element with a particula index\n",
    "print(L)"
   ]
  },
  {
   "cell_type": "code",
   "execution_count": null,
   "metadata": {
    "collapsed": true
   },
   "outputs": [],
   "source": [
    "L = [1,2,3,4,5,6,7]\n",
    "L.remove(L[0]) #Remove an element with index from the list\n",
    "print(L)\n",
    "\n",
    "L[0:2]=[] #Set a range of elements to null; note can only be used with\n",
    "          #slicing i.e this (L[2] =[]) does not work\n",
    "print(L)"
   ]
  },
  {
   "cell_type": "markdown",
   "metadata": {},
   "source": [
    "### Sorting lists"
   ]
  },
  {
   "cell_type": "code",
   "execution_count": 17,
   "metadata": {
    "collapsed": false
   },
   "outputs": [
    {
     "name": "stdout",
     "output_type": "stream",
     "text": [
      "[0, 1, 2, 4, 6, 9]\n"
     ]
    }
   ],
   "source": [
    "L = [6,2,4,9,1,0]\n",
    "L.sort() #Sorting a list; Note sort changes the order in the existing list\n",
    "print(L)"
   ]
  },
  {
   "cell_type": "code",
   "execution_count": 1,
   "metadata": {
    "collapsed": false
   },
   "outputs": [
    {
     "name": "stdout",
     "output_type": "stream",
     "text": [
      "['Cyclone', 'Hurricane', 'Rain', 'Storm', 'Typhoon', 'Water']\n"
     ]
    }
   ],
   "source": [
    "#Sorting Strings:\n",
    "L = [\"Rain\", \"Water\",\"Cyclone\",\"Typhoon\",\"Hurricane\",\"Storm\"]\n",
    "L.sort()  #Existing list L is sorted in order of words.\n",
    "print(L) "
   ]
  },
  {
   "cell_type": "code",
   "execution_count": 3,
   "metadata": {
    "collapsed": false
   },
   "outputs": [
    {
     "name": "stdout",
     "output_type": "stream",
     "text": [
      "['ABD', 'aBe', 'abc']\n",
      "['abc', 'ABD', 'aBe']\n"
     ]
    }
   ],
   "source": [
    "#Case (Upper or Lower) handling in string sorting\n",
    "J=['ABD','aBe','abc'] #Upper case are sorted first in ascending order\n",
    "J.sort() \n",
    "print(J)\n",
    "J.sort(key=str.lower) #Normalize to lower case for sorting.\n",
    "                      # Does not change the actual content, but just uses\n",
    "                      # lower case for sorting\n",
    "print(J)"
   ]
  },
  {
   "cell_type": "code",
   "execution_count": 5,
   "metadata": {
    "collapsed": false
   },
   "outputs": [
    {
     "name": "stdout",
     "output_type": "stream",
     "text": [
      "['aBe', 'ABD', 'abc']\n"
     ]
    }
   ],
   "source": [
    "J=['ABD','aBe','abc'] \n",
    "J.sort(key=str.lower, reverse = True) \n",
    "    #Use lower case and sorting in decending order\n",
    "print(J)"
   ]
  },
  {
   "cell_type": "markdown",
   "metadata": {},
   "source": [
    "Note: Sort and Append do not return list objects but they change the list\n",
    "place. Because of such constraints sorting is also available as a built in function"
   ]
  },
  {
   "cell_type": "code",
   "execution_count": 6,
   "metadata": {
    "collapsed": false
   },
   "outputs": [
    {
     "name": "stdout",
     "output_type": "stream",
     "text": [
      "['aBe', 'ABD', 'abc']\n"
     ]
    }
   ],
   "source": [
    "J=['ABD','aBe','abc']\n",
    "L = sorted(J, key=str.lower, reverse = True) \n",
    "  # sorted function outputs a list which can be then assigned to a variable\n",
    "print(L)"
   ]
  },
  {
   "cell_type": "code",
   "execution_count": 4,
   "metadata": {
    "collapsed": false
   },
   "outputs": [
    {
     "name": "stdout",
     "output_type": "stream",
     "text": [
      "['IJK', 'FGH', 'abc', 'ABC']\n"
     ]
    }
   ],
   "source": [
    "J = [\"ABC\", \"abc\",\"FGH\", \"IJK\"]\n",
    "J.reverse() #Reverse the order of the entries of the list\n",
    "print(J)"
   ]
  },
  {
   "cell_type": "code",
   "execution_count": 23,
   "metadata": {
    "collapsed": false
   },
   "outputs": [
    {
     "name": "stdout",
     "output_type": "stream",
     "text": [
      "['IJK', 'FGH', 'CDE', 'ABC']\n"
     ]
    }
   ],
   "source": [
    "L = [1,2,3,4]\n",
    "L = J.copy() #Copying over lists\n",
    "print(L)"
   ]
  },
  {
   "cell_type": "code",
   "execution_count": 24,
   "metadata": {
    "collapsed": false
   },
   "outputs": [
    {
     "name": "stdout",
     "output_type": "stream",
     "text": [
      "[]\n"
     ]
    }
   ],
   "source": [
    "L = [1,2,3,4]\n",
    "L.clear() #Clearing a list\n",
    "print(L)"
   ]
  },
  {
   "cell_type": "markdown",
   "metadata": {},
   "source": [
    "# 8.3 Dictionaries"
   ]
  },
  {
   "cell_type": "markdown",
   "metadata": {},
   "source": [
    "Lists are ordered collection of objects; Dictionaries are unordered collections. Lists serve as roles similar to arrays in other languages, Dictionaries take place of recors, search tables etc."
   ]
  },
  {
   "cell_type": "markdown",
   "metadata": {},
   "source": [
    "## 8.3.1 Creating a Dictionory"
   ]
  },
  {
   "cell_type": "code",
   "execution_count": 87,
   "metadata": {
    "collapsed": false
   },
   "outputs": [
    {
     "data": {
      "text/plain": [
       "{'a': 1, 'b': 2, 'c': 3}"
      ]
     },
     "execution_count": 87,
     "metadata": {},
     "output_type": "execute_result"
    }
   ],
   "source": [
    "D = dict(a=1, b=2,c=3) #Simple dicitionary creation\n",
    "D"
   ]
  },
  {
   "cell_type": "code",
   "execution_count": 25,
   "metadata": {
    "collapsed": false
   },
   "outputs": [
    {
     "name": "stdout",
     "output_type": "stream",
     "text": [
      "{'ham': 1, 'eggs': 3, 'Spam': 2}\n"
     ]
    },
    {
     "data": {
      "text/plain": [
       "3"
      ]
     },
     "execution_count": 25,
     "metadata": {},
     "output_type": "execute_result"
    }
   ],
   "source": [
    "D = {\"Spam\":2, \"ham\":1, \"eggs\":3} #Simple dictionary\n",
    "print(D)\n",
    "\n",
    "len(D) #Lenght of the dictionary"
   ]
  },
  {
   "cell_type": "code",
   "execution_count": 33,
   "metadata": {
    "collapsed": false
   },
   "outputs": [
    {
     "data": {
      "text/plain": [
       "dict_keys(['ham', 'eggs', 'Spam'])"
      ]
     },
     "execution_count": 33,
     "metadata": {},
     "output_type": "execute_result"
    }
   ],
   "source": [
    "D.keys() # All the keys of the dicitionary"
   ]
  },
  {
   "cell_type": "code",
   "execution_count": 34,
   "metadata": {
    "collapsed": false
   },
   "outputs": [
    {
     "data": {
      "text/plain": [
       "dict_values([1, 3, 2])"
      ]
     },
     "execution_count": 34,
     "metadata": {},
     "output_type": "execute_result"
    }
   ],
   "source": [
    "D.values() # All the values of the dictionary"
   ]
  },
  {
   "cell_type": "code",
   "execution_count": 85,
   "metadata": {
    "collapsed": false
   },
   "outputs": [
    {
     "data": {
      "text/plain": [
       "{'eggs': 555, 'ham': 777, 'spam': 999}"
      ]
     },
     "execution_count": 85,
     "metadata": {},
     "output_type": "execute_result"
    }
   ],
   "source": [
    "F ={} # Create Empty dictionary and add values to it.\n",
    "F[\"spam\"]=999\n",
    "F[\"ham\"] = 777\n",
    "F[\"eggs\"] = 555\n",
    "F"
   ]
  },
  {
   "cell_type": "markdown",
   "metadata": {},
   "source": [
    "## 8.3.2 Accessing elements of Dictionary"
   ]
  },
  {
   "cell_type": "code",
   "execution_count": 24,
   "metadata": {
    "collapsed": false
   },
   "outputs": [
    {
     "name": "stdout",
     "output_type": "stream",
     "text": [
      "2 \n",
      "\n",
      "1 3 2 "
     ]
    }
   ],
   "source": [
    "D = {\"Spam\":2, \"ham\":1, \"eggs\":3}\n",
    "print(D[\"Spam\"],\"\\n\") #Accessing by calling the key directly\n",
    "\n",
    "for key in D:  #Using a for loop to access all the keys in the dictionary\n",
    "    print(D[key], end = \" \") #End = \" \", ensures that each print is ended\n",
    "                              # with a white space."
   ]
  },
  {
   "cell_type": "code",
   "execution_count": 39,
   "metadata": {
    "collapsed": false
   },
   "outputs": [
    {
     "name": "stdout",
     "output_type": "stream",
     "text": [
      "True\n"
     ]
    }
   ],
   "source": [
    "print(\"ham\" in D) #Test for existence of a key in the dictionary\n",
    "            #Note that only keys are checked in this case"
   ]
  },
  {
   "cell_type": "code",
   "execution_count": 41,
   "metadata": {
    "collapsed": false
   },
   "outputs": [
    {
     "name": "stdout",
     "output_type": "stream",
     "text": [
      "2\n"
     ]
    }
   ],
   "source": [
    "#Another way to get\n",
    "D = {\"Spam\":2, \"ham\":1, \"eggs\":3} #New dicitionary\n",
    "print(D.get('Spam'))"
   ]
  },
  {
   "cell_type": "code",
   "execution_count": 42,
   "metadata": {
    "collapsed": false
   },
   "outputs": [
    {
     "name": "stdout",
     "output_type": "stream",
     "text": [
      "None\n"
     ]
    }
   ],
   "source": [
    "D = {\"Spam\":2, \"ham\":1, \"eggs\":3} #New dicitionary\n",
    "print(D.get(\"june\")) #Output when the key doesnt exist."
   ]
  },
  {
   "cell_type": "code",
   "execution_count": 45,
   "metadata": {
    "collapsed": false
   },
   "outputs": [
    {
     "name": "stdout",
     "output_type": "stream",
     "text": [
      "88\n",
      "{'ham': 1, 'Spam': 2, 'eggs': 3}\n"
     ]
    }
   ],
   "source": [
    "D = {\"Spam\":2, \"ham\":1, \"eggs\":3} #New dicitionary\n",
    "print(D.get(\"toast\",88)) #Creating own key value pair; Not sure why this\n",
    "                        # would be done\n",
    "print(D) #Doesnt change the original dicitionary"
   ]
  },
  {
   "cell_type": "markdown",
   "metadata": {},
   "source": [
    "### 8.3.3 List of Dictionaries"
   ]
  },
  {
   "cell_type": "code",
   "execution_count": 105,
   "metadata": {
    "collapsed": false
   },
   "outputs": [
    {
     "name": "stdout",
     "output_type": "stream",
     "text": [
      "False\n",
      "True\n"
     ]
    }
   ],
   "source": [
    "print(\"ham\" in D.keys())\n",
    "print(1 in D.values())"
   ]
  },
  {
   "cell_type": "code",
   "execution_count": null,
   "metadata": {
    "collapsed": true
   },
   "outputs": [],
   "source": []
  },
  {
   "cell_type": "code",
   "execution_count": 20,
   "metadata": {
    "collapsed": false
   },
   "outputs": [
    {
     "name": "stdout",
     "output_type": "stream",
     "text": [
      "[{'ham': 2, 'Spam': 1, 'eggs': 3}, {'ham': 6, 'Spam': 5, 'eggs': 7}]\n"
     ]
    }
   ],
   "source": [
    "#Can also create a list of dicitionaries:\n",
    "DictSet = [{\"Spam\":1, \"ham\":2, \"eggs\":3}, {\"Spam\":5, \"ham\":6, \"eggs\":7}]\n",
    "print(DictSet)"
   ]
  },
  {
   "cell_type": "code",
   "execution_count": 24,
   "metadata": {
    "collapsed": false
   },
   "outputs": [
    {
     "name": "stdout",
     "output_type": "stream",
     "text": [
      "{'ham': 2, 'Spam': 1, 'eggs': 3}\n",
      "1\n"
     ]
    }
   ],
   "source": [
    " print(DictSet[0]) #Dicitionaries in a list of dictionaries can be accessed by \n",
    "            #index\n",
    "\n",
    "print(DictSet[0][\"Spam\"]) #Using index of list and key from dictionary\n",
    "                          #accessing a particular element"
   ]
  },
  {
   "cell_type": "markdown",
   "metadata": {},
   "source": [
    "### 8.3.4 Modifying the Dictionary"
   ]
  },
  {
   "cell_type": "code",
   "execution_count": 26,
   "metadata": {
    "collapsed": false
   },
   "outputs": [
    {
     "name": "stdout",
     "output_type": "stream",
     "text": [
      "{'ham': 1, 'Spam': 2, 'eggs': 999}\n"
     ]
    }
   ],
   "source": [
    "D = {\"Spam\":2, \"ham\":1, \"eggs\":3} #Declaring Dictionary\n",
    "D[\"eggs\"] = 999 #Changing value by assigning new value\n",
    "print(D)"
   ]
  },
  {
   "cell_type": "code",
   "execution_count": 30,
   "metadata": {
    "collapsed": false
   },
   "outputs": [
    {
     "name": "stdout",
     "output_type": "stream",
     "text": [
      "{'ham': ['grill', 'bake', 'fry'], 'Spam': 2, 'eggs': 3}\n"
     ]
    }
   ],
   "source": [
    "D = {\"Spam\":2, \"ham\":1, \"eggs\":3} #New dictionary\n",
    "D['ham']= [\"grill\",\"bake\",\"fry\"] #the new value does not need to be same \n",
    "                                # type as earlier values\n",
    "print(D)"
   ]
  },
  {
   "cell_type": "code",
   "execution_count": 32,
   "metadata": {
    "collapsed": false
   },
   "outputs": [
    {
     "name": "stdout",
     "output_type": "stream",
     "text": [
      "{'ham': 1, 'Spam': 2}\n"
     ]
    }
   ],
   "source": [
    "#Deleting an entry\n",
    "D = {\"Spam\":2, \"ham\":1, \"eggs\":3} #New dictionary\n",
    "del(D[\"eggs\"])\n",
    "print(D)"
   ]
  },
  {
   "cell_type": "code",
   "execution_count": 47,
   "metadata": {
    "collapsed": false
   },
   "outputs": [
    {
     "name": "stdout",
     "output_type": "stream",
     "text": [
      "{'ham': 1, 'eggs': 3, 'Spam': 2, 'chicken': 25, 'fish': 44, 'beef': 66}\n"
     ]
    }
   ],
   "source": [
    "#Adding one dicitionary to another.\n",
    "D = {\"Spam\":2, \"ham\":1, \"eggs\":3}  \n",
    "D2 = {\"chicken\":25,\"fish\":44, \"beef\":66}\n",
    "D.update(D2)\n",
    "print(D)"
   ]
  },
  {
   "cell_type": "code",
   "execution_count": 50,
   "metadata": {
    "collapsed": false
   },
   "outputs": [
    {
     "data": {
      "text/plain": [
       "2"
      ]
     },
     "execution_count": 50,
     "metadata": {},
     "output_type": "execute_result"
    }
   ],
   "source": [
    "#Popping values from dictionary ;# Another way to access dicitionary\n",
    "D = {\"Spam\":2, \"ham\":1, \"eggs\":3} \n",
    "D.pop (\"Spam\")\n"
   ]
  },
  {
   "cell_type": "markdown",
   "metadata": {},
   "source": [
    "### 8.3.4 Example"
   ]
  },
  {
   "cell_type": "code",
   "execution_count": 54,
   "metadata": {
    "collapsed": false
   },
   "outputs": [
    {
     "name": "stdout",
     "output_type": "stream",
     "text": [
      "Movie of the 1983 year:  The meaning of life\n"
     ]
    }
   ],
   "source": [
    "table = {  #Declaring dictionary\n",
    "    \"1975\": \"Holy Grail\",\n",
    "    \"1979\": \"Life of Brian\",\n",
    "    \"1983\": \"The meaning of life\"\n",
    "}\n",
    "\n",
    "year =  '1983'\n",
    "print(\"Movie of the 1983 year: \", table[year])"
   ]
  },
  {
   "cell_type": "code",
   "execution_count": 69,
   "metadata": {
    "collapsed": false
   },
   "outputs": [
    {
     "name": "stdout",
     "output_type": "stream",
     "text": [
      "1979 Life of Brian\n",
      "1975 Holy Grail\n",
      "1983 The meaning of life\n"
     ]
    }
   ],
   "source": [
    " #User of dictionary.items() gives key value pairs.\n",
    "for (year, movie) in table.items():   \n",
    "    print(year, movie)"
   ]
  },
  {
   "cell_type": "code",
   "execution_count": 78,
   "metadata": {
    "collapsed": false
   },
   "outputs": [
    {
     "data": {
      "text/plain": [
       "['Holy Grail']"
      ]
     },
     "execution_count": 78,
     "metadata": {},
     "output_type": "execute_result"
    }
   ],
   "source": [
    "#Comprehensions\n",
    "#ensure the entry is in square brackets\n",
    "[movie for (year, movie) in table.items() if year ==\"1975\"]"
   ]
  },
  {
   "cell_type": "markdown",
   "metadata": {},
   "source": [
    "### 8.3.5  Sorting Dictionaries"
   ]
  },
  {
   "cell_type": "code",
   "execution_count": 104,
   "metadata": {
    "collapsed": false
   },
   "outputs": [
    {
     "name": "stdout",
     "output_type": "stream",
     "text": [
      "dict_keys(['def', 'ghi', 'abc'])\n"
     ]
    },
    {
     "data": {
      "text/plain": [
       "['abc', 'def', 'ghi']"
      ]
     },
     "execution_count": 104,
     "metadata": {},
     "output_type": "execute_result"
    }
   ],
   "source": [
    "D = {\"abc\":2, \"def\":1, \"ghi\":3}\n",
    "K = D.keys()\n",
    "print(K)\n",
    "#K.sort() # Doesnt Work\n",
    "K  = list(K)\n",
    "K.sort()\n",
    "K"
   ]
  },
  {
   "cell_type": "code",
   "execution_count": 96,
   "metadata": {
    "collapsed": false
   },
   "outputs": [
    {
     "data": {
      "text/plain": [
       "{'Spam', 'eggs', 'ham', 'x'}"
      ]
     },
     "execution_count": 96,
     "metadata": {},
     "output_type": "execute_result"
    }
   ],
   "source": []
  },
  {
   "cell_type": "code",
   "execution_count": null,
   "metadata": {
    "collapsed": true
   },
   "outputs": [],
   "source": []
  }
 ],
 "metadata": {
  "kernelspec": {
   "display_name": "Python 3",
   "language": "python",
   "name": "python3"
  },
  "language_info": {
   "codemirror_mode": {
    "name": "ipython",
    "version": 3
   },
   "file_extension": ".py",
   "mimetype": "text/x-python",
   "name": "python",
   "nbconvert_exporter": "python",
   "pygments_lexer": "ipython3",
   "version": "3.5.1"
  }
 },
 "nbformat": 4,
 "nbformat_minor": 0
}

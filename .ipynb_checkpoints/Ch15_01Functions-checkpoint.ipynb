{
 "cells": [
  {
   "cell_type": "code",
   "execution_count": 5,
   "metadata": {
    "collapsed": false
   },
   "outputs": [
    {
     "name": "stdout",
     "output_type": "stream",
     "text": [
      "8\n",
      "2.25\n",
      "NiNiNiNi\n"
     ]
    }
   ],
   "source": [
    "#function returning multiply\n",
    "\n",
    "def times(x,y):\n",
    "    return x*y\n",
    "\n",
    "print(times(2,4))\n",
    "print(times(1.5,1.5))\n",
    "print(times(\"Ni\",4))\n",
    "\n"
   ]
  },
  {
   "cell_type": "code",
   "execution_count": 1,
   "metadata": {
    "collapsed": false
   },
   "outputs": [
    {
     "name": "stdout",
     "output_type": "stream",
     "text": [
      "o\n",
      "5\n",
      "4\n"
     ]
    }
   ],
   "source": [
    "def intersect(s1,s2):\n",
    "    res=[]\n",
    "    for x in s1:\n",
    "        if x in s2:\n",
    "            res.append(x)\n",
    "    return x\n",
    "\n",
    "print(intersect(\"hello\",\"world\")) #strings\n",
    "print(intersect([1,3,4,5],[3,4,5,22])) #list\n",
    "print(intersect([1,2,3,4],(3,5))) #mixed types\n",
    "\n",
    "#we can pass any argument as long as the first argument supports for loop\n",
    "# and second has to support in membership test"
   ]
  },
  {
   "cell_type": "code",
   "execution_count": 2,
   "metadata": {
    "collapsed": false
   },
   "outputs": [
    {
     "data": {
      "text/plain": [
       "['l', 'l', 'o', 'w']"
      ]
     },
     "execution_count": 2,
     "metadata": {},
     "output_type": "execute_result"
    }
   ],
   "source": [
    "s1=\"hellow\"\n",
    "s2=\"world\"\n",
    "[x for x in s1 if x in s2]"
   ]
  },
  {
   "cell_type": "code",
   "execution_count": null,
   "metadata": {
    "collapsed": true
   },
   "outputs": [],
   "source": []
  }
 ],
 "metadata": {
  "kernelspec": {
   "display_name": "Python 3",
   "language": "python",
   "name": "python3"
  },
  "language_info": {
   "codemirror_mode": {
    "name": "ipython",
    "version": 3
   },
   "file_extension": ".py",
   "mimetype": "text/x-python",
   "name": "python",
   "nbconvert_exporter": "python",
   "pygments_lexer": "ipython3",
   "version": "3.5.1"
  }
 },
 "nbformat": 4,
 "nbformat_minor": 0
}

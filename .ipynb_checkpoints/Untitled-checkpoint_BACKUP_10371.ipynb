{
 "cells": [
  {
   "cell_type": "code",
<<<<<<< HEAD
   "execution_count": 255,
   "metadata": {
    "collapsed": false
   },
   "outputs": [
    {
     "data": {
      "text/plain": [
       "[4, 5]"
      ]
     },
     "execution_count": 255,
     "metadata": {},
     "output_type": "execute_result"
    }
   ],
   "source": [
    "nums = [2,7,5,9,34,23,67,22]\n",
    "target = 57\n",
    "\n",
    "sub = []\n",
    "for i in nums:\n",
    "    sub.append(abs(i-target))\n",
    "\n",
    "sol = []\n",
    "found = 0\n",
    "\n",
    "for i in range(0,len(nums)-1):\n",
    "    for j in range(i+1, len(nums)-1):\n",
    "        if(nums[i]+nums[j]== target):\n",
    "            sol.append(i)\n",
    "            sol.append(j)\n",
    "            found = 1\n",
    "            break\n",
    "    if(found == 1):\n",
    "        break\n",
    "sol     "
   ]
  },
  {
   "cell_type": "code",
   "execution_count": 256,
   "metadata": {
    "collapsed": false
   },
   "outputs": [
    {
     "name": "stdout",
     "output_type": "stream",
     "text": [
      "2\n",
      "3\n",
      "4\n"
     ]
    },
    {
     "data": {
      "text/plain": [
       "[1]"
      ]
     },
     "execution_count": 256,
     "metadata": {},
     "output_type": "execute_result"
    }
   ],
   "source": [
    "nums = [2,3,4,5]\n",
    "len(nums)\n",
    "for i in range(0,len(nums)-1):\n",
    "    print(nums[i])\n",
    "u = []\n",
    "u.append(nums.index(3))\n",
    "u"
   ]
  },
  {
   "cell_type": "code",
   "execution_count": 263,
   "metadata": {
    "collapsed": false
   },
   "outputs": [
    {
     "name": "stdout",
     "output_type": "stream",
     "text": [
      "[]\n"
     ]
    }
   ],
   "source": [
    "class Solution(object):\n",
    "    def twoSum(self, nums, target):\n",
    "        \"\"\"\n",
    "        :type nums: List[int]\n",
    "        :type target: int\n",
    "        :rtype: List[int]\n",
    "        \"\"\"\n",
    "        sol = []\n",
    "        found = 0\n",
    "\n",
    "        for i in range(0,len(nums)-1):\n",
    "            for j in range(i+1, len(nums)-1):\n",
    "                if(nums[i]+nums[j]== target):\n",
    "                    sol.append(i)\n",
    "                    sol.append(j)\n",
    "                    found = 1\n",
    "                    print(i)\n",
    "                    break\n",
    "            if(found == 1):\n",
    "                break\n",
    "        return(sol)\n",
    "    \n",
    "C1 = Solution()\n",
    "u = C1.twoSum([2,3,4],6)\n",
    "print(u)"
   ]
  },
  {
   "cell_type": "code",
   "execution_count": 269,
=======
   "execution_count": 67,
>>>>>>> b49c1b4f837f1f65c57917178f7bd0ed6162f26e
   "metadata": {
    "collapsed": false
   },
   "outputs": [
    {
     "name": "stdout",
     "output_type": "stream",
     "text": [
<<<<<<< HEAD
      "0\n",
      "1\n",
      "6\n"
=======
      "True\n"
>>>>>>> b49c1b4f837f1f65c57917178f7bd0ed6162f26e
     ]
    },
    {
     "data": {
      "text/plain": [
<<<<<<< HEAD
       "[]"
      ]
     },
     "execution_count": 269,
=======
       "True"
      ]
     },
     "execution_count": 67,
>>>>>>> b49c1b4f837f1f65c57917178f7bd0ed6162f26e
     "metadata": {},
     "output_type": "execute_result"
    }
   ],
   "source": [
<<<<<<< HEAD
    "def twoSum(nums,target):\n",
    "    sol = []\n",
    "    found = 0\n",
    "    for i in range(0,len(nums)-1):\n",
    "        for j in range(i+1, len(nums)-1):\n",
    "            print(i)\n",
    "            print(j)\n",
    "            print(target)\n",
    "            if(nums[i]+nums[j]== target):\n",
    "                sol.append(i)\n",
    "                sol.append(j)\n",
    "                found = 1\n",
    "                print(i)\n",
    "                break\n",
    "        if(found == 1):\n",
    "            break\n",
    "    return(sol)\n",
    "\n",
    "u= twoSum([2,3,4],6)\n",
    "u"
=======
    "s = \"Jupiter\"\n",
    "l = s.find(\"pi\")\n",
    "s[:l]+\"ni\"+s[l+2:]\n",
    "s = \"hello,word\"\n",
    "l = s.split(\",\")\n",
    "l\n",
    "a = \"5\"\n",
    "print(a.isnumeric())\n",
    "a.isdigit()\n",
    "\n",
    "a = \"alpha\"\n",
    "a.upper()\n",
    "a.endswith(\"ha\")"
>>>>>>> b49c1b4f837f1f65c57917178f7bd0ed6162f26e
   ]
  }
 ],
 "metadata": {
<<<<<<< HEAD
  "kernelspec": {
   "display_name": "Python 3",
=======
  "anaconda-cloud": {},
  "kernelspec": {
   "display_name": "Python [default]",
>>>>>>> b49c1b4f837f1f65c57917178f7bd0ed6162f26e
   "language": "python",
   "name": "python3"
  },
  "language_info": {
   "codemirror_mode": {
    "name": "ipython",
    "version": 3
   },
   "file_extension": ".py",
   "mimetype": "text/x-python",
   "name": "python",
   "nbconvert_exporter": "python",
   "pygments_lexer": "ipython3",
   "version": "3.5.2"
  }
 },
 "nbformat": 4,
 "nbformat_minor": 0
}

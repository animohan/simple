{
 "cells": [
  {
   "cell_type": "code",
   "execution_count": 1,
   "metadata": {
    "collapsed": true
   },
   "outputs": [],
   "source": [
    "#Class coding basics:\n",
    "\n",
    "#Classes generate Multiple instance objects:\n",
    "# Two kind of python objects: Class objects and instance objects\n",
    "# Class objects provide default behavior and server as factories for\n",
    "# generating multiple instance objects.\n",
    "# Instance objects are real objects your programs process- each is a\n",
    "# is a namespace in its ownr right, but inherits names in the class from which\n",
    "# which it was created\n",
    "\n",
    "# Class objects come from statements and instances comes from calls.\n",
    "# Each time call a class-> new instance of the class\n",
    "\n",
    "#Class objects provide default behavior\n",
    "# The class statement creates a class object and assigns it a name.\n",
    "# like def: statement, the python class statement is an executable statement\n",
    "# When reached and run, it generaed a new class object and assignes it to \n",
    "# the name in class header.\n",
    "#Like defs: class statements typically run when the files they are coded \n",
    "# are imported first\n",
    "\n",
    "#Assignments inside class statements make class attributes: \n",
    "# like module files, top-level assigment  within a class statement generate\n",
    "# attributes in a calss object. Class statement define a local scope that\n",
    "# morphs into the sttribute namespace of the class object, just like a \n",
    "# modfule's global scope. After running a class statement, class attributes \n",
    "# are accessed by object.name\n",
    "\n",
    "#Class attributes provide object state and behavior: Attributes of class\n",
    "# object record state information and behavior to be shared by all instances\n",
    "# created from class; function def statements  nested inside a class \n",
    "# generate methods, which process instances\n",
    "\n",
    "#Instance objects are concrete items\n",
    "# When we call a class object, we get an instance object\n",
    "# Calling a class object like a function makes a new instance objects:\n",
    "# Each time a class is called, ti creates and returns a new isntance object.\n",
    "# Instances represent concrete items in your program's domain\n",
    "\n",
    "#Each instance object inhertis class attributes and gets its own namespace\n",
    "# Instance objects created from classes are new namespace; they start out\n",
    "# empty but inherit attributes that live in the class objects from which \n",
    "# they are generated\n",
    "\n",
    "#Assigments to attributes to self  in methods make per instance atttibutes\n",
    "# Inside a class's method functions, the first argument (called self )\n",
    "# reference the instance object being processed; assignment to attributes\n",
    "# of self create or change data in the instance not in the class\n",
    "\n"
   ]
  },
  {
   "cell_type": "code",
   "execution_count": 4,
   "metadata": {
    "collapsed": false
   },
   "outputs": [
    {
     "name": "stdout",
     "output_type": "stream",
     "text": [
      "King Arthur\n",
      "3.14159\n",
      " Hello World !\n"
     ]
    }
   ],
   "source": [
    "#FIRST EXAMPLE\n",
    "class FirstClass:  # Define a class object\n",
    "    def setdata(self,value): #Define class's methods\n",
    "        self.data = value   #self is the reference to instance of the class\n",
    "    def display(self):\n",
    "        print(self.data) #self.data reference to instance's attribute\n",
    "    \n",
    "#def is really and assignment here, it assigns function objects to the names\n",
    "# set data and display in class statement's scope; And generates attributes\n",
    "# attached to the class FirstClass.setdata and FirstClass.display\n",
    "\n",
    "# Any name assigned at the top level of the class's nested block becomes\n",
    "# an attribute of the class\n",
    "\n",
    "# Functions inside class== methods. Coded with normal defs. In a method\n",
    "# function, the fist argument automatically recieves an implied instance \n",
    "# object when called - the subject of the call\n",
    "\n",
    "#example of how this works\n",
    "x = FirstClass() # Make two instances\n",
    "y = FirstClass() # each is a new namespace\n",
    "\n",
    "#By calling the class with parentheses, generates instance objects that \n",
    "# are namespaces that have access to their classes's attribute. \n",
    "\n",
    "# Theoretically, there are 3 objects, 2 instances and 1 class\n",
    "\n",
    "# Two instance start out empty but have links back to the class from which\n",
    "# they were generated. If we qualify an instance with name of an attribute\n",
    "# that lives in the class Object, python fetches the name from the class\n",
    "# by inheritance search\n",
    "\n",
    "x.setdata(\"King Arthur\") # Calls methods: self is x\n",
    "y.setdata(3.14159) # Runs: FirstClass.setdata(y,3.14159)\n",
    "\n",
    "# Neither x nor y has setdata attribute of its own, so for finding it, python\n",
    "# follows link from instance to class.  \n",
    "\n",
    "#In setdata function inside FirstClass, value  passes is assigned to self.data\n",
    "# Within a method, self - name given to leftmost argument by convension \n",
    "# automatically refers to instance being process:- either x or y; so the \n",
    "# assignement store values in instances namespace, not the class's thats how\n",
    "# data names are created\n",
    "\n",
    "#Classes can generate multiple instance, methods go through self argument to\n",
    "# get to the instance to be processessed. When we call class's display method\n",
    "# to print selfdata, that is different in each instance but the name display\n",
    "# is same in x and y, as it comes from the class\n",
    "\n",
    "x.display() #self.data differs in each instance\n",
    "y.display() #Runs FirstClass.display(y)\n",
    "\n",
    "#We stored different object type in data member in each instance:- string\n",
    "# and a floating-point number. There are no declarations of instance\n",
    "# attributes, they just spring into existence when called. If display is called\n",
    "# before calling setdata there will be error as these attributes are not created\n",
    "\n",
    "# We can change instance attributes in the the class itself by assigning\n",
    "#  to self in methods, outside the class, by assigning explicitly\n",
    "\n",
    "x.data = \" Hello World !\"\n",
    "x.display()\n",
    "\n",
    "#Potentially,, can also generate an entirely new attribute in the instance\n",
    "# namespace\n",
    "\n",
    "x.anothername = \"Not sure if this is a good idea, but maybe\"\n",
    "\n",
    "# This would attach anew attribute called anothername, which may or may not\n",
    "# be used by any of the class methods to the instance object x. Classes\n",
    "# usually create all of the instance's attributes by assignment to the\n",
    "# self argument, but they dont have to; programs can fetch, change or\n",
    "# create attributes on any objects to which they have references"
   ]
  },
  {
   "cell_type": "code",
   "execution_count": null,
   "metadata": {
    "collapsed": true
   },
   "outputs": [],
   "source": [
    "#Classes are customized by inheritance:\n",
    "\n",
    "# Besides serving as factories for generating multiple instance objects, classes\n",
    "# also allow us to make changes in introducing new components called subclasses\n",
    "# instead of changing existing components in place\n",
    "\n",
    "# Instance objects generated from a class inherit the class's attributes\n",
    "# Python also allows classes to inherit from other classes, opening the door\n",
    "# to coding hierarchies of classes that specialize behavior, by redefining \n",
    "# attributes in subclasses that appear lower in the heirarchy, override the\n",
    "# more general definitions of those attributes higher in the tree.\n",
    "\n",
    "# In python, instances inherit from classes and classes inherit from superclass\n",
    "\n",
    "# Key ideas\n",
    "\n",
    "#Superclasses are listed in parentheses in a class header: To make a class\n",
    "# inherit attributes from another class, just list the other class in\n",
    "# parentheses in the new class statements header line. The class that inherits\n",
    "# is usually called a subclass and the class that is inherited from its \n",
    "# superclass\n",
    "\n",
    "#Classes inherit  attributes from their superclass:\n",
    "# Just as instance inherit the attribute names defined in their classes, classes\n",
    "# inherit all of the attribute names in thier superclasses; Python finds\n",
    "#  them automatically when they are accessed, if they dont exist in the subclass\n",
    "\n",
    "# INstance inherit attributes from all accessible classes: Each instance gets\n",
    "# names from the class its generated from, as well as all of that class's\n",
    "# superclasses. When looking for name, python checks the instance then its class\n",
    "# then all superclasses\n",
    "\n",
    "#Each object.attribute reference invokes a new independent search. Python\n",
    "# performs an independent seach of the class tree for each attribute fetch\n",
    "# expression. This includes reference to instances and classes made outside\n",
    "# class statements (e.g X.attr), as well as reference to attributes of the\n",
    "# of the self instance argument in a class's method fucntions. Each self.attr\n",
    "# expression in a method invokes a new seach for attr in self and above.\n",
    "\n",
    "#Logic changes are made by subclassing, not by changing superclasses. By \n",
    "# redefining superclass names in subclasses lower in hierarchy (class tree),\n",
    "# subclasses replace and thus customize inherited behavior\n",
    "\n",
    "\n",
    "# Net Effect: Classes support factoring and customization of code better\n",
    "# than any other language tool."
   ]
  },
  {
   "cell_type": "code",
   "execution_count": 5,
   "metadata": {
    "collapsed": false
   },
   "outputs": [
    {
     "name": "stdout",
     "output_type": "stream",
     "text": [
      "Current Value = \"43\"\n",
      " Hello World !\n"
     ]
    }
   ],
   "source": [
    "#Another example\n",
    "\n",
    "#Define a new class Secondclass that inherits all of FirstClass's names\n",
    "# and provides one of its own.\n",
    "class FirstClass:  # Define a class object\n",
    "    def setdata(self,value): #Define class's methods\n",
    "        self.data = value   #self is the reference to instance of the class\n",
    "    def display(self):\n",
    "        print(self.data)\n",
    "        \n",
    "class SecondClass(FirstClass):\n",
    "    def display(self):\n",
    "        print('Current Value = \"%s\"' %self.data)\n",
    "\n",
    "# Second class defines the display method to print with a different format\n",
    "# By defining an attribute with same name as an attribute in FirstClass, \n",
    "# SecondClass replaces display attribute in superclass\n",
    "# This act of replaceing attributes by redefining them lower in treee\n",
    "# overloading.\n",
    "\n",
    "#SecondClass still inherits and retains setdata method in FirstClass \n",
    "\n",
    "z = SecondClass()\n",
    "z.setdata(43)\n",
    "z.display()\n",
    "\n",
    "#Doesnt impact other instance\n",
    "x.display()"
   ]
  },
  {
   "cell_type": "code",
   "execution_count": null,
   "metadata": {
    "collapsed": true
   },
   "outputs": [],
   "source": [
    "#Classes are attributes in Modules\n",
    "#Nothing magical about class names. Its just a variable assigned to an \n",
    "# object when the class statement runs and the object can be referenced with \n",
    "# any normal expression\n",
    "\n",
    "#if FirstClass were coded in module file instead of being typed interactively\n",
    "# we can import and use its name normally in a class header\n",
    "\n",
    "#from modulename import FirstClass #copy name into my scope\n",
    "#class SecondClass(FirstClass) #use class name direccly\n",
    "\n",
    "# or equivalently\n",
    "# import modulename\n",
    "# class(SecondClass(modulename.FirstClass)):\n",
    "#    def display(self)...\n",
    "\n",
    "#Class names within module:\n",
    "    # More than one class can be coded in a single module file\n",
    "    # class statements are run during imports to define names\n",
    "    # these names become distinc module attribute\n",
    "    # Each module may arbitrarily mix any number of var, function and classes\n",
    "    # an all names in a module behave the same way\n",
    "    \n",
    "#E.g\n",
    "#food.py\n",
    "# var =1          #food.var\n",
    "# def func(): ... #food.func\n",
    "# class spam:...  #food.spam\n",
    "# class ham:...   #food.ham\n",
    "\n",
    "#Holds true even if module and class happen to have same name\n",
    "\n",
    "# class person:...\n",
    "\n",
    "# goto module person to get the class\n",
    "\n",
    "# import person           #Import Module\n",
    "# x = person.person()     # Class within module\n",
    "\n",
    "# or\n",
    "# from person import person\n",
    "# x = person()\n",
    "\n",
    "# Python convention: Class names begin with upper case alphabets"
   ]
  },
  {
   "cell_type": "code",
   "execution_count": null,
   "metadata": {
    "collapsed": true
   },
   "outputs": [],
   "source": [
    "# Classes can intercept Python Operators:\n",
    "#Operator overloading.\n",
    "\n",
    "# Operaptor overloading lets objects coded with classes intercept and respond\n",
    "# to operations that work on built-in types: addition, slicing, printing,\n",
    "# qualification etc. \n",
    "\n",
    "#All class behavior can be implemented as method functions, however operator\n",
    "# overloading makes our objects act like built-in; makes object interfaces\n",
    "# easier to learn and allows class-based objects to be processed by code\n",
    "# written to expect a built-in type's interfae\n",
    "\n",
    "#Methods names with double underscores are special Hooks\n",
    "    # In python classes, implement operator overloading by providing\n",
    "    # specially named methods to intercept operations. Python language\n",
    "    # defines a fixed and unchangeable mapping from each of these operations\n",
    "    # to a specially named method\n",
    "\n",
    "#Such methods are called automaitcally, when instances appear in built-in \n",
    "# operations\n",
    "    # e.g if an instance object inherits and __add__ methods, that method\n",
    "    # is called whenever the object appears in + expression. The method's\n",
    "    # return value becomes the result of corresponding expression\n",
    "    \n",
    "#Classes may override most built-in type operations:\n",
    "    #Dozens of special operator overloading method names for intercepting \n",
    "    # and implementing nearly every operation available for built-in type\n",
    "    # including expresions, printing and object creation\n",
    "\n",
    "#NO defaults for operator overloading methods\n",
    "    # if a class does not define or inherit an operator overloading method,\n",
    "    # it just means that corresponding operation is not supported for class\n",
    "    # instance. If there is no __add__, then + operations will raise exceptions\n",
    "    # for that call\n",
    "\n",
    "#New style class have some default:\n",
    "    #A root class named object does provide defaults for som __X__ methods,\n",
    "    # but not for many and not for most commonly used operations\n",
    "\n",
    "# Operators allow classes to integrate with Python's object model:\n",
    "    # By overloading type operations, that user defined objects we implement\n",
    "    # with classes can act just like built-ins adn so provide consistency\n",
    "    # as well as compatibility with expected interfaces\n",
    "    "
   ]
  },
  {
   "cell_type": "code",
   "execution_count": 4,
   "metadata": {
    "collapsed": false
   },
   "outputs": [
    {
     "name": "stdout",
     "output_type": "stream",
     "text": [
      "Current Value = \"abc\"\n",
      "[ThirdClass: abc]\n",
      "Current Value = \"abcxyz\"\n",
      "[ThirdClass: abcxyz]\n",
      "[ThirdClass: abcabcabc]\n"
     ]
    }
   ],
   "source": [
    "# A third exmaple\n",
    "# Key things:\n",
    "    # __init__ is run when a new instance object is created: self is the \n",
    "    # new ThirdClass object\n",
    "    # _add_ is run when a ThirdClass instance appears in a + expression\n",
    "    # __str__ is run when an object is printed\n",
    "\n",
    "class FirstClass:  # Define a class object\n",
    "    def setdata(self,value): #Define class's methods\n",
    "        self.data = value   #self is the reference to instance of the class\n",
    "    def display(self):\n",
    "        print(self.data)\n",
    "        \n",
    "class SecondClass(FirstClass):\n",
    "    def display(self):       #Overriding the display method from FirstClass\n",
    "        print('Current Value = \"%s\"' %self.data)  \n",
    "\n",
    "class ThirdClass(SecondClass):   #Inherit from SecondClass\n",
    "    def __init__(self,value):    # on initiation ..ThirdClass(value)\n",
    "        self.data = value\n",
    "    def __add__(self,other):       # on self + other\n",
    "        return ThirdClass(self.data + other)\n",
    "    def __str__(self):              # on print(self) or str() \n",
    "        return('[ThirdClass: %s]' %self.data)\n",
    "    def mul(self, other):\n",
    "        self.data *= other\n",
    "\n",
    "a = ThirdClass('abc') #__init__ is caled\n",
    "a.display()           #call the inherited method   \n",
    "\n",
    "print(a)              #__str__ is called returns display string\n",
    "\n",
    "b = a + 'xyz'         #__add__ makes a new instance\n",
    "b.display()           # b has all the ThirdClass methods; Note \n",
    "                     # we do not declare b as ThirdClass, its just \n",
    "                      # the retunr value for the __add__ method\n",
    "print(b)\n",
    "\n",
    "a.mul(3)\n",
    "print(a)\n",
    "\n",
    "#ThirdClass is a SecondClass, so its instance inherit the customized\n",
    "# display method from SecondClass.ThirdClass creation calls pass an argument\n",
    "# (e.g abc). Argument is passed to value argument in __init__ constructor\n",
    "# and assigned to self.data i.e ThirdClass is setup to assign data value\n",
    "# at setup as opposed to using setdata in SecondcLass\n",
    "\n",
    "# ThirdClass objects can now shop -up in + and print call.  For +, python\n",
    "# passes the instance object on the left to the self-argument in __add__\n",
    "# and argument on right to other; whatever __add__ returns becomes the \n",
    "# result  of the + expression\n",
    "\n",
    "# For print, python passes the object being printed to self in __str__\n",
    "# whatever string this method returns is taken to be print string for the \n",
    "# object. With __str__, we can use a normal print to display object of this \n",
    "# class instead of calling the special displa method\n",
    "\n",
    "#Specially named methods such as __init__, __add__ and __str__ are inherited\n",
    "# by sub-classes and instances, just like any other names assiged in a class\n",
    "\n",
    "#Operator overloading method names are not built-in or reserved words, they\n",
    "# are just attributes that Python looks for when objects appear in various\n",
    "# contexts"
   ]
  },
  {
   "cell_type": "code",
   "execution_count": null,
   "metadata": {
    "collapsed": true
   },
   "outputs": [],
   "source": [
    "# Returning results\n",
    "# __add__ method returned a new instance object of its class by calling\n",
    "# Thirdclass with teh return value, which inturn triggers __init__ . This is\n",
    "# is a common convention, and explains why b has access to display method\n",
    "# and that its is a thirdclass method i.e its because + returns thirdclass\n",
    "# object\n",
    "\n",
    "# By contrast, mul changes the current instance object in place, by reassigning\n",
    "# self attribute. \n",
    "\n",
    "#Common practice dictates that overloaded operators should work the same\n",
    "# way that built in operator implementations do\n",
    "\n",
    "#STOPPING TO WRITE LONG PARAGRAPH; FOCUS ON CODE"
   ]
  },
  {
   "cell_type": "code",
   "execution_count": 8,
   "metadata": {
    "collapsed": false
   },
   "outputs": [
    {
     "name": "stdout",
     "output_type": "stream",
     "text": [
      "bob\n",
      "bob bob\n",
      "sue bob\n"
     ]
    }
   ],
   "source": [
    "class rec: pass #Empty namespace object\n",
    "rec.name = \"bob\"\n",
    "rec.age = 40\n",
    "\n",
    "print(rec.name)\n",
    "\n",
    "#Note that it works without instances; clases are objects in their own right\n",
    "\n",
    "x = rec()\n",
    "y = rec()\n",
    "\n",
    "print(x.name, y.name) #inherits name from the class\n",
    "\n",
    "x.name = \"sue\"\n",
    "print(x.name, y.name)"
   ]
  },
  {
   "cell_type": "code",
   "execution_count": 12,
   "metadata": {
    "collapsed": false
   },
   "outputs": [
    {
     "name": "stdout",
     "output_type": "stream",
     "text": [
      "['age', '__module__', '__weakref__', '__dict__', '__doc__', 'name']\n",
      "['name']\n",
      "[]\n"
     ]
    }
   ],
   "source": [
    "print(list(rec.__dict__.keys()))\n",
    "print(list(x.__dict__.keys()))\n",
    "print(list(y.__dict__.keys()))"
   ]
  },
  {
   "cell_type": "code",
   "execution_count": 17,
   "metadata": {
    "collapsed": false
   },
   "outputs": [
    {
     "name": "stdout",
     "output_type": "stream",
     "text": [
      "SUE\n",
      "SUE\n",
      "BOB\n",
      "SUE\n"
     ]
    }
   ],
   "source": [
    "def uppername(obj):         #Define a func that take obj\n",
    "    return obj.name.upper()  #the obj should have name attrib on which upper\n",
    "                            # works\n",
    "\n",
    "print(uppername(x))      #call as a simple function\n",
    "rec.method = uppername   # assign the function to class method\n",
    "print(x.method())               #now can be called from instance of the class\n",
    "print(y.method())\n",
    "print(uppername(x)) #still got access to the function"
   ]
  },
  {
   "cell_type": "code",
   "execution_count": 3,
   "metadata": {
    "collapsed": false
   },
   "outputs": [
    {
     "name": "stdout",
     "output_type": "stream",
     "text": [
      "Bob\n",
      "Bob\n",
      "Bob\n",
      "Bob\n",
      "Sue\n"
     ]
    }
   ],
   "source": [
    "rec  = ('Bob',40.5,['dev','mgr']) #Tuple based record\n",
    "print(rec[0])\n",
    "\n",
    "rec ={}\n",
    "rec['name']='Bob'  #dictionary based record\n",
    "rec['age'] =40.5\n",
    "rec['jobs'] =['dev','mgr']\n",
    "print(rec['name'])\n",
    "\n",
    "#class based record\n",
    "\n",
    "class rec: pass\n",
    "rec.name = \"Bob\"\n",
    "rec.age = 40.5\n",
    "rec.jobs = [\"dev\",\"mgr\"]\n",
    "\n",
    "print(rec.name)\n",
    "\n",
    "pers1 = rec()\n",
    "pers1.name = \"Bob\"\n",
    "pers1.jobs = [\"dev\",\"mgr\"]\n",
    "pers1.age = 40.5\n",
    "\n",
    "pers2 = rec()\n",
    "pers2.name = \"Sue\"\n",
    "pers2.jobs = [\"dev\",\"cto\"]\n",
    "\n",
    "print()\n",
    "print(pers1.name)\n",
    "print(pers2.name)\n",
    "\n"
   ]
  },
  {
   "cell_type": "code",
   "execution_count": 4,
   "metadata": {
    "collapsed": false
   },
   "outputs": [
    {
     "name": "stdout",
     "output_type": "stream",
     "text": [
      "['dev', 'mgr']\n",
      "('Sue', ['dev', 'cto'])\n"
     ]
    }
   ],
   "source": [
    "class Person:\n",
    "    def __init__(self, name, jobs, age = None):\n",
    "        self.name = name\n",
    "        self.jobs = jobs\n",
    "        self.age = age\n",
    "    def info(self):\n",
    "        return(self.name,self.jobs)\n",
    "\n",
    "rec1 = Person(\"Bob\",[\"dev\",\"mgr\"],40.5)\n",
    "rec2 = Person(\"Sue\",[\"dev\",\"cto\"])\n",
    "\n",
    "print(rec1.jobs)\n",
    "print(rec2.info())\n",
    "    "
   ]
  },
  {
   "cell_type": "code",
   "execution_count": null,
   "metadata": {
    "collapsed": true
   },
   "outputs": [],
   "source": []
  }
 ],
 "metadata": {
  "kernelspec": {
   "display_name": "Python 3",
   "language": "python",
   "name": "python3"
  },
  "language_info": {
   "codemirror_mode": {
    "name": "ipython",
    "version": 3
   },
   "file_extension": ".py",
   "mimetype": "text/x-python",
   "name": "python",
   "nbconvert_exporter": "python",
   "pygments_lexer": "ipython3",
   "version": "3.5.1"
  }
 },
 "nbformat": 4,
 "nbformat_minor": 0
}

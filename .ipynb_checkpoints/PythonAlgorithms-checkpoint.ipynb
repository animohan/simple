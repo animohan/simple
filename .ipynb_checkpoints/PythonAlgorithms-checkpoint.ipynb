{
 "cells": [
  {
   "cell_type": "markdown",
   "metadata": {},
   "source": [
    "### Python Algorithms:\n",
    "Reference:\n",
    "https://www.safaribooksonline.com/library/view/learning-path-python/9781491958292/video219569.html\n"
   ]
  },
  {
   "cell_type": "code",
   "execution_count": 29,
   "metadata": {
    "collapsed": false
   },
   "outputs": [
    {
     "name": "stdout",
     "output_type": "stream",
     "text": [
      "# of elements:   1024 ; #Time = 0.071048736572266\n",
      "# of elements:   2048 ; #Time = 0.103473663330078\n",
      "# of elements:   4096 ; #Time = 0.208139419555664\n",
      "# of elements:   8192 ; #Time = 0.411033630371094\n",
      "# of elements:  16384 ; #Time = 0.830173492431641\n",
      "# of elements:  32768 ; #Time = 1.791477203369141\n",
      "# of elements:  65536 ; #Time = 3.680706024169922\n",
      "# of elements: 131072 ; #Time = 7.681131362915039\n",
      "# of elements: 262144 ; #Time = 13.963937759399414\n",
      "# of elements: 524288 ; #Time = 26.566267013549805\n",
      "# of elements:1048576 ; #Time = 54.094076156616211\n",
      "# of elements:2097152 ; #Time = 118.457078933715820\n",
      "# of elements:4194304 ; #Time = 227.373361587524414\n"
     ]
    }
   ],
   "source": [
    "#Binary Array Search\n",
    "\n",
    "from time import time\n",
    "\n",
    "def contains(collection,target):\n",
    "    for i in collection:\n",
    "        if i == target:\n",
    "            return True\n",
    "    \n",
    "\n",
    "\n",
    "#Binary Search\n",
    "def bs_contains(ordered, target):\n",
    "    # Use binary search to find if an element exists\n",
    "    low = 0\n",
    "    high = len(ordered)-1\n",
    "    \n",
    "    while(low < high):\n",
    "        mid = (low + high)//2\n",
    "        if(target == ordered[mid]): return True\n",
    "        elif(target < ordered[mid]):\n",
    "            high = mid \n",
    "        else:\n",
    "            low = mid \n",
    "            \n",
    "#Insert into to a binary search\n",
    "def bs_insert(ordered, target):\n",
    "    #return index of the positon to be inserted\n",
    "    low = 0\n",
    "    high = len(ordered)-1\n",
    "    while(low < high):\n",
    "        mid = (low + high)//2\n",
    "        if(target == ordered[mid]):\n",
    "            ordered.insert(mid,target)\n",
    "            return mid\n",
    "        elif(target < ordered[mid]):\n",
    "            high = mid\n",
    "        else\n",
    "            low = mid\n",
    "    ordered.insert(low+1, target)\n",
    "    \n",
    "    return(ordered)\n",
    "\n",
    "    \n",
    "u = [1,3,4,5,6,7,8]\n",
    "k = bs_insert(u,2)\n",
    "print(k)\n",
    "    \n",
    "    \n",
    "#Insert into GeneralCollection:\n",
    "def InsertInPlace(ordered, target):\n",
    "    # Given an ordered collection, Insert an element in place:\n",
    "    for i in range(len(ordered)):\n",
    "        if (ordered[i] > target):\n",
    "            ordered.insert(i,target)\n",
    "            return\n",
    "    ordered.append(target)\n",
    "    \n",
    "    \n",
    "def performance():\n",
    "    n = 1024\n",
    "    #print(\"Performance of Linear Search\")\n",
    "    while n < 5000000:\n",
    "        sorted = list(range(n))\n",
    "        now = time()\n",
    "        \n",
    "        InsertInPlace(sorted, n+1)\n",
    "        done = time()\n",
    "        \n",
    "        print(\"# of elements:{:7d} ; #Time = {:0.15f}\".format(n, (done-now)*1000))\n",
    "        n = n*2\n",
    "   \n",
    "'''\n",
    "    print(\"Performance of Binary Search Tree\")\n",
    "    n = 1024\n",
    "    while n < 5000000:\n",
    "        sorted = range(n)\n",
    "        now = time()\n",
    "        \n",
    "   \n",
    "        done = time()\n",
    "        \n",
    "        print(\"# of elements:{:7d} ; #Time = {:0.15f}\".format(n, (done-now)*1000))\n",
    "        n = n*2\n",
    "'''\n",
    "performance()"
   ]
  },
  {
   "cell_type": "code",
   "execution_count": 35,
   "metadata": {
    "collapsed": false
   },
   "outputs": [
    {
     "name": "stdout",
     "output_type": "stream",
     "text": [
      "0 6\n"
     ]
    },
    {
     "ename": "KeyboardInterrupt",
     "evalue": "",
     "output_type": "error",
     "traceback": [
      "\u001b[1;31m---------------------------------------------------------------------------\u001b[0m",
      "\u001b[1;31mKeyboardInterrupt\u001b[0m                         Traceback (most recent call last)",
      "\u001b[1;32m<ipython-input-35-f33ad796f98a>\u001b[0m in \u001b[0;36m<module>\u001b[1;34m()\u001b[0m\n\u001b[0;32m     20\u001b[0m \u001b[1;33m\u001b[0m\u001b[0m\n\u001b[0;32m     21\u001b[0m \u001b[0mu\u001b[0m \u001b[1;33m=\u001b[0m \u001b[1;33m[\u001b[0m\u001b[1;36m1\u001b[0m\u001b[1;33m,\u001b[0m\u001b[1;36m3\u001b[0m\u001b[1;33m,\u001b[0m\u001b[1;36m4\u001b[0m\u001b[1;33m,\u001b[0m\u001b[1;36m5\u001b[0m\u001b[1;33m,\u001b[0m\u001b[1;36m6\u001b[0m\u001b[1;33m,\u001b[0m\u001b[1;36m7\u001b[0m\u001b[1;33m,\u001b[0m\u001b[1;36m8\u001b[0m\u001b[1;33m]\u001b[0m\u001b[1;33m\u001b[0m\u001b[0m\n\u001b[1;32m---> 22\u001b[1;33m \u001b[0mk\u001b[0m \u001b[1;33m=\u001b[0m \u001b[0mbs_insert\u001b[0m\u001b[1;33m(\u001b[0m\u001b[0mu\u001b[0m\u001b[1;33m,\u001b[0m\u001b[1;36m2\u001b[0m\u001b[1;33m)\u001b[0m\u001b[1;33m\u001b[0m\u001b[0m\n\u001b[0m\u001b[0;32m     23\u001b[0m \u001b[0mprint\u001b[0m\u001b[1;33m(\u001b[0m\u001b[0mk\u001b[0m\u001b[1;33m)\u001b[0m\u001b[1;33m\u001b[0m\u001b[0m\n",
      "\u001b[1;32m<ipython-input-35-f33ad796f98a>\u001b[0m in \u001b[0;36mbs_insert\u001b[1;34m(ordered, target)\u001b[0m\n\u001b[0;32m      6\u001b[0m     \u001b[0mprint\u001b[0m\u001b[1;33m(\u001b[0m\u001b[0mlow\u001b[0m\u001b[1;33m,\u001b[0m \u001b[0mhigh\u001b[0m\u001b[1;33m)\u001b[0m\u001b[1;33m\u001b[0m\u001b[0m\n\u001b[0;32m      7\u001b[0m     \u001b[1;32mwhile\u001b[0m\u001b[1;33m(\u001b[0m\u001b[0mlow\u001b[0m \u001b[1;33m<\u001b[0m \u001b[0mhigh\u001b[0m\u001b[1;33m)\u001b[0m\u001b[1;33m:\u001b[0m\u001b[1;33m\u001b[0m\u001b[0m\n\u001b[1;32m----> 8\u001b[1;33m         \u001b[0mmid\u001b[0m \u001b[1;33m=\u001b[0m \u001b[1;33m(\u001b[0m\u001b[0mlow\u001b[0m \u001b[1;33m+\u001b[0m \u001b[0mhigh\u001b[0m\u001b[1;33m)\u001b[0m\u001b[1;33m//\u001b[0m\u001b[1;36m2\u001b[0m\u001b[1;33m\u001b[0m\u001b[0m\n\u001b[0m\u001b[0;32m      9\u001b[0m         \u001b[1;32mif\u001b[0m\u001b[1;33m(\u001b[0m\u001b[0mtarget\u001b[0m \u001b[1;33m==\u001b[0m \u001b[0mordered\u001b[0m\u001b[1;33m[\u001b[0m\u001b[0mmid\u001b[0m\u001b[1;33m]\u001b[0m\u001b[1;33m)\u001b[0m\u001b[1;33m:\u001b[0m\u001b[1;33m\u001b[0m\u001b[0m\n\u001b[0;32m     10\u001b[0m             \u001b[0mordered\u001b[0m\u001b[1;33m.\u001b[0m\u001b[0minsert\u001b[0m\u001b[1;33m(\u001b[0m\u001b[0mmid\u001b[0m\u001b[1;33m,\u001b[0m\u001b[0mtarget\u001b[0m\u001b[1;33m)\u001b[0m\u001b[1;33m\u001b[0m\u001b[0m\n",
      "\u001b[1;31mKeyboardInterrupt\u001b[0m: "
     ]
    }
   ],
   "source": [
    "#Insert into to a binary search\n",
    "def bs_insert(ordered, target):\n",
    "    #return index of the positon to be inserted\n",
    "    low = 0\n",
    "    high = len(ordered)-1\n",
    "    while(low < high):\n",
    "        print(low, high, mid)\n",
    "        mid = (low + high)//2\n",
    "        if(target == ordered[mid]):\n",
    "            ordered.insert(mid,target)\n",
    "            return 0 #mid\n",
    "        elif(target < ordered[mid]):\n",
    "            high = mid\n",
    "        else:\n",
    "            low = mid\n",
    "    ordered.insert(low+1, target)\n",
    "    \n",
    "    return(ordered)\n",
    "\n",
    "    \n",
    "u = [1,3,4,5,6,7,8]\n",
    "k = bs_insert(u,2)\n",
    "print(k)"
   ]
  },
  {
   "cell_type": "code",
   "execution_count": 33,
   "metadata": {
    "collapsed": false
   },
   "outputs": [
    {
     "data": {
      "text/plain": [
       "[0, 1, 99, 3, 4]"
      ]
     },
     "execution_count": 33,
     "metadata": {},
     "output_type": "execute_result"
    }
   ],
   "source": [
    "u = [0,1,3,4]\n",
    "u.insert(2,99)\n",
    "u"
   ]
  }
 ],
 "metadata": {
  "kernelspec": {
   "display_name": "Python 3",
   "language": "python",
   "name": "python3"
  },
  "language_info": {
   "codemirror_mode": {
    "name": "ipython",
    "version": 3
   },
   "file_extension": ".py",
   "mimetype": "text/x-python",
   "name": "python",
   "nbconvert_exporter": "python",
   "pygments_lexer": "ipython3",
   "version": "3.5.2"
  }
 },
 "nbformat": 4,
 "nbformat_minor": 0
}

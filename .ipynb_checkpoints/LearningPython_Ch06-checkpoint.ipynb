{
 "cells": [
  {
   "cell_type": "markdown",
   "metadata": {},
   "source": [
    "# 6. How References Work"
   ]
  },
  {
   "cell_type": "markdown",
   "metadata": {},
   "source": [
    "## 6.1 Integer References"
   ]
  },
  {
   "cell_type": "code",
   "execution_count": 6,
   "metadata": {
    "collapsed": false
   },
   "outputs": [
    {
     "name": "stdout",
     "output_type": "stream",
     "text": [
      "a: 70\n",
      "b:  35\n"
     ]
    }
   ],
   "source": [
    "a = 35\n",
    "b = a\n",
    "a = 70\n",
    "print(\"a:\", a)\n",
    "print(\"b: \",b )"
   ]
  },
  {
   "cell_type": "code",
   "execution_count": 7,
   "metadata": {
    "collapsed": false
   },
   "outputs": [
    {
     "name": "stdout",
     "output_type": "stream",
     "text": [
      "a: 37\n",
      "b: 35\n"
     ]
    }
   ],
   "source": [
    "a = 35\n",
    "b = a\n",
    "a = a+2\n",
    "print(\"a:\", a)\n",
    "print(\"b:\",b)"
   ]
  },
  {
   "cell_type": "markdown",
   "metadata": {},
   "source": [
    "## 6.2 Array References"
   ]
  },
  {
   "cell_type": "code",
   "execution_count": 10,
   "metadata": {
    "collapsed": false
   },
   "outputs": [
    {
     "name": "stdout",
     "output_type": "stream",
     "text": [
      "L1: [4, 5, 6]\n",
      "L2: [2, 3, 4]\n",
      "L3: [2, 3, 4]\n"
     ]
    }
   ],
   "source": [
    "L1 = [2,3,4]\n",
    "L2 = L1\n",
    "L3 = L1[:] #Creates a reference from L1 to L3\n",
    "L1 = [4,5,6]\n",
    "print(\"L1:\", L1)\n",
    "print(\"L2:\", L2)\n",
    "print(\"L3:\", L3) #Note how value of L3 changed "
   ]
  },
  {
   "cell_type": "code",
   "execution_count": 12,
   "metadata": {
    "collapsed": false
   },
   "outputs": [
    {
     "name": "stdout",
     "output_type": "stream",
     "text": [
      "True\n",
      "False\n"
     ]
    }
   ],
   "source": [
    "L = [2,3,4]\n",
    "M = L\n",
    "print(L is M) #L and M are referencing the same objects\n",
    "L = [4,5,6]\n",
    "print(L is M) #L and M are not referencing the same object now"
   ]
  }
 ],
 "metadata": {
  "kernelspec": {
   "display_name": "Python 3",
   "language": "python",
   "name": "python3"
  },
  "language_info": {
   "codemirror_mode": {
    "name": "ipython",
    "version": 3
   },
   "file_extension": ".py",
   "mimetype": "text/x-python",
   "name": "python",
   "nbconvert_exporter": "python",
   "pygments_lexer": "ipython3",
   "version": "3.5.1"
  }
 },
 "nbformat": 4,
 "nbformat_minor": 0
}

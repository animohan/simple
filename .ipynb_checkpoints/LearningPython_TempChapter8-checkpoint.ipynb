{
 "cells": [
  {
   "cell_type": "markdown",
   "metadata": {},
   "source": [
    "## 8.2 List Operations"
   ]
  },
  {
   "cell_type": "code",
   "execution_count": 14,
   "metadata": {
    "collapsed": false
   },
   "outputs": [
    {
     "name": "stdout",
     "output_type": "stream",
     "text": [
      "[0, 1, 2, 4, 6, 9]\n",
      "['Cyclone', 'Hurricane', 'Rain', 'Storm', 'Typhoon', 'Water']\n",
      "['ABD', 'aBe', 'abc']\n",
      "['abc', 'ABD', 'aBe']\n"
     ]
    }
   ],
   "source": [
    "L = [6,2,4,9,1,0]\n",
    "L.sort() #Sorting a list; Note sort changes the order in the existing list\n",
    "print(L)\n",
    "\n"
   ]
  },
  {
   "cell_type": "code",
   "execution_count": 19,
   "metadata": {
    "collapsed": false
   },
   "outputs": [
    {
     "name": "stdout",
     "output_type": "stream",
     "text": [
      "['Cyclone', 'Hurricane', 'Rain', 'Storm', 'Typhoon', 'Water']\n",
      "['ABD', 'aBe', 'abc']\n",
      "['abc', 'ABD', 'aBe']\n"
     ]
    }
   ],
   "source": [
    "#Sorting Strings:\n",
    "L = [\"Rain\", \"Water\",\"Cyclone\",\"Typhoon\",\"Hurricane\",\"Storm\"]\n",
    "L.sort() \n",
    "print(L)\n",
    "\n",
    "#Case handling in string sorting\n",
    "J=['ABD','aBe','abc'] #Upper case are sorted first in ascending order\n",
    "J.sort() \n",
    "print(J)\n",
    "J.sort(key=str.lower)\n",
    "print(J)"
   ]
  },
  {
   "cell_type": "code",
   "execution_count": 21,
   "metadata": {
    "collapsed": false
   },
   "outputs": [
    {
     "name": "stdout",
     "output_type": "stream",
     "text": [
      "['IJK', 'FGH', 'CDE', 'ABC']\n"
     ]
    }
   ],
   "source": [
    "J = [\"ABC\", \"CDE\",\"FGH\", \"IJK\"]\n",
    "J.reverse() #Reverse the order of the entries of the list\n",
    "print(J)"
   ]
  },
  {
   "cell_type": "code",
   "execution_count": 23,
   "metadata": {
    "collapsed": false
   },
   "outputs": [
    {
     "name": "stdout",
     "output_type": "stream",
     "text": [
      "['IJK', 'FGH', 'CDE', 'ABC']\n"
     ]
    }
   ],
   "source": [
    "L = [1,2,3,4]\n",
    "L = J.copy() #Copying over lists\n",
    "print(L)"
   ]
  },
  {
   "cell_type": "code",
   "execution_count": 25,
   "metadata": {
    "collapsed": false
   },
   "outputs": [
    {
     "name": "stdout",
     "output_type": "stream",
     "text": [
      "[]\n"
     ]
    }
   ],
   "source": [
    "L = [1,2,3,4]\n",
    "L.clear() #Clearing a list\n",
    "print(L)"
   ]
  },
  {
   "cell_type": "code",
   "execution_count": 44,
   "metadata": {
    "collapsed": false
   },
   "outputs": [
    {
     "name": "stdout",
     "output_type": "stream",
     "text": [
      "[1, 999, 2, 3, 4]\n",
      "[99, 88, 77, 1, 999, 2, 3, 4]\n",
      "[0, 222, 99, 88, 77, 1, 999, 2, 3, 4]\n"
     ]
    }
   ],
   "source": [
    "L = [1,2,3,4]\n",
    "L.insert(1,999) #Inserting into a stack\n",
    "print(L)\n",
    "\n",
    "L[0:0] = [99,88,77] #Insert in the begining of the string\n",
    "print(L)\n",
    "\n",
    "L[:0] = [111,222] # Insert in the begining\n",
    "print(L)\n",
    "\n",
    "L[len(L)]"
   ]
  },
  {
   "cell_type": "code",
   "execution_count": 40,
   "metadata": {
    "collapsed": false
   },
   "outputs": [
    {
     "name": "stdout",
     "output_type": "stream",
     "text": [
      "[1, 2, 3, 4, 5, 6]\n",
      "[2, 3, 4, 5, 6]\n",
      "[3, 4, 5, 6]\n",
      "[5, 6]\n"
     ]
    }
   ],
   "source": [
    "#Other ways to remove elements\n",
    "L = [1,2,3,4,5,6,7]\n",
    "L.pop()\n",
    "print(L)\n",
    "\n",
    "del L[0]\n",
    "print(L)\n",
    "\n",
    "L.remove(L[0])\n",
    "print(L)\n",
    "\n",
    "L[0:2]=[]\n",
    "print(L)"
   ]
  }
 ],
 "metadata": {
  "kernelspec": {
   "display_name": "Python 3",
   "language": "python",
   "name": "python3"
  },
  "language_info": {
   "codemirror_mode": {
    "name": "ipython",
    "version": 3
   },
   "file_extension": ".py",
   "mimetype": "text/x-python",
   "name": "python",
   "nbconvert_exporter": "python",
   "pygments_lexer": "ipython3",
   "version": "3.5.1"
  }
 },
 "nbformat": 4,
 "nbformat_minor": 0
}

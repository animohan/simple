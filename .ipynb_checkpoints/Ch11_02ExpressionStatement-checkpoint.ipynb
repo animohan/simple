{
 "cells": [
  {
   "cell_type": "code",
   "execution_count": 1,
   "metadata": {
    "collapsed": false
   },
   "outputs": [
    {
     "name": "stdout",
     "output_type": "stream",
     "text": [
      "[1, 2, 3]\n",
      "None\n"
     ]
    }
   ],
   "source": [
    "#Expression statements and inplace changes:\n",
    "L=[1,2]\n",
    "L.append(3)\n",
    "print(L)\n",
    "\n",
    "L=L.append(4)\n",
    "print(L)\n",
    "\n",
    "#Note the results. L.append changes a list in place but does not return the \n",
    "# list as a result of function call.  hence reassigning L causes it to point\n",
    "# to none\n",
    "#Lesson: Call in-place functions without assignments"
   ]
  },
  {
   "cell_type": "code",
   "execution_count": null,
   "metadata": {
    "collapsed": true
   },
   "outputs": [],
   "source": []
  }
 ],
 "metadata": {
  "kernelspec": {
   "display_name": "Python 3",
   "language": "python",
   "name": "python3"
  },
  "language_info": {
   "codemirror_mode": {
    "name": "ipython",
    "version": 3
   },
   "file_extension": ".py",
   "mimetype": "text/x-python",
   "name": "python",
   "nbconvert_exporter": "python",
   "pygments_lexer": "ipython3",
   "version": "3.5.1"
  }
 },
 "nbformat": 4,
 "nbformat_minor": 0
}

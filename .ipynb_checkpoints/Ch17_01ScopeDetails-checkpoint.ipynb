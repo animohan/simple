{
 "cells": [
  {
   "cell_type": "code",
   "execution_count": 1,
   "metadata": {
    "collapsed": false
   },
   "outputs": [
    {
     "name": "stdout",
     "output_type": "stream",
     "text": [
      "25\n",
      "99\n"
     ]
    }
   ],
   "source": [
    "x=99 #global scope\n",
    "def func():\n",
    "    x=25 #local scope; does not change value of global x\n",
    "    print(x)\n",
    "    \n",
    "func()\n",
    "print(x)"
   ]
  },
  {
   "cell_type": "code",
   "execution_count": 4,
   "metadata": {
    "collapsed": false
   },
   "outputs": [
    {
     "name": "stdout",
     "output_type": "stream",
     "text": [
      "[1, 3, 4, 5, 6]\n"
     ]
    },
    {
     "data": {
      "text/plain": [
       "[1, 1, 2, 225]"
      ]
     },
     "execution_count": 4,
     "metadata": {},
     "output_type": "execute_result"
    }
   ],
   "source": [
    "L=[1,3,4,5] #variable global for the module\n",
    "\n",
    "def func2(x1):\n",
    "    L.append(x1) #global variable modified in a local function\n",
    "    return(L)\n",
    "\n",
    "print(func2(6) )\n",
    "\n",
    "def func3(x2):\n",
    "    L=[1,1,2] #local redefinition of L\n",
    "    L.append(x2) #local definition  is used\n",
    "    return(L)\n",
    "\n",
    "func3(225)\n"
   ]
  },
  {
   "cell_type": "code",
   "execution_count": 7,
   "metadata": {
    "collapsed": false
   },
   "outputs": [
    {
     "data": {
      "text/plain": [
       "100"
      ]
     },
     "execution_count": 7,
     "metadata": {},
     "output_type": "execute_result"
    }
   ],
   "source": [
    "#global scope\n",
    "x=99\n",
    "def func3(y): #y and z are assigned inside function; local scop\n",
    "    z=x+y #x has global scope\n",
    "    return z\n",
    "\n",
    "print(func3(1))"
   ]
  },
  {
   "cell_type": "code",
   "execution_count": 8,
   "metadata": {
    "collapsed": false
   },
   "outputs": [
    {
     "name": "stdout",
     "output_type": "stream",
     "text": [
      "26\n"
     ]
    }
   ],
   "source": [
    "#global scope\n",
    "x=99\n",
    "def func3(y): #y and z are assigned inside function; local scope\n",
    "    global x\n",
    "    x=25 #x declared as global scope\n",
    "    z=x+y \n",
    "    return z\n",
    "\n",
    "print(func3(1))"
   ]
  },
  {
   "cell_type": "code",
   "execution_count": null,
   "metadata": {
    "collapsed": true
   },
   "outputs": [],
   "source": [
    "print(\"TO BE COMPLETED\")"
   ]
  }
 ],
 "metadata": {
  "kernelspec": {
   "display_name": "Python 3",
   "language": "python",
   "name": "python3"
  },
  "language_info": {
   "codemirror_mode": {
    "name": "ipython",
    "version": 3
   },
   "file_extension": ".py",
   "mimetype": "text/x-python",
   "name": "python",
   "nbconvert_exporter": "python",
   "pygments_lexer": "ipython3",
   "version": "3.5.1"
  }
 },
 "nbformat": 4,
 "nbformat_minor": 0
}

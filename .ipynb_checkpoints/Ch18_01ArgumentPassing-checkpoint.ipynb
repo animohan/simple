{
 "cells": [
  {
   "cell_type": "code",
   "execution_count": 1,
   "metadata": {
    "collapsed": false
   },
   "outputs": [
    {
     "name": "stdout",
     "output_type": "stream",
     "text": [
      "88\n"
     ]
    }
   ],
   "source": [
    "#Argument by assignment\n",
    "#Arguments are passed automatically assigning objects to local variable\n",
    "#names. Function argument-reference to shared objects sent by the caller\n",
    "#are just anotehr instance of Python assignment. Because reference are\n",
    "#implemented as pointers, all arguments, are in effect passed by pointer.\n",
    "#objects passes as arguments are never automatically copied\n",
    "\n",
    "#Assigning to argument names inside a function does not affect the caller. \n",
    "#Argument names in the function header become new, local names when the\n",
    "#the function runs, in the scope of the function.\n",
    "\n",
    "#Changing a mutable object argument in a function may impact the caller.\n",
    "\n",
    "#Arguments and shared references:\n",
    "def f(a): #a is assigned the passed object\n",
    "    a=99; #changes the value of local variable.\n",
    "    \n",
    "b=88   \n",
    "f(b)   #calling the function with b, does not change value of b\n",
    "print(b)"
   ]
  },
  {
   "cell_type": "code",
   "execution_count": 2,
   "metadata": {
    "collapsed": false
   },
   "outputs": [
    {
     "name": "stdout",
     "output_type": "stream",
     "text": [
      "1\n",
      "['spam', 2]\n"
     ]
    }
   ],
   "source": [
    "def changer(a,b):\n",
    "    a=2\n",
    "    b[0]='spam'\n",
    "\n",
    "x=1\n",
    "l=[1,2]\n",
    "changer(x,l)\n",
    "print(x)\n",
    "print(l)\n",
    "\n",
    "#When mutable objects (e.g lists and dictionaries) are passed as argument\n",
    "#then the changes in the objects persist. \n",
    "# In this example, x is passed to a but value is unchanged\n",
    "#however, l is a mutable list; and is passed to the function and the value\n",
    "# of l[0] is changed because the reference is assigned to b (b=l for func \n",
    "#call) and in the function value of b[0] is changed"
   ]
  },
  {
   "cell_type": "code",
   "execution_count": 3,
   "metadata": {
    "collapsed": false
   },
   "outputs": [
    {
     "name": "stdout",
     "output_type": "stream",
     "text": [
      "1\n",
      "['spam', 2]\n"
     ]
    }
   ],
   "source": [
    "#look at these two cases\n",
    "X=1\n",
    "a=X\n",
    "a=2\n",
    "print(X)\n",
    "\n",
    "L=[1,2]\n",
    "b=L\n",
    "b[0]=\"spam\"\n",
    "print(L) #list is mutable and the change is a in-place change"
   ]
  },
  {
   "cell_type": "code",
   "execution_count": 4,
   "metadata": {
    "collapsed": false
   },
   "outputs": [
    {
     "name": "stdout",
     "output_type": "stream",
     "text": [
      "[1, 2]\n"
     ]
    }
   ],
   "source": [
    "#if do not want in place changes, copy the variable/list of dictionary\n",
    "#instead of referencing it\n",
    "L=[1,2]\n",
    "b=L[:]\n",
    "b[0]=\"spam\"\n",
    "print(L)"
   ]
  },
  {
   "cell_type": "code",
   "execution_count": 5,
   "metadata": {
    "collapsed": false
   },
   "outputs": [
    {
     "name": "stdout",
     "output_type": "stream",
     "text": [
      "1\n",
      "[1, 2]\n"
     ]
    }
   ],
   "source": [
    "#example of copying\n",
    "def changer(a,b):\n",
    "    a=2\n",
    "    b[0]='spam'\n",
    "x=1\n",
    "l=[1,2]\n",
    "changer(x,l[:])\n",
    "print(x)\n",
    "print(l)"
   ]
  },
  {
   "cell_type": "code",
   "execution_count": 6,
   "metadata": {
    "collapsed": false
   },
   "outputs": [
    {
     "name": "stdout",
     "output_type": "stream",
     "text": [
      "1\n",
      "[1, 2]\n"
     ]
    }
   ],
   "source": [
    "#can also copy within th efunction if we do not want to change the passed\n",
    "# object\n",
    "def changer(a,b):\n",
    "    b=b[:]\n",
    "    a=2\n",
    "    b[0]='spam'\n",
    "\n",
    "x=1\n",
    "l=[1,2]\n",
    "changer(x,l)\n",
    "print(x)\n",
    "print(l)"
   ]
  },
  {
   "cell_type": "code",
   "execution_count": 7,
   "metadata": {
    "collapsed": false
   },
   "outputs": [
    {
     "ename": "TypeError",
     "evalue": "'tuple' object does not support item assignment",
     "output_type": "error",
     "traceback": [
      "\u001b[1;31m---------------------------------------------------------------------------\u001b[0m",
      "\u001b[1;31mTypeError\u001b[0m                                 Traceback (most recent call last)",
      "\u001b[1;32m<ipython-input-7-7d678f3bd290>\u001b[0m in \u001b[0;36m<module>\u001b[1;34m()\u001b[0m\n\u001b[0;32m      4\u001b[0m \u001b[1;31m#issue. Tuples, of example, riase an exception when changes are attempted\u001b[0m\u001b[1;33m\u001b[0m\u001b[1;33m\u001b[0m\u001b[0m\n\u001b[0;32m      5\u001b[0m \u001b[0mL\u001b[0m\u001b[1;33m=\u001b[0m\u001b[1;33m[\u001b[0m\u001b[1;36m1\u001b[0m\u001b[1;33m,\u001b[0m\u001b[1;36m2\u001b[0m\u001b[1;33m]\u001b[0m\u001b[1;33m\u001b[0m\u001b[0m\n\u001b[1;32m----> 6\u001b[1;33m \u001b[0mchanger\u001b[0m\u001b[1;33m(\u001b[0m\u001b[0mx\u001b[0m\u001b[1;33m,\u001b[0m\u001b[0mtuple\u001b[0m\u001b[1;33m(\u001b[0m\u001b[0mL\u001b[0m\u001b[1;33m)\u001b[0m\u001b[1;33m)\u001b[0m\u001b[1;33m\u001b[0m\u001b[0m\n\u001b[0m",
      "\u001b[1;32m<ipython-input-6-e4ead7156cbe>\u001b[0m in \u001b[0;36mchanger\u001b[1;34m(a, b)\u001b[0m\n\u001b[0;32m      4\u001b[0m     \u001b[0mb\u001b[0m\u001b[1;33m=\u001b[0m\u001b[0mb\u001b[0m\u001b[1;33m[\u001b[0m\u001b[1;33m:\u001b[0m\u001b[1;33m]\u001b[0m\u001b[1;33m\u001b[0m\u001b[0m\n\u001b[0;32m      5\u001b[0m     \u001b[0ma\u001b[0m\u001b[1;33m=\u001b[0m\u001b[1;36m2\u001b[0m\u001b[1;33m\u001b[0m\u001b[0m\n\u001b[1;32m----> 6\u001b[1;33m     \u001b[0mb\u001b[0m\u001b[1;33m[\u001b[0m\u001b[1;36m0\u001b[0m\u001b[1;33m]\u001b[0m\u001b[1;33m=\u001b[0m\u001b[1;34m'spam'\u001b[0m\u001b[1;33m\u001b[0m\u001b[0m\n\u001b[0m\u001b[0;32m      7\u001b[0m \u001b[1;33m\u001b[0m\u001b[0m\n\u001b[0;32m      8\u001b[0m \u001b[0mx\u001b[0m\u001b[1;33m=\u001b[0m\u001b[1;36m1\u001b[0m\u001b[1;33m\u001b[0m\u001b[0m\n",
      "\u001b[1;31mTypeError\u001b[0m: 'tuple' object does not support item assignment"
     ]
    }
   ],
   "source": [
    "#Both of these copying schemes dont stop the function from changing the\n",
    "# object, they prevent those changes frmo impacting the caller.\n",
    "#To really prevent changes, we can conver immutable objects to force the \n",
    "#issue. Tuples, of example, riase an exception when changes are attempted\n",
    "L=[1,2]\n",
    "#changer(x,tuple(L)) # throws exception"
   ]
  },
  {
   "cell_type": "code",
   "execution_count": 9,
   "metadata": {
    "collapsed": false
   },
   "outputs": [
    {
     "data": {
      "text/plain": [
       "(2, [3, 4])"
      ]
     },
     "execution_count": 9,
     "metadata": {},
     "output_type": "execute_result"
    }
   ],
   "source": [
    "#Simulating output parameters and multiple results\n",
    "#Return can send multiple values by packaging them i a tuple or other \n",
    "#collection type.\n",
    "def multiple(x,y):\n",
    "    x=2  #changes local name\n",
    "    y=[3,4] \n",
    "    return x,y #returns multiple values\n",
    "x=1\n",
    "l=[1,3]\n",
    "x,l=multiple(x,l) #assign results to caller's name\n",
    "x,l\n",
    "\n",
    "#Python does not support call by reference, but can simulate by returning\n",
    "#tuples and assigning the results back to the original argument names in \n",
    "#caller\n",
    "\n",
    "#Though the code looks like returning values for x,l, its just returning a \n",
    "#tuple. After teh call returns you can use, tuple unpacking"
   ]
  },
  {
   "cell_type": "code",
   "execution_count": 10,
   "metadata": {
    "collapsed": true
   },
   "outputs": [],
   "source": [
    "#Special argument matching modes\n",
    "#1.Postional matched from left to right ; func(name)\n",
    "#2. Keywords: matched by argument name; func(name=value)\n",
    "#3, Defaults: Specify values for optional arguments that aren't passed\n",
    "    #func(*iterable)\n",
    "#4. Varargs collecting: collect arbitrarily many positional or keyword\n",
    "    #arguments; \n",
    "#4. Varargs unpacking: pass arbitrarily many positional or keyword args\n",
    "#5. Arguments passed by name"
   ]
  },
  {
   "cell_type": "code",
   "execution_count": 12,
   "metadata": {
    "collapsed": false
   },
   "outputs": [
    {
     "name": "stdout",
     "output_type": "stream",
     "text": [
      "1 2 3\n",
      "2 3 1\n"
     ]
    }
   ],
   "source": [
    "#Keyword and default examples\n",
    "def f(a,b,c):\n",
    "    print(a,b,c)\n",
    "f(1,2,3)\n",
    "f(c=1,b=3,a=2) #function call names match the names in func definition"
   ]
  },
  {
   "cell_type": "code",
   "execution_count": 18,
   "metadata": {
    "collapsed": false
   },
   "outputs": [
    {
     "name": "stdout",
     "output_type": "stream",
     "text": [
      "1 99 55\n",
      "1 3 55\n",
      "2 3 7\n",
      "1 99 4\n"
     ]
    }
   ],
   "source": [
    "#Defaults\n",
    "def f(a,b=99,c=55): #a is required, b and c are optional\n",
    "    print(a,b,c)\n",
    "\n",
    "f(1)\n",
    "f(1,3)\n",
    "f(2,3,7)\n",
    "f(1,c=4)\n"
   ]
  },
  {
   "cell_type": "code",
   "execution_count": 19,
   "metadata": {
    "collapsed": false
   },
   "outputs": [
    {
     "name": "stdout",
     "output_type": "stream",
     "text": [
      "()\n",
      "(1,)\n",
      "(2, 4, 6)\n",
      "(2, [1, 2])\n",
      "(2, (2, 2))\n",
      "(2, 'spam')\n"
     ]
    }
   ],
   "source": [
    "#Arbitrary arguments example:\n",
    "#the matching extensions * and ** are designed to support functions that\n",
    "#take any number of arguments\n",
    "\n",
    "def f(*args):\n",
    "    print(args)\n",
    "\n",
    "f()\n",
    "f(1)\n",
    "f(2,4,6)\n",
    "f(2,[1,2])\n",
    "f(2,(2,2))\n",
    "f(2,'spam')\n",
    "#when the function is called, Python collects all the positional arguments\n",
    "#into a new tuple and assigns the variable args to that tuple. Because it\n",
    "# is a  normal tuple object, it can be indexed, stepped through with a for\n",
    "#loop"
   ]
  },
  {
   "cell_type": "code",
   "execution_count": 20,
   "metadata": {
    "collapsed": false
   },
   "outputs": [
    {
     "name": "stdout",
     "output_type": "stream",
     "text": [
      "{}\n",
      "{'a': 1, 'b': 2}\n"
     ]
    }
   ],
   "source": [
    "# The ** feature is similar, but it only works for keyword arguments. It\n",
    "# collects them into a new dictionary, which can be processed with normal\n",
    "# dictionary tools.\n",
    "#** form allows you to convert keywords to dictionaries, which can then be\n",
    "#stepped through keys calll\n",
    "\n",
    "def f(**args):\n",
    "    print(args)\n",
    "f()\n",
    "f(a=1,b=2)"
   ]
  },
  {
   "cell_type": "code",
   "execution_count": 24,
   "metadata": {
    "collapsed": false
   },
   "outputs": [
    {
     "name": "stdout",
     "output_type": "stream",
     "text": [
      "1 () {}\n",
      "1 (2,) {}\n",
      "1 (2, 3, 4) {}\n",
      "1 (2, 3) {'x': 1, 'y': 2}\n"
     ]
    }
   ],
   "source": [
    "#Function headers can combine * and ** to implement wildly flexible call\n",
    "#signatures.\n",
    "def f(a, *pargs, **kargs):\n",
    "    print(a, pargs, kargs)\n",
    "\n",
    "f(1)\n",
    "f(1,2)\n",
    "f(1,2,3,4)\n",
    "f(1,2,3,x=1,y=2)"
   ]
  },
  {
   "cell_type": "code",
   "execution_count": 23,
   "metadata": {
    "collapsed": false
   },
   "outputs": [
    {
     "name": "stdout",
     "output_type": "stream",
     "text": [
      "1 2 3 4\n"
     ]
    }
   ],
   "source": [
    "#Calls: Unpacking arguments:\n",
    "def func(a,b,c,d):\n",
    "    print(a,b,c,d)\n",
    "\n",
    "args=(1,2)\n",
    "args=args+(3,4)\n",
    "#func(args) #throws error\n",
    "func(*args)\n",
    "#pass 4 arguments in a tuple and the function unpacks them to individual\n",
    "#integers"
   ]
  },
  {
   "cell_type": "code",
   "execution_count": 26,
   "metadata": {
    "collapsed": false
   },
   "outputs": [
    {
     "name": "stdout",
     "output_type": "stream",
     "text": [
      "1 2 3 4\n"
     ]
    }
   ],
   "source": [
    "#** syntax in a function call unpacks a dicitionary of key/value paris into\n",
    "# separate keyword arguments\n",
    "def func(a,b,c,d):\n",
    "    print(a,b,c,d)\n",
    "args={'a':1, 'b':2,'c':3}\n",
    "args['d']=4\n",
    "func(**args)"
   ]
  },
  {
   "cell_type": "code",
   "execution_count": 34,
   "metadata": {
    "collapsed": false
   },
   "outputs": [
    {
     "name": "stdout",
     "output_type": "stream",
     "text": [
      "1 2 3 4\n",
      "1 2 3 4\n",
      "1 3 2 4\n",
      "1 2 3 4\n",
      "1 2 3 4\n"
     ]
    }
   ],
   "source": [
    "#normal, positional and keyword arguments in the call can be combined\n",
    "func(*(1,2),**{'d':4,'c':3})\n",
    "func(1,*(2,3),**{'d':4})\n",
    "func(1,c=2, *(3,),**{'d':4})\n",
    "func(1, *(2,3),d=4)\n",
    "func(1,*(2,),c=3,**{'d':4})"
   ]
  },
  {
   "cell_type": "code",
   "execution_count": 38,
   "metadata": {
    "collapsed": false
   },
   "outputs": [
    {
     "name": "stdout",
     "output_type": "stream",
     "text": [
      "1 (2,) 3\n",
      "1 () 3\n",
      "1 () 3\n"
     ]
    }
   ],
   "source": [
    "#Keyword only arguments:\n",
    "#ordering rules in a function headers allow us to specify keyword only \n",
    "#arguments such that they will only be passed by keyword and not filled\n",
    "#by positional argument\n",
    "\n",
    "def lowonly(a,*b,c):print(a,b,c)\n",
    "\n",
    "lowonly(1,2,c=3)\n",
    "lowonly(1,c=3)\n",
    "lowonly(a=1,c=3)\n",
    "#lowonly(1,2) #throws wrror\n",
    "#lowonly(1,2,3) #throws error\n",
    "#Here a can be passed by position or name, \n",
    "# b and c must be keywords"
   ]
  },
  {
   "cell_type": "code",
   "execution_count": 43,
   "metadata": {
    "collapsed": false
   },
   "outputs": [
    {
     "name": "stdout",
     "output_type": "stream",
     "text": [
      "1 spam ham\n",
      "1 3 2\n",
      "1 2 2\n"
     ]
    }
   ],
   "source": [
    "#defaults for keywords only argument can be used but they appear in function\n",
    "# call after *\n",
    "def lowonly(a,*,b=\"spam\",c=\"ham\"):print(a,b,c)\n",
    "\n",
    "#lowonly(1,2) #throws error\n",
    "lowonly(1)\n",
    "lowonly(1,b=3,c=2)\n",
    "#lowonly(c=2,b=2,1) #throws error\n",
    "lowonly(c=2,b=2,a=1)"
   ]
  },
  {
   "cell_type": "code",
   "execution_count": 49,
   "metadata": {
    "collapsed": false
   },
   "outputs": [
    {
     "name": "stdout",
     "output_type": "stream",
     "text": [
      "1 2 spam\n"
     ]
    }
   ],
   "source": [
    "#Keyword only argument with defaults are optional, but those without\n",
    "#defaults become required keywords for the fucntion\n",
    "def lowonly(a,*,b,c=\"spam\"):print(a,b,c)\n",
    "\n",
    "#lowonly(1)#throws error\n",
    "#lowonly(1,2) #throws error that function only takes 1 positiona arg\n",
    "lowonly(1,b=2)\n",
    "#lowonly(1,c=\"ham\")#throws error as b is not assigned"
   ]
  },
  {
   "cell_type": "code",
   "execution_count": 53,
   "metadata": {
    "collapsed": false
   },
   "outputs": [
    {
     "name": "stdout",
     "output_type": "stream",
     "text": [
      "1 1 1 2\n",
      "1 5 5 2\n"
     ]
    }
   ],
   "source": [
    "def lowonly(a,*, b=1,c,d=2): print(a,b,c,d)\n",
    "\n",
    "#lowonly(1) #throws error as c was not assigned anything\n",
    "#lowonly(1,1) #throws error about 2 positioanl arguments\n",
    "lowonly(1,c=1)\n",
    "lowonly(1,c=5,b=5)"
   ]
  },
  {
   "cell_type": "code",
   "execution_count": 60,
   "metadata": {
    "collapsed": false
   },
   "outputs": [
    {
     "name": "stdout",
     "output_type": "stream",
     "text": [
      "1 () 6 {}\n",
      "1 (2,) 6 {}\n",
      "1 (2, 3) 6 {}\n",
      "1 (2, 3, 4) 6 {}\n",
      "1 (2, 3, 4) 99 {}\n",
      "1 (2, 3, 4) 6 {'x': 2, 'y': 3}\n",
      "1 (2, 3) 199 {'x': 2, 'y': 3}\n"
     ]
    }
   ],
   "source": [
    "#ordering rules:\n",
    "#Keyword only arguments must be specified after a single star (not two)\n",
    "#named arguments cannot appear after **args and ** cant appear by itself in \n",
    "#argument list\n",
    "\n",
    "#def lowonly(a,**pargs, b,c):print(a,pargs, b,c) #invalid syntax err\n",
    "#def lowonly(a, **,b,c)\n",
    "\n",
    "#In a function header, keyword only arguments must be coded before the \n",
    "#**args keywords and after *args arbitrary positional form when both are \n",
    "#present. Whenever an argument name appears before *args, its is possible\n",
    "#default positional argument\n",
    "\n",
    "#def f(a,*b,**c,d=6):print(a,b,c,d) #error. Keyword before **\n",
    "def f(a,*b,c=6,**d):print(a,b,c,d)\n",
    "f(1)\n",
    "f(1,2)\n",
    "f(1,2,3)\n",
    "f(1,2,3,4)\n",
    "f(1,2,3,4,c=99)\n",
    "f(1,2,3,4,x=2,y=3)\n",
    "f(1,2,3,c=199,x=2,y=3)"
   ]
  },
  {
   "cell_type": "code",
   "execution_count": 89,
   "metadata": {
    "collapsed": false
   },
   "outputs": [
    {
     "name": "stdout",
     "output_type": "stream",
     "text": [
      "f1:  1 () 6 {}\n",
      "f2:  1 22 () {}\n",
      "\n",
      "f1:  1 (2,) 6 {}\n",
      "f2:  1 2 () {}\n",
      "\n",
      "f1:  1 (2, 3) 6 {}\n",
      "f2:  1 2 (3,) {}\n",
      "\n",
      "f1:  1 (2, 3) 6 {'x': 4, 'y': 5}\n",
      "f2:  1 2 (3,) {'x': 4, 'y': 5}\n",
      "f2:  1 2 (3, 4) {}\n",
      "f2:  1 2 (3, 4) {'x': 4, 'y': 5}\n",
      "\n",
      "f1:  1 (2, 3) 7 {'x': 4, 'y': 5}\n",
      "f2:  1 2 (3,) {'x': 4, 'y': 5, 'c': 7}\n",
      "\n",
      "f1:  1 (2, 3) 7 {'x': 4, 'y': 5}\n",
      "\n",
      "f1:  1 (2, 3) 7 {'x': 4, 'y': 5}\n"
     ]
    }
   ],
   "source": [
    "#similar ordering rules hold true in function calls: when keyword only\n",
    "#arguments are passed; they must appear before a ** args form. keyword only\n",
    "#argument can be coded before or after *args form\n",
    "\n",
    "def f1(a,*b, c=6, **d): print(\"f1: \",a,b,c,d)\n",
    "def f2(a,b=22, *c, **d): print(\"f2: \",a,b,c,d)\n",
    "f1(1)\n",
    "f2(1)\n",
    "print()\n",
    "\n",
    "f1(1,2)\n",
    "f2(1,2)\n",
    "print()\n",
    "\n",
    "f1(1,2,3)\n",
    "f2(1,2,3)\n",
    "print()\n",
    "\n",
    "f1(1,*(2,3),**dict(x=4,y=5)) #unpacks arguments\n",
    "f2(1,*(2,3),**dict(x=4,y=5))\n",
    "f2(1,2,*(3,4))\n",
    "f2(1,2,*(3,4),**dict(x=4,y=5))\n",
    "print()\n",
    "\n",
    "f1(1,*(2,3),**dict(x=4,y=5),c=7) #didnt throw error\n",
    "f2(1,*(2,3),**dict(x=4,y=5),c=7)\n",
    "print()\n",
    "\n",
    "f1(1,*(2,3),c=7,**dict(x=4,y=5))\n",
    "#f2(1,b=7,*(2,3),**dict(x=4,y=5)) #throws error, multiple arg for b\n",
    "#f2(1,*(2,3),b=7,**dict(x=4,y=5)) #throws error, multiple arg for b\n",
    "print()\n",
    "\n",
    "f1(1,c=7,*(2,3),**dict(x=4,y=5))\n",
    "#f2(1,b=7,*(2,3),**dict(x=4,y=5))# #throws error, multiple arg for b"
   ]
  },
  {
   "cell_type": "code",
   "execution_count": 94,
   "metadata": {
    "collapsed": false
   },
   "outputs": [
    {
     "name": "stdout",
     "output_type": "stream",
     "text": [
      "1\n",
      "1\n",
      "[1, 2]\n",
      "[1, 3]\n",
      "(1, 2)\n",
      "(1, 3)\n"
     ]
    }
   ],
   "source": [
    "#The problem:\n",
    "#Code a function that takes any inputs and gives the minimum value\n",
    "\n",
    "def min1(*args):\n",
    "    list_args=list(args)\n",
    "    low=list_args[0]\n",
    "    for i in range(1,len(list_args)):\n",
    "        if list_args[i]<low:\n",
    "            low=list_args[i]\n",
    "    \n",
    "    print(low)\n",
    "\n",
    "min1(1,2,3,4)\n",
    "#min1(1,'2',3) #mixed types gives error\n",
    "min1('1','2')\n",
    "min1([1,2],[3,4])\n",
    "min1([1,3],[2,4])\n",
    "min1((1,2),(4,5))\n",
    "min1((1,3),(2,4))\n",
    "    \n"
   ]
  },
  {
   "cell_type": "code",
   "execution_count": 123,
   "metadata": {
    "collapsed": false
   },
   "outputs": [
    {
     "name": "stdout",
     "output_type": "stream",
     "text": [
      "[1]\n",
      "[1, '2']\n",
      "[]\n",
      "[]\n",
      "[(1, 2)]\n",
      "[]\n",
      "\n",
      "[]\n",
      "[1]\n",
      "['s', 'a', 'm']\n",
      "\n",
      "['s', 's', 'a', 'a', 'm', 'm']\n"
     ]
    }
   ],
   "source": [
    "#A generalized function for union and intersection\n",
    "\n",
    "def isec(*args): #This intersect only checks if the same list, tuple or \n",
    "                 # or string occures in input; doesnt check for individual\n",
    "                 # characters\n",
    "    res=[]\n",
    "    for r in args:\n",
    "        if r in res: continue\n",
    "        else:\n",
    "            count=0\n",
    "            for i in args:\n",
    "                if r==i:      #Rescan the entire list for match\n",
    "                    count+=1\n",
    "            if(count>1):      #Count has >1 because every element will match itself\n",
    "                res.append(r)\n",
    "    print(res)\n",
    "\n",
    "isec(1,2,1,4)\n",
    "isec(1,'2',3,'2',1)\n",
    "isec('1','2')\n",
    "isec([1,2],[3,4],[1,4,[3,4]])\n",
    "isec((1,2),(4,5),(1,2),(1,5))\n",
    "isec('spam','scam','slam')\n",
    "print()\n",
    "\n",
    "#book intersect works to check if elements of first sequence appear\n",
    "#anywhere else\n",
    "\n",
    "def bookintersect(*args):\n",
    "    res=[]\n",
    "    for x in args[0]:\n",
    "        if x in res:continue\n",
    "        for other in args[1:]:\n",
    "            if x not in other:break\n",
    "            else:\n",
    "                if x not in res: #Book intersect didnt have this line.\n",
    "                    res.append(x)\n",
    "    return res\n",
    "\n",
    "#bookintersect(1,2,1,4)\n",
    "#bookintersect(1,'2',3,'2',1)\n",
    "#bookintersect('1','2')\n",
    "print(bookintersect([1,2],[3,4],[1,4,[3,4]]))\n",
    "print(bookintersect([1,2],[1,3]))\n",
    "print(bookintersect('spam','scam','slam'))\n",
    "\n",
    "print()\n",
    "\n",
    "#Intersect function from book copied here\n",
    "def intersect(*args):\n",
    "    res = []\n",
    "    for x in args[0]:\n",
    "        if x in res: continue\n",
    "        for other in args[1:]:\n",
    "            if x not in other: break\n",
    "            else:\n",
    "                res.append(x)\n",
    "    return res\n",
    "\n",
    "print(intersect('spam','scam','slam'))"
   ]
  },
  {
   "cell_type": "code",
   "execution_count": 1,
   "metadata": {
    "collapsed": false
   },
   "outputs": [
    {
     "name": "stdout",
     "output_type": "stream",
     "text": [
      "['s', 'p', 'a', 'm', 'c', 'n']\n"
     ]
    }
   ],
   "source": [
    "#Union function\n",
    "\n",
    "def union(*args):\n",
    "    res=[]\n",
    "    for i in args:\n",
    "        for j in i:\n",
    "            if j in res:continue\n",
    "            else:res.append(j)\n",
    "    return res\n",
    "print(union('spam','scan'))"
   ]
  },
  {
   "cell_type": "code",
   "execution_count": null,
   "metadata": {
    "collapsed": true
   },
   "outputs": [],
   "source": []
  }
 ],
 "metadata": {
  "kernelspec": {
   "display_name": "Python 3",
   "language": "python",
   "name": "python3"
  },
  "language_info": {
   "codemirror_mode": {
    "name": "ipython",
    "version": 3
   },
   "file_extension": ".py",
   "mimetype": "text/x-python",
   "name": "python",
   "nbconvert_exporter": "python",
   "pygments_lexer": "ipython3",
   "version": "3.5.1"
  }
 },
 "nbformat": 4,
 "nbformat_minor": 0
}

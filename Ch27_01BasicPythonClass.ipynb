{
 "cells": [
  {
   "cell_type": "code",
   "execution_count": null,
   "metadata": {
    "collapsed": true
   },
   "outputs": [],
   "source": [
    "#Python class- a coding structure and device to implement new kind of objects\n",
    "# in python that support inheritance\n",
    "#objects defined with classes look lik built-in type. Classes are designed\n",
    "# to create and manage new objects and support inheritnace.\n",
    "\n",
    "#Inheritance: Common properties are inherted, new properties can be defined\n",
    "#Composition: Many things work together to follow succesful implementation\n",
    "\n",
    "#Classes are factories for generating one or more ojbects. Each call to class\n",
    "#creates a new object with distinct namespace. Each object generated from\n",
    "# a class has access to class's attributes and gets a namespace of its own\n",
    "# for data that varies per object.\n",
    "\n",
    "#Customization via inheritance:\n",
    "#classes also support the OOP notion of inheritance; extend a class by \n",
    "#redifining its attributes outside the class in a subclass. MOre generally\n",
    "#classes can build namespace hierarchies, which define names to be used by\n",
    "#by objects created from classes in hierarchy. \n",
    "\n",
    "#Operator overloading:\n",
    "#classes can define objects that respond to operation  e.g slicing, concat\n",
    "#etc\n",
    "\n",
    "#OOP Story for python==> object.attribute\n",
    "\n",
    "#When we say this is an object that is derived from a class statement, the\n",
    "#expression kicks off a search in Python-it searches a tree of linked\n",
    "#objects, looking for the first appearance of attribute that it can find.\n",
    "\n",
    "#When classes are involved, the preceding Python expression effectively \n",
    "#translates to : Find the first occurence of attribute by looking in object\n",
    "#then in all classes above it, from bottom to top and left to right\n",
    "\n",
    "#In other words, attribute fetches are simply tree searches. The term\n",
    "#inheritance is applied because objects lower in a tree inherit attributes\n",
    "#attached to objects higher in that tree. As the search proceeds from \n",
    "#bottomw up, in a sense, the objects linked into a tree are union of all \n",
    "#all the attributes defined in all their tree parents, all the way  up \n",
    "#the tree\n",
    "\n",
    "#Classes serve as instance factories. Their attributes provide behavior\n",
    "#data and fucntions, that is inherited by all instances generated from them\n",
    "\n",
    "#Instance: Represent the concrete items in program's domain. Their attributes\n",
    "#record data that varies per specific object data e.g SSN\n",
    "\n",
    "#IN terms of search trees, an instance inherits attributes from its class\n",
    "#and class inherits attributes from all classes above it in the tree\n",
    "\n",
    "#Classes and Instances:\n",
    "#Although they are two seprata object types in python model, the classes\n",
    "# and isntance in trees are almost identifica- each type's main purpose\n",
    "# is to serve as another kind of namespace - apackage for variables and place\n",
    "#where we can attach attributes.\n",
    "#In this respect they are like modules, but objects in class trees also have\n",
    "#automatically searched links to other namespace objects\n",
    "\n",
    "#The primary difference between classes and instance is that classes are a\n",
    "# a kind of facotry for generating instances. E.g Employeee class that \n",
    "#defines what it means to be a good employee, from that calss we generate\n",
    "#actual Employee instances.\n",
    "\n",
    "#Method calls:When we call object.method, this call is translated to \n",
    "#class.method to process object. That is python automatically maps \n",
    "# the call object.method() into class.method(object), passing in the instance\n",
    "# as the first argument in the inherited function. Infact, whenever we call\n",
    "# a function attached to a class in this fashion, an instance of the class\n",
    "# is always implied. This implied subject or context is part of the reason\n",
    "#we refer to this as an object oriented model- there is always a subject\n",
    "#object when an operation is run.\n",
    "\n",
    "#Realistic example, we might invoke a method called give Raise attached\n",
    "#as an attribute to Employee class, such a call has no meaning unless\n",
    "#qualified with the employee to whom the raise is given.\n",
    "\n",
    "# We will see later that, Python passes in the implied instance to a special\n",
    "# argument in the method called self by convertion. Methods go through this\n",
    "# argument to process the subject of the call. Methods can also be called\n",
    "# through either an instance -bob.giveRaise() or as a class \n",
    "# Employee.giveRaise(bob) and both forms serve purpose in the scripts.\n",
    "\n",
    "#bob.giveRaise() method: looks up giveRaise from bob by inheritance search\n",
    "# and passes bob to the located giveRaise function, in the special self \n",
    "# argument\n",
    "\n",
    "#when calling Employee.giveRaise(bob), the same steps are performed, but here\n",
    "# we specify the argument = instance bob to the class method giveRaise()\n",
    "\n",
    "#Coding Class Trees:\n",
    "#Each class statement generates a new class objects\n",
    "# each time a calss is called, it generates a new instance object\n",
    "# instances are automatically linked to the classes from which they are created\n",
    "#classes are automatically linked to the superclasses according to the way\n",
    "#we  list them in parentheses in a class header line; left to righ order\n",
    "#gives the order of tree\n",
    "\n",
    "# class C2: .. Make a class object\n",
    "# class C3: ..\n",
    "# class C1(C2,C3) link superclasses in the given order of arguments\n",
    "# I1 = C1() Make instance objects\n",
    "# I2 = C1() #linked to their classes\n",
    "\n",
    "#if there are more than one super class listed, their left to righ order\n",
    "# give the order in which those superclasses will be searched for attributes\n",
    "# by inheritance. Leftmost version of a name is used by default\n",
    "\n",
    "#Because of inheritance searches proceed, the object to which you attach\n",
    "# an attribute turns to be crucial, it determines the name's scope. Attributes\n",
    "# attached to instance pertain only to those single instances, but attrib\n",
    "# attached to the clases are shared by all their subclasses and isntances\n",
    "\n",
    "# Attributes are usually attached to classes by assignments made at the top\n",
    "# level in class statement blocks; not nested inside function def statements\n",
    "\n",
    "#Attributes are usually attached to instance by assigments made at the top level\n",
    "# inside classes called self\n",
    "\n"
   ]
  },
  {
   "cell_type": "code",
   "execution_count": null,
   "metadata": {
    "collapsed": true
   },
   "outputs": [],
   "source": [
    "class FirstClass:\n",
    "    def setdata(self,value):\n",
    "        self.data=value\n",
    "    \n",
    "    def display(self):\n",
    "        print(self.data)"
   ]
  },
  {
   "cell_type": "code",
   "execution_count": 2,
   "metadata": {
    "collapsed": false
   },
   "outputs": [
    {
     "ename": "ImportError",
     "evalue": "No module named 'gasp'",
     "output_type": "error",
     "traceback": [
      "\u001b[1;31m---------------------------------------------------------------------------\u001b[0m",
      "\u001b[1;31mImportError\u001b[0m                               Traceback (most recent call last)",
      "\u001b[1;32m<ipython-input-2-b61a8d757270>\u001b[0m in \u001b[0;36m<module>\u001b[1;34m()\u001b[0m\n\u001b[1;32m----> 1\u001b[1;33m \u001b[1;32mfrom\u001b[0m \u001b[0mgasp\u001b[0m \u001b[1;32mimport\u001b[0m \u001b[1;33m*\u001b[0m\u001b[1;33m\u001b[0m\u001b[0m\n\u001b[0m",
      "\u001b[1;31mImportError\u001b[0m: No module named 'gasp'"
     ]
    }
   ],
   "source": [
    "from gasp import *"
   ]
  },
  {
   "cell_type": "code",
   "execution_count": null,
   "metadata": {
    "collapsed": true
   },
   "outputs": [],
   "source": []
  }
 ],
 "metadata": {
  "kernelspec": {
   "display_name": "Python 3",
   "language": "python",
   "name": "python3"
  },
  "language_info": {
   "codemirror_mode": {
    "name": "ipython",
    "version": 3
   },
   "file_extension": ".py",
   "mimetype": "text/x-python",
   "name": "python",
   "nbconvert_exporter": "python",
   "pygments_lexer": "ipython3",
   "version": "3.5.1"
  }
 },
 "nbformat": 4,
 "nbformat_minor": 0
}

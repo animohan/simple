{
 "cells": [
  {
   "cell_type": "markdown",
   "metadata": {
    "collapsed": false
   },
   "source": [
    "# Python Class:\n",
    "Python class- a coding structure and device to implement new kind of objects n python that support inheritance\n",
    "\n",
    "Ojects defined with classes look likebuilt-in type. Classes are designed\n",
    "to create and manage new objects and support inheritnace.\n",
    "\n",
    "### Inheritance: \n",
    "Common properties are inherted, new properties can be defined\n",
    "\n",
    "### Composition: \n",
    "Many things work together to follow succesful implementation\n",
    "\n",
    "Classes are factories for generating one or more objects. Each call to class creates a new object with distinct namespace. Each object generated from a class has access to class's attributes and gets a namespace of its own for data that varies per object.\n",
    "\n",
    "### Customization via inheritance:\n",
    "classes also support the OOP notion of inheritance; extend a class by \n",
    "redifining its attributes outside the class in a subclass. \n",
    "\n",
    "More generally classes can build namespace hierarchies, which define names to be used by by objects created from classes in hierarchy. \n",
    "\n",
    "### Operator overloading:\n",
    "Classes can define objects that respond to operation  e.g slicing, concat\n",
    "etc\n",
    "\n",
    "### OOP Story for python==> object.attribute\n",
    "When we say this is an object that is derived from a class statement, the\n",
    "expression kicks off a search in Python. It searches a tree of linked\n",
    "objects, looking for the first appearance of attribute that it can find.\n",
    "\n",
    "When classes are involved, the preceding Python expression effectively \n",
    "translates to : Find the first occurence of attribute by looking in object\n",
    "then in all classes above it, from bottom to top and left to right\n",
    "\n",
    "In other words, attribute fetches are simply tree searches. The term\n",
    "inheritance is applied because objects lower in a tree inherit attributes\n",
    "attached to objects higher in that tree. As the search proceeds from \n",
    "bottom up, in a sense, the objects linked into a tree are union of all \n",
    "all the attributes defined in all their tree parents, all the way  up \n",
    "the tree\n",
    "\n",
    "Classes serve as instance factories. Their attributes provide behavior\n",
    "data and fucntions, that is inherited by all instances generated from them\n",
    "\n",
    "Instance: Represent the concrete items in program's domain. Their attributes record data that varies per specific object data e.g SSN\n",
    "\n",
    "In terms of search trees, an instance inherits attributes from its class\n",
    "and class inherits attributes from all classes above it in the tree\n",
    "\n",
    "### Classes and Instances:\n",
    "Although they are two seprate object types in python model, the classes\n",
    "and instance in trees are almost identifical. Each type's main purpose\n",
    "is to serve as another kind of namespace - a package for variables and place where we can attach attributes.\n",
    "\n",
    "In this respect they are like modules, but objects in class trees also have\n",
    "automatically searched links to other namespace objects\n",
    "\n",
    "The primary difference between classes and instance is that classes are a\n",
    "a kind of factory for generating instances. E.g Employeee class that \n",
    "defines what it means to be a good employee, from that class we generate\n",
    "actual Employee instances.\n",
    "\n",
    "### Method calls:\n",
    "When we call object.method, this call is translated to \n",
    "class.method to process object. That is python automatically maps \n",
    "the call object.method() into class.method(object), passing in the instance\n",
    "as the first argument in the inherited function. Infact, whenever we call\n",
    "a function attached to a class in this fashion, an instance of the class\n",
    "is always implied. This implied subject or context is part of the reason\n",
    "we refer to this as an object oriented model- there is always a subject\n",
    "object when an operation is run.\n",
    "\n",
    "Realistic example: we might invoke a method called give Raise attached\n",
    "as an attribute to Employee class, such a call has no meaning unless\n",
    "qualified with the employee to whom the raise is given.\n",
    "\n",
    "We will see later that, Python passes in the implied instance to a special\n",
    "argument in the method called self by convertion. Methods go through this\n",
    "argument to process the subject of the call. Methods can also be called\n",
    "through either an instance -bob.giveRaise() or as a class \n",
    "Employee.giveRaise(bob) and both forms serve purpose in the scripts.\n",
    "\n",
    "bob.giveRaise() method: looks up giveRaise from bob by inheritance search\n",
    "and passes bob to the located giveRaise function, in the special self \n",
    "argument\n",
    "\n",
    "when calling Employee.giveRaise(bob), the same steps are performed, but here we specify the argument = instance bob to the class method giveRaise()\n",
    "\n",
    "### Coding Class Trees:\n",
    "Each class statement generates a new class objects. Each time a class is called, it generates a new instance object. Instances are automatically linked to the classes from which they are created. Classes are automatically linked to the superclasses according to the way\n",
    "we list them in parentheses in a class header line; left to righ order\n",
    "gives the order of tree\n"
   ]
  },
  {
   "cell_type": "code",
   "execution_count": 4,
   "metadata": {
    "collapsed": false
   },
   "outputs": [],
   "source": [
    " class C2: a=2 #Make a class object\n",
    " class C3: c=10 \n",
    " class C1(C2,C3): #link superclasses in the given order of arguments\n",
    "    c=25 \n",
    " I1 = C1() #Make instance objects\n",
    " I2 = C1() #linked to their classes"
   ]
  },
  {
   "cell_type": "markdown",
   "metadata": {},
   "source": [
    "If there are more than one super class listed, their left to right order\n",
    "gives the order in which those superclasses will be searched for attributes\n",
    "by inheritance. Leftmost version of a name is used by default\n",
    "\n",
    "Because of how inheritance searches proceed, the object to which you attach\n",
    "an attribute turns to be crucial, it determines the name's scope. \n",
    "\n",
    "Attributes attached to instance pertain only to those single instances, but attributes attached to the clases are shared by all their subclasses and instances\n",
    "\n",
    "Attributes are usually attached to classes by assignments made at the top\n",
    "level in class statement blocks; not nested inside function def statements\n",
    "\n",
    "Attributes are usually attached to instance by assigments made at the top level inside classes called self\n",
    "\n",
    "For example, classes provide behavior for their instance with method func\n",
    "created by def statmenet inside class statements. Because such nested defs\n",
    "assign names within the class, they wind up attaching attributes to class\n",
    "object that will be inherited by all instances and sublcass"
   ]
  },
  {
   "cell_type": "code",
   "execution_count": 5,
   "metadata": {
    "collapsed": false
   },
   "outputs": [
    {
     "name": "stdout",
     "output_type": "stream",
     "text": [
      "bob\n"
     ]
    }
   ],
   "source": [
    "class C2: #Superclass\n",
    "    a=5\n",
    "class C3:\n",
    "    c=10\n",
    "class C1(C2,C3): #make and link class C1\n",
    "    def setname(self,who): # Assign nam: C1.setname\n",
    "        self.name=who #Self is defined in the objects I1 or I2\n",
    "\n",
    "I1 = C1() #Make two instances\n",
    "I2 = C1()\n",
    "I1.setname('bob') #Set I1.name to \"bob\"\n",
    "I2.setname('sue') #Set I2.name to \"sue\"\n",
    "print(I1.name) #print \"bob\" name"
   ]
  },
  {
   "cell_type": "markdown",
   "metadata": {},
   "source": [
    "There is nothing synctactically unique about def in this context. Though,\n",
    "when def appears inside a class like this, it is called a method and\n",
    "it automatically recieves a special first argument, called self by convention that provides a handle back to the instance to be processed. \n",
    "\n",
    "Any values  you pass to the method yourself go to arguments after self(here, to who)\n",
    "\n",
    "Becasue classes are factories for multiple instance, their methods usually\n",
    "go through this automatically passed-in self argument  whenever they need\n",
    "to fetch or set attributues of the particular instance being processed by\n",
    "a method call. \n",
    "\n",
    "In the preceeding code, self is used to store a name in one\n",
    "of two instances like simple variables, attributes of classes and instance are not declared ahead of time, but spring into existence the first time they are assigned values. \n",
    "\n",
    "When a method assigns to a self attribute, it creates or changes an attribute in an instance at the bottom of class tree\n",
    "\n",
    "All objects in class tree are just namespace objects, we can fetch\n",
    "or set any of their attributes by going through the appropriate names.\n",
    "Saying C1.setname and I1.setname aer both valide if they are in the scope\n",
    "\n",
    "## Operator Overloading:\n",
    "As currently coded C1 does not attach name attribute to an instance \n",
    "untill setname method is called. Referencing I1.name before calling \n",
    "I1.setname would produce undefined name error.\n",
    "\n",
    "If a class wants to guarantee that an attribute like name is always set\n",
    "in instances, it more typically will fill out the attribute at \n",
    "construction time"
   ]
  },
  {
   "cell_type": "code",
   "execution_count": null,
   "metadata": {
    "collapsed": true
   },
   "outputs": [],
   "source": [
    "class C2:\n",
    "    a=10\n",
    "class C3:\n",
    "    c=20\n",
    "class C1(C2,C3):\n",
    "    def __init__(self,who):\n",
    "        self.name=who\n",
    "\n",
    "I1=C1(\"bob\")\n",
    "I2=C1(\"sue\")\n",
    "#I3=C1()  #Throws error as attribute name is not set\n",
    "print(I1.name)\n",
    "#print(I3.name)\n"
   ]
  },
  {
   "cell_type": "code",
   "execution_count": null,
   "metadata": {
    "collapsed": true
   },
   "outputs": [],
   "source": [
    "#If its coded or inherited, Python automatically calls a method named\n",
    "# __init__ each time an instance is generated from a class. The new instance\n",
    "# is passed in to the self argument of __init__  and any values listed in \n",
    "# parenthese in the class call go to the arguments two and beyond. The effect\n",
    "# here is to initialize instance when they are made without requiring extra\n",
    "# method calls\n",
    "\n",
    "\n",
    "# The __init__ method is known as the constructor because of when it is run\n",
    "# It is the most commonly used representative of a larger class of methods\n",
    "# called operator overloading methods.\n",
    "\n",
    "#Suhcn methods are inherited in calss tress as usual and have double\n",
    "# underscores at the start and end of their names to make them distinct\n",
    "\n",
    "#Python runs them automatically when instances that support them appear in\n",
    "# in the corresponding opertations, and they are mostly an alternative to \n",
    "# using simple method calls"
   ]
  },
  {
   "cell_type": "code",
   "execution_count": null,
   "metadata": {
    "collapsed": true
   },
   "outputs": [],
   "source": [
    "class FirstClass:\n",
    "    def setdata(self,value):\n",
    "        self.data=value\n",
    "    \n",
    "    def display(self):\n",
    "        print(self.data)"
   ]
  },
  {
   "cell_type": "code",
   "execution_count": null,
   "metadata": {
    "collapsed": true
   },
   "outputs": [],
   "source": []
  },
  {
   "cell_type": "code",
   "execution_count": 2,
   "metadata": {
    "collapsed": false
   },
   "outputs": [
    {
     "ename": "ImportError",
     "evalue": "No module named 'gasp'",
     "output_type": "error",
     "traceback": [
      "\u001b[1;31m---------------------------------------------------------------------------\u001b[0m",
      "\u001b[1;31mImportError\u001b[0m                               Traceback (most recent call last)",
      "\u001b[1;32m<ipython-input-2-b61a8d757270>\u001b[0m in \u001b[0;36m<module>\u001b[1;34m()\u001b[0m\n\u001b[1;32m----> 1\u001b[1;33m \u001b[1;32mfrom\u001b[0m \u001b[0mgasp\u001b[0m \u001b[1;32mimport\u001b[0m \u001b[1;33m*\u001b[0m\u001b[1;33m\u001b[0m\u001b[0m\n\u001b[0m",
      "\u001b[1;31mImportError\u001b[0m: No module named 'gasp'"
     ]
    }
   ],
   "source": [
    "from gasp import *"
   ]
  },
  {
   "cell_type": "code",
   "execution_count": null,
   "metadata": {
    "collapsed": true
   },
   "outputs": [],
   "source": []
  }
 ],
 "metadata": {
  "anaconda-cloud": {},
  "kernelspec": {
   "display_name": "Python [default]",
   "language": "python",
   "name": "python3"
  },
  "language_info": {
   "codemirror_mode": {
    "name": "ipython",
    "version": 3
   },
   "file_extension": ".py",
   "mimetype": "text/x-python",
   "name": "python",
   "nbconvert_exporter": "python",
   "pygments_lexer": "ipython3",
   "version": "3.5.2"
  }
 },
 "nbformat": 4,
 "nbformat_minor": 0
}

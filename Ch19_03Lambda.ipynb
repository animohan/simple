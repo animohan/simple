{
 "cells": [
  {
   "cell_type": "code",
   "execution_count": 3,
   "metadata": {
    "collapsed": false
   },
   "outputs": [
    {
     "name": "stdout",
     "output_type": "stream",
     "text": [
      "6\n",
      "7\n"
     ]
    }
   ],
   "source": [
    "#Beside def, python provides an expression form that generates\n",
    "#function objects. like def, thie expression creates a function to be called\n",
    "#laster, but returs the function insted of assigning it to a name\n",
    "\n",
    "#In practive, they are often used as a way to inline a function definition\n",
    "#or to defer execution of a piece of code\n",
    "\n",
    "#lamda definition:- lambda arg1, arg2...: expression using arguemnts\n",
    "#difference betweeen lambdas and defs\n",
    "\n",
    "#lambda is an expression, not a statement\n",
    "#because of this, lambda can appear in places a def is not allwoed\n",
    "#- inside a list literal or a function call's arguments. With def, functions\n",
    "#can be reference by name but must be created else where. As an expression,\n",
    "#lambda returns a value that can optionally be assiged a name. In contrast,\n",
    "#the def statement always assigns the new function to the name in header, \n",
    "#instead of returning its as a result\n",
    "\n",
    "#lambda's body is an single expression, not a block of statments:\n",
    "#lambda's body is similar to what you'd put in a def body's returs statement\n",
    "\n",
    "def func(x,y,z): return x+y+z\n",
    "print(func(1,2,3))\n",
    "\n",
    "f = lambda x,y,z: x+y+z\n",
    "print(f(2,2,3))\n",
    "\n",
    "#Here f is assigned the function boject the lambda expression creates"
   ]
  },
  {
   "cell_type": "code",
   "execution_count": 7,
   "metadata": {
    "collapsed": false
   },
   "outputs": [
    {
     "name": "stdout",
     "output_type": "stream",
     "text": [
      "weefiefoe\n",
      "dodidfoe\n"
     ]
    }
   ],
   "source": [
    "#defualts work in lambda just like a def\n",
    "x=(lambda a=\"fee\", b=\"fie\",c=\"foe\":a+b+c)\n",
    "print(x(\"wee\"))\n",
    "print(x(\"do\",\"did\"))"
   ]
  },
  {
   "cell_type": "code",
   "execution_count": 10,
   "metadata": {
    "collapsed": false
   },
   "outputs": [
    {
     "name": "stdout",
     "output_type": "stream",
     "text": [
      "Sir robin\n",
      "<function knights.<locals>.<lambda> at 0x7f305c097598>\n"
     ]
    }
   ],
   "source": [
    "#Code in lambda body follows same scope look up rules as a def\n",
    "\n",
    "def knights():\n",
    "    title=\"Sir\"\n",
    "    action =(lambda x: title+ ' '+ x)\n",
    "    return action\n",
    "\n",
    "act =knights()\n",
    "msg= act('robin')\n",
    "print(msg)\n",
    "\n",
    "print(act)\n"
   ]
  },
  {
   "cell_type": "code",
   "execution_count": 12,
   "metadata": {
    "collapsed": false
   },
   "outputs": [
    {
     "name": "stdout",
     "output_type": "stream",
     "text": [
      "4\n",
      "8\n",
      "16\n",
      "9\n"
     ]
    }
   ],
   "source": [
    "#Why use lambda:\n",
    "#lambda comes in handy as a sort of function shorthand that allows \n",
    "#embedding a function definition, within the code that uses it.\n",
    "#later we will see call back handlers are frequently coded as inline lambda\n",
    "#expressions embeded directly in registration call's arguments list, instead\n",
    "# of being defined with a def elsewhere in teh fil\n",
    "\n",
    "#lambda is commonly used to code jump table, which are lists or dicitionaries\n",
    "# of actions to be perfored on demand\n",
    "L = [lambda x: x**2,\n",
    "    lambda x: x**3,\n",
    "    lambda x: x**4]\n",
    "\n",
    "for f in L:\n",
    "    print(f(2))\n",
    "\n",
    "print(L[0](3))\n",
    "#This example builds up a list of three functions embeddeding"
   ]
  },
  {
   "cell_type": "code",
   "execution_count": null,
   "metadata": {
    "collapsed": true
   },
   "outputs": [],
   "source": []
  }
 ],
 "metadata": {
  "kernelspec": {
   "display_name": "Python 3",
   "language": "python",
   "name": "python3"
  },
  "language_info": {
   "codemirror_mode": {
    "name": "ipython",
    "version": 3
   },
   "file_extension": ".py",
   "mimetype": "text/x-python",
   "name": "python",
   "nbconvert_exporter": "python",
   "pygments_lexer": "ipython3",
   "version": "3.5.1"
  }
 },
 "nbformat": 4,
 "nbformat_minor": 0
}

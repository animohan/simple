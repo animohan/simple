{
 "cells": [
  {
   "cell_type": "code",
   "execution_count": 333,
   "metadata": {
    "collapsed": false
   },
   "outputs": [
    {
     "name": "stdout",
     "output_type": "stream",
     "text": [
      "Bob Smith None 0.000000\n",
      "Sue Jones ['Engineer', 'CEO'] 2200.000000\n",
      "Jon Kay traveller 550.000000\n",
      "Tom Jones ['mgr'] 12000.000000\n"
     ]
    }
   ],
   "source": [
    "class Person:\n",
    "    def __init__(self, name , job = None, pay = 0):\n",
    "        self.name = name\n",
    "        self.job = job\n",
    "        self.pay = pay\n",
    "    \n",
    "    def lastName(self):\n",
    "        return self.name.split()[-1]\n",
    "\n",
    "    def giveRaise(self,percent):\n",
    "        self.pay = self.pay* (1+ percent/100)\n",
    "        \n",
    "    def __repr__(self):\n",
    "            return(\"%s %s %f\" %(self.name,self.job, self.pay))\n",
    "        \n",
    "        \n",
    "class Manager(Person):\n",
    "    def __init__(self, name, pay):\n",
    "        Person.__init__(self, name, [\"mgr\"], pay)\n",
    "    def giveRaise(self, percent, bonus = 10):\n",
    "        Person.giveRaise(self,bonus + percent)\n",
    "        \n",
    "if __name__ == \"__main__\":    \n",
    "    bob = Person(\"Bob Smith\")\n",
    "    sue = Person(\"Sue Jones\",[\"Engineer\",\"CEO\"], 2000)\n",
    "    jon = Person(name = \"Jon Kay\", job = \"traveller\", pay = 500)\n",
    "    tom = Manager(\"Tom Jones\", pay=  10000)\n",
    "    \n",
    "    for obj in (bob, sue, jon, tom):\n",
    "        obj.giveRaise(10)\n",
    "        print(obj)\n",
    "    "
   ]
  },
  {
   "cell_type": "code",
   "execution_count": null,
   "metadata": {
    "collapsed": true
   },
   "outputs": [],
   "source": []
  }
 ],
 "metadata": {
  "anaconda-cloud": {},
  "kernelspec": {
   "display_name": "Python 3",
   "language": "python",
   "name": "python3"
  },
  "language_info": {
   "codemirror_mode": {
    "name": "ipython",
    "version": 3
   },
   "file_extension": ".py",
   "mimetype": "text/x-python",
   "name": "python",
   "nbconvert_exporter": "python",
   "pygments_lexer": "ipython3",
   "version": "3.5.2"
  }
 },
 "nbformat": 4,
 "nbformat_minor": 0
}

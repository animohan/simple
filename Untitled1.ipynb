{
 "cells": [
  {
   "cell_type": "code",
   "execution_count": null,
   "metadata": {
    "collapsed": true
   },
   "outputs": [],
   "source": [
    "#Classes are customized by inheritance:\n",
    "# Besides serving as factories for generating multiple instance objects, classes\n",
    "# also allow us to make changes in introducing new components called subclasses\n",
    "# instead of changing existing components in place\n",
    "\n",
    "# Instance objects generated from a class inherit the class's attributes\n",
    "# Python also allows classes to inherit from other classes, opening the door\n",
    "# to coding hierarchies of classes that specialize behavior, by redefining \n",
    "# attributes in subclasses that appear lower in the heirarchy, override the\n",
    "# more general definitions of those attributes higher in the tree.\n",
    "\n",
    "# In python, instance inherit from classes and classes inherit from superclass\n",
    "# Key ideas\n",
    "\n",
    "#Superclasses are listed in parentheses in a class header: To make a class\n",
    "# inherit attributes from another class, just list the other class in\n",
    "# parentheses in the new class statements header line. The class that inherits\n",
    "# is usually called a subclass and the class that is inherited from its \n",
    "# superclass\n",
    "\n",
    "#Classes inherit  attributes from their superclass:\n",
    "# Just as instance inherit the attribute names defined in their classes, classes\n",
    "# inherit all of the attribute names in thier superclasses; Python finds\n",
    "#  them automatically when they are accessed, if they dont exist in the subclass\n",
    "\n",
    "# INstance inherit attributes from all accessible classes: Each instance gets\n",
    "# names from the class its generated from, as well as all of that class's\n",
    "# superclasses. When looking for name, python checks the instance then its class\n",
    "# then all superclasses\n",
    "\n",
    "#Each object.attribute reference invokes a new independent search. Python\n",
    "# performs an independedn seach of the class tree for each attribute\n"
   ]
  }
 ],
 "metadata": {
  "kernelspec": {
   "display_name": "Python 3",
   "language": "python",
   "name": "python3"
  },
  "language_info": {
   "codemirror_mode": {
    "name": "ipython",
    "version": 3
   },
   "file_extension": ".py",
   "mimetype": "text/x-python",
   "name": "python",
   "nbconvert_exporter": "python",
   "pygments_lexer": "ipython3",
   "version": "3.5.1"
  }
 },
 "nbformat": 4,
 "nbformat_minor": 0
}

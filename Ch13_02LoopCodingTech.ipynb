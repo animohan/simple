{
 "cells": [
  {
   "cell_type": "code",
   "execution_count": 1,
   "metadata": {
    "collapsed": false
   },
   "outputs": [
    {
     "name": "stdout",
     "output_type": "stream",
     "text": [
      "[0, 1, 2, 3, 4]\n",
      "[2, 3, 4]\n",
      "[0, 2, 4, 6, 8]\n"
     ]
    }
   ],
   "source": [
    "#Range\n",
    "print(list(range(5)))\n",
    "print(list(range(2,5)))\n",
    "print(list(range(0,10,2)))"
   ]
  },
  {
   "cell_type": "code",
   "execution_count": 2,
   "metadata": {
    "collapsed": false
   },
   "outputs": [
    {
     "name": "stdout",
     "output_type": "stream",
     "text": [
      "0 python\n",
      "1 python\n",
      "2 python\n",
      "S p a m \n",
      "\n",
      "S p a m "
     ]
    }
   ],
   "source": [
    "for i in range(3):\n",
    "    print(i, \"python\")\n",
    "\n",
    "X=\"Spam\"\n",
    "for item in X:\n",
    "    print(item, end=\" \")\n",
    "#using range for the same loop as above\n",
    "print(\"\\n\")\n",
    "for i in range(len(X)):\n",
    "    print(X[i],end=\" \")"
   ]
  },
  {
   "cell_type": "code",
   "execution_count": 3,
   "metadata": {
    "collapsed": false
   },
   "outputs": [
    {
     "name": "stdout",
     "output_type": "stream",
     "text": [
      "pam\n",
      "s\n",
      "pams amsp mspa spam "
     ]
    }
   ],
   "source": [
    "#Reordering the items in the string:\n",
    "S=\"spam\"\n",
    "print(S[1:])\n",
    "print(S[:1])\n",
    "for i in range(len(S)):\n",
    "    S=S[1:]+S[:1]\n",
    "    print(S, end=\" \")"
   ]
  },
  {
   "cell_type": "code",
   "execution_count": 4,
   "metadata": {
    "collapsed": false
   },
   "outputs": [
    {
     "name": "stdout",
     "output_type": "stream",
     "text": [
      "a c e g i k m p r t v x z \n",
      "a b c d e f g h i j k l m o p q r s t u v w x y z \n",
      "\n",
      "a c e g i k m p r t v x z \n",
      "\n",
      "a d g j m q t w z \n",
      "\n",
      "a e i m r v z \n",
      "\n",
      "a f k q v \n",
      "\n",
      "a g m t z \n",
      "\n",
      "a h p w \n",
      "\n",
      "a i r z \n",
      "\n",
      "a j t \n",
      "\n",
      "a k v \n",
      "\n",
      "a l x \n",
      "\n",
      "abcdefghijklmopqrstuvwxyz \n",
      "\n",
      "acegikmprtvxz \n",
      "\n",
      "adgjmqtwz \n",
      "\n",
      "aeimrvz \n",
      "\n",
      "afkqv \n",
      "\n",
      "agmtz \n",
      "\n",
      "ahpw \n",
      "\n",
      "airz \n",
      "\n",
      "ajt \n",
      "\n",
      "akv \n",
      "\n",
      "alx \n",
      "\n"
     ]
    }
   ],
   "source": [
    "S=\"abcdefghijklmopqrstuvwxyz\"\n",
    "#list(range(0,len(S),2))\n",
    "for i in range(0,len(S),2):\n",
    "    print(S[i],end=\" \")\n",
    "print()\n",
    "    \n",
    "for i in range(1,len(S)//2):\n",
    "    for j in range(0,len(S),i):\n",
    "        print(S[j],end=\" \")\n",
    "    print(\"\\n\")\n",
    "    \n",
    "#Same result can be achieved by\n",
    "for i in range(1,len(S)//2):\n",
    "        print(S[::i],end=\" \")\n",
    "        print(\"\\n\")"
   ]
  },
  {
   "cell_type": "code",
   "execution_count": 5,
   "metadata": {
    "collapsed": false
   },
   "outputs": [
    {
     "name": "stdout",
     "output_type": "stream",
     "text": [
      "abcdefghijklmopqrstuvwxyz\n",
      "cdefghijklmopqrstuvwxyzab\n",
      "ghijklmopqrstuvwxyzabcdef\n",
      "mopqrstuvwxyzabcdefghijkl\n",
      "vwxyzabcdefghijklmopqrstu\n",
      "fghijklmopqrstuvwxyzabcde\n",
      "stuvwxyzabcdefghijklmopqr\n",
      "ghijklmopqrstuvwxyzabcdef\n",
      "xyzabcdefghijklmopqrstuvw\n",
      "qrstuvwxyzabcdefghijklmop\n",
      "klmopqrstuvwxyzabcdefghij\n",
      "hijklmopqrstuvwxyzabcdefg\n",
      "ghijklmopqrstuvwxyzabcdef\n"
     ]
    }
   ],
   "source": [
    "#Moving 2, 4, 8, 10..elements from front to back\n",
    "S=\"abcdefghijklmopqrstuvwxyz\"\n",
    "list(range(0,len(S),2))\n",
    "for i in range(0,len(S),2):\n",
    "    S=S[i:]+S[:i]\n",
    "    print(S)"
   ]
  },
  {
   "cell_type": "code",
   "execution_count": 6,
   "metadata": {
    "collapsed": false
   },
   "outputs": [
    {
     "name": "stdout",
     "output_type": "stream",
     "text": [
      "2\n",
      "3\n",
      "4\n",
      "5\n",
      "6\n"
     ]
    }
   ],
   "source": [
    "#Adding 1 to each element of a list\n",
    "L=[1,2,3,4,5]\n",
    "for x in L:\n",
    "    x+=1\n",
    "    print(x)"
   ]
  },
  {
   "cell_type": "code",
   "execution_count": 7,
   "metadata": {
    "collapsed": false
   },
   "outputs": [
    {
     "name": "stdout",
     "output_type": "stream",
     "text": [
      "[2, 3, 4, 5, 6]\n"
     ]
    },
    {
     "data": {
      "text/plain": [
       "[1, 2, 3, 4, 5]"
      ]
     },
     "execution_count": 7,
     "metadata": {},
     "output_type": "execute_result"
    }
   ],
   "source": [
    "print([x+1 for x in L])\n",
    "L"
   ]
  },
  {
   "cell_type": "code",
   "execution_count": null,
   "metadata": {
    "collapsed": true
   },
   "outputs": [],
   "source": []
  }
 ],
 "metadata": {
  "kernelspec": {
   "display_name": "Python 3",
   "language": "python",
   "name": "python3"
  },
  "language_info": {
   "codemirror_mode": {
    "name": "ipython",
    "version": 3
   },
   "file_extension": ".py",
   "mimetype": "text/x-python",
   "name": "python",
   "nbconvert_exporter": "python",
   "pygments_lexer": "ipython3",
   "version": "3.5.2"
  }
 },
 "nbformat": 4,
 "nbformat_minor": 0
}

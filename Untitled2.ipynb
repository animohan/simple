{
 "cells": [
  {
   "cell_type": "code",
   "execution_count": null,
   "metadata": {
    "collapsed": true
   },
   "outputs": [],
   "source": [
    "# Recall that inheritance searches processd upward from instances to \n",
    "# subclasses to superclasses, stopping at the first appearance of the attribute\n",
    "# name that it finds. In this case, since the display name in Second class will\n",
    "# be found before the one in FirstClass. Called tree overloading\n",
    "\n",
    "z = SecondClass()\n",
    "z.setdata(430)\n",
    "z.display()\n",
    "\n",
    "# SecondClass specialized FirstClass by changing the behavior of the display\n",
    "# method. On the other hand, SecondClass (and any instances created from it)\n",
    "# still inherits setdata methods from FirstClass\n",
    "\n",
    "# SecondClass instance objects is made by calling it. The SetData call still\n",
    "# runs the version in FirstClass, but display attribute comes from SecondClass"
   ]
  }
 ],
 "metadata": {
  "kernelspec": {
   "display_name": "Python 3",
   "language": "python",
   "name": "python3"
  },
  "language_info": {
   "codemirror_mode": {
    "name": "ipython",
    "version": 3
   },
   "file_extension": ".py",
   "mimetype": "text/x-python",
   "name": "python",
   "nbconvert_exporter": "python",
   "pygments_lexer": "ipython3",
   "version": "3.5.1"
  }
 },
 "nbformat": 4,
 "nbformat_minor": 0
}

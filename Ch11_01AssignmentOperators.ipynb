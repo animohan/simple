{
 "cells": [
  {
   "cell_type": "code",
   "execution_count": null,
   "metadata": {
    "collapsed": true
   },
   "outputs": [],
   "source": [
    "#Simple Assignement Operators"
   ]
  },
  {
   "cell_type": "code",
   "execution_count": 5,
   "metadata": {
    "collapsed": false
   },
   "outputs": [
    {
     "name": "stdout",
     "output_type": "stream",
     "text": [
      "Nudge =1, Wink = 1\n"
     ]
    }
   ],
   "source": [
    "nudge=1\n",
    "wink=1\n",
    "print(\"Nudge =%d, Wink = %d\" %(nudge, wink))"
   ]
  },
  {
   "cell_type": "code",
   "execution_count": 4,
   "metadata": {
    "collapsed": true
   },
   "outputs": [],
   "source": [
    "#Simple Assigmentments\n",
    "A, B = nudge, wink\n",
    "[C,D] = [nudge, wink]"
   ]
  },
  {
   "cell_type": "code",
   "execution_count": null,
   "metadata": {
    "collapsed": true
   },
   "outputs": [],
   "source": [
    "#Simple Swap\n",
    "nudge, wink = wink, nudge\n",
    "# This works because python creates a temporary tuple that saves original\n",
    "# values of the variables on the right while the statement is run"
   ]
  },
  {
   "cell_type": "code",
   "execution_count": 7,
   "metadata": {
    "collapsed": false
   },
   "outputs": [
    {
     "name": "stdout",
     "output_type": "stream",
     "text": [
      "u = A, v = B, w = C\n"
     ]
    }
   ],
   "source": [
    "#Tuple and list assigngments in Python are generalized to accept any type \n",
    "#sequence that is iterable and has same length as sequence on left\n",
    "[a,b,c] = [1,2,3]\n",
    "[u,v,w]= 'ABC'\n",
    "print(\"u = %s, v = %s, w = %s\" %(u, v,w))"
   ]
  },
  {
   "cell_type": "code",
   "execution_count": 10,
   "metadata": {
    "collapsed": false
   },
   "outputs": [
    {
     "data": {
      "text/plain": [
       "('S', 'M')"
      ]
     },
     "execution_count": 10,
     "metadata": {},
     "output_type": "execute_result"
    }
   ],
   "source": [
    "#Advance sequence assignment patterns\n",
    "\n",
    "#when assigning, right and left elements should have same number of elements\n",
    "string = \"SPAM\"\n",
    "a,b,v,d = string\n",
    "a,d"
   ]
  },
  {
   "cell_type": "code",
   "execution_count": null,
   "metadata": {
    "collapsed": true
   },
   "outputs": [],
   "source": [
    "# Running This will give an error\n",
    "u, v = string"
   ]
  },
  {
   "cell_type": "code",
   "execution_count": 11,
   "metadata": {
    "collapsed": false
   },
   "outputs": [
    {
     "data": {
      "text/plain": [
       "('S', 'P', 'AM')"
      ]
     },
     "execution_count": 11,
     "metadata": {},
     "output_type": "execute_result"
    }
   ],
   "source": [
    "#Using slicing for assignment\n",
    "#Index and slice\n",
    "string= \"SPAM\"\n",
    "a,b,c = string[0], string[1], string[2:]\n",
    "a,b,c"
   ]
  },
  {
   "cell_type": "code",
   "execution_count": 31,
   "metadata": {
    "collapsed": false
   },
   "outputs": [
    {
     "name": "stdout",
     "output_type": "stream",
     "text": [
      "S P AM\n"
     ]
    }
   ],
   "source": [
    "#slice and concatenate\n",
    "#we create a list of 'S' and 'P' and then add another list which has a \n",
    "# has a string that is from index 2 to end\n",
    "a,b,c = list(string[:2])+[string[2:]]\n",
    "print(a,b,c)\n"
   ]
  },
  {
   "cell_type": "code",
   "execution_count": 32,
   "metadata": {
    "collapsed": false
   },
   "outputs": [
    {
     "name": "stdout",
     "output_type": "stream",
     "text": [
      "S P AM\n"
     ]
    }
   ],
   "source": [
    "a,b =string[:2]\n",
    "c=string[2:]\n",
    "print(a,b,c)"
   ]
  },
  {
   "cell_type": "code",
   "execution_count": 33,
   "metadata": {
    "collapsed": false
   },
   "outputs": [
    {
     "name": "stdout",
     "output_type": "stream",
     "text": [
      "S P AM\n"
     ]
    }
   ],
   "source": [
    "#nested sequences:\n",
    "(a,b), c= string[:2], string[2:]\n",
    "print(a,b,c)"
   ]
  },
  {
   "cell_type": "code",
   "execution_count": 35,
   "metadata": {
    "collapsed": false
   },
   "outputs": [
    {
     "name": "stdout",
     "output_type": "stream",
     "text": [
      "S P AM\n"
     ]
    }
   ],
   "source": [
    "((a,b),c)=('SP','AM')\n",
    "print(a,b,c)"
   ]
  },
  {
   "cell_type": "code",
   "execution_count": 37,
   "metadata": {
    "collapsed": false
   },
   "outputs": [
    {
     "name": "stdout",
     "output_type": "stream",
     "text": [
      "0 1 2\n"
     ]
    }
   ],
   "source": [
    "#Sequence unpacking assigments gives rist to anotehr common coding idiom \n",
    "# in python- assigning integer series to set of variables\n",
    "red,green, blue= range(3)\n",
    "print(red, green, blue)"
   ]
  },
  {
   "cell_type": "code",
   "execution_count": 39,
   "metadata": {
    "collapsed": false
   },
   "outputs": [
    {
     "name": "stdout",
     "output_type": "stream",
     "text": [
      "2 [9, 7, 5]\n",
      "9 [7, 5]\n",
      "7 [5]\n",
      "5 []\n"
     ]
    }
   ],
   "source": [
    "#Details on how this works comes bit later\n",
    "L= [2,9,7,5]\n",
    "while L:\n",
    "    front, L = L[0], L[1:]\n",
    "    print(front,L)"
   ]
  },
  {
   "cell_type": "code",
   "execution_count": 40,
   "metadata": {
    "collapsed": false
   },
   "outputs": [
    {
     "ename": "ValueError",
     "evalue": "too many values to unpack (expected 2)",
     "output_type": "error",
     "traceback": [
      "\u001b[1;31m---------------------------------------------------------------------------\u001b[0m",
      "\u001b[1;31mValueError\u001b[0m                                Traceback (most recent call last)",
      "\u001b[1;32m<ipython-input-40-b518e7022ba8>\u001b[0m in \u001b[0;36m<module>\u001b[1;34m()\u001b[0m\n\u001b[0;32m      5\u001b[0m \u001b[1;31m#Error case\u001b[0m\u001b[1;33m\u001b[0m\u001b[1;33m\u001b[0m\u001b[0m\n\u001b[0;32m      6\u001b[0m \u001b[0mseq\u001b[0m\u001b[1;33m=\u001b[0m\u001b[1;33m[\u001b[0m\u001b[1;36m1\u001b[0m\u001b[1;33m,\u001b[0m\u001b[1;36m2\u001b[0m\u001b[1;33m,\u001b[0m\u001b[1;36m3\u001b[0m\u001b[1;33m,\u001b[0m\u001b[1;36m4\u001b[0m\u001b[1;33m]\u001b[0m\u001b[1;33m\u001b[0m\u001b[0m\n\u001b[1;32m----> 7\u001b[1;33m \u001b[0ma\u001b[0m\u001b[1;33m,\u001b[0m\u001b[0mb\u001b[0m \u001b[1;33m=\u001b[0m \u001b[0mseq\u001b[0m \u001b[1;31m#This gives an error because # of variables mismatch: 2 vs 4\u001b[0m\u001b[1;33m\u001b[0m\u001b[0m\n\u001b[0m",
      "\u001b[1;31mValueError\u001b[0m: too many values to unpack (expected 2)"
     ]
    }
   ],
   "source": [
    "#Another way of slicing\n",
    "# *X character canbe used in assignment target to specificy a more general\n",
    "# marching against a sequence:\n",
    "\n",
    "#Error case\n",
    "seq=[1,2,3,4]\n",
    "a,b = seq #This gives an error because # of variables mismatch: 2 vs 4"
   ]
  },
  {
   "cell_type": "code",
   "execution_count": 45,
   "metadata": {
    "collapsed": false
   },
   "outputs": [
    {
     "name": "stdout",
     "output_type": "stream",
     "text": [
      "1 [2, 3, 4]\n"
     ]
    }
   ],
   "source": [
    "#But this works\n",
    "seq=[1,2,3,4]\n",
    "a,*b = seq\n",
    "print(a,b)"
   ]
  },
  {
   "cell_type": "code",
   "execution_count": 46,
   "metadata": {
    "collapsed": false
   },
   "outputs": [
    {
     "name": "stdout",
     "output_type": "stream",
     "text": [
      "2 [5, 7, 9, 0] 1\n"
     ]
    }
   ],
   "source": [
    "seq=[2,5,7,9,0,1]\n",
    "a,*b,c=seq\n",
    "print(a,b,c)\n",
    "\n",
    "#Basically star just collects every unassigned values"
   ]
  },
  {
   "cell_type": "code",
   "execution_count": 48,
   "metadata": {
    "collapsed": false
   },
   "outputs": [
    {
     "name": "stdout",
     "output_type": "stream",
     "text": [
      "S ['P', 'A', 'M']\n"
     ]
    }
   ],
   "source": [
    "#This unpacking works for any iterable object like string\n",
    "a,*b= \"SPAM\"\n",
    "print(a,b)"
   ]
  },
  {
   "cell_type": "code",
   "execution_count": 49,
   "metadata": {
    "collapsed": false
   },
   "outputs": [
    {
     "name": "stdout",
     "output_type": "stream",
     "text": [
      "1 [2, 3, 4]\n",
      "2 [3, 4]\n",
      "3 [4]\n",
      "4 []\n"
     ]
    }
   ],
   "source": [
    "#Modified version of earlier example\n",
    "L= [1,2,3,4]\n",
    "while L:\n",
    "    front, *L = L\n",
    "    print(front, L)"
   ]
  },
  {
   "cell_type": "code",
   "execution_count": 51,
   "metadata": {
    "collapsed": false
   },
   "outputs": [
    {
     "name": "stdout",
     "output_type": "stream",
     "text": [
      "S\n",
      "['M']\n"
     ]
    }
   ],
   "source": [
    "#Boundary cases 1:\n",
    "\n",
    "#Matching to 1 element; Even if the match is 1 element it will be marked\n",
    "# as a list\n",
    "a,b,c,*d='SPAM'\n",
    "print(a)\n",
    "print(d)"
   ]
  },
  {
   "cell_type": "code",
   "execution_count": 52,
   "metadata": {
    "collapsed": false
   },
   "outputs": [
    {
     "name": "stdout",
     "output_type": "stream",
     "text": [
      "M\n",
      "[]\n"
     ]
    }
   ],
   "source": [
    "#Boundary cases 2\n",
    "#if nothing is left to matched starred item, empty list is assigned to it\n",
    "a,b,c,d,*e='SPAM'\n",
    "print(d)\n",
    "print(e)"
   ]
  },
  {
   "cell_type": "code",
   "execution_count": 53,
   "metadata": {
    "collapsed": false
   },
   "outputs": [
    {
     "ename": "SyntaxError",
     "evalue": "starred assignment target must be in a list or tuple (<ipython-input-53-7a11e6ab9875>, line 4)",
     "output_type": "error",
     "traceback": [
      "\u001b[1;36m  File \u001b[1;32m\"<ipython-input-53-7a11e6ab9875>\"\u001b[1;36m, line \u001b[1;32m4\u001b[0m\n\u001b[1;33m    *a = seq #Error\u001b[0m\n\u001b[1;37m                   ^\u001b[0m\n\u001b[1;31mSyntaxError\u001b[0m\u001b[1;31m:\u001b[0m starred assignment target must be in a list or tuple\n"
     ]
    }
   ],
   "source": [
    "#Boundary case 3: When only starred element is assigned to a list\n",
    "\n",
    "seq=[1,2,3,4]\n",
    "*a = seq #Error\n",
    "*a, = seq #correct assignment\n",
    "#per the book teh starred name should itself be coded inside a sequence..\n",
    "#no idea what that means"
   ]
  },
  {
   "cell_type": "code",
   "execution_count": 55,
   "metadata": {
    "collapsed": false
   },
   "outputs": [
    {
     "name": "stdout",
     "output_type": "stream",
     "text": [
      "[42]\n",
      "[42]\n",
      "0\n",
      "1\n"
     ]
    }
   ],
   "source": [
    "#Multiple Target assignment\n",
    "a=b=c='SPAM'\n",
    "\n",
    "#Mutable vs. Immutable in multi-target assignment\n",
    "#Lists and dictionataries\n",
    "a=b=[]\n",
    "b.append(42)\n",
    "print(b)\n",
    "print(a)\n",
    "\n",
    "a=b=0\n",
    "b=1\n",
    "print(a)\n",
    "print(b)\n",
    "\n",
    "#Look at the difference in behavior:\n",
    "# There is just one object when multi target initiatilization that is shared\n",
    "# by all three variables ie. they all point to the same object in memory\n",
    "# This behavior is fine for immutable types e.g number i.e we can initialize\n",
    "# a set of variables to numbers and hcange them like a=b=0 and b=1; Numbers\n",
    "# do not support in-place changes. The object assigned is immutable i.e \n",
    "# cannot change, hence its is relevant if more than one name reference it.\n",
    "\n",
    "# However when initializing variables to empty mutable objects like\n",
    "#list of dicitionary one has to be more careful. The example shows the \n",
    "# assigning an empty list and changing it."
   ]
  },
  {
   "cell_type": "code",
   "execution_count": 3,
   "metadata": {
    "collapsed": false
   },
   "outputs": [
    {
     "name": "stdout",
     "output_type": "stream",
     "text": [
      "1\n",
      "1\n"
     ]
    }
   ],
   "source": [
    "#Augmented Assignment\n",
    "X=Y=0\n",
    "A=B=1\n",
    "X=X+A\n",
    "print(X)\n",
    "Y+=B  #Shorthand for increment.\n",
    "print(Y)"
   ]
  },
  {
   "cell_type": "code",
   "execution_count": 26,
   "metadata": {
    "collapsed": false
   },
   "outputs": [
    {
     "name": "stdout",
     "output_type": "stream",
     "text": [
      "27\n",
      "3.0\n",
      "0.0\n",
      "-9.0\n",
      "-387420489.0\n",
      "0.0\n"
     ]
    }
   ],
   "source": [
    "#Shorthand operations\n",
    "X= 3\n",
    "Y = 9\n",
    "X*=Y; print(X) #Multiplication\n",
    "X/=Y; print(X) #Division\n",
    "X//=Y; print(X) #Floor Division\n",
    "X-=Y; print(X) #Subtraction\n",
    "X**=Y; print(X) #Raise power\n",
    "X%=Y; print(X) #Mode"
   ]
  },
  {
   "cell_type": "code",
   "execution_count": 1,
   "metadata": {
    "collapsed": false
   },
   "outputs": [
    {
     "name": "stdout",
     "output_type": "stream",
     "text": [
      "4\n"
     ]
    }
   ],
   "source": [
    "#Shorthand\n",
    "X = 1\n",
    "A = 5\n",
    "X^=A; print(X)"
   ]
  },
  {
   "cell_type": "code",
   "execution_count": null,
   "metadata": {
    "collapsed": true
   },
   "outputs": [],
   "source": [
    "X&=A; print(X)\n",
    "X<<=A #Left shift\n",
    "#X>>=A #Right Shift \n",
    "X//=A #Floor division\n",
    "\n",
    "u='SPAM & '\n",
    "u+='HAM'\n",
    "print(u)"
   ]
  },
  {
   "cell_type": "code",
   "execution_count": 28,
   "metadata": {
    "collapsed": true
   },
   "outputs": [],
   "source": [
    "#slow and fast assignment\n",
    "L=[1,2]\n",
    "L=L+[3] #Slower\n",
    "L.append(4) #Faster\n",
    "#Slower because copy of L is created, [3] added to it and then reassigned\n",
    "#the append does in place replacement.\n",
    "\n",
    "L+=L; #Calls the inplace replacement\n",
    "L=L+L ; #call concatenate\n"
   ]
  },
  {
   "cell_type": "code",
   "execution_count": 2,
   "metadata": {
    "collapsed": false
   },
   "outputs": [
    {
     "name": "stdout",
     "output_type": "stream",
     "text": [
      "['s', 'p', 'a', 'm']\n"
     ]
    },
    {
     "ename": "TypeError",
     "evalue": "can only concatenate list (not \"str\") to list",
     "output_type": "error",
     "traceback": [
      "\u001b[1;31m---------------------------------------------------------------------------\u001b[0m",
      "\u001b[1;31mTypeError\u001b[0m                                 Traceback (most recent call last)",
      "\u001b[1;32m<ipython-input-2-ff6858eac31c>\u001b[0m in \u001b[0;36m<module>\u001b[1;34m()\u001b[0m\n\u001b[0;32m      4\u001b[0m \u001b[1;33m\u001b[0m\u001b[0m\n\u001b[0;32m      5\u001b[0m \u001b[0mL\u001b[0m\u001b[1;33m=\u001b[0m\u001b[1;33m[\u001b[0m\u001b[1;33m]\u001b[0m\u001b[1;33m\u001b[0m\u001b[0m\n\u001b[1;32m----> 6\u001b[1;33m \u001b[0mL\u001b[0m\u001b[1;33m=\u001b[0m\u001b[0mL\u001b[0m\u001b[1;33m+\u001b[0m\u001b[1;34m'spam'\u001b[0m \u001b[1;31m# Gives error because L = list and we are adding a string to list\u001b[0m\u001b[1;33m\u001b[0m\u001b[0m\n\u001b[0m\u001b[0;32m      7\u001b[0m \u001b[1;33m\u001b[0m\u001b[0m\n",
      "\u001b[1;31mTypeError\u001b[0m: can only concatenate list (not \"str\") to list"
     ]
    }
   ],
   "source": [
    "#+= and concatenate are not equivalent all the time\n",
    "L=[]\n",
    "L+='spam'; print(L)\n",
    "\n",
    "L=[]\n",
    "L=L+'spam' # Gives error because L = list and we are adding a string to list\n",
    "\n"
   ]
  },
  {
   "cell_type": "code",
   "execution_count": 30,
   "metadata": {
    "collapsed": false
   },
   "outputs": [
    {
     "name": "stdout",
     "output_type": "stream",
     "text": [
      "[1, 2, 3, 4]\n",
      "[1, 2]\n",
      "[1, 2, 3, 4]\n",
      "[1, 2, 3, 4]\n"
     ]
    }
   ],
   "source": [
    "#+= and concatenate are not equivalent all the time\n",
    "L=[1,2]\n",
    "M = L\n",
    "L = L + [3,4]\n",
    "print(L); \n",
    "print(M)\n",
    "\n",
    "L=[1,2]\n",
    "M = L\n",
    "L+=[3,4]\n",
    "print(L)\n",
    "print(M)\n",
    "\n",
    "#in case of shared refrences, concatenate creates a new copy of the object:\n",
    "# hence in the example, M continues to point to [1,2], whereas L is changed\n",
    "# In the 2nd example, L is in place replacement to the object that both\n",
    "# L and M are pointing to;"
   ]
  },
  {
   "cell_type": "code",
   "execution_count": null,
   "metadata": {
    "collapsed": true
   },
   "outputs": [],
   "source": []
  }
 ],
 "metadata": {
  "kernelspec": {
   "display_name": "Python 3",
   "language": "python",
   "name": "python3"
  },
  "language_info": {
   "codemirror_mode": {
    "name": "ipython",
    "version": 3
   },
   "file_extension": ".py",
   "mimetype": "text/x-python",
   "name": "python",
   "nbconvert_exporter": "python",
   "pygments_lexer": "ipython3",
   "version": "3.5.1"
  }
 },
 "nbformat": 4,
 "nbformat_minor": 0
}

{
 "cells": [
  {
   "cell_type": "markdown",
   "metadata": {},
   "source": [
    "Simple Assignement Operators"
   ]
  },
  {
   "cell_type": "code",
   "execution_count": 5,
   "metadata": {
    "collapsed": false
   },
   "outputs": [
    {
     "name": "stdout",
     "output_type": "stream",
     "text": [
      "Nudge =1, Wink = 1\n"
     ]
    }
   ],
   "source": [
    "nudge=1\n",
    "wink=1\n",
    "print(\"Nudge =%d, Wink = %d\" %(nudge, wink))"
   ]
  },
  {
   "cell_type": "code",
   "execution_count": 4,
   "metadata": {
    "collapsed": true
   },
   "outputs": [],
   "source": [
    "#Simple Assigmentments\n",
    "A, B = nudge, wink\n",
    "[C,D] = [nudge, wink]"
   ]
  },
  {
   "cell_type": "code",
   "execution_count": null,
   "metadata": {
    "collapsed": true
   },
   "outputs": [],
   "source": [
    "#Simple Swap\n",
    "nudge, wink = wink, nudge\n",
    "# This works because python creates a temporary tuple that saves original\n",
    "# values of the variables on the right while the statement is run"
   ]
  },
  {
   "cell_type": "code",
   "execution_count": 7,
   "metadata": {
    "collapsed": false
   },
   "outputs": [
    {
     "name": "stdout",
     "output_type": "stream",
     "text": [
      "u = A, v = B, w = C\n"
     ]
    }
   ],
   "source": [
    "#Tuple and list assigngments in Python are generalized to accept any type \n",
    "#sequence that is iterable and has same length as sequence on left\n",
    "[a,b,c] = [1,2,3]\n",
    "[u,v,w]= 'ABC'\n",
    "print(\"u = %s, v = %s, w = %s\" %(u, v,w))"
   ]
  },
  {
   "cell_type": "code",
   "execution_count": 10,
   "metadata": {
    "collapsed": false
   },
   "outputs": [
    {
     "data": {
      "text/plain": [
       "('S', 'M')"
      ]
     },
     "execution_count": 10,
     "metadata": {},
     "output_type": "execute_result"
    }
   ],
   "source": [
    "#Advance sequence assignment patterns\n",
    "\n",
    "#when assigning, right and left elements should have same number of elements\n",
    "string = \"SPAM\"\n",
    "a,b,v,d = string\n",
    "a,d"
   ]
  },
  {
   "cell_type": "code",
   "execution_count": null,
   "metadata": {
    "collapsed": true
   },
   "outputs": [],
   "source": [
    "# Running This will give an error\n",
    "u, v = string"
   ]
  },
  {
   "cell_type": "code",
   "execution_count": 11,
   "metadata": {
    "collapsed": false
   },
   "outputs": [
    {
     "data": {
      "text/plain": [
       "('S', 'P', 'AM')"
      ]
     },
     "execution_count": 11,
     "metadata": {},
     "output_type": "execute_result"
    }
   ],
   "source": [
    "#Using slicing for assignment\n",
    "#Index and slice\n",
    "string= \"SPAM\"\n",
    "a,b,c = string[0], string[1], string[2:]\n",
    "a,b,c"
   ]
  },
  {
   "cell_type": "code",
   "execution_count": 31,
   "metadata": {
    "collapsed": false
   },
   "outputs": [
    {
     "name": "stdout",
     "output_type": "stream",
     "text": [
      "S P AM\n"
     ]
    }
   ],
   "source": [
    "#slice and concatenate\n",
    "#we create a list of 'S' and 'P' and then add another list which has a \n",
    "# has a string that is from index 2 to end\n",
    "a,b,c = list(string[:2])+[string[2:]]\n",
    "print(a,b,c)\n"
   ]
  },
  {
   "cell_type": "code",
   "execution_count": 32,
   "metadata": {
    "collapsed": false
   },
   "outputs": [
    {
     "name": "stdout",
     "output_type": "stream",
     "text": [
      "S P AM\n"
     ]
    }
   ],
   "source": [
    "a,b =string[:2]\n",
    "c=string[2:]\n",
    "print(a,b,c)"
   ]
  },
  {
   "cell_type": "code",
   "execution_count": 33,
   "metadata": {
    "collapsed": false
   },
   "outputs": [
    {
     "name": "stdout",
     "output_type": "stream",
     "text": [
      "S P AM\n"
     ]
    }
   ],
   "source": [
    "#nested sequences:\n",
    "(a,b), c= string[:2], string[2:]\n",
    "print(a,b,c)"
   ]
  },
  {
   "cell_type": "code",
   "execution_count": 35,
   "metadata": {
    "collapsed": false
   },
   "outputs": [
    {
     "name": "stdout",
     "output_type": "stream",
     "text": [
      "S P AM\n"
     ]
    }
   ],
   "source": [
    "((a,b),c)=('SP','AM')\n",
    "print(a,b,c)"
   ]
  },
  {
   "cell_type": "code",
   "execution_count": 37,
   "metadata": {
    "collapsed": false
   },
   "outputs": [
    {
     "name": "stdout",
     "output_type": "stream",
     "text": [
      "0 1 2\n"
     ]
    }
   ],
   "source": [
    "#Sequence unpacking assigments gives rist to anotehr common coding idiom \n",
    "# in python- assigning integer series to set of variables\n",
    "red,green, blue= range(3)\n",
    "print(red, green, blue)"
   ]
  },
  {
   "cell_type": "code",
   "execution_count": 39,
   "metadata": {
    "collapsed": false
   },
   "outputs": [
    {
     "name": "stdout",
     "output_type": "stream",
     "text": [
      "2 [9, 7, 5]\n",
      "9 [7, 5]\n",
      "7 [5]\n",
      "5 []\n"
     ]
    }
   ],
   "source": [
    "#Details on how this works comes bit later\n",
    "L= [2,9,7,5]\n",
    "while L:\n",
    "    front, L = L[0], L[1:]\n",
    "    print(front,L)"
   ]
  },
  {
   "cell_type": "code",
   "execution_count": 40,
   "metadata": {
    "collapsed": false
   },
   "outputs": [
    {
     "ename": "ValueError",
     "evalue": "too many values to unpack (expected 2)",
     "output_type": "error",
     "traceback": [
      "\u001b[1;31m---------------------------------------------------------------------------\u001b[0m",
      "\u001b[1;31mValueError\u001b[0m                                Traceback (most recent call last)",
      "\u001b[1;32m<ipython-input-40-b518e7022ba8>\u001b[0m in \u001b[0;36m<module>\u001b[1;34m()\u001b[0m\n\u001b[0;32m      5\u001b[0m \u001b[1;31m#Error case\u001b[0m\u001b[1;33m\u001b[0m\u001b[1;33m\u001b[0m\u001b[0m\n\u001b[0;32m      6\u001b[0m \u001b[0mseq\u001b[0m\u001b[1;33m=\u001b[0m\u001b[1;33m[\u001b[0m\u001b[1;36m1\u001b[0m\u001b[1;33m,\u001b[0m\u001b[1;36m2\u001b[0m\u001b[1;33m,\u001b[0m\u001b[1;36m3\u001b[0m\u001b[1;33m,\u001b[0m\u001b[1;36m4\u001b[0m\u001b[1;33m]\u001b[0m\u001b[1;33m\u001b[0m\u001b[0m\n\u001b[1;32m----> 7\u001b[1;33m \u001b[0ma\u001b[0m\u001b[1;33m,\u001b[0m\u001b[0mb\u001b[0m \u001b[1;33m=\u001b[0m \u001b[0mseq\u001b[0m \u001b[1;31m#This gives an error because # of variables mismatch: 2 vs 4\u001b[0m\u001b[1;33m\u001b[0m\u001b[0m\n\u001b[0m",
      "\u001b[1;31mValueError\u001b[0m: too many values to unpack (expected 2)"
     ]
    }
   ],
   "source": [
    "#Another way of slicing\n",
    "# *X character canbe used in assignment target to specificy a more general\n",
    "# marching against a sequence:\n",
    "\n",
    "#Error case\n",
    "seq=[1,2,3,4]\n",
    "a,b = seq #This gives an error because # of variables mismatch: 2 vs 4"
   ]
  },
  {
   "cell_type": "code",
   "execution_count": 45,
   "metadata": {
    "collapsed": false
   },
   "outputs": [
    {
     "name": "stdout",
     "output_type": "stream",
     "text": [
      "1 [2, 3, 4]\n"
     ]
    }
   ],
   "source": [
    "#But this works\n",
    "seq=[1,2,3,4]\n",
    "a,*b = seq\n",
    "print(a,b)"
   ]
  },
  {
   "cell_type": "code",
   "execution_count": 46,
   "metadata": {
    "collapsed": false
   },
   "outputs": [
    {
     "name": "stdout",
     "output_type": "stream",
     "text": [
      "2 [5, 7, 9, 0] 1\n"
     ]
    }
   ],
   "source": [
    "seq=[2,5,7,9,0,1]\n",
    "a,*b,c=seq\n",
    "print(a,b,c)\n",
    "\n",
    "#Basically star just collects every unassigned values"
   ]
  },
  {
   "cell_type": "code",
   "execution_count": 48,
   "metadata": {
    "collapsed": false
   },
   "outputs": [
    {
     "name": "stdout",
     "output_type": "stream",
     "text": [
      "S ['P', 'A', 'M']\n"
     ]
    }
   ],
   "source": [
    "#This unpacking works for any iterable object like string\n",
    "a,*b= \"SPAM\"\n",
    "print(a,b)"
   ]
  },
  {
   "cell_type": "code",
   "execution_count": 49,
   "metadata": {
    "collapsed": false
   },
   "outputs": [
    {
     "name": "stdout",
     "output_type": "stream",
     "text": [
      "1 [2, 3, 4]\n",
      "2 [3, 4]\n",
      "3 [4]\n",
      "4 []\n"
     ]
    }
   ],
   "source": [
    "#Modified version of earlier example\n",
    "L= [1,2,3,4]\n",
    "while L:\n",
    "    front, *L = L\n",
    "    print(front, L)"
   ]
  },
  {
   "cell_type": "code",
   "execution_count": null,
   "metadata": {
    "collapsed": true
   },
   "outputs": [],
   "source": [
    "#Boundary cases:\n",
    "\n",
    "#Matching to 1 element; Even if the match is 1 elemen"
   ]
  }
 ],
 "metadata": {
  "kernelspec": {
   "display_name": "Python 3",
   "language": "python",
   "name": "python3"
  },
  "language_info": {
   "codemirror_mode": {
    "name": "ipython",
    "version": 3
   },
   "file_extension": ".py",
   "mimetype": "text/x-python",
   "name": "python",
   "nbconvert_exporter": "python",
   "pygments_lexer": "ipython3",
   "version": "3.5.1"
  }
 },
 "nbformat": 4,
 "nbformat_minor": 0
}

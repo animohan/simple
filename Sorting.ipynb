{
 "cells": [
  {
   "cell_type": "code",
   "execution_count": 34,
   "metadata": {
    "collapsed": false
   },
   "outputs": [
    {
     "name": "stdout",
     "output_type": "stream",
     "text": [
      "[4, 22, 23, 25, 43, 45, 55, 66, 67, 89, 95, 95, 99, 199] \n",
      "[4, 22, 23, 25, 43, 45, 55, 66, 67, 89, 95, 95, 99, 199] "
     ]
    }
   ],
   "source": [
    "#naive bubble sort\n",
    "a=[23,55,66,22,45,95,67,25,43,89,95,4,99,199]\n",
    "\n",
    "for j in range(0,len(a)):\n",
    "    swapped=0;\n",
    "    for i in range(0,len(a)-1):\n",
    "        if(a[i]>a[i+1]):\n",
    "            temp=a[i+1]\n",
    "            a[i+1]=a[i]\n",
    "            a[i]=temp\n",
    "            swapped=1\n",
    "    if(swapped==0): \n",
    "        break\n",
    "print(a, end=' ')\n",
    "print()\n",
    "# Optimized Bubble Sort by bubbling up one element\n",
    "a=[23,55,66,22,45,95,67,25,43,89,95,4,99,199]\n",
    "\n",
    "for i in range(0,len(a)):\n",
    "    for j in range(i,len(a)):\n",
    "            if a[i]>a[j]: #smallest element is bubbled to the start of list\n",
    "                t=a[i]\n",
    "                a[i]=a[j]\n",
    "                a[j]=t        \n",
    "\n",
    "print(a, end=' ')\n",
    "\n",
    "#The logic here. Current pointer is i and the j runs from i to end of the list. The element at i is swapped to \n",
    "# be the smallest element from i to end  of list"
   ]
  },
  {
   "cell_type": "code",
   "execution_count": 14,
   "metadata": {
    "collapsed": false
   },
   "outputs": [
    {
     "name": "stdout",
     "output_type": "stream",
     "text": [
      "[11, 20, 22, 25, 33, 40, 44, 55, 66, 75, 77, 88, 90, 99] "
     ]
    }
   ],
   "source": [
    "#insertion sort\n",
    "\n",
    "a=[99,22,66,44,33,77,88,11,25,75,55,40,20,90]\n",
    "\n",
    "for i in range(0,len(a)): \n",
    "    for j in range(0,i):\n",
    "        if(a[i]<a[j]):\n",
    "            temp=a[i]\n",
    "            for k in range(i,j,-1):\n",
    "                a[k]=a[k-1]\n",
    "            a[j]=temp\n",
    "print(a,end=' ')\n",
    "\n",
    "#the logic here: All the elements before i should be sorted. for the element i, find its place in the array 0 to i\n",
    "# by moving j from 0 to i. E.g is a[i] smaller than any number from 0 to i.  Once a position is found i.e j, \n",
    "# store the ith elment. Move the numbers from i to j-1 by i i.e a[i]==a[i-1]; a[i-1]=a[i-2]; a[j]'s former occupant is\n",
    "#moved 1 step higher. replace a[j] with saved number"
   ]
  },
  {
   "cell_type": "code",
   "execution_count": 43,
   "metadata": {
    "collapsed": false
   },
   "outputs": [
    {
     "name": "stdout",
     "output_type": "stream",
     "text": [
      "[11, 20, 22, 25, 33, 40, 44, 55, 66, 75, 77, 88, 90, 99] "
     ]
    }
   ],
   "source": [
    "#Selection sort\n",
    "a=[99,22,66,44,33,77,88,11,25,75,55,40,20,90]\n",
    "\n",
    "for i in range(0, len(a)):\n",
    "    mini=a[i]\n",
    "    minfound=0\n",
    "    for j in range(i, len(a)):\n",
    "        if(a[j]<mini):\n",
    "            index=j\n",
    "            mini=a[j]\n",
    "            minfound=1\n",
    "            \n",
    "    if(minfound==1):\n",
    "        a[index]=a[i]\n",
    "        a[i]=mini\n",
    "    \n",
    "print(a,end=' ')\n",
    "\n",
    "#Selection sort.Start with i as the minimum element known. Go from i to end of list and find the minimum element\n",
    "# in the remaining list. After finding minimum, swap the min element and i. Increment i and do the same thing again.\n",
    "#list 0 to i is always sorted.\n"
   ]
  },
  {
   "cell_type": "code",
   "execution_count": 41,
   "metadata": {
    "collapsed": true
   },
   "outputs": [],
   "source": [
    "#Quick sort"
   ]
  },
  {
   "cell_type": "code",
   "execution_count": 88,
   "metadata": {
    "collapsed": false
   },
   "outputs": [
    {
     "name": "stdout",
     "output_type": "stream",
     "text": [
      "[11, 20, 22, 25, 33, 40, 44, 55, 66, 75, 77, 88, 90, 91, 99]\n",
      "[0, 11, 22, 33, 44, 55, 66, 77, 88, 99]\n"
     ]
    }
   ],
   "source": [
    "#Merge sort\n",
    "a=[99,22,66,44,33,77,88,11,25,75,55,40,20,90,91]\n",
    "\n",
    "def merge(a,b):\n",
    "    out=[]\n",
    "    i=0;j=0;k=0\n",
    "    while(i<=len(a)):\n",
    "        while(j<=len(b)): \n",
    "            if(a[i]<b[j]):\n",
    "                out.append(a[i])\n",
    "                i+=1\n",
    "            else:\n",
    "                out.append(b[j])\n",
    "                j+=1\n",
    "                \n",
    "            if(i>=len(a)or j>=len(b)):break\n",
    "        if(i>=len(a) or j>=len(b)):break\n",
    "\n",
    "\n",
    "    if(j>=len(b)):\n",
    "        for k in range(i,len(a)) :\n",
    "            out.append(a[k])\n",
    "    if(i>=len(a)):\n",
    "        for k in range(j,len(b)) :\n",
    "            out.append(b[k])\n",
    "    return out\n",
    "    \n",
    "def split(a):\n",
    "    b=a[0:len(a)//2]\n",
    "    c=a[len(a)//2:len(a)]\n",
    "    return(b,c)\n",
    "\n",
    "def mergesort(a):\n",
    "    if(len(a)==1):\n",
    "        return a\n",
    "    else:\n",
    "        d,e=split(a)\n",
    "        out=merge(mergesort(d),mergesort(e))\n",
    "    return out\n",
    "\n",
    "print(mergesort(a))\n",
    "print(mergesort([99,88,77,66,55,44,33,22,11,00]))"
   ]
  },
  {
   "cell_type": "code",
   "execution_count": 2,
   "metadata": {
    "collapsed": false
   },
   "outputs": [
    {
     "name": "stdout",
     "output_type": "stream",
     "text": [
      "2\n",
      "22\n",
      "33\n",
      "44\n",
      "55\n",
      "77\n",
      "66\n",
      "1\n",
      "2\n",
      "3\n",
      "We're on time 0\n",
      "We're on time 1\n",
      "We're on time 2\n"
     ]
    }
   ],
   "source": [
    "#heap sort\n",
    "a=[]\n",
    "a.append(2)\n",
    "a.append(4)\n",
    "j=len(a)\n",
    "print(j)\n",
    "\n",
    "b=[22,33,44,55,77,66]\n",
    "for a in range(0,len(b)):\n",
    "    print(b[a])\n",
    "\n",
    "for a in range(1,4):\n",
    "    print(a)\n",
    "for x in range(0, 3):\n",
    "    print(\"We're on time %d\" % (x))"
   ]
  },
  {
   "cell_type": "code",
   "execution_count": 4,
   "metadata": {
    "collapsed": false
   },
   "outputs": [
    {
     "data": {
      "text/plain": [
       "1"
      ]
     },
     "execution_count": 4,
     "metadata": {},
     "output_type": "execute_result"
    }
   ],
   "source": [
    "a=[1,2,3]\n",
    "len(a)//3"
   ]
  },
  {
   "cell_type": "code",
   "execution_count": 4,
   "metadata": {
    "collapsed": false
   },
   "outputs": [
    {
     "name": "stdout",
     "output_type": "stream",
     "text": [
      "1\n",
      "2 3\n",
      "4 5\n",
      "6 7\n"
     ]
    }
   ],
   "source": [
    "a = open(\"a.txt\",\"r\")\n",
    "print(a.read())\n",
    "a.close()"
   ]
  },
  {
   "cell_type": "code",
   "execution_count": 11,
   "metadata": {
    "collapsed": false
   },
   "outputs": [
    {
     "ename": "ValueError",
     "evalue": "too many values to unpack (expected 2)",
     "output_type": "error",
     "traceback": [
      "\u001b[1;31m---------------------------------------------------------------------------\u001b[0m",
      "\u001b[1;31mValueError\u001b[0m                                Traceback (most recent call last)",
      "\u001b[1;32m<ipython-input-11-fc2f58786f9e>\u001b[0m in \u001b[0;36m<module>\u001b[1;34m()\u001b[0m\n\u001b[0;32m      2\u001b[0m \u001b[0me\u001b[0m \u001b[1;33m=\u001b[0m \u001b[0ma\u001b[0m\u001b[1;33m.\u001b[0m\u001b[0mreadline\u001b[0m\u001b[1;33m(\u001b[0m\u001b[1;33m)\u001b[0m\u001b[1;33m\u001b[0m\u001b[0m\n\u001b[0;32m      3\u001b[0m \u001b[1;32mfor\u001b[0m \u001b[0mline\u001b[0m \u001b[1;32min\u001b[0m \u001b[0ma\u001b[0m\u001b[1;33m:\u001b[0m\u001b[1;33m\u001b[0m\u001b[0m\n\u001b[1;32m----> 4\u001b[1;33m     \u001b[0md\u001b[0m\u001b[1;33m,\u001b[0m\u001b[0me\u001b[0m\u001b[1;33m=\u001b[0m\u001b[0mline\u001b[0m\u001b[1;33m\u001b[0m\u001b[0m\n\u001b[0m\u001b[0;32m      5\u001b[0m \u001b[1;33m\u001b[0m\u001b[0m\n\u001b[0;32m      6\u001b[0m \u001b[0ma\u001b[0m\u001b[1;33m.\u001b[0m\u001b[0mclose\u001b[0m\u001b[1;33m(\u001b[0m\u001b[1;33m)\u001b[0m\u001b[1;33m\u001b[0m\u001b[0m\n",
      "\u001b[1;31mValueError\u001b[0m: too many values to unpack (expected 2)"
     ]
    }
   ],
   "source": [
    "a = open(\"a.txt\",\"r\")\n",
    "e = a.readline()\n",
    "for line in a:\n",
    "    d,e=line\n",
    "\n",
    "a.close()\n",
    "print(d)"
   ]
  },
  {
   "cell_type": "code",
   "execution_count": null,
   "metadata": {
    "collapsed": true
   },
   "outputs": [],
   "source": []
  }
 ],
 "metadata": {
  "kernelspec": {
   "display_name": "Python 3",
   "language": "python",
   "name": "python3"
  },
  "language_info": {
   "codemirror_mode": {
    "name": "ipython",
    "version": 3
   },
   "file_extension": ".py",
   "mimetype": "text/x-python",
   "name": "python",
   "nbconvert_exporter": "python",
   "pygments_lexer": "ipython3",
   "version": "3.5.1"
  }
 },
 "nbformat": 4,
 "nbformat_minor": 0
}

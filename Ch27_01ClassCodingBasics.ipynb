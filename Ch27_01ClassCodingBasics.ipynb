{
 "cells": [
  {
   "cell_type": "code",
   "execution_count": null,
   "metadata": {
    "collapsed": true
   },
   "outputs": [],
   "source": [
    "#Class coding basics:\n",
    "\n",
    "#Classes generate Multiple instance objects:\n",
    "# Two kind of python objects: Class objects and instance objects\n",
    "# Class objects provide default behavior and server as factories for\n",
    "# generating multiple instance objects.\n",
    "# Instance objects are real objects your programs process- each is a\n",
    "# is a namespace in its ownr right, but inherits names in the class from which\n",
    "# which it was created\n",
    "\n",
    "# Class objects come from statements and instances comes from calls.\n",
    "# Each time call a class-> new instance of the class\n",
    "\n",
    "#Class objects provide default behavior\n",
    "# The class statement creates a class object and assigns it a name.\n",
    "# like def: statement, the python class statement is an executable statement\n",
    "# When reached and run, it generaed a new class object and assignes it to \n",
    "# the name in class header.\n",
    "#Like defs: class statements typically run when the files they are coded \n",
    "# are imported first\n",
    "\n",
    "#Assignments inside class statements make class attributes: \n",
    "# like module files, top-level assigment  within a class statement generate\n",
    "# attributes in a calss object. Class statement define a local scope that\n",
    "# morphs into the sttribute namespace of the class object, just like a \n",
    "# modfule's global scope. After running a class statement, class attributes \n",
    "# are accessed by object.name\n",
    "\n",
    "#Class attributes provide object state and behavior: Attributes of class\n",
    "# object record state information and behavior to be shared by all instances\n",
    "# created from class; function def statements  nested inside a class \n",
    "# generate methods, which process instances\n",
    "\n",
    "#Instance objects are concrete items\n",
    "# When we call a class object, we get an instance object\n",
    "# Calling a class object like a function makes a new instance objects:\n",
    "# Each time a class is called, ti creates and returns a new isntance object.\n",
    "# Instances represent concrete items in your program's domain\n",
    "\n",
    "#Each instance object inhertis class attributes and gets its own namespace\n",
    "# Instance objects created from classes are new namespace; they start out\n",
    "# empty but inherit attributes that live in the class objects from which \n",
    "# they are generated\n",
    "\n",
    "#Assigments to attributes to self  in methods make per instance att\n",
    "\n",
    "\n"
   ]
  }
 ],
 "metadata": {
  "kernelspec": {
   "display_name": "Python 3",
   "language": "python",
   "name": "python3"
  },
  "language_info": {
   "codemirror_mode": {
    "name": "ipython",
    "version": 3
   },
   "file_extension": ".py",
   "mimetype": "text/x-python",
   "name": "python",
   "nbconvert_exporter": "python",
   "pygments_lexer": "ipython3",
   "version": "3.5.1"
  }
 },
 "nbformat": 4,
 "nbformat_minor": 0
}

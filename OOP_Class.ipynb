{
 "cells": [
  {
   "cell_type": "code",
   "execution_count": 4,
   "metadata": {
    "collapsed": false
   },
   "outputs": [
    {
     "name": "stdout",
     "output_type": "stream",
     "text": [
      "<__main__.Employee object at 0x7f1ef41a2390>\n",
      "<__main__.Employee object at 0x7f1ef41a2358>\n",
      "An.Mo@company.com\n",
      "Ja.Nr@company.com\n"
     ]
    }
   ],
   "source": [
    "#Link: https://www.youtube.com/watch?v=ZDa-Z5JzLYM&list=PL-osiE80TeTsqhIuOqKhwlXsIBIdSeYtc\n",
    "# https://github.com/CoreyMSchafer/code_snippets/tree/master/Object-Oriented\n",
    "\n",
    "#Classes and Instances\n",
    "\n",
    "class Employee:\n",
    "    pass\n",
    "\n",
    "emp_1 = Employee()\n",
    "emp_2 = Employee()\n",
    "print(emp_1)\n",
    "print(emp_2) #Different address\n",
    "\n",
    "emp_1.first = \"An\"\n",
    "emp_1.last = \"Mo\"\n",
    "emp_1.email = \"An.Mo@company.com\"\n",
    "emp_1.pay = 60000\n",
    "\n",
    "emp_2.first = \"Ja\"\n",
    "emp_2.last = \"Nr\"\n",
    "emp_2.email = \"Ja.Nr@company.com\"\n",
    "emp_2.pay = 70000\n",
    "\n",
    "print(emp_1.email)\n",
    "print(emp_2.email)"
   ]
  },
  {
   "cell_type": "code",
   "execution_count": 16,
   "metadata": {
    "collapsed": false
   },
   "outputs": [
    {
     "name": "stdout",
     "output_type": "stream",
     "text": [
      "He.Wo@company.com\n",
      "Ri.Mo@company.com\n",
      "He Wo\n",
      "Ri Mo\n",
      "\n",
      "Calling throught Class methods\n",
      "He Wo\n",
      "Ri Mo\n"
     ]
    }
   ],
   "source": [
    "#How to do it better\n",
    "class Employee:\n",
    "    \n",
    "    def __init__(self, first, last, pay):\n",
    "        self.first = first\n",
    "        self.last = last\n",
    "        self.pay = pay\n",
    "        self.email = first + \".\" + last + '@company.com'\n",
    "    \n",
    "    def fullname(self):\n",
    "        return('{} {}'.format(self.first, self.last))\n",
    "\n",
    "emp_1 = Employee(\"He\",\"Wo\", 5000)\n",
    "emp_2 = Employee(\"Ri\",\"Mo\", 50000)\n",
    "\n",
    "print(emp_1.email)\n",
    "print(emp_2.email)\n",
    "\n",
    "\n",
    "print(emp_1.fullname())\n",
    "print(emp_2.fullname())\n",
    "\n",
    "\n",
    "# We can run methods using class name as well\n",
    "print(\"\\nCalling through Class methods\")\n",
    "print(Employee.fullname(emp_1))\n",
    "print(Employee.fullname(emp_2))"
   ]
  },
  {
   "cell_type": "code",
   "execution_count": 18,
   "metadata": {
    "collapsed": false
   },
   "outputs": [
    {
     "name": "stdout",
     "output_type": "stream",
     "text": [
      "5000\n",
      "5200\n"
     ]
    }
   ],
   "source": [
    "#Class Variables\n",
    "    # A way to give raise.\n",
    "    ''' Here raise % is hidden within the class method.\n",
    "    '''\n",
    "class Employee:\n",
    "    \n",
    "    def __init__(self, first, last, pay):\n",
    "        self.first = first\n",
    "        self.last = last\n",
    "        self.pay = pay\n",
    "        self.email = first + \".\" + last + '@company.com'\n",
    "    \n",
    "    def fullname(self):\n",
    "        return('{} {}'.format(self.first, self.last))\n",
    "\n",
    "    def apply_raise(self):\n",
    "        self.pay = int(self.pay * 1.04)\n",
    "        \n",
    "        \n",
    "emp_1 = Employee(\"He\",\"Wo\", 5000)\n",
    "emp_2 = Employee(\"Ri\",\"Mo\", 50000)\n",
    "\n",
    "print(emp_1.pay)\n",
    "emp_1.apply_raise()\n",
    "print(emp_1.pay)"
   ]
  },
  {
   "cell_type": "code",
   "execution_count": 26,
   "metadata": {
    "collapsed": false
   },
   "outputs": [
    {
     "name": "stdout",
     "output_type": "stream",
     "text": [
      "5000\n",
      "5500\n",
      "{'pay': 5500, 'first': 'He', 'last': 'Wo', 'email': 'He.Wo@company.com', 'raise_amount': 0.1}\n",
      "{'pay': 50000, 'first': 'Ri', 'last': 'Mo', 'email': 'Ri.Mo@company.com'}\n",
      "Emp 1 Pay: 5500\n",
      "Emp 2 Pay: 50000\n",
      "Emp 1 New Pay: 6050\n",
      "Emp 2 New Pay: 51500\n"
     ]
    }
   ],
   "source": [
    "class Employee:\n",
    "    '''\n",
    "    A way to give raise. Previously, raise % is hidden within the class method. Here we are making it settable \n",
    "    per instance\n",
    "    '''\n",
    "    \n",
    "    raise_amount = 0.05\n",
    "    \n",
    "    def __init__(self, first, last, pay):\n",
    "        self.first = first\n",
    "        self.last = last\n",
    "        self.pay = pay\n",
    "        self.email = first + \".\" + last + '@company.com'\n",
    "    \n",
    "    def fullname(self):\n",
    "        return('{} {}'.format(self.first, self.last))\n",
    "\n",
    "    def apply_raise(self):\n",
    "        # self.pay = int(self.pay * (1 + raise_amount)) gives error\n",
    "        # error because accessing class variables through class or instance of class\n",
    "        self.pay = int(self.pay * (1 + self.raise_amount))\n",
    "        \n",
    "        \n",
    "emp_1 = Employee(\"He\",\"Wo\", 5000)\n",
    "emp_2 = Employee(\"Ri\",\"Mo\", 50000)\n",
    "\n",
    "print(emp_1.pay)\n",
    "emp_1.raise_amount = 0.10\n",
    "emp_1.apply_raise()\n",
    "print(emp_1.pay)\n",
    "\n",
    "\n",
    "#Namespaces of the isntances\n",
    "print(emp_1.__dict__)\n",
    "print(emp_2.__dict__) #Note raise_amount is not set in employee 2\n",
    "\n",
    "\n",
    "print(\"Emp 1 Pay:\", emp_1.pay)\n",
    "print(\"Emp 2 Pay:\", emp_2.pay)\n",
    "Employee.raise_amount = 0.03\n",
    "emp_1.apply_raise()\n",
    "emp_2.apply_raise()\n",
    "print(\"Emp 1 New Pay:\", emp_1.pay)\n",
    "print(\"Emp 2 New Pay:\", emp_2.pay)"
   ]
  },
  {
   "cell_type": "code",
   "execution_count": 28,
   "metadata": {
    "collapsed": false
   },
   "outputs": [
    {
     "name": "stdout",
     "output_type": "stream",
     "text": [
      "2\n"
     ]
    }
   ],
   "source": [
    "# Now we want to find number of employees; Doesnt make sense to make this instance variable.\n",
    "\n",
    "class Employee:\n",
    "    \n",
    "    num_of_emps = 0\n",
    "    \n",
    "    raise_amount = 0.05\n",
    "    \n",
    "    def __init__(self, first, last, pay):\n",
    "        self.first = first\n",
    "        self.last = last\n",
    "        self.pay = pay\n",
    "        self.email = first + \".\" + last + '@company.com'\n",
    "        \n",
    "        Employee.num_of_emps +=1 \n",
    "        \n",
    "    \n",
    "    def fullname(self):\n",
    "        return('{} {}'.format(self.first, self.last))\n",
    "    \n",
    "    \n",
    "emp_1 = Employee(\"He\",\"Wo\", 5000)\n",
    "emp_2 = Employee(\"Ri\",\"Mo\", 50000)\n",
    "\n",
    "print(Employee.num_of_emps)\n"
   ]
  },
  {
   "cell_type": "code",
   "execution_count": 35,
   "metadata": {
    "collapsed": false
   },
   "outputs": [
    {
     "name": "stdout",
     "output_type": "stream",
     "text": [
      "0.05\n",
      "0.05\n",
      "0.05\n",
      "0.1\n",
      "0.1\n",
      "0.1\n"
     ]
    }
   ],
   "source": [
    "#Class Methods and StatiC Methods\n",
    "\n",
    "class Employee:\n",
    "    '''\n",
    "    A way to give raise. Previously, raise % is hidden within the class method. Here we are making it settable \n",
    "    per instance\n",
    "    '''\n",
    "    num_of_emps = 0\n",
    "    raise_amt = 0.05\n",
    "    \n",
    "    def __init__(self, first, last, pay):\n",
    "        self.first = first\n",
    "        self.last = last\n",
    "        self.pay = pay\n",
    "        self.email = first + \".\" + last + '@company.com'\n",
    "    \n",
    "        Employee.num_of_emps +=1 \n",
    "    \n",
    "    def fullname(self):\n",
    "        return('{} {}'.format(self.first, self.last))\n",
    "\n",
    "    def apply_raise(self):\n",
    "        # self.pay = int(self.pay * (1 + raise_amount)) gives error\n",
    "        # error because accessing class variables through class or instance of class\n",
    "        self.pay = int(self.pay * (1 + self.raise_amt))\n",
    "    \n",
    "    @classmethod\n",
    "    def set_raise_amt(cls, amount): #cls is like self and defautls to taking class\n",
    "        cls.raise_amt = amount\n",
    "        \n",
    "        \n",
    "emp_1 = Employee(\"He\",\"Wo\", 5000)\n",
    "emp_2 = Employee(\"Ri\",\"Mo\", 50000)\n",
    "\n",
    "print(Employee.raise_amt)\n",
    "print(emp_1.raise_amt)\n",
    "print(emp_2.raise_amt)\n",
    "\n",
    "\n",
    "Employee.set_raise_amt(0.1) #Using class methods\n",
    "print(Employee.raise_amt)\n",
    "print(emp_1.raise_amt)\n",
    "print(emp_2.raise_amt)\n",
    "\n",
    "\n",
    "#Class methods are alternative constructors:\n"
   ]
  },
  {
   "cell_type": "code",
   "execution_count": 37,
   "metadata": {
    "collapsed": true
   },
   "outputs": [],
   "source": [
    "#Class Methods and StatiC Methods\n",
    "\n",
    "class Employee:\n",
    "    '''\n",
    "    A way to give raise. Previously, raise % is hidden within the class method. Here we are making it settable \n",
    "    per instance\n",
    "    '''\n",
    "    num_of_emps = 0\n",
    "    raise_amt = 0.05\n",
    "    \n",
    "    def __init__(self, first, last, pay):\n",
    "        self.first = first\n",
    "        self.last = last\n",
    "        self.pay = pay\n",
    "        self.email = first + \".\" + last + '@company.com'\n",
    "    \n",
    "        Employee.num_of_emps +=1 \n",
    "    \n",
    "    def fullname(self):\n",
    "        return('{} {}'.format(self.first, self.last))\n",
    "\n",
    "    def apply_raise(self):\n",
    "        # self.pay = int(self.pay * (1 + raise_amount)) gives error\n",
    "        # error because accessing class variables through class or instance of class\n",
    "        self.pay = int(self.pay * (1 + self.raise_amt))\n",
    "    \n",
    "    @classmethod\n",
    "    def set_raise_amt(cls, amount): #cls is like self and defautls to taking class\n",
    "        cls.raise_amt = amount\n",
    "        \n",
    "        \n",
    "emp_1 = Employee(\"He\",\"Wo\", 5000)\n",
    "emp_2 = Employee(\"Ri\",\"Mo\", 50000)\n",
    "\n",
    "\n",
    "#Class methods are alternative constructors:\n",
    "emp_str_1 = \"John-Doe-70000\"\n",
    "emp_str_2 = \"Jane-Doe-80000\"\n",
    "emp_str_3 = \"Jeff-Doe-90000\"\n",
    "\n",
    "first,last,pay = emp_str_1.split('-')\n",
    "new_emp_1 = Employee(first,last,pay)\n",
    "#canwe add that this to the constructor\n"
   ]
  },
  {
   "cell_type": "code",
   "execution_count": 45,
   "metadata": {
    "collapsed": false
   },
   "outputs": [
    {
     "name": "stdout",
     "output_type": "stream",
     "text": [
      "John.Doe@company.com\n",
      "Jane.Doe@company.com\n"
     ]
    }
   ],
   "source": [
    "#Class Methods and StatiC Methods\n",
    "\n",
    "class Employee:\n",
    "    '''\n",
    "    A way to give raise. Previously, raise % is hidden within the class method. Here we are making it settable \n",
    "    per instance\n",
    "    '''\n",
    "    num_of_emps = 0\n",
    "    raise_amt = 0.05\n",
    "    \n",
    "    def __init__(self, first, last, pay):\n",
    "        self.first = first\n",
    "        self.last = last\n",
    "        self.pay = pay\n",
    "        self.email = first + \".\" + last + '@company.com'\n",
    "    \n",
    "        Employee.num_of_emps +=1 \n",
    "    \n",
    "    def fullname(self):\n",
    "        return('{} {}'.format(self.first, self.last))\n",
    "\n",
    "    def apply_raise(self):\n",
    "        # self.pay = int(self.pay * (1 + raise_amount)) gives error\n",
    "        # error because accessing class variables through class or instance of class\n",
    "        self.pay = int(self.pay * (1 + self.raise_amt))\n",
    "    \n",
    "    @classmethod\n",
    "    def set_raise_amt(cls, amount): #cls is like self and defautls to taking class\n",
    "        cls.raise_amt = amount\n",
    "        \n",
    "    @classmethod\n",
    "    def from_string(cls, emp_str):\n",
    "        first, last, pay = emp_str.split(\"-\")\n",
    "        return(cls(first,last, pay)) #create the class and return to it so that class method can be recieved\n",
    "        \n",
    "emp_str_1 = \"John-Doe-70000\"\n",
    "emp_str_2 = \"Jane-Doe-80000\"\n",
    "\n",
    "new_emp_1 = Employee.from_string(emp_str_1)\n",
    "new_emp_2= Employee.from_string(emp_str_2)\n",
    "\n",
    "print(new_emp_1.email)\n",
    "print(new_emp_2.email)\n",
    "#canwe add that this to the constructor"
   ]
  }
 ],
 "metadata": {
  "kernelspec": {
   "display_name": "Python 3",
   "language": "python",
   "name": "python3"
  },
  "language_info": {
   "codemirror_mode": {
    "name": "ipython",
    "version": 3
   },
   "file_extension": ".py",
   "mimetype": "text/x-python",
   "name": "python",
   "nbconvert_exporter": "python",
   "pygments_lexer": "ipython3",
   "version": "3.5.2"
  }
 },
 "nbformat": 4,
 "nbformat_minor": 0
}

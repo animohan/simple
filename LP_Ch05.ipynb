{
 "cells": [
  {
   "cell_type": "markdown",
   "metadata": {},
   "source": [
    "# 5. Sets"
   ]
  },
  {
   "cell_type": "markdown",
   "metadata": {},
   "source": [
    "##  5.1 Basic Set Operation"
   ]
  },
  {
   "cell_type": "code",
   "execution_count": 33,
   "metadata": {
    "collapsed": false
   },
   "outputs": [
    {
     "name": "stdout",
     "output_type": "stream",
     "text": [
      "Set x: {'b', 'd', 'a', 'c', 'e'}\n",
      "Set y {'b', 'd', 'y', 'z', 'x'}\n"
     ]
    }
   ],
   "source": [
    "# Declaring Sets\n",
    "x =set(\"aaaabcde\") #Note repeated elements are considered once\n",
    "y = set(\"bdxyz\")\n",
    "print(\"Set x:\", x)\n",
    "print(\"Set y\",y)"
   ]
  },
  {
   "cell_type": "markdown",
   "metadata": {},
   "source": [
    "## 5.2 Set Operation"
   ]
  },
  {
   "cell_type": "code",
   "execution_count": 5,
   "metadata": {
    "collapsed": false
   },
   "outputs": [
    {
     "name": "stdout",
     "output_type": "stream",
     "text": [
      "Set x: {'b', 'd', 'a', 'c', 'e'}\n",
      "Set y:  {'b', 'd', 'y', 'z', 'x'}\n",
      "Difference: {'a', 'c', 'e'}\n",
      "Union: {'b', 'x', 'c', 'z', 'a', 'd', 'e', 'y'}\n",
      "Intersection: {'b', 'd'}\n",
      "XOR: {'x', 'c', 'z', 'a', 'e', 'y'}\n",
      "x is a subset of y: False\n",
      "x is a superset of y: False\n",
      "Membership a set: True\n"
     ]
    }
   ],
   "source": [
    "print(\"Set x:\",x)\n",
    "print(\"Set y: \",y)\n",
    "print(\"Difference:\", x-y) # Set difference\n",
    "print(\"Union:\", x|y)\n",
    "print(\"Intersection:\", x&y)\n",
    "print(\"XOR:\",x^y)\n",
    "print(\"x is a subset of y:\",x<y)\n",
    "print(\"x is a superset of y:\",x>y)\n",
    "print(\"Membership a set:\", 'e' in x)\n"
   ]
  },
  {
   "cell_type": "markdown",
   "metadata": {},
   "source": [
    "## 5.3 Set Operations as Functions"
   ]
  },
  {
   "cell_type": "code",
   "execution_count": 17,
   "metadata": {
    "collapsed": false
   },
   "outputs": [
    {
     "name": "stdout",
     "output_type": "stream",
     "text": [
      "Set x: {'b', 'd', 'a', 'c', 'e'}\n",
      "Set y:  {'b', 'd', 'y', 'z', 'x'}\n",
      "Difference {'a', 'c', 'e'}\n",
      "Union {'b', 'x', 'c', 'z', 'a', 'd', 'e', 'y'}\n",
      "Intersection {'b', 'd'}\n",
      "Superset:  False\n",
      "Subset: False\n"
     ]
    }
   ],
   "source": [
    "print(\"Set x:\",x)\n",
    "print(\"Set y: \",y)\n",
    "print(\"Difference\",x.difference(y))\n",
    "print(\"Union\", x.union(y))\n",
    "print(\"Intersection\", x.intersection(y))\n",
    "#print(\"XOR:\", x.xor(y)) #No xor function\n",
    "print(\"Superset: \",x.issuperset(y))\n",
    "print(\"Subset:\", x.issubset(y))"
   ]
  },
  {
   "cell_type": "code",
   "execution_count": 32,
   "metadata": {
    "collapsed": false
   },
   "outputs": [
    {
     "name": "stdout",
     "output_type": "stream",
     "text": [
      "{'p', 't', 'o', 'v', 'e', 'blood', 'i', 's'}\n",
      "{'p', 't', 'o', 'v', 'genome', 'e', 'blood', 'i', 'type', 's'}\n",
      "{'x', 'p', 't', 'o', 'v', 'genome', 'e', 'blood', 'i', 'type', 's'}\n",
      "{'x', 'p', 't', 'o', 'v', 'e', 'blood', 'i', 'type', 's'}\n"
     ]
    }
   ],
   "source": [
    "x = set(\"positive\")\n",
    "y = set(\"negative\")\n",
    "x.add(\"blood\") #Adding to the set\n",
    "print(x)\n",
    "x.update(set([\"type\",\"genome\"])) #Adding another set\n",
    "print(x)\n",
    "x.update(set('xxxxx'))\n",
    "print(x)\n",
    "x.remove(\"genome\") #Remove an element\n",
    "print(x)\n"
   ]
  },
  {
   "cell_type": "code",
   "execution_count": 35,
   "metadata": {
    "collapsed": false
   },
   "outputs": [
    {
     "name": "stdout",
     "output_type": "stream",
     "text": [
      "bbb\n",
      "aaa\n",
      "ccc\n"
     ]
    }
   ],
   "source": [
    "#iterate through set elements\n",
    "for item in set('abc'): \n",
    "    print(item*3)"
   ]
  },
  {
   "cell_type": "code",
   "execution_count": 38,
   "metadata": {
    "collapsed": false
   },
   "outputs": [
    {
     "name": "stdout",
     "output_type": "stream",
     "text": [
      "{1, 2, 3}\n",
      "['dd', 'xx', 'yy', 'cc', 'aa']\n"
     ]
    }
   ],
   "source": [
    "#Set can work with lists\n",
    "S = set([1,2,3])\n",
    "print(S)\n",
    "print(list(set(['yy','cc','aa','xx','dd','aa']))) "
   ]
  },
  {
   "cell_type": "code",
   "execution_count": 40,
   "metadata": {
    "collapsed": false
   },
   "outputs": [
    {
     "name": "stdout",
     "output_type": "stream",
     "text": [
      "False\n",
      "True\n"
     ]
    }
   ],
   "source": [
    "#Sets can be used for older neutral tests\n",
    "a,b = [1,2,3,4,5],[5,4,3,2,1]\n",
    "print(a==b)\n",
    "print(set(a)==set(b))"
   ]
  }
 ],
 "metadata": {
  "kernelspec": {
   "display_name": "Python 3",
   "language": "python",
   "name": "python3"
  },
  "language_info": {
   "codemirror_mode": {
    "name": "ipython",
    "version": 3
   },
   "file_extension": ".py",
   "mimetype": "text/x-python",
   "name": "python",
   "nbconvert_exporter": "python",
   "pygments_lexer": "ipython3",
   "version": "3.5.1"
  }
 },
 "nbformat": 4,
 "nbformat_minor": 0
}

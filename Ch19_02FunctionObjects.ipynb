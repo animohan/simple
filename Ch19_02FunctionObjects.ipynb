{
 "cells": [
  {
   "cell_type": "code",
   "execution_count": 9,
   "metadata": {
    "collapsed": false
   },
   "outputs": [
    {
     "name": "stdout",
     "output_type": "stream",
     "text": [
      "HHHH\n",
      "HHHH\n",
      "x= None\n",
      "HHHH\n",
      "passing\n"
     ]
    }
   ],
   "source": [
    "#Pything functions are objects i.e they are more than code generation spec\n",
    "#Function objects may be assigned to other names, passed to other functions,\n",
    "# embedded in data structures, returned from one fucntion to another and more\n",
    "# like strings or numbers\n",
    "\n",
    "#Function objects also happen to support a special operation: they can be\n",
    "# called by listing arguments in parentheses after a functiion expression\n",
    "\n",
    "def echo(message): #Name echo is assigned to function object\n",
    "    print(message)\n",
    "\n",
    "echo(\"HHHH\") #Call the object through original name\n",
    "x=echo(\"HHHH\")\n",
    "print(\"x=\", x)\n",
    "\n",
    "x = echo #x references the function too\n",
    "x(\"HHHH\") #Now x can be used to call the function; call object through name\n",
    "            # by addding parentheses ()\n",
    "\n",
    "#Arguments are passed by assigning objects; can pass functions to other\n",
    "#functions as arguments. The callee may call the passed-in function by\n",
    "#adding arguments to parentheses\n",
    "\n",
    "def indirect(func, arg):\n",
    "    func(arg)\n",
    "indirect(echo, \"passing\")"
   ]
  },
  {
   "cell_type": "code",
   "execution_count": 10,
   "metadata": {
    "collapsed": false
   },
   "outputs": [
    {
     "name": "stdout",
     "output_type": "stream",
     "text": [
      "spam\n",
      "ham\n"
     ]
    }
   ],
   "source": [
    "#Can also put function objects into data structures, like integers and string\n",
    "\n",
    "schedule = [(echo,\"spam\"),(echo, \"ham\")]\n",
    "for (func, arg) in schedule:\n",
    "    func(arg)\n",
    "\n",
    "#in this example, the function is embedded twice in a list of tuples \n",
    "#the code steps through schedule list calling the echo fun with required\n",
    "#paramters"
   ]
  },
  {
   "cell_type": "code",
   "execution_count": 17,
   "metadata": {
    "collapsed": false
   },
   "outputs": [
    {
     "name": "stdout",
     "output_type": "stream",
     "text": [
      "<function make.<locals>.echo at 0x7fd6506f2d08>\n",
      "Spam:Ham\n",
      "Spam:Eggs\n"
     ]
    }
   ],
   "source": [
    "#Functions can be created and returned to use elsewhere\n",
    "def make(label): #Make a function but dont call it\n",
    "    def echo(message):\n",
    "        print(label+\":\" + message)\n",
    "    return echo\n",
    "\n",
    "F=make(\"Spam\") #label in enclosing scope is retained\n",
    "print(F)\n",
    "F(\"Ham\") #call the function that 'make {function name}' returned\n",
    "\n",
    "F(\"Eggs\")"
   ]
  },
  {
   "cell_type": "code",
   "execution_count": 21,
   "metadata": {
    "collapsed": false
   },
   "outputs": [
    {
     "name": "stdout",
     "output_type": "stream",
     "text": [
      "spamspamspamspam\n",
      "func\n"
     ]
    },
    {
     "data": {
      "text/plain": [
       "['__annotations__',\n",
       " '__call__',\n",
       " '__class__',\n",
       " '__closure__',\n",
       " '__code__',\n",
       " '__defaults__',\n",
       " '__delattr__',\n",
       " '__dict__',\n",
       " '__dir__',\n",
       " '__doc__',\n",
       " '__eq__',\n",
       " '__format__',\n",
       " '__ge__',\n",
       " '__get__',\n",
       " '__getattribute__',\n",
       " '__globals__',\n",
       " '__gt__',\n",
       " '__hash__',\n",
       " '__init__',\n",
       " '__kwdefaults__',\n",
       " '__le__',\n",
       " '__lt__',\n",
       " '__module__',\n",
       " '__name__',\n",
       " '__ne__',\n",
       " '__new__',\n",
       " '__qualname__',\n",
       " '__reduce__',\n",
       " '__reduce_ex__',\n",
       " '__repr__',\n",
       " '__setattr__',\n",
       " '__sizeof__',\n",
       " '__str__',\n",
       " '__subclasshook__']"
      ]
     },
     "execution_count": 21,
     "metadata": {},
     "output_type": "execute_result"
    }
   ],
   "source": [
    "#Function introspection\n",
    "#because functions are objects, they can also process functions with normal\n",
    "# object tools.\n",
    "def func(a):\n",
    "    b='spam'\n",
    "    return b*a\n",
    "\n",
    "print(func(4))\n",
    "#The call expression is just one operation defined on function objects.\n",
    "#can also inspect their attirbutes generically\n",
    "print(func.__name__)\n",
    "dir(func)"
   ]
  },
  {
   "cell_type": "code",
   "execution_count": 29,
   "metadata": {
    "collapsed": false
   },
   "outputs": [
    {
     "name": "stdout",
     "output_type": "stream",
     "text": [
      "<code object func at 0x7fd650728c00, file \"<ipython-input-21-d3624c2f415d>\", line 4>\n",
      "['__class__', '__delattr__', '__dir__', '__doc__', '__eq__', '__format__', '__ge__', '__getattribute__', '__gt__', '__hash__', '__init__', '__le__', '__lt__', '__ne__', '__new__', '__reduce__', '__reduce_ex__', '__repr__', '__setattr__', '__sizeof__', '__str__', '__subclasshook__', 'co_argcount', 'co_cellvars', 'co_code', 'co_consts', 'co_filename', 'co_firstlineno', 'co_flags', 'co_freevars', 'co_kwonlyargcount', 'co_lnotab', 'co_name', 'co_names', 'co_nlocals', 'co_stacksize', 'co_varnames']\n",
      "\n",
      "('a', 'b')\n",
      "1\n",
      "2\n"
     ]
    }
   ],
   "source": [
    "#introspection tools allow us to explore implementation details. Functions\n",
    "# have attached code objects, which provide details  on aspects such as\n",
    "# function's local variables and arguments\n",
    "\n",
    "print(func.__code__)\n",
    "print(dir(func.__code__))\n",
    "print()\n",
    "print(func.__code__.co_varnames)\n",
    "print(func.__code__.co_argcount)\n",
    "print(func.__code__.co_stacksize)\n"
   ]
  },
  {
   "cell_type": "code",
   "execution_count": 41,
   "metadata": {
    "collapsed": false
   },
   "outputs": [
    {
     "data": {
      "text/plain": [
       "1"
      ]
     },
     "execution_count": 41,
     "metadata": {},
     "output_type": "execute_result"
    }
   ],
   "source": [
    "#Function attributes:\n",
    "# Function objects are not limited to system defined attirbutes. It is possible\n",
    "# to attach arbitrary user defined attributes to them.\n",
    "def func(a):\n",
    "    b='spam'\n",
    "    return b*a\n",
    "\n",
    "func\n",
    "func.count=0\n",
    "func.count+=1\n",
    "func.count"
   ]
  },
  {
   "cell_type": "code",
   "execution_count": 39,
   "metadata": {
    "collapsed": false
   },
   "outputs": [
    {
     "name": "stdout",
     "output_type": "stream",
     "text": [
      "Button Press\n",
      "['__annotations__', '__call__', '__class__', '__closure__', '__code__', '__defaults__', '__delattr__', '__dict__', '__dir__', '__doc__', '__eq__', '__format__', '__ge__', '__get__', '__getattribute__', '__globals__', '__gt__', '__hash__', '__init__', '__kwdefaults__', '__le__', '__lt__', '__module__', '__name__', '__ne__', '__new__', '__qualname__', '__reduce__', '__reduce_ex__', '__repr__', '__setattr__', '__sizeof__', '__str__', '__subclasshook__', 'count', 'handles']\n"
     ]
    }
   ],
   "source": [
    "def func(a):\n",
    "    b='spam'\n",
    "    return b*a\n",
    "\n",
    "func.handles=\"Button Press\"\n",
    "print(func.handles)\n",
    "print()\n",
    "print(dir(func)) #note handles is added as an attribute\n"
   ]
  },
  {
   "cell_type": "code",
   "execution_count": 40,
   "metadata": {
    "collapsed": false
   },
   "outputs": [
    {
     "data": {
      "text/plain": [
       "['__annotations__',\n",
       " '__call__',\n",
       " '__class__',\n",
       " '__closure__',\n",
       " '__code__',\n",
       " '__defaults__',\n",
       " '__delattr__',\n",
       " '__dict__',\n",
       " '__dir__',\n",
       " '__doc__',\n",
       " '__eq__',\n",
       " '__format__',\n",
       " '__ge__',\n",
       " '__get__',\n",
       " '__getattribute__',\n",
       " '__globals__',\n",
       " '__gt__',\n",
       " '__hash__',\n",
       " '__init__',\n",
       " '__kwdefaults__',\n",
       " '__le__',\n",
       " '__lt__',\n",
       " '__module__',\n",
       " '__name__',\n",
       " '__ne__',\n",
       " '__new__',\n",
       " '__qualname__',\n",
       " '__reduce__',\n",
       " '__reduce_ex__',\n",
       " '__repr__',\n",
       " '__setattr__',\n",
       " '__sizeof__',\n",
       " '__str__',\n",
       " '__subclasshook__']"
      ]
     },
     "execution_count": 40,
     "metadata": {},
     "output_type": "execute_result"
    }
   ],
   "source": [
    "#Python's own implementation-related data stored on functions follow naming\n",
    "#conventions that prevent them from clashing with more arbitrary names\n",
    "#that ppl can assign. In Python 3.0+ all function interna names have a \n",
    "#leading and training double score\n",
    "def f():\n",
    "    pass\n",
    "dir(f)"
   ]
  },
  {
   "cell_type": "code",
   "execution_count": 45,
   "metadata": {
    "collapsed": false
   },
   "outputs": [
    {
     "name": "stdout",
     "output_type": "stream",
     "text": [
      "{}\n",
      "{'return': <class 'int'>, 'a': 'spam', 'c': <class 'float'>, 'b': (1, 10)}\n"
     ]
    }
   ],
   "source": [
    "#Function annotations:\n",
    "#Possible to attach annotation information- arbitrary user defined data\n",
    "#about the function arguments and results.\n",
    "\n",
    "def func(a,b,c):\n",
    "    return a+b+c\n",
    "func(1,2,3)\n",
    "print(func.__annotations__)\n",
    "\n",
    "def func(a: 'spam',b:(1,10),c:float)->int:\n",
    "    return a+b+c\n",
    "func(1,2,3)\n",
    "print(func.__annotations__)"
   ]
  },
  {
   "cell_type": "code",
   "execution_count": null,
   "metadata": {
    "collapsed": true
   },
   "outputs": [],
   "source": []
  }
 ],
 "metadata": {
  "kernelspec": {
   "display_name": "Python 3",
   "language": "python",
   "name": "python3"
  },
  "language_info": {
   "codemirror_mode": {
    "name": "ipython",
    "version": 3
   },
   "file_extension": ".py",
   "mimetype": "text/x-python",
   "name": "python",
   "nbconvert_exporter": "python",
   "pygments_lexer": "ipython3",
   "version": "3.5.2"
  }
 },
 "nbformat": 4,
 "nbformat_minor": 0
}

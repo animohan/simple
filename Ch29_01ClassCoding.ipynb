{
 "cells": [
  {
   "cell_type": "code",
   "execution_count": 8,
   "metadata": {
    "collapsed": false
   },
   "outputs": [
    {
     "name": "stdout",
     "output_type": "stream",
     "text": [
      "42\n",
      "42\n"
     ]
    }
   ],
   "source": [
    "#Class attribute\n",
    "class SharedData:\n",
    "    spam = 42 # Generates a class data attribute\n",
    "\n",
    "x = SharedData()\n",
    "y = SharedData()\n",
    "\n",
    "print(x.spam) #Inherit and share SharedData.spam attribute\n",
    "print(y.spam)"
   ]
  },
  {
   "cell_type": "code",
   "execution_count": 9,
   "metadata": {
    "collapsed": false
   },
   "outputs": [
    {
     "name": "stdout",
     "output_type": "stream",
     "text": [
      "666\n",
      "666\n",
      "666\n"
     ]
    }
   ],
   "source": [
    "# Can change the attribute value through instance or through class\n",
    "SharedData.spam = 666\n",
    "print(x.spam)\n",
    "print(y.spam)\n",
    "print(SharedData.spam)"
   ]
  },
  {
   "cell_type": "code",
   "execution_count": 10,
   "metadata": {
    "collapsed": false
   },
   "outputs": [
    {
     "name": "stdout",
     "output_type": "stream",
     "text": [
      "99\n",
      "666\n",
      "666\n"
     ]
    }
   ],
   "source": [
    "# Can change the attribute value through instance or through class\n",
    "x.spam = 99\n",
    "print(x.spam)\n",
    "print(y.spam)\n",
    "print(SharedData.spam)"
   ]
  },
  {
   "cell_type": "code",
   "execution_count": 12,
   "metadata": {
    "collapsed": false
   },
   "outputs": [
    {
     "name": "stdout",
     "output_type": "stream",
     "text": [
      "99\n",
      "666\n",
      "666\n"
     ]
    }
   ],
   "source": [
    "SharedData.spam = 666\n",
    "print(x.spam) #x.spam is not changed once we specifically touch its value !\n",
    "print(y.spam)\n",
    "print(SharedData.spam)\n",
    "# Assignments to instance attributes creates or changes the names in instance instead of shared class\n",
    "# Instance searches occures only on attribute references no on assigments; assigning to an object's attribute (x.spam = 22)\n",
    "# always change that specific object; i.e does not change other object attributes derived from earlier object's parents"
   ]
  },
  {
   "cell_type": "code",
   "execution_count": 13,
   "metadata": {
    "collapsed": false
   },
   "outputs": [
    {
     "data": {
      "text/plain": [
       "'\\n - Class contains two defs that bind class attributes to method functions\\n - Also has an assignment(data = \"spam)\\n - Assignment assigns name data inside class hence it lives in class\\'s local scope\\n - \\'data\\' lives in class\\'s local scope and is an attribute of the class object.\\n - \\'data\\' will be inhertied and shared by all instance of the class who do not  have data attributes of their own.\\n'"
      ]
     },
     "execution_count": 13,
     "metadata": {},
     "output_type": "execute_result"
    }
   ],
   "source": [
    "class MixedNames:\n",
    "    data = 'spam'\n",
    "    \n",
    "    def __init__(self, value):\n",
    "        self.data = value\n",
    "    \n",
    "    def display(self):\n",
    "        print(self.data, MixedNames.data)\n",
    "'''\n",
    " - Class contains two defs that bind class attributes to method functions\n",
    " - Also has an assignment(data = \"spam)\n",
    " - Assignment assigns name data inside class hence it lives in class's local scope\n",
    " - 'data' lives in class's local scope and is an attribute of the class object.\n",
    " - 'data' will be inhertied and shared by all instance of the class who do not  have data attributes of their own.\n",
    "'''"
   ]
  },
  {
   "cell_type": "code",
   "execution_count": 16,
   "metadata": {
    "collapsed": false
   },
   "outputs": [
    {
     "name": "stdout",
     "output_type": "stream",
     "text": [
      "1 spam\n",
      "2 spam\n"
     ]
    },
    {
     "data": {
      "text/plain": [
       "\"\\n 'data' lives in two places:\\n     1) Instance objects (Created by self.data in __init__)\\n     2) in the class from which the instances inherit ('data' is created as class attribute)\\n\""
      ]
     },
     "execution_count": 16,
     "metadata": {},
     "output_type": "execute_result"
    }
   ],
   "source": [
    "# When defining instances of this class, 'data' is attached to those instance by assignemt self.data\n",
    "x = MixedNames(1)\n",
    "y = MixedNames(2)\n",
    "x.display()  #self.data is different for x and y, but MixedName.data is same i.e \"spam\"\n",
    "y.display()\n",
    "\n",
    "'''\n",
    " 'data' lives in two places:\n",
    "     1) Instance objects (Created by self.data in __init__)\n",
    "     2) in the class from which the instances inherit ('data' is created as class attribute)\n",
    "'''"
   ]
  },
  {
   "cell_type": "markdown",
   "metadata": {},
   "source": [
    "#Class Methods\n",
    "-  Methods = function objects created by def in a class statement\n",
    "- methods provide behavior for instance objects to inherit\n",
    "- methods first argument always recieves the instance object\n",
    "- hence instance.method(args..) === class.method(instance, args..)\n",
    "- first argument: Self by convention. Only first argument position is important not its name."
   ]
  },
  {
   "cell_type": "markdown",
   "metadata": {},
   "source": [
    "#### Method Example\n",
    "class NextClass: # define class\n",
    "    def printer(self, text): #define method\n",
    "        self.message = text  # attribute create with a value\n",
    "        print(self.message)  # access the value\n",
    "\n",
    "- printer  = method in class; can be accessed by all instances of the class\n",
    "- method infact beome a class object attribute\n",
    "- methods are used to process instance example\n",
    "\n",
    "x = NextClass() #<- Creates instance\n",
    "x.printer(\"instance call\") #call the method\n",
    "x.message #instance variable changed\n",
    "\n",
    "- When calling method, it is located by inheritance\n",
    "- then self argument is automatically assinged to boject.\n",
    "- text argument heregets teh string passed at the call \"instance call\"\n",
    "- inside printer, self is used to access or set per-instance data because it refers back to instance currently being processed\n",
    "\n",
    "\n",
    "- Methods can be called in two ways:\n",
    "    - through instance\n",
    "    - through the class directly"
   ]
  }
 ],
 "metadata": {
  "kernelspec": {
   "display_name": "Python 3",
   "language": "python",
   "name": "python3"
  },
  "language_info": {
   "codemirror_mode": {
    "name": "ipython",
    "version": 3
   },
   "file_extension": ".py",
   "mimetype": "text/x-python",
   "name": "python",
   "nbconvert_exporter": "python",
   "pygments_lexer": "ipython3",
   "version": "3.5.2"
  }
 },
 "nbformat": 4,
 "nbformat_minor": 2
}

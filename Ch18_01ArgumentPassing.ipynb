{
 "cells": [
  {
   "cell_type": "code",
   "execution_count": 1,
   "metadata": {
    "collapsed": false
   },
   "outputs": [
    {
     "name": "stdout",
     "output_type": "stream",
     "text": [
      "88\n"
     ]
    }
   ],
   "source": [
    "#Argument by assignment\n",
    "#Arguments are passed automatically assigning objects to local variable\n",
    "#names. Function argument-reference to shared objects sent by the caller\n",
    "#are just anotehr instance of Python assignment. Because reference are\n",
    "#implemented as pointers, all arguments, are in effect passed by pointer.\n",
    "#objects passes as arguments are never automatically copied\n",
    "\n",
    "#Assigning to argument names inside a function does not affect the caller. \n",
    "#Argument names in the function header become new, local names when the\n",
    "#the function runs, in the scope of the function.\n",
    "\n",
    "#Changing a mutable object argument in a function may impact the caller.\n",
    "\n",
    "#Arguments and shared references:\n",
    "def f(a): #a is assigned the passed object\n",
    "    a=99; #changes the value of local variable.\n",
    "    \n",
    "b=88   \n",
    "f(b)   #calling the function with b, does not change value of b\n",
    "print(b)"
   ]
  },
  {
   "cell_type": "code",
   "execution_count": 2,
   "metadata": {
    "collapsed": false
   },
   "outputs": [
    {
     "name": "stdout",
     "output_type": "stream",
     "text": [
      "1\n",
      "['spam', 2]\n"
     ]
    }
   ],
   "source": [
    "def changer(a,b):\n",
    "    a=2\n",
    "    b[0]='spam'\n",
    "\n",
    "x=1\n",
    "l=[1,2]\n",
    "changer(x,l)\n",
    "print(x)\n",
    "print(l)\n",
    "\n",
    "#When mutable objects (e.g lists and dictionaries) are passed as argument\n",
    "#then the changes in the objects persist. \n",
    "# In this example, x is passed to a but value is unchanged\n",
    "#however, l is a mutable list; and is passed to the function and the value\n",
    "# of l[0] is changed because the reference is assigned to b (b=l for func \n",
    "#call) and in the function value of b[0] is changed"
   ]
  },
  {
   "cell_type": "code",
   "execution_count": 3,
   "metadata": {
    "collapsed": false
   },
   "outputs": [
    {
     "name": "stdout",
     "output_type": "stream",
     "text": [
      "1\n",
      "['spam', 2]\n"
     ]
    }
   ],
   "source": [
    "#look at these two cases\n",
    "X=1\n",
    "a=X\n",
    "a=2\n",
    "print(X)\n",
    "\n",
    "L=[1,2]\n",
    "b=L\n",
    "b[0]=\"spam\"\n",
    "print(L) #list is mutable and the change is a in-place change"
   ]
  },
  {
   "cell_type": "code",
   "execution_count": 4,
   "metadata": {
    "collapsed": false
   },
   "outputs": [
    {
     "name": "stdout",
     "output_type": "stream",
     "text": [
      "[1, 2]\n"
     ]
    }
   ],
   "source": [
    "#if do not want in place changes, copy the variable/list of dictionary\n",
    "#instead of referencing it\n",
    "L=[1,2]\n",
    "b=L[:]\n",
    "b[0]=\"spam\"\n",
    "print(L)"
   ]
  },
  {
   "cell_type": "code",
   "execution_count": 5,
   "metadata": {
    "collapsed": false
   },
   "outputs": [
    {
     "name": "stdout",
     "output_type": "stream",
     "text": [
      "1\n",
      "[1, 2]\n"
     ]
    }
   ],
   "source": [
    "#example of copying\n",
    "def changer(a,b):\n",
    "    a=2\n",
    "    b[0]='spam'\n",
    "x=1\n",
    "l=[1,2]\n",
    "changer(x,l[:])\n",
    "print(x)\n",
    "print(l)"
   ]
  },
  {
   "cell_type": "code",
   "execution_count": 6,
   "metadata": {
    "collapsed": false
   },
   "outputs": [
    {
     "name": "stdout",
     "output_type": "stream",
     "text": [
      "1\n",
      "[1, 2]\n"
     ]
    }
   ],
   "source": [
    "#can also copy within th efunction if we do not want to change the passed\n",
    "# object\n",
    "def changer(a,b):\n",
    "    b=b[:]\n",
    "    a=2\n",
    "    b[0]='spam'\n",
    "\n",
    "x=1\n",
    "l=[1,2]\n",
    "changer(x,l)\n",
    "print(x)\n",
    "print(l)"
   ]
  },
  {
   "cell_type": "code",
   "execution_count": 7,
   "metadata": {
    "collapsed": false
   },
   "outputs": [
    {
     "ename": "TypeError",
     "evalue": "'tuple' object does not support item assignment",
     "output_type": "error",
     "traceback": [
      "\u001b[1;31m---------------------------------------------------------------------------\u001b[0m",
      "\u001b[1;31mTypeError\u001b[0m                                 Traceback (most recent call last)",
      "\u001b[1;32m<ipython-input-7-7d678f3bd290>\u001b[0m in \u001b[0;36m<module>\u001b[1;34m()\u001b[0m\n\u001b[0;32m      4\u001b[0m \u001b[1;31m#issue. Tuples, of example, riase an exception when changes are attempted\u001b[0m\u001b[1;33m\u001b[0m\u001b[1;33m\u001b[0m\u001b[0m\n\u001b[0;32m      5\u001b[0m \u001b[0mL\u001b[0m\u001b[1;33m=\u001b[0m\u001b[1;33m[\u001b[0m\u001b[1;36m1\u001b[0m\u001b[1;33m,\u001b[0m\u001b[1;36m2\u001b[0m\u001b[1;33m]\u001b[0m\u001b[1;33m\u001b[0m\u001b[0m\n\u001b[1;32m----> 6\u001b[1;33m \u001b[0mchanger\u001b[0m\u001b[1;33m(\u001b[0m\u001b[0mx\u001b[0m\u001b[1;33m,\u001b[0m\u001b[0mtuple\u001b[0m\u001b[1;33m(\u001b[0m\u001b[0mL\u001b[0m\u001b[1;33m)\u001b[0m\u001b[1;33m)\u001b[0m\u001b[1;33m\u001b[0m\u001b[0m\n\u001b[0m",
      "\u001b[1;32m<ipython-input-6-e4ead7156cbe>\u001b[0m in \u001b[0;36mchanger\u001b[1;34m(a, b)\u001b[0m\n\u001b[0;32m      4\u001b[0m     \u001b[0mb\u001b[0m\u001b[1;33m=\u001b[0m\u001b[0mb\u001b[0m\u001b[1;33m[\u001b[0m\u001b[1;33m:\u001b[0m\u001b[1;33m]\u001b[0m\u001b[1;33m\u001b[0m\u001b[0m\n\u001b[0;32m      5\u001b[0m     \u001b[0ma\u001b[0m\u001b[1;33m=\u001b[0m\u001b[1;36m2\u001b[0m\u001b[1;33m\u001b[0m\u001b[0m\n\u001b[1;32m----> 6\u001b[1;33m     \u001b[0mb\u001b[0m\u001b[1;33m[\u001b[0m\u001b[1;36m0\u001b[0m\u001b[1;33m]\u001b[0m\u001b[1;33m=\u001b[0m\u001b[1;34m'spam'\u001b[0m\u001b[1;33m\u001b[0m\u001b[0m\n\u001b[0m\u001b[0;32m      7\u001b[0m \u001b[1;33m\u001b[0m\u001b[0m\n\u001b[0;32m      8\u001b[0m \u001b[0mx\u001b[0m\u001b[1;33m=\u001b[0m\u001b[1;36m1\u001b[0m\u001b[1;33m\u001b[0m\u001b[0m\n",
      "\u001b[1;31mTypeError\u001b[0m: 'tuple' object does not support item assignment"
     ]
    }
   ],
   "source": [
    "#Both of these copying schemes dont stop the function from changing the\n",
    "# object, they prevent those changes frmo impacting the caller.\n",
    "#To really prevent changes, we can conver immutable objects to force the \n",
    "#issue. Tuples, of example, riase an exception when changes are attempted\n",
    "L=[1,2]\n",
    "#changer(x,tuple(L)) # throws exception"
   ]
  },
  {
   "cell_type": "code",
   "execution_count": 9,
   "metadata": {
    "collapsed": false
   },
   "outputs": [
    {
     "data": {
      "text/plain": [
       "(2, [3, 4])"
      ]
     },
     "execution_count": 9,
     "metadata": {},
     "output_type": "execute_result"
    }
   ],
   "source": [
    "#Simulating output parameters and multiple results\n",
    "#Return can send multiple values by packaging them i a tuple or other \n",
    "#collection type.\n",
    "def multiple(x,y):\n",
    "    x=2  #changes local name\n",
    "    y=[3,4] \n",
    "    return x,y #returns multiple values\n",
    "x=1\n",
    "l=[1,3]\n",
    "x,l=multiple(x,l) #assign results to caller's name\n",
    "x,l\n",
    "\n",
    "#Python does not support call by reference, but can simulate by returning\n",
    "#tuples and assigning the results back to the original argument names in \n",
    "#caller\n",
    "\n",
    "#Though the code looks like returning values for x,l, its just returning a \n",
    "#tuple. After teh call returns you can use, tuple unpacking"
   ]
  },
  {
   "cell_type": "code",
   "execution_count": 10,
   "metadata": {
    "collapsed": true
   },
   "outputs": [],
   "source": [
    "#Special argument matching modes\n",
    "#1.Postional matched from left to right ; func(name)\n",
    "#2. Keywords: matched by argument name; func(name=value)\n",
    "#3, Defaults: Specify values for optional arguments that aren't passed\n",
    "    #func(*iterable)\n",
    "#4. Varargs collecting: collect arbitrarily many positional or keyword\n",
    "    #arguments; \n",
    "#4. Varargs unpacking: pass arbitrarily many positional or keyword args\n",
    "#5. Arguments passed by name"
   ]
  },
  {
   "cell_type": "code",
   "execution_count": 12,
   "metadata": {
    "collapsed": false
   },
   "outputs": [
    {
     "name": "stdout",
     "output_type": "stream",
     "text": [
      "1 2 3\n",
      "2 3 1\n"
     ]
    }
   ],
   "source": [
    "#Keyword and default examples\n",
    "def f(a,b,c):\n",
    "    print(a,b,c)\n",
    "f(1,2,3)\n",
    "f(c=1,b=3,a=2) #function call names match the names in func definition"
   ]
  },
  {
   "cell_type": "code",
   "execution_count": 18,
   "metadata": {
    "collapsed": false
   },
   "outputs": [
    {
     "name": "stdout",
     "output_type": "stream",
     "text": [
      "1 99 55\n",
      "1 3 55\n",
      "2 3 7\n",
      "1 99 4\n"
     ]
    }
   ],
   "source": [
    "#Defaults\n",
    "def f(a,b=99,c=55): #a is required, b and c are optional\n",
    "    print(a,b,c)\n",
    "\n",
    "f(1)\n",
    "f(1,3)\n",
    "f(2,3,7)\n",
    "f(1,c=4)\n"
   ]
  },
  {
   "cell_type": "code",
   "execution_count": 19,
   "metadata": {
    "collapsed": false
   },
   "outputs": [
    {
     "name": "stdout",
     "output_type": "stream",
     "text": [
      "()\n",
      "(1,)\n",
      "(2, 4, 6)\n",
      "(2, [1, 2])\n",
      "(2, (2, 2))\n",
      "(2, 'spam')\n"
     ]
    }
   ],
   "source": [
    "#Arbitrary arguments example:\n",
    "#the matching extensions * and ** are designed to support functions that\n",
    "#take any number of arguments\n",
    "\n",
    "def f(*args):\n",
    "    print(args)\n",
    "\n",
    "f()\n",
    "f(1)\n",
    "f(2,4,6)\n",
    "f(2,[1,2])\n",
    "f(2,(2,2))\n",
    "f(2,'spam')"
   ]
  },
  {
   "cell_type": "code",
   "execution_count": null,
   "metadata": {
    "collapsed": true
   },
   "outputs": [],
   "source": []
  }
 ],
 "metadata": {
  "kernelspec": {
   "display_name": "Python 3",
   "language": "python",
   "name": "python3"
  },
  "language_info": {
   "codemirror_mode": {
    "name": "ipython",
    "version": 3
   },
   "file_extension": ".py",
   "mimetype": "text/x-python",
   "name": "python",
   "nbconvert_exporter": "python",
   "pygments_lexer": "ipython3",
   "version": "3.5.1"
  }
 },
 "nbformat": 4,
 "nbformat_minor": 0
}

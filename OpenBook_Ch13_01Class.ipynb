{
 "cells": [
  {
   "cell_type": "code",
   "execution_count": 10,
   "metadata": {
    "collapsed": false
   },
   "outputs": [
    {
     "name": "stdout",
     "output_type": "stream",
     "text": [
      "0\n",
      "0\n",
      "\n",
      "1\n",
      "1\n",
      "\n",
      "3\n",
      "5\n",
      "5.830951894845301\n",
      "(3,5)\n",
      "\n"
     ]
    }
   ],
   "source": [
    "class Point:\n",
    "    #need initiation for the class; Initialization method is called when \n",
    "    #the class is created\n",
    "    \n",
    "    def __init__(self,x=0,y=0):\n",
    "        self.x=x\n",
    "        self.y=y\n",
    "    def distance_from_origin(self):\n",
    "        return(((self.x**2)+(self.y**2))**0.5)\n",
    "    \n",
    "    def print_point(p):\n",
    "        print('(%s,%s)' %(str(p.x),str(p.y)))\n",
    "    \n",
    "\n",
    "p = Point()\n",
    "print(p.x)\n",
    "print(p.y)\n",
    "print()\n",
    "\n",
    "q=Point(1,1)\n",
    "print(q.x)\n",
    "print(q.y)\n",
    "print()\n",
    "\n",
    "q=Point(3,5)\n",
    "print(q.x)\n",
    "print(q.y)\n",
    "print(q.distance_from_origin())\n",
    "q.print_point()\n",
    "print()\n",
    "\n"
   ]
  },
  {
   "cell_type": "code",
   "execution_count": 37,
   "metadata": {
    "collapsed": false
   },
   "outputs": [
    {
     "name": "stdout",
     "output_type": "stream",
     "text": [
      "1 59 2\n",
      "1 2 59\n",
      "(3:2:1)\n"
     ]
    }
   ],
   "source": [
    "class Time:\n",
    "    pass\n",
    "\n",
    "def add_time(t1,t2):\n",
    "    sum=Time()\n",
    "    minute_xtra=0\n",
    "    hour_xtra=0\n",
    "    \n",
    "    sum.seconds = t1.seconds + t2.seconds\n",
    "    \n",
    "    if(sum.seconds>60):\n",
    "        minute_xtra=1;\n",
    "        sum.seconds=sum.seconds-60   \n",
    "    sum.minutes = t1.minutes + t2.minutes + minute_xtra\n",
    "    \n",
    "    if(sum.minutes>60):\n",
    "        hour_xtra=1;\n",
    "        sum.minutes=sum.minutes-60\n",
    "    sum.hours = t1.hours + t2.hours + hour_xtra\n",
    "    return sum\n",
    "\n",
    "def print_time(t1):\n",
    "    pt=Time()\n",
    "    pt=t1\n",
    "    print('(%s:%s:%s)'%(pt.hours,pt.minutes,pt.seconds))\n",
    "    \n",
    "    \n",
    "a = Time()\n",
    "a.hours = 1\n",
    "a.minutes = 59\n",
    "a.seconds = 2\n",
    "print(a.hours,a.minutes, a.seconds)\n",
    "\n",
    "b = Time()\n",
    "b.hours = 1\n",
    "b.minutes = 2\n",
    "b.seconds = 59\n",
    "print(b.hours,b.minutes, b.seconds)\n",
    "\n",
    "\n",
    "done_time = add_time(a,b)\n",
    "print_time(done_time)\n",
    "\n"
   ]
  },
  {
   "cell_type": "code",
   "execution_count": 42,
   "metadata": {
    "collapsed": false
   },
   "outputs": [
    {
     "name": "stdout",
     "output_type": "stream",
     "text": [
      "1 59 2\n",
      "2 3 33\n",
      "(4:2:35)\n"
     ]
    }
   ],
   "source": [
    "class Time2:\n",
    "    def __init__(self, hours=0, minutes=0, seconds=0):\n",
    "        self.hours=hours\n",
    "        self.minutes=minutes\n",
    "        self.seconds=seconds\n",
    "    \n",
    "    \n",
    "    def add_time(self,t1):\n",
    "        sum=Time2()\n",
    "        minute_xtra=0\n",
    "        hour_xtra=0\n",
    "\n",
    "        sum.seconds = self.seconds + t1.seconds\n",
    "\n",
    "        if(sum.seconds>60):\n",
    "            minute_xtra=1;\n",
    "            sum.seconds=sum.seconds-60   \n",
    "        sum.minutes = self.minutes + t1.minutes + minute_xtra\n",
    "\n",
    "        if(sum.minutes>60):\n",
    "            hour_xtra=1;\n",
    "            sum.minutes=sum.minutes-60\n",
    "        sum.hours = self.hours + t1.hours + hour_xtra\n",
    "        return sum\n",
    "\n",
    "    def print_time(self):\n",
    "        pt=Time()\n",
    "        pt=self\n",
    "        print('(%s:%s:%s)'%(pt.hours,pt.minutes,pt.seconds))\n",
    "    \n",
    "a = Time2()\n",
    "a.hours = 1\n",
    "a.minutes = 59\n",
    "a.seconds = 2\n",
    "print(a.hours,a.minutes, a.seconds)\n",
    "\n",
    "\n",
    "b = Time()\n",
    "b.hours = 2\n",
    "b.minutes = 3\n",
    "b.seconds = 33\n",
    "print(b.hours,b.minutes, b.seconds)\n",
    "\n",
    "(a.add_time(b)).print_time()"
   ]
  },
  {
   "cell_type": "code",
   "execution_count": null,
   "metadata": {
    "collapsed": true
   },
   "outputs": [],
   "source": []
  }
 ],
 "metadata": {
  "kernelspec": {
   "display_name": "Python 3",
   "language": "python",
   "name": "python3"
  },
  "language_info": {
   "codemirror_mode": {
    "name": "ipython",
    "version": 3
   },
   "file_extension": ".py",
   "mimetype": "text/x-python",
   "name": "python",
   "nbconvert_exporter": "python",
   "pygments_lexer": "ipython3",
   "version": "3.5.1"
  }
 },
 "nbformat": 4,
 "nbformat_minor": 0
}

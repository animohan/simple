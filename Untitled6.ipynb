{
 "cells": [
  {
   "cell_type": "code",
   "execution_count": 2,
   "metadata": {
    "collapsed": false
   },
   "outputs": [
    {
     "name": "stdout",
     "output_type": "stream",
     "text": [
      "6\n",
      "[11, 22, 123, 1234000, 44444444, 9999]\n"
     ]
    }
   ],
   "source": [
    "def sumint(inp):\n",
    "    a = str(inp)\n",
    "    b = len(a)\n",
    "    sum = 0\n",
    "    num = inp\n",
    "    for i in range(0,b):\n",
    "        d = num%10\n",
    "        #print(d)\n",
    "        sum = sum + d\n",
    "        num = num//10\n",
    "        #print(num)\n",
    "    return(sum)\n",
    "    \n",
    "a = sumint(123)\n",
    "print(a)\n",
    "\n",
    "def order_weight(strng):\n",
    "    a = strng.split(\" \")\n",
    "    d = {}\n",
    "    for i in range(0,len(a)):\n",
    "        u = int(a[i])\n",
    "        #print(u)\n",
    "        #print(sumint(u))\n",
    "        d[sumint(u)] = u\n",
    "    #print(d)\n",
    "    k = list(d.keys())\n",
    "    k.sort()\n",
    "    out = []\n",
    "    for key in k:\n",
    "        out.append(d[key])\n",
    "        #print(key,d[key])\n",
    "    return(out)\n",
    "\n",
    "a= order_weight(\"2000 10003 1234000 44444444 9999 11 11 22 123\")\n",
    "print(list(a))"
   ]
  },
  {
   "cell_type": "code",
   "execution_count": 54,
   "metadata": {
    "collapsed": false
   },
   "outputs": [],
   "source": [
    "d = {}\n",
    "d[1] = 2"
   ]
  },
  {
   "cell_type": "code",
   "execution_count": 76,
   "metadata": {
    "collapsed": false
   },
   "outputs": [
    {
     "name": "stdout",
     "output_type": "stream",
     "text": [
      "1\n",
      "2\n",
      "3\n",
      "4\n"
     ]
    },
    {
     "data": {
      "text/plain": [
       "'2 2'"
      ]
     },
     "execution_count": 76,
     "metadata": {},
     "output_type": "execute_result"
    }
   ],
   "source": [
    "a = [1,2,3,4,5]\n",
    "a[2]\n",
    "\n",
    "for i in range(1,5):\n",
    "    print(i)\n",
    "123//10\n",
    "a =\"22\"\n",
    "\" \".join(a)"
   ]
  }
 ],
 "metadata": {
  "anaconda-cloud": {},
  "kernelspec": {
   "display_name": "Python [default]",
   "language": "python",
   "name": "python3"
  },
  "language_info": {
   "codemirror_mode": {
    "name": "ipython",
    "version": 3
   },
   "file_extension": ".py",
   "mimetype": "text/x-python",
   "name": "python",
   "nbconvert_exporter": "python",
   "pygments_lexer": "ipython3",
   "version": "3.5.2"
  }
 },
 "nbformat": 4,
 "nbformat_minor": 1
}

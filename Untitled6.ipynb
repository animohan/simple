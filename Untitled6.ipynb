{
 "cells": [
  {
   "cell_type": "code",
   "execution_count": 4,
   "metadata": {
    "collapsed": false
   },
   "outputs": [
    {
     "name": "stdout",
     "output_type": "stream",
     "text": [
      "<__main__.Employee object at 0x0000010C9C38B6D8>\n",
      "<__main__.Employee object at 0x0000010C9C4DE080>\n",
      "<__main__.Employee object at 0x0000010C9C38B6D8>\n",
      "<__main__.Employee object at 0x0000010C9C4DE080>\n",
      "An.Mo@company.com\n",
      "jn.nar@company.com\n"
     ]
    }
   ],
   "source": [
    "class Employee:\n",
    "    pass\n",
    "emp1 = Employee()\n",
    "emp2 = Employee()\n",
    "print(emp1)\n",
    "print(emp2)\n",
    "\n",
    "emp1.first = \"An\"\n",
    "emp1.last = \"Mo\"\n",
    "emp1.email = \"An.Mo@company.com\"\n",
    "emp1.pay = 70000\n",
    "\n",
    "emp2.first = \"jn\"\n",
    "emp2.last = \"nar\"\n",
    "emp2.email = \"jn.nar@company.com\"\n",
    "emp2.pay = 90000\n",
    "\n",
    "\n",
    "print(emp1)\n",
    "print(emp2)\n",
    "print(emp1.email)\n",
    "print(emp2.email)"
   ]
  },
  {
   "cell_type": "code",
   "execution_count": 5,
   "metadata": {
    "collapsed": false
   },
   "outputs": [
    {
     "name": "stdout",
     "output_type": "stream",
     "text": [
      "Rf, Vg\n",
      "Rf.Vg@company.com\n",
      "20000\n",
      "20800.0\n"
     ]
    }
   ],
   "source": [
    "class Employee:\n",
    "    def __init__(self,first,last,pay):\n",
    "        self.first = first\n",
    "        self.last = last\n",
    "        self.pay = pay\n",
    "        self.email = first + '.' + last + '@company.com'\n",
    "    \n",
    "    def fullname(self):\n",
    "        return('{}, {}'.format(self.first,self.last))\n",
    "\n",
    "    def applyraise(self):\n",
    "        self.pay = self.pay*(1+0.04)\n",
    "    \n",
    "emp1 = Employee(\"Rf\",\"Vg\", 20000)\n",
    "emp2 = Employee(\"Bm\",\"Ng\", 70000)\n",
    "\n",
    "print(emp1.fullname())\n",
    "print(emp1.email)\n",
    "print(emp1.pay)\n",
    "emp1.applyraise()\n",
    "print(emp1.pay)\n"
   ]
  },
  {
   "cell_type": "code",
   "execution_count": 14,
   "metadata": {
    "collapsed": false
   },
   "outputs": [
    {
     "name": "stdout",
     "output_type": "stream",
     "text": [
      "Rf, Vg\n",
      "Rf.Vg@company.com\n",
      "20000\n",
      "20000\n",
      "---------\n",
      "20000\n",
      "22000.0\n",
      "70000\n",
      "72800.0\n"
     ]
    }
   ],
   "source": [
    "class Employee:\n",
    "    \n",
    "    raise_amt = 0.05\n",
    "    \n",
    "    def __init__(self,first,last,pay):\n",
    "        self.first = first\n",
    "        self.last = last\n",
    "        self.pay = pay\n",
    "        self.email = first + '.' + last + '@company.com'\n",
    "    \n",
    "    def fullname(self):\n",
    "        return('{}, {}'.format(self.first,self.last))\n",
    "\n",
    "    def applyraise(self):\n",
    "        self.pay = self.pay*(1+self.raise_amt)\n",
    "    \n",
    "emp1 = Employee(\"Rf\",\"Vg\", 20000)\n",
    "emp2 = Employee(\"Bm\",\"Ng\", 70000)\n",
    "\n",
    "print(emp1.fullname())\n",
    "print(emp1.email)\n",
    "print(emp1.pay)\n",
    "#emp1.applyraise()\n",
    "print(emp1.pay)\n",
    "\n",
    "Employee.raise_amt = 0.04\n",
    "emp1.raise_amt = 0.1\n",
    "print('---------')\n",
    "print(emp1.pay)\n",
    "emp1.applyraise()\n",
    "print(emp1.pay)\n",
    "\n",
    "print(emp2.pay)\n",
    "emp2.applyraise()\n",
    "print(emp2.pay)\n"
   ]
  },
  {
   "cell_type": "code",
   "execution_count": 21,
   "metadata": {
    "collapsed": false
   },
   "outputs": [
    {
     "name": "stdout",
     "output_type": "stream",
     "text": [
      "0.05\n",
      "0.05\n",
      "0.05\n",
      "0.1\n",
      "0.25\n",
      "0.1\n",
      "John.Doe@company.com\n",
      "Jane.Doe@company.com\n"
     ]
    }
   ],
   "source": [
    "#Static Mehtods\n",
    "\n",
    "class Employee:\n",
    "    num_of_emps = 0\n",
    "    raise_amt = 0.05\n",
    "    \n",
    "    def __init__(self, first, last, pay):\n",
    "        self.first = first\n",
    "        self.last = last\n",
    "        self.pay = pay\n",
    "        self.email = first + \".\" + last + '@company.com'\n",
    "    \n",
    "    def fullname(self):\n",
    "        print('{},{}'.format(last, first))\n",
    "    \n",
    "    def apply_raise(self):\n",
    "        self.pay  = int(self.pay*(1+self. raise_amt))\n",
    " \n",
    "    @classmethod\n",
    "    def set_raise_amt(cls, amount):\n",
    "        cls.raise_amt = amount\n",
    "\n",
    "    @classmethod\n",
    "    def from_string(cls,emp_str):\n",
    "        first,last,pay = emp_str.split('-')\n",
    "        return (cls(first,last,pay))\n",
    "        \n",
    "        \n",
    "emp1 = Employee(\"An\",\"Mo\",30000)\n",
    "emp2 = Employee(\"Jay\",\"Nar\", 50000)\n",
    "\n",
    "print(Employee.raise_amt) \n",
    "print(emp1.raise_amt)\n",
    "print(emp2.raise_amt)\n",
    "\n",
    "Employee.set_raise_amt(0.1)\n",
    "\n",
    "emp1.raise_amt = 0.25\n",
    "print(Employee.raise_amt) \n",
    "print(emp1.raise_amt)\n",
    "print(emp2.raise_amt)\n",
    "\n",
    "\n",
    "emp_str_1 = \"John-Doe-75000\"\n",
    "emp_str_2 = \"Jane-Doe-90000\"\n",
    "\n",
    "new_emp1 = Employee.from_string(emp_str_1)\n",
    "new_emp2 = Employee.from_string(emp_str_2)\n",
    "\n",
    "print(new_emp1.email)\n",
    "print(new_emp2.email)\n",
    "\n"
   ]
  },
  {
   "cell_type": "code",
   "execution_count": 40,
   "metadata": {
    "collapsed": false
   },
   "outputs": [
    {
     "name": "stdout",
     "output_type": "stream",
     "text": [
      "An, Mo\n",
      "Jay, Nar\n",
      "An.Mo@company.com\n",
      "Jay.Nar@company.com\n"
     ]
    }
   ],
   "source": [
    "class Employee:\n",
    "    \n",
    "    raise_amt = 0.1\n",
    "    def __init__(self,first,last,pay):\n",
    "        self.first = first\n",
    "        self.last = last\n",
    "        self.pay = pay\n",
    "        self.email = first + '.' + last + \"@company.com\"\n",
    "    \n",
    "    def full_name(self):\n",
    "        print(\"{}, {}\".format(self.first, self.last))\n",
    "    \n",
    "    def apply_raise(self):\n",
    "        self.pay = self.pay * (1+ self.raise_amt)\n",
    "\n",
    "class Developer(Employee):\n",
    "    raise_amt = 0.3\n",
    "    \n",
    "    def __init__(self,first,last, pay, prog_lang):\n",
    "        super().__init__(first,last,pay)\n",
    "        self.prog_lang = prog_lang\n",
    "        \n",
    "\n",
    "dev1 = Developer(\"An\",\"Mo\", 5000, \"Python\")\n",
    "dev2 = Developer(\"Jay\",\"Nar\", 10000,\"Java\")\n",
    "\n",
    "dev1.full_name()\n",
    "dev2.full_name()\n",
    "\n",
    "print(dev1.email)\n",
    "print(dev2.email)\n",
    "\n",
    "    \n"
   ]
  },
  {
   "cell_type": "code",
   "execution_count": null,
   "metadata": {
    "collapsed": true
   },
   "outputs": [],
   "source": []
  }
 ],
 "metadata": {
  "anaconda-cloud": {},
  "kernelspec": {
   "display_name": "Python [default]",
   "language": "python",
   "name": "python3"
  },
  "language_info": {
   "codemirror_mode": {
    "name": "ipython",
    "version": 3
   },
   "file_extension": ".py",
   "mimetype": "text/x-python",
   "name": "python",
   "nbconvert_exporter": "python",
   "pygments_lexer": "ipython3",
   "version": "3.5.2"
  }
 },
 "nbformat": 4,
 "nbformat_minor": 1
}

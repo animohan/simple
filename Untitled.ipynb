{
 "cells": [
  {
   "cell_type": "code",
   "execution_count": 255,
   "metadata": {
    "collapsed": false
   },
   "outputs": [
    {
     "data": {
      "text/plain": [
       "[4, 5]"
      ]
     },
     "execution_count": 255,
     "metadata": {},
     "output_type": "execute_result"
    }
   ],
   "source": [
    "nums = [2,7,5,9,34,23,67,22]\n",
    "target = 57\n",
    "\n",
    "sub = []\n",
    "for i in nums:\n",
    "    sub.append(abs(i-target))\n",
    "\n",
    "sol = []\n",
    "found = 0\n",
    "\n",
    "for i in range(0,len(nums)-1):\n",
    "    for j in range(i+1, len(nums)-1):\n",
    "        if(nums[i]+nums[j]== target):\n",
    "            sol.append(i)\n",
    "            sol.append(j)\n",
    "            found = 1\n",
    "            break\n",
    "    if(found == 1):\n",
    "        break\n",
    "sol     "
   ]
  },
  {
   "cell_type": "code",
   "execution_count": 256,
   "metadata": {
    "collapsed": false
   },
   "outputs": [
    {
     "name": "stdout",
     "output_type": "stream",
     "text": [
      "2\n",
      "3\n",
      "4\n"
     ]
    },
    {
     "data": {
      "text/plain": [
       "[1]"
      ]
     },
     "execution_count": 256,
     "metadata": {},
     "output_type": "execute_result"
    }
   ],
   "source": [
    "nums = [2,3,4,5]\n",
    "len(nums)\n",
    "for i in range(0,len(nums)-1):\n",
    "    print(nums[i])\n",
    "u = []\n",
    "u.append(nums.index(3))\n",
    "u"
   ]
  },
  {
   "cell_type": "code",
   "execution_count": 263,
   "metadata": {
    "collapsed": false
   },
   "outputs": [
    {
     "name": "stdout",
     "output_type": "stream",
     "text": [
      "[]\n"
     ]
    }
   ],
   "source": [
    "class Solution(object):\n",
    "    def twoSum(self, nums, target):\n",
    "        \"\"\"\n",
    "        :type nums: List[int]\n",
    "        :type target: int\n",
    "        :rtype: List[int]\n",
    "        \"\"\"\n",
    "        sol = []\n",
    "        found = 0\n",
    "\n",
    "        for i in range(0,len(nums)-1):\n",
    "            for j in range(i+1, len(nums)-1):\n",
    "                if(nums[i]+nums[j]== target):\n",
    "                    sol.append(i)\n",
    "                    sol.append(j)\n",
    "                    found = 1\n",
    "                    print(i)\n",
    "                    break\n",
    "            if(found == 1):\n",
    "                break\n",
    "        return(sol)\n",
    "    \n",
    "C1 = Solution()\n",
    "u = C1.twoSum([2,3,4],6)\n",
    "print(u)"
   ]
  },
  {
   "cell_type": "code",
   "execution_count": 269,
   "metadata": {
    "collapsed": false
   },
   "outputs": [
    {
     "name": "stdout",
     "output_type": "stream",
     "text": [
      "0\n",
      "1\n",
      "6\n"
     ]
    },
    {
     "data": {
      "text/plain": [
       "[]"
      ]
     },
     "execution_count": 269,
     "metadata": {},
     "output_type": "execute_result"
    }
   ],
   "source": [
    "def twoSum(nums,target):\n",
    "    sol = []\n",
    "    found = 0\n",
    "    for i in range(0,len(nums)-1):\n",
    "        for j in range(i+1, len(nums)-1):\n",
    "            print(i)\n",
    "            print(j)\n",
    "            print(target)\n",
    "            if(nums[i]+nums[j]== target):\n",
    "                sol.append(i)\n",
    "                sol.append(j)\n",
    "                found = 1\n",
    "                print(i)\n",
    "                break\n",
    "        if(found == 1):\n",
    "            break\n",
    "    return(sol)\n",
    "\n",
    "u= twoSum([2,3,4],6)\n",
    "u"
   ]
  }
 ],
 "metadata": {
  "kernelspec": {
   "display_name": "Python 3",
   "language": "python",
   "name": "python3"
  },
  "language_info": {
   "codemirror_mode": {
    "name": "ipython",
    "version": 3
   },
   "file_extension": ".py",
   "mimetype": "text/x-python",
   "name": "python",
   "nbconvert_exporter": "python",
   "pygments_lexer": "ipython3",
   "version": "3.5.2"
  }
 },
 "nbformat": 4,
 "nbformat_minor": 0
}

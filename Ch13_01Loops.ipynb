{
 "cells": [
  {
   "cell_type": "code",
   "execution_count": 1,
   "metadata": {
    "collapsed": false
   },
   "outputs": [
    {
     "name": "stdout",
     "output_type": "stream",
     "text": [
      "spam pam am m "
     ]
    }
   ],
   "source": [
    "#while loops:\n",
    "x = \"spam\"\n",
    "while x:\n",
    "    print(x, end=' ') #end changes from \\n to  ' '\n",
    "    x=x[1:]\n"
   ]
  },
  {
   "cell_type": "code",
   "execution_count": 3,
   "metadata": {
    "collapsed": false
   },
   "outputs": [
    {
     "name": "stdout",
     "output_type": "stream",
     "text": [
      "0 1 2 3 4 5 6 7 8 9 "
     ]
    }
   ],
   "source": [
    "a=0;b=10\n",
    "while a < b:\n",
    "    print(a, end = ' ')\n",
    "    a += 1\n",
    "    "
   ]
  },
  {
   "cell_type": "code",
   "execution_count": 5,
   "metadata": {
    "collapsed": false
   },
   "outputs": [
    {
     "name": "stdout",
     "output_type": "stream",
     "text": [
      "1\n",
      "3\n",
      "5\n",
      "7\n",
      "9\n"
     ]
    }
   ],
   "source": [
    "# printing odd numbers\n",
    "#Continue statement\n",
    "a = 0 ; b = 10\n",
    "while a < b: \n",
    "    if(a%2)==0:\n",
    "        a+=1\n",
    "        continue\n",
    "    else:\n",
    "        print(a)\n",
    "        a+=1\n",
    "        "
   ]
  },
  {
   "cell_type": "code",
   "execution_count": 7,
   "metadata": {
    "collapsed": false
   },
   "outputs": [
    {
     "name": "stdout",
     "output_type": "stream",
     "text": [
      "1 2 3 5 8 13 21 34 55 89 144 "
     ]
    }
   ],
   "source": [
    "#print fibonacci series: (just my example)\n",
    "a=0;b=1;c=0\n",
    "while c<100:\n",
    "    c=a+b\n",
    "    print(c, end = \" \")\n",
    "    a=b\n",
    "    b=c"
   ]
  },
  {
   "cell_type": "code",
   "execution_count": 10,
   "metadata": {
    "collapsed": false
   },
   "outputs": [
    {
     "name": "stdout",
     "output_type": "stream",
     "text": [
      "1 2 3 5 8 13 21 34 55 89 "
     ]
    }
   ],
   "source": [
    "#break statement\n",
    "a=0; b = 1; c = 1;\n",
    "while c:\n",
    "    c = a + b;\n",
    "    if (c>100): break\n",
    "    print(c, end = \" \")\n",
    "    a = b\n",
    "    b = c\n",
    "\n"
   ]
  },
  {
   "cell_type": "code",
   "execution_count": 2,
   "metadata": {
    "collapsed": false
   },
   "outputs": [
    {
     "name": "stdout",
     "output_type": "stream",
     "text": [
      "199 is prime\n"
     ]
    }
   ],
   "source": [
    "#loop else\n",
    "#program for is the number prime\n",
    "\n",
    "y = 199\n",
    "x = 2\n",
    "while x < y:\n",
    "    if (y % x == 0): \n",
    "        print(y, \"is not prime\")\n",
    "        break\n",
    "    x +=1\n",
    "else:\n",
    "    print(y, \"is prime\")"
   ]
  },
  {
   "cell_type": "code",
   "execution_count": 20,
   "metadata": {
    "collapsed": false
   },
   "outputs": [
    {
     "name": "stdout",
     "output_type": "stream",
     "text": [
      "2 is prime\n"
     ]
    }
   ],
   "source": [
    "# Another way to test prime\n",
    "y=2\n",
    "x = y // 2\n",
    "while x>1:\n",
    "    if y % x==0:\n",
    "        print(y,\"is not prime\")\n",
    "        break\n",
    "    x -= 1\n",
    "else:\n",
    "    print(y, \"is prime\")\n",
    "\n",
    "#Rather than insert a flag to test if % condition has held true\n",
    "#the else statement is executed if the loop never hits the break statement"
   ]
  },
  {
   "cell_type": "code",
   "execution_count": 24,
   "metadata": {
    "collapsed": false
   },
   "outputs": [
    {
     "name": "stdout",
     "output_type": "stream",
     "text": [
      "10\n"
     ]
    }
   ],
   "source": [
    "# for loop in list\n",
    "sum=0\n",
    "for x in [1,2,3,4]:\n",
    "    sum=sum+x\n",
    "\n",
    "print(sum)"
   ]
  },
  {
   "cell_type": "code",
   "execution_count": 26,
   "metadata": {
    "collapsed": false
   },
   "outputs": [
    {
     "name": "stdout",
     "output_type": "stream",
     "text": [
      "24\n"
     ]
    }
   ],
   "source": [
    "prod = 1\n",
    "for item in [1,2,3,4]:\n",
    "    prod=prod*item\n",
    "print(prod)"
   ]
  },
  {
   "cell_type": "code",
   "execution_count": 28,
   "metadata": {
    "collapsed": false
   },
   "outputs": [
    {
     "name": "stdout",
     "output_type": "stream",
     "text": [
      "eggegg\n",
      "baconbacon\n",
      "flourflour\n",
      "l u m b e r j a c k and Iam alright "
     ]
    }
   ],
   "source": [
    "#Works for string list\n",
    "for item in [\"egg\",\"bacon\",\"flour\"]:\n",
    "    print(item*2)\n",
    "\n",
    "#can be used to iterate through strings:\n",
    "S=\"lumberjack\"\n",
    "T =(\"and\", \"Iam\",\"alright\")\n",
    "for x in S: print(x, end=\" \")\n",
    "for x in T: print(x, end=\" \")"
   ]
  },
  {
   "cell_type": "code",
   "execution_count": 30,
   "metadata": {
    "collapsed": false
   },
   "outputs": [
    {
     "name": "stdout",
     "output_type": "stream",
     "text": [
      "1 2\n",
      "3 4\n",
      "5 6\n"
     ]
    }
   ],
   "source": [
    "#iterating through tuples\n",
    "T=[(1,2),(3,4),(5,6)]\n",
    "for(a,b) in T:\n",
    "    print(a,b)\n",
    "\n",
    "#FIrst time through the loop is writing (a,b)=(1,2) and then (3,4) etc\n",
    "# Net effect is unpacking tuples"
   ]
  },
  {
   "cell_type": "code",
   "execution_count": 33,
   "metadata": {
    "collapsed": false
   },
   "outputs": [
    {
     "name": "stdout",
     "output_type": "stream",
     "text": [
      "c => 3\n",
      "a => 1\n",
      "b => 2\n"
     ]
    }
   ],
   "source": [
    "#iterating through dictionaries:\n",
    "D ={'a':1,'b':2,'c':3}\n",
    "for key in D:\n",
    "  print(key,'=>', D[key])\n",
    "\n",
    "#For loops can be used to iterate through keys and values in the \n",
    "#dicitionaries\n"
   ]
  },
  {
   "cell_type": "code",
   "execution_count": 36,
   "metadata": {
    "collapsed": false
   },
   "outputs": [
    {
     "name": "stdout",
     "output_type": "stream",
     "text": [
      "[('c', 3), ('a', 1), ('b', 2)]\n",
      "c => 3\n",
      "a => 1\n",
      "b => 2\n"
     ]
    }
   ],
   "source": [
    "print(list(D.items()))\n",
    "\n",
    "for (key, value) in D.items():\n",
    "    print(key,'=>',value)\n",
    "\n",
    "#Items methods is used to enumerate the elements (ie. key value pair)\n",
    "#in a dictionary\n"
   ]
  },
  {
   "cell_type": "code",
   "execution_count": 1,
   "metadata": {
    "collapsed": false
   },
   "outputs": [
    {
     "name": "stdout",
     "output_type": "stream",
     "text": [
      "1 2\n",
      "3 4\n",
      "5 6\n"
     ]
    }
   ],
   "source": [
    "T=[(1,2),(3,4),(5,6)]\n",
    "for u in T:\n",
    "    v,w=u\n",
    "    print(v,w)\n",
    "#Here note that the tuple assignment in for loop is not a special case; \n",
    "#any assigment target works syntactically and we can unpack it within the\n",
    "#loop. In this case, u iterates through the tuple, but unpacking into\n",
    "# the two elements happens inside loop"
   ]
  },
  {
   "cell_type": "code",
   "execution_count": 3,
   "metadata": {
    "collapsed": false
   },
   "outputs": [
    {
     "name": "stdout",
     "output_type": "stream",
     "text": [
      "1 2 3\n",
      "4 5 6\n",
      "7 8 9\n"
     ]
    }
   ],
   "source": [
    "#Nested sequences:\n",
    "for((a,b),c) in [((1,2),3),((4,5),6),((7,8),9)]:\n",
    "    print(a,b,c)\n",
    "\n"
   ]
  },
  {
   "cell_type": "code",
   "execution_count": 4,
   "metadata": {
    "collapsed": false
   },
   "outputs": [
    {
     "name": "stdout",
     "output_type": "stream",
     "text": [
      "((1, 2), 3)\n",
      "((4, 5), 6)\n",
      "((7, 8), 9)\n",
      "(1, 2) 3\n",
      "(4, 5) 6\n",
      "(7, 8) 9\n",
      "[1, 2] 3\n",
      "xy 6\n"
     ]
    }
   ],
   "source": [
    "#This is note special case for assignment.\n",
    "T=[((1,2),3),((4,5),6),((7,8),9)]\n",
    "for u in T:\n",
    "    a,b=u\n",
    "    print(u)\n",
    "\n",
    "\n",
    "for u in T:\n",
    "    a,b=u\n",
    "    print(a,b)\n",
    "\n",
    "\n",
    "S=[([1,2],3),['xy',6]]\n",
    "for u in S:\n",
    "    a,b = u\n",
    "    print(a,b)"
   ]
  },
  {
   "cell_type": "code",
   "execution_count": 47,
   "metadata": {
    "collapsed": false
   },
   "outputs": [
    {
     "name": "stdout",
     "output_type": "stream",
     "text": [
      "1 [2, 3] 4\n",
      "5 [6, 7] 8\n",
      "1 (2, 3) 4\n",
      "5 (6, 7) 8\n"
     ]
    }
   ],
   "source": [
    "#Loop variable for \"For loop\" can be any assignment target and hence we \n",
    "# can use this for extended sequence unpacking assignement.\n",
    "for(a,*b,c) in [(1,2,3,4),(5,6,7,8)]:\n",
    "    print(a,b,c)\n",
    "    \n",
    "#same result can be achived by slicing\n",
    "for all in [(1,2,3,4),(5,6,7,8)]:\n",
    "    a,b,c=all[0],all[1:3],all[3]\n",
    "    print(a,b,c)\n",
    "\n",
    "#only difference here is that slicing returns a type specific result\n",
    "#where as starred names give assigned lists."
   ]
  },
  {
   "cell_type": "code",
   "execution_count": 51,
   "metadata": {
    "collapsed": false
   },
   "outputs": [
    {
     "name": "stdout",
     "output_type": "stream",
     "text": [
      "(4, 5) Key found\n",
      "3.14 was not found\n"
     ]
    }
   ],
   "source": [
    "#Nested loops\n",
    "items=[\"aaa\",111,(4,5),2.01] #set of objects\n",
    "tests=[(4,5),3.14] #keys to search for\n",
    "\n",
    "for key in tests:\n",
    "    for item in items:\n",
    "        if item==key:\n",
    "            print(item, \"Key found\")\n",
    "            break;\n",
    "    else:\n",
    "        print(key, \"was not found\")"
   ]
  },
  {
   "cell_type": "code",
   "execution_count": 53,
   "metadata": {
    "collapsed": false
   },
   "outputs": [
    {
     "name": "stdout",
     "output_type": "stream",
     "text": [
      "(4, 5) found\n",
      "3.14 not found\n"
     ]
    }
   ],
   "source": [
    "for key in tests:\n",
    "    if key in items:\n",
    "        print(key, \"found\")\n",
    "    else: print(key,\"not found\")"
   ]
  },
  {
   "cell_type": "code",
   "execution_count": 55,
   "metadata": {
    "collapsed": false
   },
   "outputs": [
    {
     "name": "stdout",
     "output_type": "stream",
     "text": [
      "['s', 'a', 'm']\n"
     ]
    }
   ],
   "source": [
    "#find common characters in \n",
    "seq1=\"spam\"\n",
    "seq2=\"scam\"\n",
    "res=[]\n",
    "for x in seq1:\n",
    "    if x in seq2:\n",
    "        res.append(x)\n",
    "\n",
    "print(res)\n",
    "        "
   ]
  },
  {
   "cell_type": "code",
   "execution_count": 58,
   "metadata": {
    "collapsed": false
   },
   "outputs": [
    {
     "data": {
      "text/plain": [
       "['s', 'a', 'm']"
      ]
     },
     "execution_count": 58,
     "metadata": {},
     "output_type": "execute_result"
    }
   ],
   "source": [
    "#comprehension: pretty much same as above\n",
    "[x for x in seq1 if x in seq2]"
   ]
  }
 ],
 "metadata": {
  "kernelspec": {
   "display_name": "Python 3",
   "language": "python",
   "name": "python3"
  },
  "language_info": {
   "codemirror_mode": {
    "name": "ipython",
    "version": 3
   },
   "file_extension": ".py",
   "mimetype": "text/x-python",
   "name": "python",
   "nbconvert_exporter": "python",
   "pygments_lexer": "ipython3",
   "version": "3.5.2"
  }
 },
 "nbformat": 4,
 "nbformat_minor": 0
}

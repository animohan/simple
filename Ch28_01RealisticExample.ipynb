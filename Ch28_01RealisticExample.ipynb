{
 "cells": [
  {
   "cell_type": "code",
   "execution_count": 1,
   "metadata": {
    "collapsed": false
   },
   "outputs": [
    {
     "name": "stdout",
     "output_type": "stream",
     "text": [
      "Bob Smith 0\n",
      "Sue Jones 100000\n"
     ]
    }
   ],
   "source": [
    "class Person: #start the class\n",
    " def __init__ (self, name, job = None, pay = 0): #function argument\n",
    "    self.name = name\n",
    "    self.job = job\n",
    "    self.pay = pay\n",
    "\n",
    "bob = Person('Bob Smith')\n",
    "sue = Person('Sue Jones', job = 'dev', pay = 100000)\n",
    "print(bob.name,bob.pay)\n",
    "print(sue.name,sue.pay)"
   ]
  },
  {
   "cell_type": "code",
   "execution_count": 3,
   "metadata": {
    "collapsed": false
   },
   "outputs": [
    {
     "name": "stdout",
     "output_type": "stream",
     "text": [
      "Bob Smith 0\n",
      "Sue Jones 100000\n"
     ]
    }
   ],
   "source": [
    "class Person: #start the class\n",
    " def __init__ (self, name, job = None, pay = 0): #function argument\n",
    "    self.name = name\n",
    "    self.job = job\n",
    "    self.pay = pay\n",
    "\n",
    "if __name__ == '__main__':    #when run for testing only\n",
    "    bob = Person('Bob Smith')\n",
    "    sue = Person('Sue Jones', job = 'dev', pay = 100000)\n",
    "    print(bob.name,bob.pay)\n",
    "    print(sue.name,sue.pay)"
   ]
  },
  {
   "cell_type": "code",
   "execution_count": 6,
   "metadata": {
    "collapsed": false
   },
   "outputs": [
    {
     "name": "stdout",
     "output_type": "stream",
     "text": [
      "Bob Smith 0\n",
      "Sue Jones 100000\n",
      "Smith\n",
      "110000.000000\n"
     ]
    }
   ],
   "source": [
    "class Person: #start the class\n",
    " def __init__ (self, name, job = None, pay = 0): #function argument\n",
    "    self.name = name\n",
    "    self.job = job\n",
    "    self.pay = pay\n",
    "\n",
    "if __name__ == '__main__':    #when run for testing only\n",
    "    bob = Person('Bob Smith')\n",
    "    sue = Person('Sue Jones', job = 'dev', pay = 100000)\n",
    "    print(bob.name,bob.pay)\n",
    "    print(sue.name,sue.pay)\n",
    "    print(bob.name.split()[-1]) #Extract object's last name\n",
    "    sue.pay=sue.pay*1.1  #Give a raise to Sue\n",
    "    print('%2f' %sue.pay)"
   ]
  },
  {
   "cell_type": "code",
   "execution_count": 14,
   "metadata": {
    "collapsed": false
   },
   "outputs": [
    {
     "name": "stdout",
     "output_type": "stream",
     "text": [
      "Bob Smith 0\n",
      "Sue Jones 100000\n",
      "Smith\n",
      "None\n",
      "110000.000000\n"
     ]
    }
   ],
   "source": [
    "class Person: #start the class\n",
    "    def __init__ (self, name, job = None, pay = 0): #function argument\n",
    "        self.name = name\n",
    "        self.job = job\n",
    "        self.pay = pay\n",
    "\n",
    "    def lastName(self):\n",
    "        return self.name.split()[-1]\n",
    "    \n",
    "    def giveRaise(self, percent):\n",
    "        self.pay= self.pay*(1+percent/100)\n",
    "\n",
    "if __name__ == '__main__':    #when run for testing only\n",
    "    bob = Person('Bob Smith')\n",
    "    sue = Person('Sue Jones', job = 'dev', pay = 100000)\n",
    "    print(bob.name,bob.pay)\n",
    "    print(sue.name,sue.pay)\n",
    "    print(bob.lastName()) #Extract object's last name\n",
    "    print(sue.giveRaise(10))  #Give a raise to Sue\n",
    "    print('%2f' %sue.pay)"
   ]
  },
  {
   "cell_type": "code",
   "execution_count": 15,
   "metadata": {
    "collapsed": false
   },
   "outputs": [
    {
     "name": "stdout",
     "output_type": "stream",
     "text": [
      "Bob Smith 0\n",
      "Sue Jones 100000\n",
      "Smith\n",
      "None\n",
      "110000.000000\n",
      "[Person: Sue Jones, 110000.00000000001]\n"
     ]
    }
   ],
   "source": [
    "class Person: #start the class\n",
    "    def __init__ (self, name, job = None, pay = 0): #function argument\n",
    "        self.name = name\n",
    "        self.job = job\n",
    "        self.pay = pay\n",
    "\n",
    "    def lastName(self):\n",
    "        return self.name.split()[-1]\n",
    "    \n",
    "    def giveRaise(self, percent):\n",
    "        self.pay= self.pay*(1+percent/100)\n",
    "        \n",
    "    def __repr__(self):\n",
    "        return('[Person: %s, %s]' %(self.name,self.pay)) #String to print\n",
    "\n",
    "if __name__ == '__main__':    #when run for testing only\n",
    "    bob = Person('Bob Smith')\n",
    "    sue = Person('Sue Jones', job = 'dev', pay = 100000)\n",
    "    print(bob.name,bob.pay)\n",
    "    print(sue.name,sue.pay)\n",
    "    print(bob.lastName()) #Extract object's last name\n",
    "    print(sue.giveRaise(10))  #Give a raise to Sue\n",
    "    print('%2f' %sue.pay)\n",
    "    print(sue)"
   ]
  },
  {
   "cell_type": "code",
   "execution_count": 16,
   "metadata": {
    "collapsed": true
   },
   "outputs": [],
   "source": [
    "#Coding subclasses\n",
    "\n",
    "class Manager(Person):\n",
    "    def giveRaise(self, percent, bonus=0.1):\n",
    "        self.pay=self.pay(1+bonus+percent/100)\n",
    "\n",
    "#Copies code of the actual percent; change in calculating bonue will need\n",
    "# to be done in two places"
   ]
  },
  {
   "cell_type": "code",
   "execution_count": 17,
   "metadata": {
    "collapsed": false
   },
   "outputs": [
    {
     "data": {
      "text/plain": [
       "1002.0"
      ]
     },
     "execution_count": 17,
     "metadata": {},
     "output_type": "execute_result"
    }
   ],
   "source": [
    "class Manager2(Person):\n",
    "    def giveRaise(self, percent, bonus=0.1):\n",
    "        giveRaise(self,percent+bonus)\n",
    "\n",
    "#Copies code of the actual percent; change in calculating bonue will need\n",
    "# to be done in two places\n",
    "class Manager3(Person):\n",
    "    def giveRaise(self, percent, bonus=0.1):\n",
    "        Person.giveRaise(self,percent+bonus) #A classes method can always\n",
    "                                # be called through instance or through\n",
    "                                # the class where instance has to be passed\n",
    "                                # manually\n",
    "#instance.method(args..) translates to class.method(instance, args,..)\n",
    "#However, in this case, forced to use the class method because the instance\n",
    "# method will call itself recursively\n",
    "\n",
    "#A good way is to call back the original version with augmented arguments\n",
    "\n",
    "tom = Manager2(\"Tom Douglas\",[\"chef\",\"cook\"], 2000)\n",
    "tom2 = Manager3(\"Tom Douglas II\",[\"delivery\",\"sous cook\"], 1000)\n",
    "\n",
    "#tom.giveRaise(0.1)  #Manager2 doesnt work, probably because\n",
    "                     # we are recursively calling same method\n",
    "#tom.pay          \n",
    "tom2.giveRaise(0.1)\n",
    "tom2.pay"
   ]
  },
  {
   "cell_type": "code",
   "execution_count": 18,
   "metadata": {
    "collapsed": false
   },
   "outputs": [
    {
     "name": "stdout",
     "output_type": "stream",
     "text": [
      "[Person: Sue Jones 100000]\n",
      "[Person: Tom Douglas 2400.0]\n",
      "Douglas\n",
      "2400.0\n"
     ]
    }
   ],
   "source": [
    "class Person:\n",
    "    def __init__(self, name, job = None, pay = 0):\n",
    "        self.name = name\n",
    "        self.job = job\n",
    "        self.pay = pay\n",
    "    def lastName(self):\n",
    "        return(self.name.split()[-1])\n",
    "    \n",
    "    def giveRaise(self,percent):\n",
    "        self.pay = self.pay*(1+percent/100)\n",
    "        \n",
    "    def __repr__(self):\n",
    "        return('[Person: %s %s]' %(self.name, self.pay))\n",
    "\n",
    "class Manager(Person):\n",
    "    def giveRaise(self, percent, bonus=0.1):\n",
    "       #self.pay=self.pay*(1+bonus+percent/100)\n",
    "        Person.giveRaise(self,(bonus + percent/100)*100) \n",
    "        \n",
    "if __name__ == '__main__':\n",
    "    bob = Person(\"Bob Smith\")\n",
    "    sue = Person(\"Sue Jones\",job = [\"dev\",\"cto\"], pay = 100000)\n",
    "    print(sue)\n",
    "    tom = Manager(\"Tom Douglas\",[\"chef\",\"cook\"], 2000)  #Make a manager\n",
    "                                                        # __init__\n",
    "    tom.giveRaise(10)  #Runs custom version of giveRaise\n",
    "    print(tom)         #Runs class version of __repr__\n",
    "    print(tom.lastName()) #Runs class version of lastName()\n",
    "    print(tom.pay)"
   ]
  },
  {
   "cell_type": "code",
   "execution_count": 19,
   "metadata": {
    "collapsed": false
   },
   "outputs": [
    {
     "name": "stdout",
     "output_type": "stream",
     "text": [
      "[Person: Bob Smith 0.0]\n",
      "[Person: Sue Jones 110000.00000000001]\n",
      "[Person: Tom Douglas 2400.0]\n"
     ]
    }
   ],
   "source": [
    "#PolyMorphism\n",
    "class Person:\n",
    "    def __init__(self, name, job = None, pay = 0):\n",
    "        self.name = name\n",
    "        self.job = job\n",
    "        self.pay = pay\n",
    "    def lastName(self):\n",
    "        return(self.name.split()[-1])\n",
    "    \n",
    "    def giveRaise(self,percent):\n",
    "        self.pay = self.pay*(1+percent/100)\n",
    "        \n",
    "    def __repr__(self):\n",
    "        return('[Person: %s %s]' %(self.name, self.pay))\n",
    "\n",
    "class Manager(Person):\n",
    "    def giveRaise(self, percent, bonus=0.1):\n",
    "       #self.pay=self.pay*(1+bonus+percent/100)\n",
    "        Person.giveRaise(self,(bonus+percent/100)*100) \n",
    "        \n",
    "if __name__ == '__main__':\n",
    "    bob = Person(\"Bob Smith\")\n",
    "    sue = Person(\"Sue Jones\",job = [\"dev\",\"cto\"], pay = 100000)\n",
    "    tom = Manager(\"Tom Douglas\",[\"chef\",\"cook\"], 2000)\n",
    "    \n",
    "    for obj in (bob,sue,tom):\n",
    "        obj.giveRaise(10)\n",
    "        print(obj)\n",
    "\n",
    "#Example of polymorphism as bob,sue are different from tom, but same method\n",
    "# can be called. The calling of the methods depends on the context, \n",
    "# in this case a person or manager"
   ]
  },
  {
   "cell_type": "code",
   "execution_count": 20,
   "metadata": {
    "collapsed": false
   },
   "outputs": [
    {
     "name": "stdout",
     "output_type": "stream",
     "text": [
      "[Person: Bob Smith 0.0]\n",
      "[Person: Sue Jones 110000.00000000001]\n",
      "[Person: Tom Douglas 2400.0]\n"
     ]
    }
   ],
   "source": [
    "#Manager is a job title; Can calling the init in manager set the title\n",
    "class Person:\n",
    "    def __init__(self, name, job = None, pay = 0):\n",
    "        self.name = name\n",
    "        self.job = job\n",
    "        self.pay = pay\n",
    "    def lastName(self):\n",
    "        return(self.name.split()[-1])\n",
    "    \n",
    "    def giveRaise(self,percent):\n",
    "        self.pay = self.pay*(1+percent/100)\n",
    "        \n",
    "    def __repr__(self):\n",
    "        return('[Person: %s %s]' %(self.name, self.pay))\n",
    "\n",
    "class Manager(Person):\n",
    "    def __init__(self,name,pay):\n",
    "        Person.__init__(self,name,[\"mgr\"],pay) #Redfine the orig constructor\n",
    "    def giveRaise(self, percent, bonus=0.1): #use 'mgr' in constructor of job\n",
    "        Person.giveRaise(self,(bonus+percent/100)*100) \n",
    "        \n",
    "if __name__ == '__main__':\n",
    "    bob = Person(\"Bob Smith\")\n",
    "    sue = Person(\"Sue Jones\",job = [\"dev\",\"cto\"], pay = 100000)\n",
    "    tom = Manager(\"Tom Douglas\",pay=2000)\n",
    "    \n",
    "    for obj in (bob,sue,tom):\n",
    "        obj.giveRaise(10)\n",
    "        print(obj)"
   ]
  },
  {
   "cell_type": "code",
   "execution_count": null,
   "metadata": {
    "collapsed": true
   },
   "outputs": [],
   "source": []
  }
 ],
 "metadata": {
  "kernelspec": {
   "display_name": "Python 3",
   "language": "python",
   "name": "python3"
  },
  "language_info": {
   "codemirror_mode": {
    "name": "ipython",
    "version": 3
   },
   "file_extension": ".py",
   "mimetype": "text/x-python",
   "name": "python",
   "nbconvert_exporter": "python",
   "pygments_lexer": "ipython3",
   "version": "3.5.1"
  }
 },
 "nbformat": 4,
 "nbformat_minor": 0
}

{
 "cells": [
  {
   "cell_type": "code",
   "execution_count": 6,
   "metadata": {
    "collapsed": false
   },
   "outputs": [
    {
     "name": "stdout",
     "output_type": "stream",
     "text": [
      "1 4 9 16 \n",
      "1 8 27 64 \n",
      "ss pp aa mm "
     ]
    }
   ],
   "source": [
    "#simple iteration\n",
    "for x in [1,2,3,4]: print(x**2, end=' ') #list\n",
    "print('')\n",
    "for x in (1,2,3,4): print(x**3, end=' ')#tuple\n",
    "print('')\n",
    "for x in 'spam': print(x*2,end=' ')#string"
   ]
  },
  {
   "cell_type": "code",
   "execution_count": null,
   "metadata": {
    "collapsed": true
   },
   "outputs": [],
   "source": [
    "#for loop is more generic and works on *any* iterable object. This is also\n",
    "# true for all iteration tools that scan objects left to right including\n",
    "# for loops and list comprehensions.\n",
    "\n",
    "#It is a genralization of the notion of sequences- and object is considered\n",
    "#iterable if it either is a physically stored sequence or an object\n",
    "#that produces one result at a  time in the context of an iteration tool like\n",
    "# for loop"
   ]
  },
  {
   "cell_type": "code",
   "execution_count": 11,
   "metadata": {
    "collapsed": false
   },
   "outputs": [
    {
     "name": "stdout",
     "output_type": "stream",
     "text": [
      "# First python script\n",
      "import sys\n",
      "print(sys.platform)\n",
      "print(2**100)\n",
      "x='Spam'\n",
      "print(x*8)\n",
      "['', '/home/animo/anaconda3/lib/python35.zip', '/home/animo/anaconda3/lib/python3.5', '/home/animo/anaconda3/lib/python3.5/plat-linux', '/home/animo/anaconda3/lib/python3.5/lib-dynload', '/home/animo/anaconda3/lib/python3.5/site-packages/Sphinx-1.3.5-py3.5.egg', '/home/animo/anaconda3/lib/python3.5/site-packages/setuptools-20.3-py3.5.egg', '/home/animo/anaconda3/lib/python3.5/site-packages', '/home/animo/anaconda3/lib/python3.5/site-packages/IPython/extensions', '/home/animo/.ipython']\n",
      "1024\n"
     ]
    }
   ],
   "source": [
    "#Iteration protocol: File Iterators\n",
    "print(open('Script1.py').read())\n",
    "import sys\n",
    "print(sys.path)\n",
    "x=2\n",
    "print(x**10)"
   ]
  },
  {
   "cell_type": "code",
   "execution_count": 13,
   "metadata": {
    "collapsed": false
   },
   "outputs": [
    {
     "data": {
      "text/plain": [
       "'# First python script\\n'"
      ]
     },
     "execution_count": 13,
     "metadata": {},
     "output_type": "execute_result"
    }
   ],
   "source": [
    "#File objects have a method called readline, which reads oneline of text \n",
    "# from a file at a time- each time we call the readline method, we advance\n",
    "# to the next line. At the end of the file, an empty string is returned, \n",
    "#which we can detect to break out of the loop\n",
    "f=open('Script1.py')\n",
    "f.readline()\n",
    "f.readline()\n"
   ]
  },
  {
   "cell_type": "code",
   "execution_count": 15,
   "metadata": {
    "collapsed": false
   },
   "outputs": [
    {
     "data": {
      "text/plain": [
       "'print(x*8)'"
      ]
     },
     "execution_count": 15,
     "metadata": {},
     "output_type": "execute_result"
    }
   ],
   "source": [
    "#Files also have method __next__ that has a identifical effect ie. returns\n",
    "# the next line from a file each time it is called. Differece is \n",
    "#__next__ raises a built in StopIteration exception at end of file instead\n",
    "# of running empty string\n",
    "\n",
    "\n",
    "f = open('Script1.py')\n",
    "f.__next__()\n",
    "f.__next__()\n",
    "f.__next__()\n",
    "f.__next__()\n",
    "f.__next__()\n",
    "f.__next__()"
   ]
  },
  {
   "cell_type": "code",
   "execution_count": 17,
   "metadata": {
    "collapsed": false
   },
   "outputs": [
    {
     "name": "stdout",
     "output_type": "stream",
     "text": [
      "# FIRST PYTHON SCRIPT\n",
      "\n",
      "IMPORT SYS\n",
      "\n",
      "PRINT(SYS.PLATFORM)\n",
      "\n",
      "PRINT(2**100)\n",
      "\n",
      "X='SPAM'\n",
      "\n",
      "PRINT(X*8)\n"
     ]
    }
   ],
   "source": [
    "#This interface == iteration protocaol. Any object with a __next__ method\n",
    "#raises StopIteratio at end of series of results == iterator.\n",
    "#such objects can be stepped through with a for loop\n",
    "\n",
    "for line in open('Script1.py'):\n",
    "    print(line.upper())"
   ]
  },
  {
   "cell_type": "code",
   "execution_count": 18,
   "metadata": {
    "collapsed": false
   },
   "outputs": [
    {
     "data": {
      "text/plain": [
       "'# First python script\\n'"
      ]
     },
     "execution_count": 18,
     "metadata": {},
     "output_type": "execute_result"
    }
   ],
   "source": [
    "#There is a also a built in function Next\n",
    "f =open('Script1.py')\n",
    "f.__next__()"
   ]
  },
  {
   "cell_type": "code",
   "execution_count": 19,
   "metadata": {
    "collapsed": true
   },
   "outputs": [],
   "source": [
    "#Iteration is based on two objects, used in two distinc steops by iteration\n",
    "# toools\n",
    "#Iterable object your request iteration for, whose __iter__ function is run\n",
    "# by iter\n",
    "#The iterator object returned by the iterable that actually produces values\n",
    "#during the iteration , whose __next__ function is run by next and raises\n",
    "#StopIteration when finished."
   ]
  },
  {
   "cell_type": "code",
   "execution_count": 23,
   "metadata": {
    "collapsed": false
   },
   "outputs": [
    {
     "name": "stdout",
     "output_type": "stream",
     "text": [
      "1\n",
      "2\n",
      "3\n"
     ]
    },
    {
     "ename": "StopIteration",
     "evalue": "",
     "output_type": "error",
     "traceback": [
      "\u001b[1;31m---------------------------------------------------------------------------\u001b[0m",
      "\u001b[1;31mStopIteration\u001b[0m                             Traceback (most recent call last)",
      "\u001b[1;32m<ipython-input-23-e2e77897d959>\u001b[0m in \u001b[0;36m<module>\u001b[1;34m()\u001b[0m\n\u001b[0;32m      4\u001b[0m \u001b[0mprint\u001b[0m\u001b[1;33m(\u001b[0m\u001b[0mI\u001b[0m\u001b[1;33m.\u001b[0m\u001b[0m__next__\u001b[0m\u001b[1;33m(\u001b[0m\u001b[1;33m)\u001b[0m\u001b[1;33m)\u001b[0m\u001b[1;33m\u001b[0m\u001b[0m\n\u001b[0;32m      5\u001b[0m \u001b[0mprint\u001b[0m\u001b[1;33m(\u001b[0m\u001b[0mI\u001b[0m\u001b[1;33m.\u001b[0m\u001b[0m__next__\u001b[0m\u001b[1;33m(\u001b[0m\u001b[1;33m)\u001b[0m\u001b[1;33m)\u001b[0m\u001b[1;33m\u001b[0m\u001b[0m\n\u001b[1;32m----> 6\u001b[1;33m \u001b[0mI\u001b[0m\u001b[1;33m.\u001b[0m\u001b[0m__next__\u001b[0m\u001b[1;33m(\u001b[0m\u001b[1;33m)\u001b[0m\u001b[1;33m\u001b[0m\u001b[0m\n\u001b[0m",
      "\u001b[1;31mStopIteration\u001b[0m: "
     ]
    }
   ],
   "source": [
    "L = [1,2,3]\n",
    "I = iter(L)\n",
    "print(I.__next__())\n",
    "print(I.__next__())\n",
    "print(I.__next__())\n",
    "I.__next__()"
   ]
  },
  {
   "cell_type": "code",
   "execution_count": 26,
   "metadata": {
    "collapsed": false
   },
   "outputs": [
    {
     "data": {
      "text/plain": [
       "'# First python script\\n'"
      ]
     },
     "execution_count": 26,
     "metadata": {},
     "output_type": "execute_result"
    }
   ],
   "source": [
    "#The initial step is not required for file objects as it is its own \n",
    "#iterator. Because they support just one iteration i.e they cannot seek\n",
    "#backward to support multiple active scan), files have their own __next__\n",
    "#method\n",
    "f= open('Script1.py')\n",
    "iter(f) is f\n",
    "iter(f) is f.__iter__()\n",
    "f.__next__()"
   ]
  },
  {
   "cell_type": "code",
   "execution_count": 31,
   "metadata": {
    "collapsed": false
   },
   "outputs": [
    {
     "name": "stdout",
     "output_type": "stream",
     "text": [
      "False\n",
      "1\n"
     ]
    },
    {
     "data": {
      "text/plain": [
       "2"
      ]
     },
     "execution_count": 31,
     "metadata": {},
     "output_type": "execute_result"
    }
   ],
   "source": [
    "#lists and many other built in objects, though are not their own iterators\n",
    "# because they do support open iteration- for e.g there may be multiple\n",
    "# iterations in nested loops all at differnt positions. For such objects\n",
    "# we must call iter to start iterating\n",
    "L=[1,2,3,4]\n",
    "print(iter(L) is L)\n",
    "#L.__next__() #Throws error\n",
    "I = iter(L)\n",
    "print(I.__next__())\n",
    "I.__next__()"
   ]
  },
  {
   "cell_type": "code",
   "execution_count": 36,
   "metadata": {
    "collapsed": false
   },
   "outputs": [
    {
     "name": "stdout",
     "output_type": "stream",
     "text": [
      "1 4 9 \n",
      "1 4 9 "
     ]
    }
   ],
   "source": [
    "#Iteration protocol can be used manually\n",
    "L=[1,2,3]\n",
    "for X in L: print(X**2, end= ' ')\n",
    "print()\n",
    "    \n",
    "I =iter(L)\n",
    "while True:\n",
    "    try:\n",
    "        x=next(I)\n",
    "    except StopIteration:\n",
    "        break\n",
    "    print(x**2, end=' ')"
   ]
  },
  {
   "cell_type": "code",
   "execution_count": 38,
   "metadata": {
    "collapsed": false
   },
   "outputs": [
    {
     "name": "stdout",
     "output_type": "stream",
     "text": [
      "a 1\n",
      "c 3\n",
      "b 2\n",
      "a\n",
      "c\n",
      "b\n"
     ]
    },
    {
     "ename": "StopIteration",
     "evalue": "",
     "output_type": "error",
     "traceback": [
      "\u001b[1;31m---------------------------------------------------------------------------\u001b[0m",
      "\u001b[1;31mStopIteration\u001b[0m                             Traceback (most recent call last)",
      "\u001b[1;32m<ipython-input-38-f626e48eafe4>\u001b[0m in \u001b[0;36m<module>\u001b[1;34m()\u001b[0m\n\u001b[0;32m      9\u001b[0m \u001b[0mprint\u001b[0m\u001b[1;33m(\u001b[0m\u001b[0mnext\u001b[0m\u001b[1;33m(\u001b[0m\u001b[0mI\u001b[0m\u001b[1;33m)\u001b[0m\u001b[1;33m)\u001b[0m\u001b[1;33m\u001b[0m\u001b[0m\n\u001b[0;32m     10\u001b[0m \u001b[0mprint\u001b[0m\u001b[1;33m(\u001b[0m\u001b[0mnext\u001b[0m\u001b[1;33m(\u001b[0m\u001b[0mI\u001b[0m\u001b[1;33m)\u001b[0m\u001b[1;33m)\u001b[0m\u001b[1;33m\u001b[0m\u001b[0m\n\u001b[1;32m---> 11\u001b[1;33m \u001b[0mprint\u001b[0m\u001b[1;33m(\u001b[0m\u001b[0mnext\u001b[0m\u001b[1;33m(\u001b[0m\u001b[0mI\u001b[0m\u001b[1;33m)\u001b[0m\u001b[1;33m)\u001b[0m\u001b[1;33m\u001b[0m\u001b[0m\n\u001b[0m",
      "\u001b[1;31mStopIteration\u001b[0m: "
     ]
    }
   ],
   "source": [
    "#Other built-in type iterables:\n",
    "#Besides files and physical sequences like lists; dictionaries have iters\n",
    "D ={'a':1,'b':2, 'c':3}\n",
    "for key in D.keys():\n",
    "    print(key, D[key])\n",
    "\n",
    "I = iter(D)\n",
    "print(next(I))\n",
    "print(next(I))\n",
    "print(next(I))\n",
    "print(next(I))\n",
    "#Net effect is that : key is not needed to step through dictionary."
   ]
  },
  {
   "cell_type": "code",
   "execution_count": 39,
   "metadata": {
    "collapsed": false
   },
   "outputs": [
    {
     "data": {
      "text/plain": [
       "'Ch04_01DataTypes.py\\t    Ch08_04MoreDict.py\\n'"
      ]
     },
     "execution_count": 39,
     "metadata": {},
     "output_type": "execute_result"
    }
   ],
   "source": [
    "#other python object types also support iteration protocol\n",
    "\n",
    "import os\n",
    "P = os.popen('dir')\n",
    "P.__next__()\n",
    "#notice that popen objects themselves support P.next()"
   ]
  },
  {
   "cell_type": "code",
   "execution_count": 41,
   "metadata": {
    "collapsed": false
   },
   "outputs": [
    {
     "name": "stdout",
     "output_type": "stream",
     "text": [
      "range(0, 5)\n",
      "0\n",
      "1\n",
      "2\n"
     ]
    }
   ],
   "source": [
    "#Iteration protocol was one of the reason because of which in previous\n",
    "# chapter we had to wrap results in a list call to see their values\n",
    "\n",
    "R= range(5) \n",
    "print(R) #Does not give access to individual values directly\n",
    "I=iter(R)\n",
    "print(next(I))\n",
    "print(next(I))\n",
    "print(next(I))\n",
    "#list call is not needed in contexts where iteration happens automatically\n",
    "#e.g within the for loops"
   ]
  },
  {
   "cell_type": "code",
   "execution_count": 46,
   "metadata": {
    "collapsed": false
   },
   "outputs": [
    {
     "name": "stdout",
     "output_type": "stream",
     "text": [
      "<enumerate object at 0x7f48501bb8b8>\n",
      "(0, 's')\n",
      "(1, 'p')\n",
      "(2, 'a')\n",
      "(3, 'm')\n"
     ]
    },
    {
     "ename": "StopIteration",
     "evalue": "",
     "output_type": "error",
     "traceback": [
      "\u001b[1;31m---------------------------------------------------------------------------\u001b[0m",
      "\u001b[1;31mStopIteration\u001b[0m                             Traceback (most recent call last)",
      "\u001b[1;32m<ipython-input-46-73bf522171c4>\u001b[0m in \u001b[0;36m<module>\u001b[1;34m()\u001b[0m\n\u001b[0;32m      7\u001b[0m \u001b[0mprint\u001b[0m\u001b[1;33m(\u001b[0m\u001b[0mnext\u001b[0m\u001b[1;33m(\u001b[0m\u001b[0mI\u001b[0m\u001b[1;33m)\u001b[0m\u001b[1;33m)\u001b[0m\u001b[1;33m\u001b[0m\u001b[0m\n\u001b[0;32m      8\u001b[0m \u001b[0mprint\u001b[0m\u001b[1;33m(\u001b[0m\u001b[0mnext\u001b[0m\u001b[1;33m(\u001b[0m\u001b[0mI\u001b[0m\u001b[1;33m)\u001b[0m\u001b[1;33m)\u001b[0m\u001b[1;33m\u001b[0m\u001b[0m\n\u001b[1;32m----> 9\u001b[1;33m \u001b[0mprint\u001b[0m\u001b[1;33m(\u001b[0m\u001b[0mnext\u001b[0m\u001b[1;33m(\u001b[0m\u001b[0mI\u001b[0m\u001b[1;33m)\u001b[0m\u001b[1;33m)\u001b[0m\u001b[1;33m\u001b[0m\u001b[0m\n\u001b[0m",
      "\u001b[1;31mStopIteration\u001b[0m: "
     ]
    }
   ],
   "source": [
    "#now with this better understading of protocol, let see enumerate tool\n",
    "E= enumerate('spam')\n",
    "print(E)\n",
    "I= iter(E)\n",
    "print(next(I))\n",
    "print(next(I))\n",
    "print(next(I))\n",
    "print(next(I))\n",
    "print(next(I))"
   ]
  },
  {
   "cell_type": "code",
   "execution_count": null,
   "metadata": {
    "collapsed": true
   },
   "outputs": [],
   "source": []
  }
 ],
 "metadata": {
  "kernelspec": {
   "display_name": "Python 3",
   "language": "python",
   "name": "python3"
  },
  "language_info": {
   "codemirror_mode": {
    "name": "ipython",
    "version": 3
   },
   "file_extension": ".py",
   "mimetype": "text/x-python",
   "name": "python",
   "nbconvert_exporter": "python",
   "pygments_lexer": "ipython3",
   "version": "3.5.1"
  }
 },
 "nbformat": 4,
 "nbformat_minor": 0
}

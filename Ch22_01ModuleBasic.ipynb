{
 "cells": [
  {
   "cell_type": "markdown",
   "metadata": {},
   "source": [
    "Module:\n",
    "- Primary way of organizing components of a system.\n",
    "- Contains code and data,\n",
    "-  Has its own namespace; ensures that variable name will not clash across programs.\n",
    "- Each python file is a module\n",
    "- Modules can import other modules\n",
    "- names defined at top level of a module are attributes of the module\n",
    "- Using import, we can bring the module into global scope\n",
    "\n",
    "- Functions for modules:\n",
    "    - code reuse: modules can be loaded an rerun\n",
    "    - Namespace: provides specialized namespaces\n",
    "    - single copy of reqired components can be shared"
   ]
  },
  {
   "cell_type": "markdown",
   "metadata": {},
   "source": [
    "Structuring a Program\n",
    "- Base: Python program are text files with python statements\n",
    "- one main top-level file + supplemental files :- modules\n",
    "\n",
    "\n",
    "- Top level file/script :- contains main flow of control\n",
    "    - this is the file run to launch the app.\n",
    "- module files :- libraries used to collect components used by top level file\n",
    "- Top level files use modules and modules use other modules\n",
    "\n",
    "- Modules do not do anythong when run directly. They have attributes/functions to be used in other files\n",
    "- Example:\n",
    "    - a.py = top level file having python statments\n",
    "    - b.py and c.py could be modules; have text of python statments. However, not launched directly, but imported  by a.py\n",
    "    - Example if b.py had a function called \"spam\"\n",
    "        def spam(text):\n",
    "            print(text, spam)\n",
    "          \n",
    "    - For using spam:\n",
    "        - import b\n",
    "        - b.spam(\"chumby\")"
   ]
  },
  {
   "cell_type": "markdown",
   "metadata": {},
   "source": [
    "More TBD"
   ]
  }
 ],
 "metadata": {
  "kernelspec": {
   "display_name": "Python 3",
   "language": "python",
   "name": "python3"
  },
  "language_info": {
   "codemirror_mode": {
    "name": "ipython",
    "version": 3
   },
   "file_extension": ".py",
   "mimetype": "text/x-python",
   "name": "python",
   "nbconvert_exporter": "python",
   "pygments_lexer": "ipython3",
   "version": "3.5.2"
  }
 },
 "nbformat": 4,
 "nbformat_minor": 2
}

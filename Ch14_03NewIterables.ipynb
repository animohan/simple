{
 "cells": [
  {
   "cell_type": "code",
   "execution_count": 5,
   "metadata": {
    "collapsed": false
   },
   "outputs": [
    {
     "name": "stdout",
     "output_type": "stream",
     "text": [
      "[1, 2, 4]\n"
     ]
    }
   ],
   "source": [
    "#Fundamental distinction between Python 3.x and 2.x is the stronger emphasis\n",
    "# on iterators. Specifically, in addtion to the iterators associated with\n",
    "#built-in types such as files and dictionaries, the dictionary methods keys,\n",
    "#values and items return iterable objects; as do built in functions range\n",
    "#maps, zip and filter.\n",
    "\n",
    "#Remember we had to use list(..) to enumerate zip\n",
    "zip('abc','xyz')\n",
    "list(zip('abc','xyz'))\n",
    "\n",
    "#A similar conversion is required to apply list or sequence operation to\n",
    "#most iterable.\n",
    "Z=zip((1,2),(3,4))\n",
    "#Z[0] #throws and error\n",
    "\n",
    "#conversion to lists may be required to support multiple iterations for \n",
    "#newly iterable tools that support just one scan such as map, zip\n",
    "\n",
    "M = map(lambda x: 2 **x, range(3))\n",
    "print(list(M))\n",
    "for i in M: print(i)\n",
    "    \n",
    "#such conversions are not requires in 2.x because returns iterable object"
   ]
  },
  {
   "cell_type": "code",
   "execution_count": 17,
   "metadata": {
    "collapsed": false
   },
   "outputs": [
    {
     "name": "stdout",
     "output_type": "stream",
     "text": [
      "range(0, 10)\n",
      "0\n",
      "1\n",
      "2\n",
      "3\n",
      "10\n",
      "9\n",
      "4\n"
     ]
    },
    {
     "data": {
      "text/plain": [
       "5"
      ]
     },
     "execution_count": 17,
     "metadata": {},
     "output_type": "execute_result"
    }
   ],
   "source": [
    "#The range iterable\n",
    "#in 3.x it returns an iterable that generate numbers in the range of demand\n",
    "#instead of building the result list in memory. \n",
    "R=range(10)\n",
    "print(R)\n",
    "S=range(0,10)\n",
    "I=iter(S)\n",
    "print(next(I))\n",
    "print(next (I))\n",
    "print(next (I))\n",
    "print(next (I))\n",
    "print(len(S))\n",
    "print(S[-1])\n",
    "print(next(I))\n",
    "I.__next__()"
   ]
  },
  {
   "cell_type": "code",
   "execution_count": 29,
   "metadata": {
    "collapsed": false
   },
   "outputs": [
    {
     "name": "stdout",
     "output_type": "stream",
     "text": [
      "<map object at 0x7f2ac464c160>\n",
      "1\n",
      "0\n",
      "1\n",
      "1\n",
      "0\n",
      "1\n",
      "[]\n",
      "[1, 0, 1]\n"
     ]
    }
   ],
   "source": [
    "#like range, map, zipa dn filter built-ins also became iterable in 3.x\n",
    "#in 3.X to conserve space rather than producing a result list all at once\n",
    "#in memory. However, unlike range, though they are their own iterators\n",
    "# after stepping through their results once, they are exhausted i.e you\n",
    "# you cannot have multiple iterators on their results that maintain differen\n",
    "# positions in those results\n",
    "\n",
    "M= map(abs,(-1,0,1))\n",
    "print(M)\n",
    "#print(list(M))\n",
    "print(next(M))\n",
    "print(next(M))\n",
    "print(next(M))\n",
    "#print(next(M)) #Throws stop iteration error\n",
    "\n",
    "for x in M: print(x) #Map iterator is empty , hence no results\n",
    "\n",
    "M= map(abs,(-1,0,1))\n",
    "for x in M: print(x)\n",
    "print(list(M)) #Again M is empty\n",
    "\n",
    "M= map(abs,(-1,0,1))\n",
    "print(list(M))   "
   ]
  },
  {
   "cell_type": "code",
   "execution_count": 31,
   "metadata": {
    "collapsed": false
   },
   "outputs": [
    {
     "name": "stdout",
     "output_type": "stream",
     "text": [
      "<zip object at 0x7f2ac45efc88>\n",
      "[(1, 10), (2, 20), (3, 30)]\n",
      "\n",
      "(1, 10)\n",
      "(2, 20)\n",
      "(3, 30)\n"
     ]
    }
   ],
   "source": [
    "#similar thing for zip\n",
    "Z=zip((1,2,3),(10,20,30))\n",
    "print(Z)\n",
    "print(list(Z))\n",
    "for pair in Z: print(pair) #no results because iterator is exhausted after 1\n",
    "                            #pass\n",
    "print()\n",
    "Z=zip((1,2,3),(10,20,30))\n",
    "for pair in Z: print(pair)"
   ]
  },
  {
   "cell_type": "code",
   "execution_count": 33,
   "metadata": {
    "collapsed": false
   },
   "outputs": [
    {
     "data": {
      "text/plain": [
       "['spam', 'ni']"
      ]
     },
     "execution_count": 33,
     "metadata": {},
     "output_type": "execute_result"
    }
   ],
   "source": [
    "#Filter (next chapter) is analogous. It returs items in an iterable for \n",
    "#which  a passed-in function returs True\n",
    "\n",
    "filter(bool,['spam','','ni'])\n",
    "list(filter(bool,['spam','','ni']))\n"
   ]
  },
  {
   "cell_type": "code",
   "execution_count": 34,
   "metadata": {
    "collapsed": false
   },
   "outputs": [
    {
     "data": {
      "text/plain": [
       "['spam', 'ni']"
      ]
     },
     "execution_count": 34,
     "metadata": {},
     "output_type": "execute_result"
    }
   ],
   "source": [
    "#like most of the tools discussed, filter both accepts an iterable process\n",
    "#process and retuns an iterable to generate results.\n",
    "[x for x in ['spam','','ni'] if bool(x)]"
   ]
  },
  {
   "cell_type": "code",
   "execution_count": 35,
   "metadata": {
    "collapsed": false
   },
   "outputs": [
    {
     "data": {
      "text/plain": [
       "['spam', 'ni']"
      ]
     },
     "execution_count": 35,
     "metadata": {},
     "output_type": "execute_result"
    }
   ],
   "source": [
    "[x for x in ['spam','','ni'] if x]"
   ]
  },
  {
   "cell_type": "code",
   "execution_count": 39,
   "metadata": {
    "collapsed": false
   },
   "outputs": [
    {
     "name": "stdout",
     "output_type": "stream",
     "text": [
      "0\n",
      "1\n",
      "0\n",
      "1\n"
     ]
    }
   ],
   "source": [
    "#Multiple versus single pass operators:\n",
    "#Range differs from other built-ins described here. It support len and\n",
    "#indexing and is not its own iterator and it supports multiple iterators\n",
    "# over its rsults\n",
    "R=range(3)\n",
    "#print(next(R)) #throws error\n",
    "I1=iter(R)\n",
    "print(next(I1))\n",
    "print(next(I1))\n",
    "\n",
    "I2=iter(R) #Two iterators in a range\n",
    "print(next(I2))\n",
    "print(next(I2))"
   ]
  },
  {
   "cell_type": "code",
   "execution_count": 40,
   "metadata": {
    "collapsed": false
   },
   "outputs": [
    {
     "name": "stdout",
     "output_type": "stream",
     "text": [
      "(1, 10)\n",
      "(2, 20)\n"
     ]
    }
   ],
   "source": [
    "#By contrast zip, map and filter do not suport multiple active iterators on \n",
    "# the same results.\n",
    "Z= zip((1,2,3),(10,20,30))\n",
    "I1=iter(Z)\n",
    "I2=iter(Z)\n",
    "print(next(I1))\n",
    "print(next(I2))\n"
   ]
  },
  {
   "cell_type": "code",
   "execution_count": 41,
   "metadata": {
    "collapsed": false
   },
   "outputs": [
    {
     "name": "stdout",
     "output_type": "stream",
     "text": [
      "1\n",
      "0\n"
     ]
    }
   ],
   "source": [
    "M= map(abs,(-1,0,1))\n",
    "I1=iter(M)\n",
    "I2=iter(M)\n",
    "print(next(I1))\n",
    "print(next(I2))"
   ]
  },
  {
   "cell_type": "code",
   "execution_count": 64,
   "metadata": {
    "collapsed": false
   },
   "outputs": [
    {
     "name": "stdout",
     "output_type": "stream",
     "text": [
      "{'a': 1, 'c': 3, 'b': 2}\n",
      "dict_keys(['a', 'c', 'b'])\n",
      "a\n",
      "c\n",
      "['a'] ['c'] ['b'] "
     ]
    }
   ],
   "source": [
    "#Dictionary view Iterables\n",
    "D= dict(a=1,b=2,c=3)\n",
    "print(D)\n",
    "K=D.keys()\n",
    "print(K)\n",
    "#print(next(K)) #Throws error saying dictionary keys are not iterators\n",
    "\n",
    "I=iter(K)\n",
    "print(next(I))\n",
    "print(next(I))\n",
    "\n",
    "for k in D.keys():\n",
    "    print(list(k), end =' ')\n",
    "\n"
   ]
  },
  {
   "cell_type": "code",
   "execution_count": 65,
   "metadata": {
    "collapsed": false
   },
   "outputs": [
    {
     "name": "stdout",
     "output_type": "stream",
     "text": [
      "['a', 'c', 'b']\n",
      "dict_values([1, 3, 2])\n",
      "[1, 3, 2]\n",
      "1\n",
      "dict_items([('a', 1), ('c', 3), ('b', 2)])\n",
      "a 1 c 3 b 2 "
     ]
    }
   ],
   "source": [
    "K= D.keys()\n",
    "print(list(K)) #list of keys\n",
    "\n",
    "V= D.values()\n",
    "print(V) #list of values\n",
    "\n",
    "print(list(V))\n",
    "#print(V[0]) #throws error; needs list for index access\n",
    "print(list(V)[0])\n",
    "\n",
    "E= D.items()\n",
    "print(E) #list of dictionary items\n",
    "\n",
    "for (k,v) in D.items(): print(k,v, end = \" \")\n"
   ]
  },
  {
   "cell_type": "code",
   "execution_count": 66,
   "metadata": {
    "collapsed": false
   },
   "outputs": [
    {
     "name": "stdout",
     "output_type": "stream",
     "text": [
      "{'a': 1, 'c': 3, 'b': 2}\n",
      "a\n",
      "c\n",
      "a c b "
     ]
    }
   ],
   "source": [
    "#Dictionaries are iterables themselves with an iterator that \n",
    "#returs successive keys. \n",
    "print(D)\n",
    "I= iter(D)\n",
    "print(next(I))\n",
    "print(next(I))\n",
    "\n",
    "for key in D: print(key, end=\" \") #does not need keys() to iterate"
   ]
  },
  {
   "cell_type": "code",
   "execution_count": 71,
   "metadata": {
    "collapsed": false
   },
   "outputs": [
    {
     "name": "stdout",
     "output_type": "stream",
     "text": [
      "{'a': 1, 'd': 2, 'c': 8, 'b': 5}\n",
      "a 1 b 5 c 8 d 2 \n",
      "a 1 b 5 c 8 d 2 "
     ]
    }
   ],
   "source": [
    "#Keys no longer returs a list; the traditional coding pattern for scanning\n",
    "# a dictionary by sorted work. Instead convert keys view with a list call\n",
    "# or use sorted call on either a keys view or the dictionary itself.\n",
    "D= dict(a=1,b=5,c=8,d=2)\n",
    "print(D)\n",
    "\n",
    "for k in sorted(D.keys()): print(k, D[k], end=' ')\n",
    "print()    \n",
    "for k in sorted(D): print(k, D[k],end=' ')"
   ]
  },
  {
   "cell_type": "code",
   "execution_count": null,
   "metadata": {
    "collapsed": true
   },
   "outputs": [],
   "source": []
  }
 ],
 "metadata": {
  "kernelspec": {
   "display_name": "Python 3",
   "language": "python",
   "name": "python3"
  },
  "language_info": {
   "codemirror_mode": {
    "name": "ipython",
    "version": 3
   },
   "file_extension": ".py",
   "mimetype": "text/x-python",
   "name": "python",
   "nbconvert_exporter": "python",
   "pygments_lexer": "ipython3",
   "version": "3.5.2"
  }
 },
 "nbformat": 4,
 "nbformat_minor": 0
}
